{
 "cells": [
  {
   "cell_type": "markdown",
   "metadata": {},
   "source": [
    "**COLLABORATIVE FILTER FOR TEST SAMPLE OF 5,000 UNIQUE USERS**"
   ]
  },
  {
   "cell_type": "markdown",
   "metadata": {},
   "source": [
    "1. Dataset Sampling:\n",
    "    - The dataset is sampled to 50,000 rows to make the processing manageable:\n",
    "        (data_sample = data.sample(n=50000, random_state=42))\n",
    "\n",
    "2. User-Item Matrix:\n",
    "    - The size of the user-item matrix depends on how many unique users (user_ID) and products (product_ID) exist in the sampled dataset. \n",
    "        \n",
    "        If, like in our example, the sampled dataset has: 5,000 unique users and 10,000 unique products: The matrix would have a shape of (5000, 10000).\n",
    "\n",
    "3. Test Example for RMSE Calculation:\n",
    "    - The RMSE function iterates through all users in the user_item_matrix for evaluation. It does not limit to 5 users, but predictions are made for a subset of items (5 recommendations) per user:"
   ]
  },
  {
   "cell_type": "markdown",
   "metadata": {},
   "source": [
    "**Step 1: Import Necessary Libraries**\n"
   ]
  },
  {
   "cell_type": "code",
   "execution_count": 1,
   "metadata": {},
   "outputs": [
    {
     "name": "stdout",
     "output_type": "stream",
     "text": [
      "Requirement already satisfied: pandas in /Users/daianaszymczyk/Desktop/neuefische/Capstone-Project-Recommender-System/.venv/lib/python3.10/site-packages (2.0.1)\n",
      "Requirement already satisfied: numpy in /Users/daianaszymczyk/Desktop/neuefische/Capstone-Project-Recommender-System/.venv/lib/python3.10/site-packages (1.24.3)\n",
      "Requirement already satisfied: scikit-learn in /Users/daianaszymczyk/Desktop/neuefische/Capstone-Project-Recommender-System/.venv/lib/python3.10/site-packages (1.2.2)\n",
      "Requirement already satisfied: scipy in /Users/daianaszymczyk/Desktop/neuefische/Capstone-Project-Recommender-System/.venv/lib/python3.10/site-packages (1.13.1)\n",
      "Requirement already satisfied: matplotlib in /Users/daianaszymczyk/Desktop/neuefische/Capstone-Project-Recommender-System/.venv/lib/python3.10/site-packages (3.7.1)\n",
      "Requirement already satisfied: python-dateutil>=2.8.2 in /Users/daianaszymczyk/Desktop/neuefische/Capstone-Project-Recommender-System/.venv/lib/python3.10/site-packages (from pandas) (2.9.0.post0)\n",
      "Requirement already satisfied: pytz>=2020.1 in /Users/daianaszymczyk/Desktop/neuefische/Capstone-Project-Recommender-System/.venv/lib/python3.10/site-packages (from pandas) (2024.2)\n",
      "Requirement already satisfied: tzdata>=2022.1 in /Users/daianaszymczyk/Desktop/neuefische/Capstone-Project-Recommender-System/.venv/lib/python3.10/site-packages (from pandas) (2024.2)\n",
      "Requirement already satisfied: joblib>=1.1.1 in /Users/daianaszymczyk/Desktop/neuefische/Capstone-Project-Recommender-System/.venv/lib/python3.10/site-packages (from scikit-learn) (1.4.2)\n",
      "Requirement already satisfied: threadpoolctl>=2.0.0 in /Users/daianaszymczyk/Desktop/neuefische/Capstone-Project-Recommender-System/.venv/lib/python3.10/site-packages (from scikit-learn) (3.5.0)\n",
      "Requirement already satisfied: contourpy>=1.0.1 in /Users/daianaszymczyk/Desktop/neuefische/Capstone-Project-Recommender-System/.venv/lib/python3.10/site-packages (from matplotlib) (1.3.1)\n",
      "Requirement already satisfied: cycler>=0.10 in /Users/daianaszymczyk/Desktop/neuefische/Capstone-Project-Recommender-System/.venv/lib/python3.10/site-packages (from matplotlib) (0.12.1)\n",
      "Requirement already satisfied: fonttools>=4.22.0 in /Users/daianaszymczyk/Desktop/neuefische/Capstone-Project-Recommender-System/.venv/lib/python3.10/site-packages (from matplotlib) (4.55.3)\n",
      "Requirement already satisfied: kiwisolver>=1.0.1 in /Users/daianaszymczyk/Desktop/neuefische/Capstone-Project-Recommender-System/.venv/lib/python3.10/site-packages (from matplotlib) (1.4.7)\n",
      "Requirement already satisfied: packaging>=20.0 in /Users/daianaszymczyk/Desktop/neuefische/Capstone-Project-Recommender-System/.venv/lib/python3.10/site-packages (from matplotlib) (24.2)\n",
      "Requirement already satisfied: pillow>=6.2.0 in /Users/daianaszymczyk/Desktop/neuefische/Capstone-Project-Recommender-System/.venv/lib/python3.10/site-packages (from matplotlib) (11.0.0)\n",
      "Requirement already satisfied: pyparsing>=2.3.1 in /Users/daianaszymczyk/Desktop/neuefische/Capstone-Project-Recommender-System/.venv/lib/python3.10/site-packages (from matplotlib) (3.2.0)\n",
      "Requirement already satisfied: six>=1.5 in /Users/daianaszymczyk/Desktop/neuefische/Capstone-Project-Recommender-System/.venv/lib/python3.10/site-packages (from python-dateutil>=2.8.2->pandas) (1.17.0)\n"
     ]
    }
   ],
   "source": [
    "# Install any missing libraries\n",
    "!pip install pandas numpy scikit-learn scipy matplotlib\n"
   ]
  },
  {
   "cell_type": "markdown",
   "metadata": {},
   "source": [
    "**Step 2: Load the Dataset**\n"
   ]
  },
  {
   "cell_type": "code",
   "execution_count": 2,
   "metadata": {},
   "outputs": [
    {
     "name": "stdout",
     "output_type": "stream",
     "text": [
      "                             user_ID  product_ID  rating\n",
      "158     AFTWZJUP2224KGWPBCBBLHS7573A  B07NGCSZYY       5\n",
      "77549   AETIWS5ZNO2BDWPYIKIH27GKWL2Q  B07CJLJZG9       5\n",
      "463962  AHXT6J3MAV3SSVYLTBJ326JZH7VQ  B07Z5MJ4Q3       5\n",
      "345085  AEOGI3A7QFFPGOMEK6Z65X5MV4UA  B007JLYEYQ       5\n",
      "274505  AGKUCVQPPOXFR5AOTK6FZEZUEGOQ  B07BR1J7HG       5\n"
     ]
    }
   ],
   "source": [
    "import pandas as pd\n",
    "import numpy as np\n",
    "\n",
    "# Load the dataset\n",
    "file_path = r'.\\..\\data\\data_clean\\user_clean_data_ecommerce.csv'\n",
    "\n",
    "# Read a small sample of the data to avoid memory issues\n",
    "data = pd.read_csv(file_path)\n",
    "\n",
    "# Select only the columns needed for collaborative filtering\n",
    "selected_columns = ['user_ID', 'product_ID', 'rating']\n",
    "data = data[selected_columns]\n",
    "\n",
    "# Drop rows with missing values in these columns\n",
    "data = data.dropna()\n",
    "\n",
    "# Sample a manageable portion (e.g., 50,000 rows) for analysis\n",
    "data_sample = data.sample(n=50000, random_state=42)\n",
    "\n",
    "print(data_sample.head())\n"
   ]
  },
  {
   "cell_type": "markdown",
   "metadata": {},
   "source": [
    "**Step 3: Create a User-Item Matrix**\n"
   ]
  },
  {
   "cell_type": "markdown",
   "metadata": {},
   "source": [
    "We need a matrix where rows represent users, columns represent products, and the values are the ratings:"
   ]
  },
  {
   "cell_type": "code",
   "execution_count": 3,
   "metadata": {},
   "outputs": [
    {
     "name": "stdout",
     "output_type": "stream",
     "text": [
      "(49333, 25992)\n"
     ]
    }
   ],
   "source": [
    "# Create the User-Item matrix\n",
    "user_item_matrix = data_sample.pivot_table(index='user_ID', columns='product_ID', values='rating')\n",
    "\n",
    "# Fill missing values with 0 or use a sparse representation\n",
    "user_item_matrix = user_item_matrix.fillna(0)\n",
    "\n",
    "print(user_item_matrix.shape)\n"
   ]
  },
  {
   "cell_type": "markdown",
   "metadata": {},
   "source": [
    "**Step 4: Use Collaborative Filtering (Singular Value Decomposition - SVD)**\n"
   ]
  },
  {
   "cell_type": "markdown",
   "metadata": {},
   "source": [
    "We'll use TruncatedSVD from scikit-learn for dimensionality reduction:"
   ]
  },
  {
   "cell_type": "code",
   "execution_count": 4,
   "metadata": {},
   "outputs": [
    {
     "name": "stdout",
     "output_type": "stream",
     "text": [
      "user_ID                       AE22BN5R7ZJZOMPH4AC6WJBCPTIA   \n",
      "user_ID                                                      \n",
      "AE22BN5R7ZJZOMPH4AC6WJBCPTIA                      1.000000  \\\n",
      "AE22DWCI5P6NOS7UKCL4MJUUJEEQ                      0.000834   \n",
      "AE22JAWTFBVSSRAXSCH34JYTHC4Q                     -0.057040   \n",
      "AE22KP5UEN7I2I6Z4CGKE5YUUWUA                      0.000013   \n",
      "AE22RIX5MLP4SCGZOTEA4SARKY7Q                     -0.128890   \n",
      "\n",
      "user_ID                       AE22DWCI5P6NOS7UKCL4MJUUJEEQ   \n",
      "user_ID                                                      \n",
      "AE22BN5R7ZJZOMPH4AC6WJBCPTIA                      0.000834  \\\n",
      "AE22DWCI5P6NOS7UKCL4MJUUJEEQ                      1.000000   \n",
      "AE22JAWTFBVSSRAXSCH34JYTHC4Q                     -0.412152   \n",
      "AE22KP5UEN7I2I6Z4CGKE5YUUWUA                     -0.000238   \n",
      "AE22RIX5MLP4SCGZOTEA4SARKY7Q                      0.028703   \n",
      "\n",
      "user_ID                       AE22JAWTFBVSSRAXSCH34JYTHC4Q   \n",
      "user_ID                                                      \n",
      "AE22BN5R7ZJZOMPH4AC6WJBCPTIA                     -0.057040  \\\n",
      "AE22DWCI5P6NOS7UKCL4MJUUJEEQ                     -0.412152   \n",
      "AE22JAWTFBVSSRAXSCH34JYTHC4Q                      1.000000   \n",
      "AE22KP5UEN7I2I6Z4CGKE5YUUWUA                      0.000035   \n",
      "AE22RIX5MLP4SCGZOTEA4SARKY7Q                      0.095197   \n",
      "\n",
      "user_ID                       AE22KP5UEN7I2I6Z4CGKE5YUUWUA   \n",
      "user_ID                                                      \n",
      "AE22BN5R7ZJZOMPH4AC6WJBCPTIA                      0.000013  \\\n",
      "AE22DWCI5P6NOS7UKCL4MJUUJEEQ                     -0.000238   \n",
      "AE22JAWTFBVSSRAXSCH34JYTHC4Q                      0.000035   \n",
      "AE22KP5UEN7I2I6Z4CGKE5YUUWUA                      1.000000   \n",
      "AE22RIX5MLP4SCGZOTEA4SARKY7Q                     -0.000021   \n",
      "\n",
      "user_ID                       AE22RIX5MLP4SCGZOTEA4SARKY7Q   \n",
      "user_ID                                                      \n",
      "AE22BN5R7ZJZOMPH4AC6WJBCPTIA                     -0.128890  \\\n",
      "AE22DWCI5P6NOS7UKCL4MJUUJEEQ                      0.028703   \n",
      "AE22JAWTFBVSSRAXSCH34JYTHC4Q                      0.095197   \n",
      "AE22KP5UEN7I2I6Z4CGKE5YUUWUA                     -0.000021   \n",
      "AE22RIX5MLP4SCGZOTEA4SARKY7Q                      1.000000   \n",
      "\n",
      "user_ID                       AE22RXJGZQCC3B7QNYTZZX5WLA2Q   \n",
      "user_ID                                                      \n",
      "AE22BN5R7ZJZOMPH4AC6WJBCPTIA                     -0.133576  \\\n",
      "AE22DWCI5P6NOS7UKCL4MJUUJEEQ                      0.106360   \n",
      "AE22JAWTFBVSSRAXSCH34JYTHC4Q                      0.182122   \n",
      "AE22KP5UEN7I2I6Z4CGKE5YUUWUA                     -0.000069   \n",
      "AE22RIX5MLP4SCGZOTEA4SARKY7Q                      0.186156   \n",
      "\n",
      "user_ID                       AE22UUGWO2XHLJX3ELJAWURUYQEQ   \n",
      "user_ID                                                      \n",
      "AE22BN5R7ZJZOMPH4AC6WJBCPTIA                      0.359726  \\\n",
      "AE22DWCI5P6NOS7UKCL4MJUUJEEQ                     -0.195828   \n",
      "AE22JAWTFBVSSRAXSCH34JYTHC4Q                      0.049547   \n",
      "AE22KP5UEN7I2I6Z4CGKE5YUUWUA                      0.000060   \n",
      "AE22RIX5MLP4SCGZOTEA4SARKY7Q                     -0.412765   \n",
      "\n",
      "user_ID                       AE22XHMBOBJBXUFCTNYLFMD4UKMA   \n",
      "user_ID                                                      \n",
      "AE22BN5R7ZJZOMPH4AC6WJBCPTIA                      0.550914  \\\n",
      "AE22DWCI5P6NOS7UKCL4MJUUJEEQ                      0.110497   \n",
      "AE22JAWTFBVSSRAXSCH34JYTHC4Q                     -0.077199   \n",
      "AE22KP5UEN7I2I6Z4CGKE5YUUWUA                      0.000005   \n",
      "AE22RIX5MLP4SCGZOTEA4SARKY7Q                      0.051714   \n",
      "\n",
      "user_ID                       AE233NUH2UXCKTRR4APND2BGEV6Q   \n",
      "user_ID                                                      \n",
      "AE22BN5R7ZJZOMPH4AC6WJBCPTIA                     -0.046626  \\\n",
      "AE22DWCI5P6NOS7UKCL4MJUUJEEQ                      0.442230   \n",
      "AE22JAWTFBVSSRAXSCH34JYTHC4Q                     -0.140674   \n",
      "AE22KP5UEN7I2I6Z4CGKE5YUUWUA                     -0.000129   \n",
      "AE22RIX5MLP4SCGZOTEA4SARKY7Q                      0.015193   \n",
      "\n",
      "user_ID                       AE234757Z3N6KU76N3GUKO73IJDA  ...   \n",
      "user_ID                                                     ...   \n",
      "AE22BN5R7ZJZOMPH4AC6WJBCPTIA                  3.297949e-17  ...  \\\n",
      "AE22DWCI5P6NOS7UKCL4MJUUJEEQ                 -1.925217e-19  ...   \n",
      "AE22JAWTFBVSSRAXSCH34JYTHC4Q                  2.091799e-17  ...   \n",
      "AE22KP5UEN7I2I6Z4CGKE5YUUWUA                  3.001667e-18  ...   \n",
      "AE22RIX5MLP4SCGZOTEA4SARKY7Q                  3.246945e-18  ...   \n",
      "\n",
      "user_ID                       AHZZCXSWPFUDPVJDQW5CQAQQN6HQ   \n",
      "user_ID                                                      \n",
      "AE22BN5R7ZJZOMPH4AC6WJBCPTIA                     -0.055551  \\\n",
      "AE22DWCI5P6NOS7UKCL4MJUUJEEQ                      0.015990   \n",
      "AE22JAWTFBVSSRAXSCH34JYTHC4Q                      0.132240   \n",
      "AE22KP5UEN7I2I6Z4CGKE5YUUWUA                      0.000173   \n",
      "AE22RIX5MLP4SCGZOTEA4SARKY7Q                     -0.224971   \n",
      "\n",
      "user_ID                       AHZZESVPEYKRPS4EVVDBOCA5LGWA   \n",
      "user_ID                                                      \n",
      "AE22BN5R7ZJZOMPH4AC6WJBCPTIA                     -0.637020  \\\n",
      "AE22DWCI5P6NOS7UKCL4MJUUJEEQ                     -0.092467   \n",
      "AE22JAWTFBVSSRAXSCH34JYTHC4Q                      0.151784   \n",
      "AE22KP5UEN7I2I6Z4CGKE5YUUWUA                      0.000074   \n",
      "AE22RIX5MLP4SCGZOTEA4SARKY7Q                      0.296117   \n",
      "\n",
      "user_ID                       AHZZG4GT3CMDFM6I663LWJYRWNQQ   \n",
      "user_ID                                                      \n",
      "AE22BN5R7ZJZOMPH4AC6WJBCPTIA                      0.048899  \\\n",
      "AE22DWCI5P6NOS7UKCL4MJUUJEEQ                      0.410047   \n",
      "AE22JAWTFBVSSRAXSCH34JYTHC4Q                      0.254882   \n",
      "AE22KP5UEN7I2I6Z4CGKE5YUUWUA                     -0.000003   \n",
      "AE22RIX5MLP4SCGZOTEA4SARKY7Q                     -0.199559   \n",
      "\n",
      "user_ID                       AHZZLAC6VH4WE3WB2X4ES3SGY6GA   \n",
      "user_ID                                                      \n",
      "AE22BN5R7ZJZOMPH4AC6WJBCPTIA                      0.304804  \\\n",
      "AE22DWCI5P6NOS7UKCL4MJUUJEEQ                     -0.239104   \n",
      "AE22JAWTFBVSSRAXSCH34JYTHC4Q                      0.486322   \n",
      "AE22KP5UEN7I2I6Z4CGKE5YUUWUA                      0.000060   \n",
      "AE22RIX5MLP4SCGZOTEA4SARKY7Q                     -0.323379   \n",
      "\n",
      "user_ID                       AHZZLCVRHP64QRCDTZAJJXNVCQLA   \n",
      "user_ID                                                      \n",
      "AE22BN5R7ZJZOMPH4AC6WJBCPTIA                 -5.167705e-16  \\\n",
      "AE22DWCI5P6NOS7UKCL4MJUUJEEQ                  1.405415e-16   \n",
      "AE22JAWTFBVSSRAXSCH34JYTHC4Q                 -2.649685e-16   \n",
      "AE22KP5UEN7I2I6Z4CGKE5YUUWUA                 -5.741074e-20   \n",
      "AE22RIX5MLP4SCGZOTEA4SARKY7Q                  6.535911e-16   \n",
      "\n",
      "user_ID                       AHZZOHEFU5EO466C2BAPPVV7CEJA   \n",
      "user_ID                                                      \n",
      "AE22BN5R7ZJZOMPH4AC6WJBCPTIA                      0.004709  \\\n",
      "AE22DWCI5P6NOS7UKCL4MJUUJEEQ                     -0.134250   \n",
      "AE22JAWTFBVSSRAXSCH34JYTHC4Q                      0.195514   \n",
      "AE22KP5UEN7I2I6Z4CGKE5YUUWUA                      0.000062   \n",
      "AE22RIX5MLP4SCGZOTEA4SARKY7Q                      0.414807   \n",
      "\n",
      "user_ID                       AHZZONVVQ454QUCD23HMD5E7VNIQ   \n",
      "user_ID                                                      \n",
      "AE22BN5R7ZJZOMPH4AC6WJBCPTIA                      0.215275  \\\n",
      "AE22DWCI5P6NOS7UKCL4MJUUJEEQ                     -0.264742   \n",
      "AE22JAWTFBVSSRAXSCH34JYTHC4Q                      0.017216   \n",
      "AE22KP5UEN7I2I6Z4CGKE5YUUWUA                     -0.000004   \n",
      "AE22RIX5MLP4SCGZOTEA4SARKY7Q                     -0.049090   \n",
      "\n",
      "user_ID                       AHZZVXLX4HTE6FSXPG5RSOH74LJA   \n",
      "user_ID                                                      \n",
      "AE22BN5R7ZJZOMPH4AC6WJBCPTIA                     -0.233112  \\\n",
      "AE22DWCI5P6NOS7UKCL4MJUUJEEQ                     -0.569920   \n",
      "AE22JAWTFBVSSRAXSCH34JYTHC4Q                      0.267350   \n",
      "AE22KP5UEN7I2I6Z4CGKE5YUUWUA                     -0.000023   \n",
      "AE22RIX5MLP4SCGZOTEA4SARKY7Q                     -0.289831   \n",
      "\n",
      "user_ID                       AHZZWNJXMZJPZSVXCHXMP6L66TVA   \n",
      "user_ID                                                      \n",
      "AE22BN5R7ZJZOMPH4AC6WJBCPTIA                     -0.075167  \\\n",
      "AE22DWCI5P6NOS7UKCL4MJUUJEEQ                     -0.509246   \n",
      "AE22JAWTFBVSSRAXSCH34JYTHC4Q                      0.255675   \n",
      "AE22KP5UEN7I2I6Z4CGKE5YUUWUA                     -0.000041   \n",
      "AE22RIX5MLP4SCGZOTEA4SARKY7Q                      0.067173   \n",
      "\n",
      "user_ID                       AHZZYGCOIKSVKIQLT7JF5SQMV5VA  \n",
      "user_ID                                                     \n",
      "AE22BN5R7ZJZOMPH4AC6WJBCPTIA                     -0.354043  \n",
      "AE22DWCI5P6NOS7UKCL4MJUUJEEQ                     -0.061481  \n",
      "AE22JAWTFBVSSRAXSCH34JYTHC4Q                     -0.239483  \n",
      "AE22KP5UEN7I2I6Z4CGKE5YUUWUA                      0.000103  \n",
      "AE22RIX5MLP4SCGZOTEA4SARKY7Q                     -0.057062  \n",
      "\n",
      "[5 rows x 49333 columns]\n"
     ]
    }
   ],
   "source": [
    "from sklearn.decomposition import TruncatedSVD\n",
    "from sklearn.metrics.pairwise import cosine_similarity\n",
    "\n",
    "# Perform SVD\n",
    "svd = TruncatedSVD(n_components=50, random_state=42)\n",
    "decomposed_matrix = svd.fit_transform(user_item_matrix)\n",
    "\n",
    "# Calculate similarity\n",
    "similarity_matrix = cosine_similarity(decomposed_matrix)\n",
    "\n",
    "# Convert to a DataFrame for interpretability\n",
    "similarity_df = pd.DataFrame(similarity_matrix, index=user_item_matrix.index, columns=user_item_matrix.index)\n",
    "\n",
    "print(similarity_df.head())\n"
   ]
  },
  {
   "cell_type": "markdown",
   "metadata": {},
   "source": [
    "**Step 5: Generate Recommendations**\n"
   ]
  },
  {
   "cell_type": "markdown",
   "metadata": {},
   "source": [
    "Using the similarity matrix, recommend products for a given user:"
   ]
  },
  {
   "cell_type": "code",
   "execution_count": 5,
   "metadata": {},
   "outputs": [
    {
     "name": "stdout",
     "output_type": "stream",
     "text": [
      "Recommended Products: product_ID\n",
      "069267599X    25.0\n",
      "0816091846    10.0\n",
      "0977217213     5.0\n",
      "0977949125     5.0\n",
      "0985393300     5.0\n",
      "dtype: float64\n"
     ]
    }
   ],
   "source": [
    "def recommend_products(user_id, similarity_df, user_item_matrix, n_recommendations=5):\n",
    "    # Get similarity scores for the user\n",
    "    similar_users = similarity_df[user_id].sort_values(ascending=False)\n",
    "    \n",
    "    # Get the products rated by similar users\n",
    "    similar_users_ratings = user_item_matrix.loc[similar_users.index]\n",
    "    \n",
    "    # Sum the ratings for each product\n",
    "    recommended_products = similar_users_ratings.sum(axis=0).sort_values(ascending=False)\n",
    "    \n",
    "    # Exclude products already rated by the target user\n",
    "    user_products = user_item_matrix.loc[user_id]\n",
    "    recommended_products = recommended_products[user_products[user_products == 0].index]\n",
    "    \n",
    "    return recommended_products.head(n_recommendations)\n",
    "\n",
    "# Example: Recommend products for a specific user\n",
    "user_id = user_item_matrix.index[0]  # Replace with a valid user ID\n",
    "recommendations = recommend_products(user_id, similarity_df, user_item_matrix)\n",
    "print(\"Recommended Products:\", recommendations)\n"
   ]
  },
  {
   "cell_type": "markdown",
   "metadata": {},
   "source": [
    "**Step 6: Evaluation**\n"
   ]
  },
  {
   "cell_type": "markdown",
   "metadata": {},
   "source": [
    "Evaluate your model using metrics like precision and recall or RMSE:"
   ]
  },
  {
   "cell_type": "code",
   "execution_count": 6,
   "metadata": {},
   "outputs": [
    {
     "ename": "ValueError",
     "evalue": "Found input variables with inconsistent numbers of samples: [25992, 5]",
     "output_type": "error",
     "traceback": [
      "\u001b[0;31m---------------------------------------------------------------------------\u001b[0m",
      "\u001b[0;31mValueError\u001b[0m                                Traceback (most recent call last)",
      "Cell \u001b[0;32mIn[6], line 20\u001b[0m\n\u001b[1;32m     17\u001b[0m     rmse \u001b[38;5;241m=\u001b[39m np\u001b[38;5;241m.\u001b[39msqrt(mse \u001b[38;5;241m/\u001b[39m count)\n\u001b[1;32m     18\u001b[0m     \u001b[38;5;28;01mreturn\u001b[39;00m rmse\n\u001b[0;32m---> 20\u001b[0m \u001b[38;5;28mprint\u001b[39m(\u001b[38;5;124m\"\u001b[39m\u001b[38;5;124mRMSE:\u001b[39m\u001b[38;5;124m\"\u001b[39m, \u001b[43mcalculate_rmse\u001b[49m\u001b[43m(\u001b[49m\u001b[43muser_item_matrix\u001b[49m\u001b[43m,\u001b[49m\u001b[43m \u001b[49m\u001b[43msimilarity_df\u001b[49m\u001b[43m)\u001b[49m)\n",
      "Cell \u001b[0;32mIn[6], line 14\u001b[0m, in \u001b[0;36mcalculate_rmse\u001b[0;34m(user_item_matrix, similarity_df)\u001b[0m\n\u001b[1;32m     12\u001b[0m     \u001b[38;5;66;03m# Compare with actual ratings\u001b[39;00m\n\u001b[1;32m     13\u001b[0m     actual_ratings \u001b[38;5;241m=\u001b[39m user_item_matrix\u001b[38;5;241m.\u001b[39mloc[user_id]\n\u001b[0;32m---> 14\u001b[0m     mse \u001b[38;5;241m+\u001b[39m\u001b[38;5;241m=\u001b[39m \u001b[43mmean_squared_error\u001b[49m\u001b[43m(\u001b[49m\u001b[43mactual_ratings\u001b[49m\u001b[43m,\u001b[49m\u001b[43m \u001b[49m\u001b[43mpredicted_ratings\u001b[49m\u001b[43m)\u001b[49m\n\u001b[1;32m     15\u001b[0m     count \u001b[38;5;241m+\u001b[39m\u001b[38;5;241m=\u001b[39m \u001b[38;5;241m1\u001b[39m\n\u001b[1;32m     17\u001b[0m rmse \u001b[38;5;241m=\u001b[39m np\u001b[38;5;241m.\u001b[39msqrt(mse \u001b[38;5;241m/\u001b[39m count)\n",
      "File \u001b[0;32m~/Desktop/neuefische/Capstone-Project-Recommender-System/.venv/lib/python3.10/site-packages/sklearn/metrics/_regression.py:442\u001b[0m, in \u001b[0;36mmean_squared_error\u001b[0;34m(y_true, y_pred, sample_weight, multioutput, squared)\u001b[0m\n\u001b[1;32m    382\u001b[0m \u001b[38;5;28;01mdef\u001b[39;00m \u001b[38;5;21mmean_squared_error\u001b[39m(\n\u001b[1;32m    383\u001b[0m     y_true, y_pred, \u001b[38;5;241m*\u001b[39m, sample_weight\u001b[38;5;241m=\u001b[39m\u001b[38;5;28;01mNone\u001b[39;00m, multioutput\u001b[38;5;241m=\u001b[39m\u001b[38;5;124m\"\u001b[39m\u001b[38;5;124muniform_average\u001b[39m\u001b[38;5;124m\"\u001b[39m, squared\u001b[38;5;241m=\u001b[39m\u001b[38;5;28;01mTrue\u001b[39;00m\n\u001b[1;32m    384\u001b[0m ):\n\u001b[1;32m    385\u001b[0m \u001b[38;5;250m    \u001b[39m\u001b[38;5;124;03m\"\"\"Mean squared error regression loss.\u001b[39;00m\n\u001b[1;32m    386\u001b[0m \n\u001b[1;32m    387\u001b[0m \u001b[38;5;124;03m    Read more in the :ref:`User Guide <mean_squared_error>`.\u001b[39;00m\n\u001b[0;32m   (...)\u001b[0m\n\u001b[1;32m    440\u001b[0m \u001b[38;5;124;03m    0.825...\u001b[39;00m\n\u001b[1;32m    441\u001b[0m \u001b[38;5;124;03m    \"\"\"\u001b[39;00m\n\u001b[0;32m--> 442\u001b[0m     y_type, y_true, y_pred, multioutput \u001b[38;5;241m=\u001b[39m \u001b[43m_check_reg_targets\u001b[49m\u001b[43m(\u001b[49m\n\u001b[1;32m    443\u001b[0m \u001b[43m        \u001b[49m\u001b[43my_true\u001b[49m\u001b[43m,\u001b[49m\u001b[43m \u001b[49m\u001b[43my_pred\u001b[49m\u001b[43m,\u001b[49m\u001b[43m \u001b[49m\u001b[43mmultioutput\u001b[49m\n\u001b[1;32m    444\u001b[0m \u001b[43m    \u001b[49m\u001b[43m)\u001b[49m\n\u001b[1;32m    445\u001b[0m     check_consistent_length(y_true, y_pred, sample_weight)\n\u001b[1;32m    446\u001b[0m     output_errors \u001b[38;5;241m=\u001b[39m np\u001b[38;5;241m.\u001b[39maverage((y_true \u001b[38;5;241m-\u001b[39m y_pred) \u001b[38;5;241m*\u001b[39m\u001b[38;5;241m*\u001b[39m \u001b[38;5;241m2\u001b[39m, axis\u001b[38;5;241m=\u001b[39m\u001b[38;5;241m0\u001b[39m, weights\u001b[38;5;241m=\u001b[39msample_weight)\n",
      "File \u001b[0;32m~/Desktop/neuefische/Capstone-Project-Recommender-System/.venv/lib/python3.10/site-packages/sklearn/metrics/_regression.py:100\u001b[0m, in \u001b[0;36m_check_reg_targets\u001b[0;34m(y_true, y_pred, multioutput, dtype)\u001b[0m\n\u001b[1;32m     66\u001b[0m \u001b[38;5;28;01mdef\u001b[39;00m \u001b[38;5;21m_check_reg_targets\u001b[39m(y_true, y_pred, multioutput, dtype\u001b[38;5;241m=\u001b[39m\u001b[38;5;124m\"\u001b[39m\u001b[38;5;124mnumeric\u001b[39m\u001b[38;5;124m\"\u001b[39m):\n\u001b[1;32m     67\u001b[0m \u001b[38;5;250m    \u001b[39m\u001b[38;5;124;03m\"\"\"Check that y_true and y_pred belong to the same regression task.\u001b[39;00m\n\u001b[1;32m     68\u001b[0m \n\u001b[1;32m     69\u001b[0m \u001b[38;5;124;03m    Parameters\u001b[39;00m\n\u001b[0;32m   (...)\u001b[0m\n\u001b[1;32m     98\u001b[0m \u001b[38;5;124;03m        correct keyword.\u001b[39;00m\n\u001b[1;32m     99\u001b[0m \u001b[38;5;124;03m    \"\"\"\u001b[39;00m\n\u001b[0;32m--> 100\u001b[0m     \u001b[43mcheck_consistent_length\u001b[49m\u001b[43m(\u001b[49m\u001b[43my_true\u001b[49m\u001b[43m,\u001b[49m\u001b[43m \u001b[49m\u001b[43my_pred\u001b[49m\u001b[43m)\u001b[49m\n\u001b[1;32m    101\u001b[0m     y_true \u001b[38;5;241m=\u001b[39m check_array(y_true, ensure_2d\u001b[38;5;241m=\u001b[39m\u001b[38;5;28;01mFalse\u001b[39;00m, dtype\u001b[38;5;241m=\u001b[39mdtype)\n\u001b[1;32m    102\u001b[0m     y_pred \u001b[38;5;241m=\u001b[39m check_array(y_pred, ensure_2d\u001b[38;5;241m=\u001b[39m\u001b[38;5;28;01mFalse\u001b[39;00m, dtype\u001b[38;5;241m=\u001b[39mdtype)\n",
      "File \u001b[0;32m~/Desktop/neuefische/Capstone-Project-Recommender-System/.venv/lib/python3.10/site-packages/sklearn/utils/validation.py:397\u001b[0m, in \u001b[0;36mcheck_consistent_length\u001b[0;34m(*arrays)\u001b[0m\n\u001b[1;32m    395\u001b[0m uniques \u001b[38;5;241m=\u001b[39m np\u001b[38;5;241m.\u001b[39munique(lengths)\n\u001b[1;32m    396\u001b[0m \u001b[38;5;28;01mif\u001b[39;00m \u001b[38;5;28mlen\u001b[39m(uniques) \u001b[38;5;241m>\u001b[39m \u001b[38;5;241m1\u001b[39m:\n\u001b[0;32m--> 397\u001b[0m     \u001b[38;5;28;01mraise\u001b[39;00m \u001b[38;5;167;01mValueError\u001b[39;00m(\n\u001b[1;32m    398\u001b[0m         \u001b[38;5;124m\"\u001b[39m\u001b[38;5;124mFound input variables with inconsistent numbers of samples: \u001b[39m\u001b[38;5;132;01m%r\u001b[39;00m\u001b[38;5;124m\"\u001b[39m\n\u001b[1;32m    399\u001b[0m         \u001b[38;5;241m%\u001b[39m [\u001b[38;5;28mint\u001b[39m(l) \u001b[38;5;28;01mfor\u001b[39;00m l \u001b[38;5;129;01min\u001b[39;00m lengths]\n\u001b[1;32m    400\u001b[0m     )\n",
      "\u001b[0;31mValueError\u001b[0m: Found input variables with inconsistent numbers of samples: [25992, 5]"
     ]
    }
   ],
   "source": [
    "from sklearn.metrics import mean_squared_error\n",
    "\n",
    "# Example: Calculate RMSE for the predicted vs actual ratings\n",
    "def calculate_rmse(user_item_matrix, similarity_df):\n",
    "    mse = 0\n",
    "    count = 0\n",
    "    \n",
    "    for user_id in user_item_matrix.index:\n",
    "        # Predict ratings\n",
    "        predicted_ratings = recommend_products(user_id, similarity_df, user_item_matrix)\n",
    "        \n",
    "        # Compare with actual ratings\n",
    "        actual_ratings = user_item_matrix.loc[user_id]\n",
    "        mse += mean_squared_error(actual_ratings, predicted_ratings)\n",
    "        count += 1\n",
    "        \n",
    "    rmse = np.sqrt(mse / count)\n",
    "    return rmse\n",
    "\n",
    "print(\"RMSE:\", calculate_rmse(user_item_matrix, similarity_df))\n"
   ]
  },
  {
   "cell_type": "markdown",
   "metadata": {},
   "source": [
    "**Fixed Code**"
   ]
  },
  {
   "cell_type": "markdown",
   "metadata": {},
   "source": [
    "Due to an uneven lenght of y_true and y_pred we need to modify the calculate_rmse function to compare predictions only for items that exist in both 'actual_ratings' and 'predicted_ratings'"
   ]
  },
  {
   "cell_type": "code",
   "execution_count": null,
   "metadata": {},
   "outputs": [],
   "source": [
    "from sklearn.metrics import mean_squared_error\n",
    "\n",
    "def calculate_rmse(user_item_matrix, similarity_df, n_recommendations=5):\n",
    "    mse = 0\n",
    "    count = 0\n",
    "    \n",
    "    for user_id in user_item_matrix.index:\n",
    "        # Predict ratings\n",
    "        recommended_products = recommend_products(user_id, similarity_df, user_item_matrix, n_recommendations)\n",
    "        \n",
    "        # Get actual ratings for recommended products\n",
    "        actual_ratings = user_item_matrix.loc[user_id, recommended_products.index]\n",
    "        \n",
    "        # Filter out missing values (in case some items are not rated by the user)\n",
    "        actual_ratings = actual_ratings.dropna()\n",
    "        predicted_ratings = recommended_products.loc[actual_ratings.index]\n",
    "        \n",
    "        # Calculate MSE for the current user (only if there are common items)\n",
    "        if not actual_ratings.empty:\n",
    "            mse += mean_squared_error(actual_ratings, predicted_ratings)\n",
    "            count += 1\n",
    "\n",
    "    # Calculate RMSE\n",
    "    rmse = np.sqrt(mse / count) if count > 0 else None\n",
    "    return rmse\n",
    "\n",
    "# Call the function\n",
    "rmse = calculate_rmse(user_item_matrix, similarity_df)\n",
    "print(\"RMSE:\", rmse)\n"
   ]
  },
  {
   "cell_type": "markdown",
   "metadata": {},
   "source": [
    "**Explanation of Changes**\n"
   ]
  },
  {
   "cell_type": "markdown",
   "metadata": {},
   "source": [
    "1. Align Actual and Predicted Ratings:\n",
    "    - actual_ratings contains only the items rated by the user.\n",
    "    - predicted_ratings includes only items from recommended_products that overlap with actual_ratings.\n",
    "    - This alignment ensures both arrays have the same length.\n",
    "\n",
    "\n",
    "2. Handle Missing Ratings:\n",
    "    - We filter out items from actual_ratings and predicted_ratings where actual ratings are missing.\n",
    "\n",
    "\n",
    "3. Avoid Division by Zero:\n",
    "    - If no overlapping items exist for a user, we skip the RMSE calculation for that user.\n",
    "\n",
    "\n",
    "4. Aggregate RMSE:\n",
    "    - We calculate RMSE over all users who have valid overlapping ratings."
   ]
  }
 ],
 "metadata": {
  "kernelspec": {
   "display_name": ".venv",
   "language": "python",
   "name": "python3"
  },
  "language_info": {
   "codemirror_mode": {
    "name": "ipython",
    "version": 3
   },
   "file_extension": ".py",
   "mimetype": "text/x-python",
   "name": "python",
   "nbconvert_exporter": "python",
   "pygments_lexer": "ipython3",
   "version": "3.10.9"
  }
 },
 "nbformat": 4,
 "nbformat_minor": 2
}
