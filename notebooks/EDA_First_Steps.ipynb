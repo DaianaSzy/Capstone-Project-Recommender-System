{
 "cells": [
  {
   "cell_type": "markdown",
   "metadata": {},
   "source": [
    "1. Import Libraries"
   ]
  },
  {
   "cell_type": "code",
   "execution_count": null,
   "metadata": {
    "vscode": {
     "languageId": "plaintext"
    }
   },
   "outputs": [],
   "source": [
    "# Import necessary libraries\n",
    "import pandas as pd\n",
    "import numpy as np\n",
    "import matplotlib.pyplot as plt\n",
    "import seaborn as sns\n",
    "\n",
    "# Optional: to suppress warnings for cleaner output\n",
    "import warnings\n",
    "warnings.filterwarnings(\"ignore\")\n"
   ]
  },
  {
   "cell_type": "markdown",
   "metadata": {},
   "source": [
    "2. Load Dataset"
   ]
  },
  {
   "cell_type": "code",
   "execution_count": null,
   "metadata": {
    "vscode": {
     "languageId": "plaintext"
    }
   },
   "outputs": [],
   "source": [
    "# Load the dataset into a Pandas DataFrame\n",
    "file_path = 'ecommerce_data.csv'  # Update this with your file path\n",
    "df = pd.read_csv(file_path)\n",
    "\n",
    "# Display the first few rows of the dataset\n",
    "df.head()\n"
   ]
  },
  {
   "cell_type": "markdown",
   "metadata": {},
   "source": [
    "3. Data Exploration"
   ]
  },
  {
   "cell_type": "code",
   "execution_count": null,
   "metadata": {
    "vscode": {
     "languageId": "plaintext"
    }
   },
   "outputs": [],
   "source": [
    "# Display the first few rows of the dataset\n",
    "df.head()\n",
    "\n",
    "# Display the last few rows of the dataset\n",
    "df.tail()\n",
    "\n",
    "# Get a concise summary of the DataFrame\n",
    "df.info()\n",
    "\n",
    "# Display basic statistics of numeric columns\n",
    "df.describe()\n",
    "\n",
    "# Check for missing values\n",
    "missing_values = df.isnull().sum()\n",
    "print(\"Missing values in each column:\\n\", missing_values)\n",
    "\n",
    "# Check for duplicate rows\n",
    "duplicates = df.duplicated().sum()\n",
    "print(f\"Number of duplicate rows: {duplicates}\")\n",
    "\n",
    "\n"
   ]
  },
  {
   "cell_type": "code",
   "execution_count": null,
   "metadata": {
    "vscode": {
     "languageId": "plaintext"
    }
   },
   "outputs": [],
   "source": [
    "# Replace 'column_name' with the actual column name\n",
    "unique_values = df['column_name'].unique()\n",
    "print(f\"Unique values in 'column_name':\\n{unique_values}\")"
   ]
  },
  {
   "cell_type": "code",
   "execution_count": null,
   "metadata": {
    "vscode": {
     "languageId": "plaintext"
    }
   },
   "outputs": [],
   "source": [
    "# Replace 'column_name' with the actual column name\n",
    "unique_count = df['column_name'].nunique()\n",
    "print(f\"Number of unique values in 'column_name': {unique_count}\")\n"
   ]
  },
  {
   "cell_type": "code",
   "execution_count": null,
   "metadata": {
    "vscode": {
     "languageId": "plaintext"
    }
   },
   "outputs": [],
   "source": [
    "# Replace 'column_name' with the actual column name\n",
    "value_counts = df['column_name'].value_counts()\n",
    "print(f\"Value counts in 'column_name':\\n{value_counts}\")\n"
   ]
  },
  {
   "cell_type": "code",
   "execution_count": null,
   "metadata": {
    "vscode": {
     "languageId": "plaintext"
    }
   },
   "outputs": [],
   "source": [
    "# Check unique combinations across two or more columns\n",
    "unique_combinations = df[['column1', 'column2']].drop_duplicates()\n",
    "print(f\"Unique combinations of 'column1' and 'column2':\\n{unique_combinations}\")\n"
   ]
  },
  {
   "cell_type": "code",
   "execution_count": null,
   "metadata": {
    "vscode": {
     "languageId": "plaintext"
    }
   },
   "outputs": [],
   "source": [
    "# Display the number of unique values for each column\n",
    "for col in df.columns:\n",
    "    print(f\"Column: {col}\")\n",
    "    print(f\"Number of unique values: {df[col].nunique()}\")\n",
    "    print(f\"Unique values:\\n{df[col].unique()[:10]}\")  # Display first 10 unique values for brevity\n",
    "    print(\"-\" * 50)\n"
   ]
  },
  {
   "cell_type": "code",
   "execution_count": null,
   "metadata": {
    "vscode": {
     "languageId": "plaintext"
    }
   },
   "outputs": [],
   "source": [
    "# Replace 'column_name' with your categorical column\n",
    "most_frequent = df['column_name'].value_counts().idxmax()\n",
    "least_frequent = df['column_name'].value_counts().idxmin()\n",
    "\n",
    "print(f\"Most frequent value in 'column_name': {most_frequent}\")\n",
    "print(f\"Least frequent value in 'column_name': {least_frequent}\")\n"
   ]
  },
  {
   "cell_type": "markdown",
   "metadata": {},
   "source": [
    "EXAMPLE (extra) fpr product and review data"
   ]
  },
  {
   "cell_type": "markdown",
   "metadata": {},
   "source": [
    "for Unique Product IDs"
   ]
  },
  {
   "cell_type": "code",
   "execution_count": null,
   "metadata": {
    "vscode": {
     "languageId": "plaintext"
    }
   },
   "outputs": [],
   "source": [
    "print(f\"Number of unique products: {df['product_id'].nunique()}\")\n",
    "print(f\"Unique Product IDs:\\n{df['product_id'].unique()[:10]}\")  # Show top 10\n"
   ]
  },
  {
   "cell_type": "markdown",
   "metadata": {},
   "source": [
    "for Unique Reviews"
   ]
  },
  {
   "cell_type": "code",
   "execution_count": null,
   "metadata": {
    "vscode": {
     "languageId": "plaintext"
    }
   },
   "outputs": [],
   "source": [
    "print(f\"Number of unique reviewers: {df['reviewer_id'].nunique()}\")\n"
   ]
  },
  {
   "cell_type": "markdown",
   "metadata": {},
   "source": [
    "for Unique Ratings"
   ]
  },
  {
   "cell_type": "code",
   "execution_count": null,
   "metadata": {
    "vscode": {
     "languageId": "plaintext"
    }
   },
   "outputs": [],
   "source": [
    "print(f\"Unique ratings: {df['rating'].unique()}\")\n",
    "print(f\"Rating counts:\\n{df['rating'].value_counts()}\")\n"
   ]
  },
  {
   "cell_type": "markdown",
   "metadata": {},
   "source": [
    "4. Data Cleaning"
   ]
  },
  {
   "cell_type": "code",
   "execution_count": null,
   "metadata": {
    "vscode": {
     "languageId": "plaintext"
    }
   },
   "outputs": [],
   "source": [
    "# Drop duplicate rows, if necessary\n",
    "df = df.drop_duplicates()\n",
    "\n",
    "# Handle missing values (example: dropping rows with missing values)\n",
    "df = df.dropna()  # Or you can fill missing values with `df.fillna(value)`\n"
   ]
  },
  {
   "cell_type": "markdown",
   "metadata": {},
   "source": [
    "5. Check the Distribution of the Data"
   ]
  },
  {
   "cell_type": "code",
   "execution_count": null,
   "metadata": {
    "vscode": {
     "languageId": "plaintext"
    }
   },
   "outputs": [],
   "source": [
    "# Display the distribution of numeric columns\n",
    "df.hist(figsize=(10, 8), bins=30, edgecolor='black')\n",
    "plt.tight_layout()\n",
    "plt.show()\n",
    "\n",
    "# Count values in categorical columns (replace 'category_column' with actual column name)\n",
    "if 'category_column' in df.columns:\n",
    "    print(df['category_column'].value_counts())\n"
   ]
  },
  {
   "cell_type": "markdown",
   "metadata": {},
   "source": [
    "6. Univariate Analysis"
   ]
  },
  {
   "cell_type": "code",
   "execution_count": null,
   "metadata": {
    "vscode": {
     "languageId": "plaintext"
    }
   },
   "outputs": [],
   "source": [
    "# Numeric column distribution\n",
    "sns.histplot(df['numeric_column'], kde=True)\n",
    "plt.title('Distribution of Numeric Column')\n",
    "plt.show()\n",
    "\n",
    "# Categorical column count plot\n",
    "sns.countplot(x='categorical_column', data=df, order=df['categorical_column'].value_counts().index)\n",
    "plt.title('Count of Categories')\n",
    "plt.xticks(rotation=45)\n",
    "plt.show()\n"
   ]
  },
  {
   "cell_type": "markdown",
   "metadata": {},
   "source": [
    "7. Multivariate Analysis"
   ]
  },
  {
   "cell_type": "code",
   "execution_count": null,
   "metadata": {
    "vscode": {
     "languageId": "plaintext"
    }
   },
   "outputs": [],
   "source": [
    "# Correlation heatmap for numeric columns\n",
    "plt.figure(figsize=(8, 6))\n",
    "sns.heatmap(df.corr(), annot=True, fmt=\".2f\", cmap='coolwarm')\n",
    "plt.title('Correlation Heatmap')\n",
    "plt.show()\n",
    "\n",
    "# Scatter plot for two numeric variables\n",
    "sns.scatterplot(x='numeric_column_1', y='numeric_column_2', data=df)\n",
    "plt.title('Scatter Plot')\n",
    "plt.show()\n",
    "\n",
    "# Box plot for a categorical and numeric column\n",
    "sns.boxplot(x='categorical_column', y='numeric_column', data=df)\n",
    "plt.title('Box Plot')\n",
    "plt.xticks(rotation=45)\n",
    "plt.show()\n"
   ]
  },
  {
   "cell_type": "markdown",
   "metadata": {},
   "source": [
    "8. Analyzing Product Reviews (if applicable)"
   ]
  },
  {
   "cell_type": "code",
   "execution_count": null,
   "metadata": {
    "vscode": {
     "languageId": "plaintext"
    }
   },
   "outputs": [],
   "source": [
    "# Check the length of reviews (replace 'review_column' with the actual name)\n",
    "if 'review_column' in df.columns:\n",
    "    df['review_length'] = df['review_column'].str.len()\n",
    "\n",
    "    sns.histplot(df['review_length'], kde=True)\n",
    "    plt.title('Distribution of Review Length')\n",
    "    plt.show()\n",
    "\n",
    "# Word Cloud of reviews (optional)\n",
    "from wordcloud import WordCloud\n",
    "wordcloud = WordCloud(width=800, height=400, background_color='white').generate(' '.join(df['review_column'].dropna()))\n",
    "plt.figure(figsize=(10, 5))\n",
    "plt.imshow(wordcloud, interpolation='bilinear')\n",
    "plt.axis('off')\n",
    "plt.title('Word Cloud of Reviews')\n",
    "plt.show()\n"
   ]
  },
  {
   "cell_type": "markdown",
   "metadata": {},
   "source": [
    "9. Grouping and Aggregations"
   ]
  },
  {
   "cell_type": "code",
   "execution_count": null,
   "metadata": {
    "vscode": {
     "languageId": "plaintext"
    }
   },
   "outputs": [],
   "source": [
    "# Example: Average rating per product\n",
    "if 'product_id' in df.columns and 'rating' in df.columns:\n",
    "    avg_rating = df.groupby('product_id')['rating'].mean().sort_values(ascending=False)\n",
    "    print(avg_rating.head())\n",
    "\n",
    "# Example: Total sales by category\n",
    "if 'category_column' in df.columns and 'sales_column' in df.columns:\n",
    "    total_sales = df.groupby('category_column')['sales_column'].sum().sort_values(ascending=False)\n",
    "    print(total_sales)\n"
   ]
  },
  {
   "cell_type": "markdown",
   "metadata": {},
   "source": [
    "10. Save Cleaned Data (Optional)"
   ]
  },
  {
   "cell_type": "code",
   "execution_count": null,
   "metadata": {
    "vscode": {
     "languageId": "plaintext"
    }
   },
   "outputs": [],
   "source": [
    "# Save cleaned data to a new CSV file\n",
    "df.to_csv('cleaned_ecommerce_data.csv', index=False)\n",
    "print(\"Cleaned data saved successfully!\")\n"
   ]
  }
 ],
 "metadata": {
  "language_info": {
   "name": "python"
  }
 },
 "nbformat": 4,
 "nbformat_minor": 2
}
