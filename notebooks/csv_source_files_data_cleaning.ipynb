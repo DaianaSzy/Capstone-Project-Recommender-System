{
 "cells": [
  {
   "cell_type": "markdown",
   "metadata": {},
   "source": [
    "# Compare and join the source files for each category"
   ]
  },
  {
   "cell_type": "code",
   "execution_count": 1,
   "metadata": {},
   "outputs": [],
   "source": [
    "import pandas as pd\n",
    "import numpy as np"
   ]
  },
  {
   "cell_type": "markdown",
   "metadata": {},
   "source": [
    "## Load the data"
   ]
  },
  {
   "cell_type": "code",
   "execution_count": 14,
   "metadata": {},
   "outputs": [],
   "source": [
    "csv_meta = r'.\\..\\data\\csv_transformed\\meta.csv'\n",
    "df_meta= pd.read_csv(csv_meta)\n",
    "\n",
    "csv_user = r'.\\..\\data\\json_normalized\\normalized_user.csv'\n",
    "df_user= pd.read_csv(csv_user)"
   ]
  },
  {
   "cell_type": "markdown",
   "metadata": {},
   "source": [
    "## Overview of the data"
   ]
  },
  {
   "cell_type": "code",
   "execution_count": 39,
   "metadata": {},
   "outputs": [
    {
     "name": "stdout",
     "output_type": "stream",
     "text": [
      "csv_meta shape: (112590, 14)\n",
      "==============================\n",
      "main_category       object\n",
      "title               object\n",
      "average_rating     float64\n",
      "rating_number        int64\n",
      "features            object\n",
      "description         object\n",
      "price              float64\n",
      "images              object\n",
      "videos              object\n",
      "store               object\n",
      "categories          object\n",
      "details             object\n",
      "parent_asin         object\n",
      "bought_together    float64\n",
      "dtype: object\n"
     ]
    }
   ],
   "source": [
    "print(f\"csv_meta shape: {df_meta.shape}\\n{'='*30}\\n{df_meta.dtypes}\")"
   ]
  },
  {
   "cell_type": "code",
   "execution_count": 38,
   "metadata": {},
   "outputs": [
    {
     "name": "stdout",
     "output_type": "stream",
     "text": [
      "csv_user shape: (701528, 10)\n",
      "==============================\n",
      "rating               float64\n",
      "title                 object\n",
      "text                  object\n",
      "images                object\n",
      "asin                  object\n",
      "parent_asin           object\n",
      "user_id               object\n",
      "timestamp              int64\n",
      "helpful_vote           int64\n",
      "verified_purchase       bool\n",
      "dtype: object\n"
     ]
    }
   ],
   "source": [
    "print(f\"csv_user shape: {df_user.shape}\\n{'='*30}\\n{df_user.dtypes}\")"
   ]
  },
  {
   "cell_type": "markdown",
   "metadata": {},
   "source": [
    "Taking a closer look at objects"
   ]
  },
  {
   "cell_type": "code",
   "execution_count": 54,
   "metadata": {},
   "outputs": [
    {
     "ename": "SyntaxError",
     "evalue": "unterminated string literal (detected at line 1) (2831977817.py, line 1)",
     "output_type": "error",
     "traceback": [
      "\u001b[1;36m  Cell \u001b[1;32mIn[54], line 1\u001b[1;36m\u001b[0m\n\u001b[1;33m    print(f\"{df_meta[\"title\"].head(10)} \\n\\n\u001b[0m\n\u001b[1;37m                           ^\u001b[0m\n\u001b[1;31mSyntaxError\u001b[0m\u001b[1;31m:\u001b[0m unterminated string literal (detected at line 1)\n"
     ]
    }
   ],
   "source": [
    "print(f\"{df_meta[\"title\"].head(10)} \\n\\n\n",
    "      {df_meta[\"text\"].head(10)}\\n\\n\n",
    "      {df_meta[\"asin\"].head(10)}\\n\\n\n",
    "      {df_meta[\"parent_asin\"].head(10)}\\n\\n\n",
    "      {df_meta[\"user_id\"].head(10)}\\n\\n\n",
    "      \")"
   ]
  },
  {
   "cell_type": "markdown",
   "metadata": {},
   "source": [
    "## Data cleaning steps\n"
   ]
  },
  {
   "cell_type": "markdown",
   "metadata": {},
   "source": [
    "### Overview action plan\n"
   ]
  },
  {
   "cell_type": "markdown",
   "metadata": {},
   "source": [
    "#### 1. csv_meta\n",
    "\n",
    "| Column | Actions |\n",
    "| :--- | ---: |\n",
    "| main_category | none |\n",
    "| title | none |\n",
    "| average_rating | none |\n",
    "| rating_number | none |\n",
    "| features | if LEN<3: \"\", else: remove \"['\" and \"']\" OR \"{'\" and \"'}\" in the beginning and end of string |\n",
    "| description | see above \"features\" |\n",
    "| price | none |\n",
    "| images | drop column |\n",
    "| videos | drop column |\n",
    "| store | if LEN<3 \"\" |\n",
    "| categories | none |\n",
    "| details | see above \"features\" |\n",
    "| parent_asin | none |\n",
    "| bought_together | drop column |\n",
    "\n",
    "\n"
   ]
  },
  {
   "cell_type": "markdown",
   "metadata": {},
   "source": [
    "#### 2. csv_user\n",
    "\n",
    "| Column | Actions |\n",
    "| :--- | ---: |\n",
    "| rating | none |\n",
    "| title | none |\n",
    "| text | none |\n",
    "| images | drop column |\n",
    "| asin | drop column |\n",
    "| parent_asin | none |\n",
    "| user_id | none |\n",
    "| timestamp | convert to datetime object |\n",
    "| helpful_vote | none |\n",
    "| verified_purchase | none |"
   ]
  },
  {
   "cell_type": "markdown",
   "metadata": {},
   "source": [
    "### Checking the count of null values before data cleaning"
   ]
  },
  {
   "cell_type": "markdown",
   "metadata": {},
   "source": [
    "#### 1. csv_meta raw\n"
   ]
  },
  {
   "cell_type": "code",
   "execution_count": null,
   "metadata": {},
   "outputs": [
    {
     "name": "stdout",
     "output_type": "stream",
     "text": [
      "Number of rows for csv_meta: 112590\n",
      "Missing values in each column:\n",
      "==============================\n",
      "main_category           0\n",
      "title                  12\n",
      "average_rating          0\n",
      "rating_number           0\n",
      "features                0\n",
      "description             0\n",
      "price               94886\n",
      "images                  0\n",
      "videos                  0\n",
      "store               11344\n",
      "categories              0\n",
      "details                 0\n",
      "parent_asin             0\n",
      "bought_together    112590\n",
      "dtype: int64\n"
     ]
    }
   ],
   "source": [
    "print(f\"Number of rows for csv_meta: {df_meta.shape[0]}\\n\\nMissing values in each column:\\n{'='*30}\\n{df_meta.isnull().sum()}\")"
   ]
  },
  {
   "cell_type": "markdown",
   "metadata": {},
   "source": [
    "#### 2. csv_user raw\n"
   ]
  },
  {
   "cell_type": "code",
   "execution_count": 46,
   "metadata": {},
   "outputs": [
    {
     "name": "stdout",
     "output_type": "stream",
     "text": [
      "Number of rows for csv_user: 701528\n",
      "\n",
      "Missing values in each column:\n",
      "==============================\n",
      "rating                 0\n",
      "title                160\n",
      "text                 212\n",
      "images                 0\n",
      "asin                   0\n",
      "parent_asin            0\n",
      "user_id                0\n",
      "timestamp              0\n",
      "helpful_vote           0\n",
      "verified_purchase      0\n",
      "dtype: int64\n"
     ]
    }
   ],
   "source": [
    "print(f\"Number of rows for csv_user: {df_user.shape[0]}\\n\\nMissing values in each column:\\n{'='*30}\\n{df_user.isnull().sum()}\")"
   ]
  },
  {
   "cell_type": "code",
   "execution_count": null,
   "metadata": {},
   "outputs": [],
   "source": [
    "# do the data cleaning as described for csv_meta and csv_user\n",
    "#XXX"
   ]
  },
  {
   "cell_type": "markdown",
   "metadata": {},
   "source": [
    "### Checking the count of null values after data cleaning"
   ]
  },
  {
   "cell_type": "markdown",
   "metadata": {},
   "source": [
    "#### 1. csv_meta cleaned\n"
   ]
  },
  {
   "cell_type": "code",
   "execution_count": null,
   "metadata": {},
   "outputs": [
    {
     "name": "stdout",
     "output_type": "stream",
     "text": [
      "Number of rows for csv_meta: 112590\n",
      "Missing values in each column:\n",
      "==============================\n",
      "main_category           0\n",
      "title                  12\n",
      "average_rating          0\n",
      "rating_number           0\n",
      "features                0\n",
      "description             0\n",
      "price               94886\n",
      "images                  0\n",
      "videos                  0\n",
      "store               11344\n",
      "categories              0\n",
      "details                 0\n",
      "parent_asin             0\n",
      "bought_together    112590\n",
      "dtype: int64\n"
     ]
    }
   ],
   "source": [
    "print(f\"Number of rows for csv_meta: {df_meta.shape[0]}\\n\\nMissing values in each column:\\n{'='*30}\\n{df_meta.isnull().sum()}\")"
   ]
  },
  {
   "cell_type": "markdown",
   "metadata": {},
   "source": [
    "#### 2. csv_user cleaned\n"
   ]
  },
  {
   "cell_type": "code",
   "execution_count": 43,
   "metadata": {},
   "outputs": [
    {
     "name": "stdout",
     "output_type": "stream",
     "text": [
      "Number of rows for csv_user: 701528\n",
      "Missing values in each column:\n",
      "==============================\n",
      "rating                 0\n",
      "title                160\n",
      "text                 212\n",
      "images                 0\n",
      "asin                   0\n",
      "parent_asin            0\n",
      "user_id                0\n",
      "timestamp              0\n",
      "helpful_vote           0\n",
      "verified_purchase      0\n",
      "dtype: int64\n"
     ]
    }
   ],
   "source": [
    "print(f\"Number of rows for csv_user: {df_user.shape[0]}\\n\\nMissing values in each column:\\n{'='*30}\\n{df_user.isnull().sum()}\")"
   ]
  },
  {
   "cell_type": "code",
   "execution_count": null,
   "metadata": {},
   "outputs": [],
   "source": [
    "# save data frames as 'meta_clean.csv' and 'user_clean.csv' in '.\\..\\data\\data_clean' folder\n",
    "#XXX"
   ]
  }
 ],
 "metadata": {
  "kernelspec": {
   "display_name": ".venv2",
   "language": "python",
   "name": "python3"
  },
  "language_info": {
   "codemirror_mode": {
    "name": "ipython",
    "version": 3
   },
   "file_extension": ".py",
   "mimetype": "text/x-python",
   "name": "python",
   "nbconvert_exporter": "python",
   "pygments_lexer": "ipython3",
   "version": "3.11.3"
  }
 },
 "nbformat": 4,
 "nbformat_minor": 2
}
