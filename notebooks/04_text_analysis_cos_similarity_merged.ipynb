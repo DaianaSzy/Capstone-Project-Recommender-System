{
 "cells": [
  {
   "cell_type": "code",
   "execution_count": 1,
   "metadata": {},
   "outputs": [],
   "source": [
    "import pandas as pd\n",
    "from sklearn.model_selection import train_test_split\n",
    "from sklearn.decomposition import PCA\n",
    "from transformers import BertTokenizer, BertModel, pipeline\n",
    "import torch\n",
    "import numpy as np\n",
    "from sklearn.metrics.pairwise import cosine_similarity\n",
    "from sklearn.neighbors import NearestNeighbors\n",
    "import ast\n",
    "import re\n",
    "from datetime import datetime"
   ]
  },
  {
   "cell_type": "markdown",
   "metadata": {},
   "source": [
    "Import data"
   ]
  },
  {
   "cell_type": "code",
   "execution_count": 2,
   "metadata": {},
   "outputs": [],
   "source": [
    "# load the dataset of PCA normalized embeddings: \n",
    "file_path = rf'.\\..\\data\\embeddings_dim_reduction\\df_user_normalized_PCA_merged.csv' # adjust the file_path with the proper name of the file\n",
    "df_user_normalized_PCA = pd.read_csv(file_path) "
   ]
  },
  {
   "cell_type": "code",
   "execution_count": 3,
   "metadata": {},
   "outputs": [
    {
     "data": {
      "text/plain": [
       "630315"
      ]
     },
     "execution_count": 3,
     "metadata": {},
     "output_type": "execute_result"
    }
   ],
   "source": [
    "# Verify the number of unique users:\n",
    "unique_values_user = df_user_normalized_PCA.user_ID.nunique()\n",
    "unique_values_user"
   ]
  },
  {
   "cell_type": "code",
   "execution_count": 4,
   "metadata": {},
   "outputs": [
    {
     "data": {
      "text/plain": [
       "user_ID\n",
       "AG73BVBKUOH22USSFJA5ZWL7AKXA      165\n",
       "AEZP6Z2C5AVQDZAJECQYZWQRNG3Q      146\n",
       "AEMP3A7IKW37CMWFXNKXWW6HGJHA_1    115\n",
       "AGZUJTI7A3JFKB4FP5JOH6NVAJIQ_1     87\n",
       "AFDYIK3FNPY2JFBQYUWC6GSBMIRQ_2     83\n",
       "                                 ... \n",
       "AEX24LYNE5WPGISAP425SQPUKJXQ        1\n",
       "AFSMCZTEUW3TI2BSPE25BD5GKXLA        1\n",
       "AGKNUO4XOIPCSIKDRHO56UQDPXVQ        1\n",
       "AEJQRDONU2O5LSOD5OC77XO43DFA        1\n",
       "AGIYQU6RK6TBKBCMWKVPBPBMMJNA        1\n",
       "Name: count, Length: 630315, dtype: int64"
      ]
     },
     "execution_count": 4,
     "metadata": {},
     "output_type": "execute_result"
    }
   ],
   "source": [
    "df_user_normalized_PCA['user_ID'].value_counts()"
   ]
  },
  {
   "cell_type": "code",
   "execution_count": 5,
   "metadata": {},
   "outputs": [
    {
     "data": {
      "text/plain": [
       "(692331, 314)"
      ]
     },
     "execution_count": 5,
     "metadata": {},
     "output_type": "execute_result"
    }
   ],
   "source": [
    "df_user_normalized_PCA.shape"
   ]
  },
  {
   "cell_type": "code",
   "execution_count": 6,
   "metadata": {},
   "outputs": [
    {
     "data": {
      "text/plain": [
       "user_ID                       product_ID\n",
       "AGWOOXMW2IXPKZOWAIWNMCXY7LBQ  B09NS1VG4L    2\n",
       "AGPGHXWBOK3TRJU7WACF5AAYBBVQ  B0B18CG44R    1\n",
       "AGPGHNJ32YJHVI2YKOBYQHSJS4WQ  B07L5QVV6W    1\n",
       "AGPGHPOQZP7XKLM6KJF2E6JT3D5A  B07DLF8HKR    1\n",
       "AGPGHQIMPLOJD3FR3ODRDJFYSJBQ  B079D87KKM    1\n",
       "                                           ..\n",
       "AFENC7VBDKGZQXZO437KEQWP45WA  B07Z2QTWSW    1\n",
       "AFENCIKTUQKQM2YPBVDGBB4S6OZQ  B01KU867GM    1\n",
       "AFENCVCHNNX3UATG4KRVIPYJLLGQ  B00YZ0XOWC    1\n",
       "AFENDQSAV5XVGGXKHRSDE3DUYK4A  B00D4T40D2    1\n",
       "AHZZZSOTVOVACVK2WWXL4ITEAPIA  B00R1TAN7I    1\n",
       "Name: count, Length: 692330, dtype: int64"
      ]
     },
     "execution_count": 6,
     "metadata": {},
     "output_type": "execute_result"
    }
   ],
   "source": [
    "unique_combinations = df_user_normalized_PCA[['user_ID', 'product_ID']].value_counts()\n",
    "unique_combinations"
   ]
  },
  {
   "cell_type": "code",
   "execution_count": null,
   "metadata": {},
   "outputs": [],
   "source": []
  },
  {
   "cell_type": "markdown",
   "metadata": {},
   "source": [
    "## 1. Create User and Product Vectors"
   ]
  },
  {
   "cell_type": "markdown",
   "metadata": {},
   "source": [
    "* Aggregating the embeddings to compute a single user vector per user_ID and single product vector per product_ID.\n",
    "* To create a vector for each user, we can average all the review embeddings corresponding to that user. This works because averaging retains a general sense of the user's overall preferences.\n",
    "* Similarly, we can aggregate the embeddings for each product. For example, average all the embeddings corresponding to each product ID."
   ]
  },
  {
   "cell_type": "markdown",
   "metadata": {},
   "source": [
    "### 1.1 Aggregate User Vectors"
   ]
  },
  {
   "cell_type": "code",
   "execution_count": 7,
   "metadata": {},
   "outputs": [
    {
     "data": {
      "text/plain": [
       "(630315, 301)"
      ]
     },
     "execution_count": 7,
     "metadata": {},
     "output_type": "execute_result"
    }
   ],
   "source": [
    "# Select relevant columns: user_ID and embedding dimensions\n",
    "vector_cols = [f'dim_norm_PCA{i}' for i in range(300)]\n",
    "df_user_vectors = df_user_normalized_PCA.groupby('user_ID')[vector_cols].mean().reset_index()\n",
    "\n",
    "# Rename the columns of vectors to indicate these are user vectors:\n",
    "df_user_vectors.columns = ['user_ID'] + [f'user_vec_{i}' for i in range(300)]\n",
    "\n",
    "df_user_vectors.shape"
   ]
  },
  {
   "cell_type": "code",
   "execution_count": 8,
   "metadata": {},
   "outputs": [
    {
     "data": {
      "text/html": [
       "<div>\n",
       "<style scoped>\n",
       "    .dataframe tbody tr th:only-of-type {\n",
       "        vertical-align: middle;\n",
       "    }\n",
       "\n",
       "    .dataframe tbody tr th {\n",
       "        vertical-align: top;\n",
       "    }\n",
       "\n",
       "    .dataframe thead th {\n",
       "        text-align: right;\n",
       "    }\n",
       "</style>\n",
       "<table border=\"1\" class=\"dataframe\">\n",
       "  <thead>\n",
       "    <tr style=\"text-align: right;\">\n",
       "      <th></th>\n",
       "      <th>user_ID</th>\n",
       "      <th>user_vec_0</th>\n",
       "      <th>user_vec_1</th>\n",
       "      <th>user_vec_2</th>\n",
       "      <th>user_vec_3</th>\n",
       "      <th>user_vec_4</th>\n",
       "      <th>user_vec_5</th>\n",
       "      <th>user_vec_6</th>\n",
       "      <th>user_vec_7</th>\n",
       "      <th>user_vec_8</th>\n",
       "      <th>...</th>\n",
       "      <th>user_vec_290</th>\n",
       "      <th>user_vec_291</th>\n",
       "      <th>user_vec_292</th>\n",
       "      <th>user_vec_293</th>\n",
       "      <th>user_vec_294</th>\n",
       "      <th>user_vec_295</th>\n",
       "      <th>user_vec_296</th>\n",
       "      <th>user_vec_297</th>\n",
       "      <th>user_vec_298</th>\n",
       "      <th>user_vec_299</th>\n",
       "    </tr>\n",
       "  </thead>\n",
       "  <tbody>\n",
       "    <tr>\n",
       "      <th>0</th>\n",
       "      <td>AE222BBOVZIF42YOOPNBXL4UUMYA</td>\n",
       "      <td>0.022338</td>\n",
       "      <td>0.100595</td>\n",
       "      <td>-0.206153</td>\n",
       "      <td>0.065659</td>\n",
       "      <td>0.023273</td>\n",
       "      <td>0.011930</td>\n",
       "      <td>0.054218</td>\n",
       "      <td>0.009806</td>\n",
       "      <td>0.071820</td>\n",
       "      <td>...</td>\n",
       "      <td>-0.001122</td>\n",
       "      <td>0.004642</td>\n",
       "      <td>-0.001718</td>\n",
       "      <td>-0.007591</td>\n",
       "      <td>-0.007428</td>\n",
       "      <td>0.001374</td>\n",
       "      <td>-0.018390</td>\n",
       "      <td>-0.007487</td>\n",
       "      <td>0.000145</td>\n",
       "      <td>0.006247</td>\n",
       "    </tr>\n",
       "    <tr>\n",
       "      <th>1</th>\n",
       "      <td>AE222FP7YRNFCEQ2W3ZDIGMSYTLQ</td>\n",
       "      <td>0.022153</td>\n",
       "      <td>0.030388</td>\n",
       "      <td>-0.094107</td>\n",
       "      <td>-0.025539</td>\n",
       "      <td>0.093637</td>\n",
       "      <td>0.170470</td>\n",
       "      <td>-0.031770</td>\n",
       "      <td>-0.060638</td>\n",
       "      <td>-0.060701</td>\n",
       "      <td>...</td>\n",
       "      <td>0.001796</td>\n",
       "      <td>-0.002748</td>\n",
       "      <td>0.003149</td>\n",
       "      <td>0.006347</td>\n",
       "      <td>0.020818</td>\n",
       "      <td>-0.002077</td>\n",
       "      <td>0.013311</td>\n",
       "      <td>-0.006835</td>\n",
       "      <td>-0.007763</td>\n",
       "      <td>-0.002501</td>\n",
       "    </tr>\n",
       "    <tr>\n",
       "      <th>2</th>\n",
       "      <td>AE222X475JC6ONXMIKZDFGQ7IAUA</td>\n",
       "      <td>-0.012598</td>\n",
       "      <td>0.219775</td>\n",
       "      <td>0.142422</td>\n",
       "      <td>-0.017760</td>\n",
       "      <td>0.129527</td>\n",
       "      <td>0.076851</td>\n",
       "      <td>0.021589</td>\n",
       "      <td>-0.034965</td>\n",
       "      <td>-0.045799</td>\n",
       "      <td>...</td>\n",
       "      <td>-0.022207</td>\n",
       "      <td>-0.002645</td>\n",
       "      <td>0.041338</td>\n",
       "      <td>-0.015161</td>\n",
       "      <td>0.011363</td>\n",
       "      <td>-0.026213</td>\n",
       "      <td>0.002272</td>\n",
       "      <td>0.003468</td>\n",
       "      <td>-0.002008</td>\n",
       "      <td>0.002792</td>\n",
       "    </tr>\n",
       "    <tr>\n",
       "      <th>3</th>\n",
       "      <td>AE222Y4WTST6BUZ4J5Y2H6QMBITQ</td>\n",
       "      <td>-0.231625</td>\n",
       "      <td>-0.016032</td>\n",
       "      <td>-0.102149</td>\n",
       "      <td>0.066109</td>\n",
       "      <td>-0.050187</td>\n",
       "      <td>0.007027</td>\n",
       "      <td>0.020258</td>\n",
       "      <td>0.010995</td>\n",
       "      <td>-0.007235</td>\n",
       "      <td>...</td>\n",
       "      <td>-0.006156</td>\n",
       "      <td>-0.003489</td>\n",
       "      <td>-0.000958</td>\n",
       "      <td>0.016319</td>\n",
       "      <td>-0.011625</td>\n",
       "      <td>-0.000594</td>\n",
       "      <td>0.007983</td>\n",
       "      <td>-0.010001</td>\n",
       "      <td>0.012913</td>\n",
       "      <td>-0.001186</td>\n",
       "    </tr>\n",
       "    <tr>\n",
       "      <th>4</th>\n",
       "      <td>AE2232TEZOEWQLAFEX2NA6VBGMYQ</td>\n",
       "      <td>0.237254</td>\n",
       "      <td>-0.088060</td>\n",
       "      <td>0.097924</td>\n",
       "      <td>0.076692</td>\n",
       "      <td>0.160438</td>\n",
       "      <td>0.100078</td>\n",
       "      <td>-0.051536</td>\n",
       "      <td>-0.046282</td>\n",
       "      <td>0.132318</td>\n",
       "      <td>...</td>\n",
       "      <td>0.003213</td>\n",
       "      <td>-0.006024</td>\n",
       "      <td>-0.003414</td>\n",
       "      <td>0.001399</td>\n",
       "      <td>0.021043</td>\n",
       "      <td>0.006149</td>\n",
       "      <td>0.000152</td>\n",
       "      <td>-0.002788</td>\n",
       "      <td>0.010600</td>\n",
       "      <td>0.002627</td>\n",
       "    </tr>\n",
       "  </tbody>\n",
       "</table>\n",
       "<p>5 rows × 301 columns</p>\n",
       "</div>"
      ],
      "text/plain": [
       "                        user_ID  user_vec_0  user_vec_1  user_vec_2   \n",
       "0  AE222BBOVZIF42YOOPNBXL4UUMYA    0.022338    0.100595   -0.206153  \\\n",
       "1  AE222FP7YRNFCEQ2W3ZDIGMSYTLQ    0.022153    0.030388   -0.094107   \n",
       "2  AE222X475JC6ONXMIKZDFGQ7IAUA   -0.012598    0.219775    0.142422   \n",
       "3  AE222Y4WTST6BUZ4J5Y2H6QMBITQ   -0.231625   -0.016032   -0.102149   \n",
       "4  AE2232TEZOEWQLAFEX2NA6VBGMYQ    0.237254   -0.088060    0.097924   \n",
       "\n",
       "   user_vec_3  user_vec_4  user_vec_5  user_vec_6  user_vec_7  user_vec_8   \n",
       "0    0.065659    0.023273    0.011930    0.054218    0.009806    0.071820  \\\n",
       "1   -0.025539    0.093637    0.170470   -0.031770   -0.060638   -0.060701   \n",
       "2   -0.017760    0.129527    0.076851    0.021589   -0.034965   -0.045799   \n",
       "3    0.066109   -0.050187    0.007027    0.020258    0.010995   -0.007235   \n",
       "4    0.076692    0.160438    0.100078   -0.051536   -0.046282    0.132318   \n",
       "\n",
       "   ...  user_vec_290  user_vec_291  user_vec_292  user_vec_293  user_vec_294   \n",
       "0  ...     -0.001122      0.004642     -0.001718     -0.007591     -0.007428  \\\n",
       "1  ...      0.001796     -0.002748      0.003149      0.006347      0.020818   \n",
       "2  ...     -0.022207     -0.002645      0.041338     -0.015161      0.011363   \n",
       "3  ...     -0.006156     -0.003489     -0.000958      0.016319     -0.011625   \n",
       "4  ...      0.003213     -0.006024     -0.003414      0.001399      0.021043   \n",
       "\n",
       "   user_vec_295  user_vec_296  user_vec_297  user_vec_298  user_vec_299  \n",
       "0      0.001374     -0.018390     -0.007487      0.000145      0.006247  \n",
       "1     -0.002077      0.013311     -0.006835     -0.007763     -0.002501  \n",
       "2     -0.026213      0.002272      0.003468     -0.002008      0.002792  \n",
       "3     -0.000594      0.007983     -0.010001      0.012913     -0.001186  \n",
       "4      0.006149      0.000152     -0.002788      0.010600      0.002627  \n",
       "\n",
       "[5 rows x 301 columns]"
      ]
     },
     "execution_count": 8,
     "metadata": {},
     "output_type": "execute_result"
    }
   ],
   "source": [
    "df_user_vectors.head()"
   ]
  },
  {
   "cell_type": "code",
   "execution_count": 9,
   "metadata": {},
   "outputs": [],
   "source": [
    "# Save the new DataFrame with user vectors\n",
    "\n",
    "file_path_user_vec = rf'.\\..\\data\\text_analysis\\user_vectors\\user_vectors_merged.csv'\n",
    "df_user_vectors.to_csv(file_path_user_vec, index=False)"
   ]
  },
  {
   "cell_type": "markdown",
   "metadata": {},
   "source": [
    "### 1.2 Aggregate Product Vectors"
   ]
  },
  {
   "cell_type": "code",
   "execution_count": 10,
   "metadata": {},
   "outputs": [
    {
     "data": {
      "text/plain": [
       "(115556, 301)"
      ]
     },
     "execution_count": 10,
     "metadata": {},
     "output_type": "execute_result"
    }
   ],
   "source": [
    "#product_vector_cols = [f'dim_norm_PCA{i}' for i in range(300)]\n",
    "df_product_vectors = df_user_normalized_PCA.groupby('product_ID')[vector_cols].mean().reset_index()\n",
    "\n",
    "df_product_vectors.columns = ['product_ID'] + [f'product_vec_{i}' for i in range(300)]\n",
    "df_product_vectors.shape"
   ]
  },
  {
   "cell_type": "code",
   "execution_count": 11,
   "metadata": {},
   "outputs": [
    {
     "data": {
      "text/html": [
       "<div>\n",
       "<style scoped>\n",
       "    .dataframe tbody tr th:only-of-type {\n",
       "        vertical-align: middle;\n",
       "    }\n",
       "\n",
       "    .dataframe tbody tr th {\n",
       "        vertical-align: top;\n",
       "    }\n",
       "\n",
       "    .dataframe thead th {\n",
       "        text-align: right;\n",
       "    }\n",
       "</style>\n",
       "<table border=\"1\" class=\"dataframe\">\n",
       "  <thead>\n",
       "    <tr style=\"text-align: right;\">\n",
       "      <th></th>\n",
       "      <th>product_ID</th>\n",
       "      <th>product_vec_0</th>\n",
       "      <th>product_vec_1</th>\n",
       "      <th>product_vec_2</th>\n",
       "      <th>product_vec_3</th>\n",
       "      <th>product_vec_4</th>\n",
       "      <th>product_vec_5</th>\n",
       "      <th>product_vec_6</th>\n",
       "      <th>product_vec_7</th>\n",
       "      <th>product_vec_8</th>\n",
       "      <th>...</th>\n",
       "      <th>product_vec_290</th>\n",
       "      <th>product_vec_291</th>\n",
       "      <th>product_vec_292</th>\n",
       "      <th>product_vec_293</th>\n",
       "      <th>product_vec_294</th>\n",
       "      <th>product_vec_295</th>\n",
       "      <th>product_vec_296</th>\n",
       "      <th>product_vec_297</th>\n",
       "      <th>product_vec_298</th>\n",
       "      <th>product_vec_299</th>\n",
       "    </tr>\n",
       "  </thead>\n",
       "  <tbody>\n",
       "    <tr>\n",
       "      <th>0</th>\n",
       "      <td>0005946468</td>\n",
       "      <td>0.005288</td>\n",
       "      <td>0.247759</td>\n",
       "      <td>0.103427</td>\n",
       "      <td>-0.091621</td>\n",
       "      <td>0.005084</td>\n",
       "      <td>-0.099639</td>\n",
       "      <td>-0.107011</td>\n",
       "      <td>0.122461</td>\n",
       "      <td>0.012713</td>\n",
       "      <td>...</td>\n",
       "      <td>0.002068</td>\n",
       "      <td>0.009174</td>\n",
       "      <td>-0.019991</td>\n",
       "      <td>-0.003565</td>\n",
       "      <td>-0.003649</td>\n",
       "      <td>-0.017079</td>\n",
       "      <td>-0.013606</td>\n",
       "      <td>0.001881</td>\n",
       "      <td>0.015874</td>\n",
       "      <td>-0.002307</td>\n",
       "    </tr>\n",
       "    <tr>\n",
       "      <th>1</th>\n",
       "      <td>0123034892</td>\n",
       "      <td>0.109861</td>\n",
       "      <td>0.275601</td>\n",
       "      <td>0.000386</td>\n",
       "      <td>-0.047517</td>\n",
       "      <td>0.004198</td>\n",
       "      <td>-0.083188</td>\n",
       "      <td>-0.079647</td>\n",
       "      <td>-0.121367</td>\n",
       "      <td>0.129342</td>\n",
       "      <td>...</td>\n",
       "      <td>-0.007957</td>\n",
       "      <td>-0.009873</td>\n",
       "      <td>0.003017</td>\n",
       "      <td>0.015212</td>\n",
       "      <td>-0.005792</td>\n",
       "      <td>0.007390</td>\n",
       "      <td>0.004461</td>\n",
       "      <td>0.001337</td>\n",
       "      <td>0.009957</td>\n",
       "      <td>-0.012407</td>\n",
       "    </tr>\n",
       "    <tr>\n",
       "      <th>2</th>\n",
       "      <td>0124784577</td>\n",
       "      <td>-0.017208</td>\n",
       "      <td>0.132227</td>\n",
       "      <td>0.100658</td>\n",
       "      <td>-0.126151</td>\n",
       "      <td>0.059223</td>\n",
       "      <td>0.032017</td>\n",
       "      <td>-0.042822</td>\n",
       "      <td>0.087571</td>\n",
       "      <td>0.032354</td>\n",
       "      <td>...</td>\n",
       "      <td>-0.005163</td>\n",
       "      <td>-0.009594</td>\n",
       "      <td>-0.002201</td>\n",
       "      <td>0.013803</td>\n",
       "      <td>0.002335</td>\n",
       "      <td>0.004500</td>\n",
       "      <td>-0.009917</td>\n",
       "      <td>0.001281</td>\n",
       "      <td>-0.000278</td>\n",
       "      <td>-0.003500</td>\n",
       "    </tr>\n",
       "    <tr>\n",
       "      <th>3</th>\n",
       "      <td>0515059560</td>\n",
       "      <td>-0.209201</td>\n",
       "      <td>-0.058736</td>\n",
       "      <td>0.202120</td>\n",
       "      <td>0.062009</td>\n",
       "      <td>-0.090060</td>\n",
       "      <td>0.028901</td>\n",
       "      <td>-0.018587</td>\n",
       "      <td>0.080671</td>\n",
       "      <td>-0.056896</td>\n",
       "      <td>...</td>\n",
       "      <td>-0.010150</td>\n",
       "      <td>0.030672</td>\n",
       "      <td>-0.013799</td>\n",
       "      <td>0.020456</td>\n",
       "      <td>-0.005572</td>\n",
       "      <td>-0.030364</td>\n",
       "      <td>0.009011</td>\n",
       "      <td>-0.004363</td>\n",
       "      <td>-0.024073</td>\n",
       "      <td>0.008783</td>\n",
       "    </tr>\n",
       "    <tr>\n",
       "      <th>4</th>\n",
       "      <td>0615675026</td>\n",
       "      <td>-0.259519</td>\n",
       "      <td>-0.082304</td>\n",
       "      <td>0.141455</td>\n",
       "      <td>0.102475</td>\n",
       "      <td>-0.019962</td>\n",
       "      <td>0.111337</td>\n",
       "      <td>-0.059118</td>\n",
       "      <td>0.036263</td>\n",
       "      <td>-0.016532</td>\n",
       "      <td>...</td>\n",
       "      <td>0.015419</td>\n",
       "      <td>0.001891</td>\n",
       "      <td>-0.003339</td>\n",
       "      <td>-0.002042</td>\n",
       "      <td>-0.013208</td>\n",
       "      <td>-0.019155</td>\n",
       "      <td>0.014448</td>\n",
       "      <td>0.007363</td>\n",
       "      <td>-0.002628</td>\n",
       "      <td>-0.006653</td>\n",
       "    </tr>\n",
       "  </tbody>\n",
       "</table>\n",
       "<p>5 rows × 301 columns</p>\n",
       "</div>"
      ],
      "text/plain": [
       "   product_ID  product_vec_0  product_vec_1  product_vec_2  product_vec_3   \n",
       "0  0005946468       0.005288       0.247759       0.103427      -0.091621  \\\n",
       "1  0123034892       0.109861       0.275601       0.000386      -0.047517   \n",
       "2  0124784577      -0.017208       0.132227       0.100658      -0.126151   \n",
       "3  0515059560      -0.209201      -0.058736       0.202120       0.062009   \n",
       "4  0615675026      -0.259519      -0.082304       0.141455       0.102475   \n",
       "\n",
       "   product_vec_4  product_vec_5  product_vec_6  product_vec_7  product_vec_8   \n",
       "0       0.005084      -0.099639      -0.107011       0.122461       0.012713  \\\n",
       "1       0.004198      -0.083188      -0.079647      -0.121367       0.129342   \n",
       "2       0.059223       0.032017      -0.042822       0.087571       0.032354   \n",
       "3      -0.090060       0.028901      -0.018587       0.080671      -0.056896   \n",
       "4      -0.019962       0.111337      -0.059118       0.036263      -0.016532   \n",
       "\n",
       "   ...  product_vec_290  product_vec_291  product_vec_292  product_vec_293   \n",
       "0  ...         0.002068         0.009174        -0.019991        -0.003565  \\\n",
       "1  ...        -0.007957        -0.009873         0.003017         0.015212   \n",
       "2  ...        -0.005163        -0.009594        -0.002201         0.013803   \n",
       "3  ...        -0.010150         0.030672        -0.013799         0.020456   \n",
       "4  ...         0.015419         0.001891        -0.003339        -0.002042   \n",
       "\n",
       "   product_vec_294  product_vec_295  product_vec_296  product_vec_297   \n",
       "0        -0.003649        -0.017079        -0.013606         0.001881  \\\n",
       "1        -0.005792         0.007390         0.004461         0.001337   \n",
       "2         0.002335         0.004500        -0.009917         0.001281   \n",
       "3        -0.005572        -0.030364         0.009011        -0.004363   \n",
       "4        -0.013208        -0.019155         0.014448         0.007363   \n",
       "\n",
       "   product_vec_298  product_vec_299  \n",
       "0         0.015874        -0.002307  \n",
       "1         0.009957        -0.012407  \n",
       "2        -0.000278        -0.003500  \n",
       "3        -0.024073         0.008783  \n",
       "4        -0.002628        -0.006653  \n",
       "\n",
       "[5 rows x 301 columns]"
      ]
     },
     "execution_count": 11,
     "metadata": {},
     "output_type": "execute_result"
    }
   ],
   "source": [
    "df_product_vectors.head()"
   ]
  },
  {
   "cell_type": "code",
   "execution_count": 12,
   "metadata": {},
   "outputs": [],
   "source": [
    "# Save the new DataFrame with product vectors\n",
    "\n",
    "file_path_product_vec = rf'.\\..\\data\\text_analysis\\product_vectors\\product_vectors_merged.csv'\n",
    "df_product_vectors.to_csv(file_path_product_vec, index=False)"
   ]
  },
  {
   "cell_type": "markdown",
   "metadata": {},
   "source": [
    "## 2. Semantic Analysis"
   ]
  },
  {
   "cell_type": "markdown",
   "metadata": {},
   "source": [
    "### Compare Reviews - Similarity Research with COS Similarity"
   ]
  },
  {
   "cell_type": "markdown",
   "metadata": {},
   "source": [
    "* Extract the user and product vectors.\n",
    "* Compute the cosine similarity between each user and all products.\n",
    "* Rank products for each user based on similarity scores."
   ]
  },
  {
   "cell_type": "markdown",
   "metadata": {},
   "source": [
    "Create a DataFrame that stores all items that user purchased, to remove those from the recommendations"
   ]
  },
  {
   "cell_type": "code",
   "execution_count": 13,
   "metadata": {},
   "outputs": [
    {
     "data": {
      "text/html": [
       "<div>\n",
       "<style scoped>\n",
       "    .dataframe tbody tr th:only-of-type {\n",
       "        vertical-align: middle;\n",
       "    }\n",
       "\n",
       "    .dataframe tbody tr th {\n",
       "        vertical-align: top;\n",
       "    }\n",
       "\n",
       "    .dataframe thead th {\n",
       "        text-align: right;\n",
       "    }\n",
       "</style>\n",
       "<table border=\"1\" class=\"dataframe\">\n",
       "  <thead>\n",
       "    <tr style=\"text-align: right;\">\n",
       "      <th></th>\n",
       "      <th>user_ID</th>\n",
       "      <th>product_ID</th>\n",
       "    </tr>\n",
       "  </thead>\n",
       "  <tbody>\n",
       "    <tr>\n",
       "      <th>0</th>\n",
       "      <td>AE222BBOVZIF42YOOPNBXL4UUMYA</td>\n",
       "      <td>[B013HR1A92]</td>\n",
       "    </tr>\n",
       "    <tr>\n",
       "      <th>1</th>\n",
       "      <td>AE222FP7YRNFCEQ2W3ZDIGMSYTLQ</td>\n",
       "      <td>[B0BTT658PQ]</td>\n",
       "    </tr>\n",
       "    <tr>\n",
       "      <th>2</th>\n",
       "      <td>AE222X475JC6ONXMIKZDFGQ7IAUA</td>\n",
       "      <td>[B00PBDMRES]</td>\n",
       "    </tr>\n",
       "    <tr>\n",
       "      <th>3</th>\n",
       "      <td>AE222Y4WTST6BUZ4J5Y2H6QMBITQ</td>\n",
       "      <td>[B00012FPSO]</td>\n",
       "    </tr>\n",
       "    <tr>\n",
       "      <th>4</th>\n",
       "      <td>AE2232TEZOEWQLAFEX2NA6VBGMYQ</td>\n",
       "      <td>[B07QNPXBLH]</td>\n",
       "    </tr>\n",
       "    <tr>\n",
       "      <th>...</th>\n",
       "      <td>...</td>\n",
       "      <td>...</td>\n",
       "    </tr>\n",
       "    <tr>\n",
       "      <th>630310</th>\n",
       "      <td>AHZZYVEU6QFMPFZ2HJUWR22SNK4A</td>\n",
       "      <td>[B07JJ9NFFH]</td>\n",
       "    </tr>\n",
       "    <tr>\n",
       "      <th>630311</th>\n",
       "      <td>AHZZZAK24AJ3JNBDUZJGHHWSRVAA</td>\n",
       "      <td>[B00KXFD75M]</td>\n",
       "    </tr>\n",
       "    <tr>\n",
       "      <th>630312</th>\n",
       "      <td>AHZZZJP24QUSB5XWW6MAXYBZZZSQ</td>\n",
       "      <td>[B00IG0677G]</td>\n",
       "    </tr>\n",
       "    <tr>\n",
       "      <th>630313</th>\n",
       "      <td>AHZZZL7YQJA3RSA6PYK3WMFACYIQ</td>\n",
       "      <td>[B091TKH1JF]</td>\n",
       "    </tr>\n",
       "    <tr>\n",
       "      <th>630314</th>\n",
       "      <td>AHZZZSOTVOVACVK2WWXL4ITEAPIA</td>\n",
       "      <td>[B00R1TAN7I]</td>\n",
       "    </tr>\n",
       "  </tbody>\n",
       "</table>\n",
       "<p>630315 rows × 2 columns</p>\n",
       "</div>"
      ],
      "text/plain": [
       "                             user_ID    product_ID\n",
       "0       AE222BBOVZIF42YOOPNBXL4UUMYA  [B013HR1A92]\n",
       "1       AE222FP7YRNFCEQ2W3ZDIGMSYTLQ  [B0BTT658PQ]\n",
       "2       AE222X475JC6ONXMIKZDFGQ7IAUA  [B00PBDMRES]\n",
       "3       AE222Y4WTST6BUZ4J5Y2H6QMBITQ  [B00012FPSO]\n",
       "4       AE2232TEZOEWQLAFEX2NA6VBGMYQ  [B07QNPXBLH]\n",
       "...                              ...           ...\n",
       "630310  AHZZYVEU6QFMPFZ2HJUWR22SNK4A  [B07JJ9NFFH]\n",
       "630311  AHZZZAK24AJ3JNBDUZJGHHWSRVAA  [B00KXFD75M]\n",
       "630312  AHZZZJP24QUSB5XWW6MAXYBZZZSQ  [B00IG0677G]\n",
       "630313  AHZZZL7YQJA3RSA6PYK3WMFACYIQ  [B091TKH1JF]\n",
       "630314  AHZZZSOTVOVACVK2WWXL4ITEAPIA  [B00R1TAN7I]\n",
       "\n",
       "[630315 rows x 2 columns]"
      ]
     },
     "execution_count": 13,
     "metadata": {},
     "output_type": "execute_result"
    }
   ],
   "source": [
    "user_item_df = df_user_normalized_PCA.groupby('user_ID')['product_ID'].apply(list).reset_index()\n",
    "user_item_df"
   ]
  },
  {
   "cell_type": "code",
   "execution_count": 14,
   "metadata": {},
   "outputs": [],
   "source": [
    "# Extract user vectors\n",
    "user_ids = df_user_vectors['user_ID'].values\n",
    "user_vectors = df_user_vectors.iloc[:, 1:].values\n",
    "\n",
    "# Extract product vectors\n",
    "product_ids = df_product_vectors['product_ID'].values\n",
    "product_vectors = df_product_vectors.iloc[:, 1:].values"
   ]
  },
  {
   "cell_type": "code",
   "execution_count": 15,
   "metadata": {},
   "outputs": [
    {
     "data": {
      "text/plain": [
       "array(['0005946468', '0123034892', '0124784577', ..., 'B0CBXM7WHY',\n",
       "       'B0CCPDTRK7', 'B0CFZKJ4KY'], dtype=object)"
      ]
     },
     "execution_count": 15,
     "metadata": {},
     "output_type": "execute_result"
    }
   ],
   "source": [
    "product_ids"
   ]
  },
  {
   "cell_type": "code",
   "execution_count": 16,
   "metadata": {},
   "outputs": [
    {
     "name": "stdout",
     "output_type": "stream",
     "text": [
      "Shape of User Vectors: (630315, 300)\n",
      "Shape of Product Vectors: (115556, 300)\n"
     ]
    }
   ],
   "source": [
    "print(f\"Shape of User Vectors: {user_vectors.shape}\")\n",
    "print(f\"Shape of Product Vectors: {product_vectors.shape}\")"
   ]
  },
  {
   "cell_type": "code",
   "execution_count": 17,
   "metadata": {},
   "outputs": [],
   "source": [
    "# Define the number of closest products to compute\n",
    "top_n_products = 300 # find the top 300 closest products for each user instead of computing all pairwise similarities.\n",
    "# Fit the NearestNeighbors model on the product vectors\n",
    "nbrs = NearestNeighbors(n_neighbors=top_n_products, metric='cosine').fit(product_vectors)\n",
    "\n",
    "# Retrieve the top-N most similar products for each user\n",
    "distances, indices = nbrs.kneighbors(user_vectors)\n",
    "\n",
    "# `distances` contains the cosine distances (1 - similarity)\n",
    "# Convert distances to similarity scores\n",
    "similarity_scores = 1 - distances"
   ]
  },
  {
   "cell_type": "code",
   "execution_count": 18,
   "metadata": {},
   "outputs": [],
   "source": [
    "# Save the indices and similarity scores\n",
    "np.savez(r'.\\..\\data\\cos_similarity\\recommendations_300_merged.npz', indices=indices, similarity_scores=similarity_scores)"
   ]
  }
 ],
 "metadata": {
  "kernelspec": {
   "display_name": ".venv",
   "language": "python",
   "name": "python3"
  },
  "language_info": {
   "codemirror_mode": {
    "name": "ipython",
    "version": 3
   },
   "file_extension": ".py",
   "mimetype": "text/x-python",
   "name": "python",
   "nbconvert_exporter": "python",
   "pygments_lexer": "ipython3",
   "version": "3.11.3"
  }
 },
 "nbformat": 4,
 "nbformat_minor": 2
}
