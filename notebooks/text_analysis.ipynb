{
 "cells": [
  {
   "cell_type": "code",
   "execution_count": 42,
   "metadata": {},
   "outputs": [],
   "source": [
    "import pandas as pd\n",
    "from sklearn.model_selection import train_test_split\n",
    "from sklearn.decomposition import PCA\n",
    "from transformers import BertTokenizer, BertModel, pipeline\n",
    "import torch\n",
    "import numpy as np\n",
    "from sklearn.metrics.pairwise import cosine_similarity\n",
    "import ast\n",
    "import re"
   ]
  },
  {
   "cell_type": "markdown",
   "metadata": {},
   "source": [
    "Import data"
   ]
  },
  {
   "cell_type": "code",
   "execution_count": 43,
   "metadata": {},
   "outputs": [],
   "source": [
    "file_path = r'.\\..\\data\\data_clean\\user_clean_data_ecommerce.csv'  # Update this with your file path\n",
    "df_user = pd.read_csv(file_path)"
   ]
  },
  {
   "cell_type": "code",
   "execution_count": 45,
   "metadata": {},
   "outputs": [
    {
     "data": {
      "text/plain": [
       "'this spray is really nice it smells really good goes on really fine and does the trick i will say it feels like you need a lot of it though to get the texture i want i have a lot of hair medium thickness i am comparing to other brands with yucky chemicals so im gonna stick with this try it'"
      ]
     },
     "execution_count": 45,
     "metadata": {},
     "output_type": "execute_result"
    }
   ],
   "source": [
    "df_user['cleaned_text'][0]"
   ]
  },
  {
   "cell_type": "code",
   "execution_count": 48,
   "metadata": {},
   "outputs": [
    {
     "data": {
      "text/html": [
       "<div>\n",
       "<style scoped>\n",
       "    .dataframe tbody tr th:only-of-type {\n",
       "        vertical-align: middle;\n",
       "    }\n",
       "\n",
       "    .dataframe tbody tr th {\n",
       "        vertical-align: top;\n",
       "    }\n",
       "\n",
       "    .dataframe thead th {\n",
       "        text-align: right;\n",
       "    }\n",
       "</style>\n",
       "<table border=\"1\" class=\"dataframe\">\n",
       "  <thead>\n",
       "    <tr style=\"text-align: right;\">\n",
       "      <th></th>\n",
       "      <th>rating</th>\n",
       "      <th>review_title</th>\n",
       "      <th>text_review</th>\n",
       "      <th>user_images</th>\n",
       "      <th>product_ID</th>\n",
       "      <th>parent_ID</th>\n",
       "      <th>user_ID</th>\n",
       "      <th>timestamp</th>\n",
       "      <th>helpful_review_vote</th>\n",
       "      <th>user_purchase_verification</th>\n",
       "      <th>year</th>\n",
       "      <th>cleaned_text</th>\n",
       "    </tr>\n",
       "  </thead>\n",
       "  <tbody>\n",
       "    <tr>\n",
       "      <th>0</th>\n",
       "      <td>5</td>\n",
       "      <td>Such a lovely scent but not overpowering.</td>\n",
       "      <td>This spray is really nice. It smells really go...</td>\n",
       "      <td>[]</td>\n",
       "      <td>B00YQ6X8EO</td>\n",
       "      <td>B00YQ6X8EO</td>\n",
       "      <td>AGKHLEW2SOWHNMFQIJGBECAF7INQ</td>\n",
       "      <td>2020-05-05 14:08:48.923</td>\n",
       "      <td>0</td>\n",
       "      <td>1</td>\n",
       "      <td>2020</td>\n",
       "      <td>this spray is really nice it smells really goo...</td>\n",
       "    </tr>\n",
       "    <tr>\n",
       "      <th>1</th>\n",
       "      <td>4</td>\n",
       "      <td>Works great but smells a little weird.</td>\n",
       "      <td>This product does what I need it to do, I just...</td>\n",
       "      <td>[]</td>\n",
       "      <td>B081TJ8YS3</td>\n",
       "      <td>B081TJ8YS3</td>\n",
       "      <td>AGKHLEW2SOWHNMFQIJGBECAF7INQ</td>\n",
       "      <td>2020-05-04 18:10:55.070</td>\n",
       "      <td>1</td>\n",
       "      <td>1</td>\n",
       "      <td>2020</td>\n",
       "      <td>this product does what i need it to do i just ...</td>\n",
       "    </tr>\n",
       "    <tr>\n",
       "      <th>2</th>\n",
       "      <td>5</td>\n",
       "      <td>Yes!</td>\n",
       "      <td>Smells good, feels great!</td>\n",
       "      <td>[]</td>\n",
       "      <td>B07PNNCSP9</td>\n",
       "      <td>B097R46CSY</td>\n",
       "      <td>AE74DYR3QUGVPZJ3P7RFWBGIX7XQ</td>\n",
       "      <td>2020-05-16 21:41:06.052</td>\n",
       "      <td>2</td>\n",
       "      <td>1</td>\n",
       "      <td>2020</td>\n",
       "      <td>smells good feels great</td>\n",
       "    </tr>\n",
       "    <tr>\n",
       "      <th>3</th>\n",
       "      <td>1</td>\n",
       "      <td>Synthetic feeling</td>\n",
       "      <td>Felt synthetic</td>\n",
       "      <td>[]</td>\n",
       "      <td>B09JS339BZ</td>\n",
       "      <td>B09JS339BZ</td>\n",
       "      <td>AFQLNQNQYFWQZPJQZS6V3NZU4QBQ</td>\n",
       "      <td>2022-01-28 18:13:50.220</td>\n",
       "      <td>0</td>\n",
       "      <td>1</td>\n",
       "      <td>2022</td>\n",
       "      <td>felt synthetic</td>\n",
       "    </tr>\n",
       "    <tr>\n",
       "      <th>4</th>\n",
       "      <td>5</td>\n",
       "      <td>A+</td>\n",
       "      <td>Love it</td>\n",
       "      <td>[]</td>\n",
       "      <td>B08BZ63GMJ</td>\n",
       "      <td>B08BZ63GMJ</td>\n",
       "      <td>AFQLNQNQYFWQZPJQZS6V3NZU4QBQ</td>\n",
       "      <td>2020-12-30 10:02:43.534</td>\n",
       "      <td>0</td>\n",
       "      <td>1</td>\n",
       "      <td>2020</td>\n",
       "      <td>love it</td>\n",
       "    </tr>\n",
       "  </tbody>\n",
       "</table>\n",
       "</div>"
      ],
      "text/plain": [
       "   rating                               review_title   \n",
       "0       5  Such a lovely scent but not overpowering.  \\\n",
       "1       4     Works great but smells a little weird.   \n",
       "2       5                                       Yes!   \n",
       "3       1                          Synthetic feeling   \n",
       "4       5                                         A+   \n",
       "\n",
       "                                         text_review user_images  product_ID   \n",
       "0  This spray is really nice. It smells really go...          []  B00YQ6X8EO  \\\n",
       "1  This product does what I need it to do, I just...          []  B081TJ8YS3   \n",
       "2                          Smells good, feels great!          []  B07PNNCSP9   \n",
       "3                                     Felt synthetic          []  B09JS339BZ   \n",
       "4                                            Love it          []  B08BZ63GMJ   \n",
       "\n",
       "    parent_ID                       user_ID                timestamp   \n",
       "0  B00YQ6X8EO  AGKHLEW2SOWHNMFQIJGBECAF7INQ  2020-05-05 14:08:48.923  \\\n",
       "1  B081TJ8YS3  AGKHLEW2SOWHNMFQIJGBECAF7INQ  2020-05-04 18:10:55.070   \n",
       "2  B097R46CSY  AE74DYR3QUGVPZJ3P7RFWBGIX7XQ  2020-05-16 21:41:06.052   \n",
       "3  B09JS339BZ  AFQLNQNQYFWQZPJQZS6V3NZU4QBQ  2022-01-28 18:13:50.220   \n",
       "4  B08BZ63GMJ  AFQLNQNQYFWQZPJQZS6V3NZU4QBQ  2020-12-30 10:02:43.534   \n",
       "\n",
       "   helpful_review_vote  user_purchase_verification  year   \n",
       "0                    0                           1  2020  \\\n",
       "1                    1                           1  2020   \n",
       "2                    2                           1  2020   \n",
       "3                    0                           1  2022   \n",
       "4                    0                           1  2020   \n",
       "\n",
       "                                        cleaned_text  \n",
       "0  this spray is really nice it smells really goo...  \n",
       "1  this product does what i need it to do i just ...  \n",
       "2                            smells good feels great  \n",
       "3                                     felt synthetic  \n",
       "4                                            love it  "
      ]
     },
     "execution_count": 48,
     "metadata": {},
     "output_type": "execute_result"
    }
   ],
   "source": [
    "df_user.head(5)"
   ]
  },
  {
   "cell_type": "code",
   "execution_count": 50,
   "metadata": {},
   "outputs": [
    {
     "data": {
      "text/plain": [
       "(692383, 12)"
      ]
     },
     "execution_count": 50,
     "metadata": {},
     "output_type": "execute_result"
    }
   ],
   "source": [
    "df_user.dropna(inplace=True)\n",
    "df_user.shape"
   ]
  },
  {
   "cell_type": "code",
   "execution_count": 51,
   "metadata": {},
   "outputs": [
    {
     "data": {
      "text/plain": [
       "rating                        0\n",
       "review_title                  0\n",
       "text_review                   0\n",
       "user_images                   0\n",
       "product_ID                    0\n",
       "parent_ID                     0\n",
       "user_ID                       0\n",
       "timestamp                     0\n",
       "helpful_review_vote           0\n",
       "user_purchase_verification    0\n",
       "year                          0\n",
       "cleaned_text                  0\n",
       "dtype: int64"
      ]
     },
     "execution_count": 51,
     "metadata": {},
     "output_type": "execute_result"
    }
   ],
   "source": [
    "df_user.isnull().sum()"
   ]
  },
  {
   "cell_type": "code",
   "execution_count": 52,
   "metadata": {},
   "outputs": [
    {
     "name": "stdout",
     "output_type": "stream",
     "text": [
      "Max text length (characters): 14084\n",
      "Average text length (characters): 166.36590875281456\n"
     ]
    }
   ],
   "source": [
    "df_user['text_length'] = df_user['cleaned_text'].apply(len)  # Create a new column with text lengths\n",
    "\n",
    "# Find the max and average text length\n",
    "max_length = df_user['text_length'].max()\n",
    "average_length = df_user['text_length'].mean()\n",
    "\n",
    "print(f'Max text length (characters): {max_length}')\n",
    "print(f'Average text length (characters): {average_length}')"
   ]
  },
  {
   "cell_type": "markdown",
   "metadata": {},
   "source": [
    "Split the dataset"
   ]
  },
  {
   "cell_type": "code",
   "execution_count": 53,
   "metadata": {},
   "outputs": [],
   "source": [
    "train_data, test_data = train_test_split(df_user, test_size=0.2, random_state=42)"
   ]
  },
  {
   "cell_type": "code",
   "execution_count": 54,
   "metadata": {},
   "outputs": [
    {
     "name": "stdout",
     "output_type": "stream",
     "text": [
      "(553906, 13)\n",
      "(138477, 13)\n"
     ]
    }
   ],
   "source": [
    "print(train_data.shape)\n",
    "print(test_data.shape)"
   ]
  },
  {
   "cell_type": "markdown",
   "metadata": {},
   "source": [
    "Create the embeddings for the first 50 000 rows of the training dataset:"
   ]
  },
  {
   "cell_type": "code",
   "execution_count": 55,
   "metadata": {},
   "outputs": [],
   "source": [
    "train_subset_data_01 = train_data[:50000].copy()"
   ]
  },
  {
   "cell_type": "markdown",
   "metadata": {},
   "source": [
    "### Embeddings with BERT"
   ]
  },
  {
   "cell_type": "markdown",
   "metadata": {},
   "source": [
    "* BertTokenizer:\n",
    "This is a tokenizer class from the transformers library provided by Hugging Face. It converts raw text into token IDs that a BERT model can process.\n",
    "BERT base uncased:\n",
    "\"Base\": Refers to the smaller version of BERT with 12 layers, 768 hidden units, and 110 million parameters."
   ]
  },
  {
   "cell_type": "code",
   "execution_count": 56,
   "metadata": {},
   "outputs": [
    {
     "name": "stderr",
     "output_type": "stream",
     "text": [
      "c:\\Users\\Marcelina\\Documents\\neuefische\\github\\Capstone-Project-Recommender-System\\.venv\\Lib\\site-packages\\huggingface_hub\\file_download.py:797: FutureWarning: `resume_download` is deprecated and will be removed in version 1.0.0. Downloads always resume when possible. If you want to force a new download, use `force_download=True`.\n",
      "  warnings.warn(\n"
     ]
    }
   ],
   "source": [
    "# Check if a CUDA-compatible GPU is available on your system. \"cuda:0\" refers to the first GPU on the system (if there are multiple GPUs). If no GPU is available, device defaults to \"cpu\".\n",
    "device = torch.device(\"cuda:0\" if torch.cuda.is_available() else \"cpu\")\n",
    "\n",
    "# Load the tokenizer and model\n",
    "tokenizer = BertTokenizer.from_pretrained('bert-base-uncased')\n",
    "model = BertModel.from_pretrained('bert-base-uncased')"
   ]
  },
  {
   "cell_type": "code",
   "execution_count": 57,
   "metadata": {},
   "outputs": [
    {
     "data": {
      "text/plain": [
       "BertModel(\n",
       "  (embeddings): BertEmbeddings(\n",
       "    (word_embeddings): Embedding(30522, 768, padding_idx=0)\n",
       "    (position_embeddings): Embedding(512, 768)\n",
       "    (token_type_embeddings): Embedding(2, 768)\n",
       "    (LayerNorm): LayerNorm((768,), eps=1e-12, elementwise_affine=True)\n",
       "    (dropout): Dropout(p=0.1, inplace=False)\n",
       "  )\n",
       "  (encoder): BertEncoder(\n",
       "    (layer): ModuleList(\n",
       "      (0-11): 12 x BertLayer(\n",
       "        (attention): BertAttention(\n",
       "          (self): BertSelfAttention(\n",
       "            (query): Linear(in_features=768, out_features=768, bias=True)\n",
       "            (key): Linear(in_features=768, out_features=768, bias=True)\n",
       "            (value): Linear(in_features=768, out_features=768, bias=True)\n",
       "            (dropout): Dropout(p=0.1, inplace=False)\n",
       "          )\n",
       "          (output): BertSelfOutput(\n",
       "            (dense): Linear(in_features=768, out_features=768, bias=True)\n",
       "            (LayerNorm): LayerNorm((768,), eps=1e-12, elementwise_affine=True)\n",
       "            (dropout): Dropout(p=0.1, inplace=False)\n",
       "          )\n",
       "        )\n",
       "        (intermediate): BertIntermediate(\n",
       "          (dense): Linear(in_features=768, out_features=3072, bias=True)\n",
       "          (intermediate_act_fn): GELUActivation()\n",
       "        )\n",
       "        (output): BertOutput(\n",
       "          (dense): Linear(in_features=3072, out_features=768, bias=True)\n",
       "          (LayerNorm): LayerNorm((768,), eps=1e-12, elementwise_affine=True)\n",
       "          (dropout): Dropout(p=0.1, inplace=False)\n",
       "        )\n",
       "      )\n",
       "    )\n",
       "  )\n",
       "  (pooler): BertPooler(\n",
       "    (dense): Linear(in_features=768, out_features=768, bias=True)\n",
       "    (activation): Tanh()\n",
       "  )\n",
       ")"
      ]
     },
     "execution_count": 57,
     "metadata": {},
     "output_type": "execute_result"
    }
   ],
   "source": [
    "# Move the model to the GPU\n",
    "model.to(device)"
   ]
  },
  {
   "cell_type": "code",
   "execution_count": 58,
   "metadata": {},
   "outputs": [],
   "source": [
    "# Function to get BERT embeddings\n",
    "def get_bert_embeddings(text):\n",
    "    # Tokenize input text\n",
    "    inputs = tokenizer(text, return_tensors='pt', truncation=True, padding=True, max_length=512) # for now I'm gonna keep 512 (so it is max that BERT can take, because some sentences are very long)\n",
    "    \n",
    "    # Move input tensors to the same device as the model (GPU or CPU)\n",
    "    inputs = {key: value.to(device) for key, value in inputs.items()}\n",
    "    \n",
    "    # Forward pass through the model\n",
    "    outputs = model(**inputs)\n",
    "    \n",
    "    # Get the embeddings (mean of the last hidden state)\n",
    "    return outputs.last_hidden_state.mean(dim=1).squeeze().detach().cpu().numpy()  # Move the result back to CPU if needed"
   ]
  },
  {
   "cell_type": "code",
   "execution_count": 59,
   "metadata": {},
   "outputs": [
    {
     "name": "stdout",
     "output_type": "stream",
     "text": [
      "True\n"
     ]
    }
   ],
   "source": [
    "print(torch.cuda.is_available())"
   ]
  },
  {
   "cell_type": "markdown",
   "metadata": {},
   "source": [
    "### Creating embeddings with BERT - run for the selected data "
   ]
  },
  {
   "cell_type": "markdown",
   "metadata": {},
   "source": [
    "* Generating embeddings for the user's review with BERT,\n",
    "* From each cell with review text data, a vector of 768 dimensions will be generated and stored in a cell, in a column called 'embeddings',\n",
    "* Generated embeddings will be transformed from the lists of dimenstions into separated columns (one column per dimension) - therefore 768 columns will be created."
   ]
  },
  {
   "cell_type": "code",
   "execution_count": 60,
   "metadata": {},
   "outputs": [],
   "source": [
    "train_subset_data_01['embeddings'] = train_subset_data_01['cleaned_text'].apply(get_bert_embeddings)\n",
    "\n",
    "# test_data['embeddings'] = test_data['cleaned_text'].apply(get_bert_embeddings)"
   ]
  },
  {
   "cell_type": "code",
   "execution_count": 61,
   "metadata": {},
   "outputs": [
    {
     "data": {
      "text/html": [
       "<div>\n",
       "<style scoped>\n",
       "    .dataframe tbody tr th:only-of-type {\n",
       "        vertical-align: middle;\n",
       "    }\n",
       "\n",
       "    .dataframe tbody tr th {\n",
       "        vertical-align: top;\n",
       "    }\n",
       "\n",
       "    .dataframe thead th {\n",
       "        text-align: right;\n",
       "    }\n",
       "</style>\n",
       "<table border=\"1\" class=\"dataframe\">\n",
       "  <thead>\n",
       "    <tr style=\"text-align: right;\">\n",
       "      <th></th>\n",
       "      <th>rating</th>\n",
       "      <th>review_title</th>\n",
       "      <th>text_review</th>\n",
       "      <th>user_images</th>\n",
       "      <th>product_ID</th>\n",
       "      <th>parent_ID</th>\n",
       "      <th>user_ID</th>\n",
       "      <th>timestamp</th>\n",
       "      <th>helpful_review_vote</th>\n",
       "      <th>user_purchase_verification</th>\n",
       "      <th>year</th>\n",
       "      <th>cleaned_text</th>\n",
       "      <th>text_length</th>\n",
       "      <th>embeddings</th>\n",
       "    </tr>\n",
       "  </thead>\n",
       "  <tbody>\n",
       "    <tr>\n",
       "      <th>308320</th>\n",
       "      <td>3</td>\n",
       "      <td>Looks great but not practical for me</td>\n",
       "      <td>[[VIDEOID:c9f78d09ec648d2bdc92f5ad9698e698]] T...</td>\n",
       "      <td>[{'small_image_url': 'https://m.media-amazon.c...</td>\n",
       "      <td>B09JNRPRKT</td>\n",
       "      <td>B09JNRPRKT</td>\n",
       "      <td>AFOKWZIJI7K6Z6R4T7SSXRTWZNOQ</td>\n",
       "      <td>2022-02-22 19:21:19.256</td>\n",
       "      <td>0</td>\n",
       "      <td>0</td>\n",
       "      <td>2022</td>\n",
       "      <td>videoidcfdecdbdcfade the look of this is very ...</td>\n",
       "      <td>751</td>\n",
       "      <td>[-0.33231324, 0.0543172, 0.4494611, 0.07581194...</td>\n",
       "    </tr>\n",
       "    <tr>\n",
       "      <th>41091</th>\n",
       "      <td>4</td>\n",
       "      <td>This stuff is pretty interesting. I'm enjoying...</td>\n",
       "      <td>This stuff is pretty interesting. I'm enjoying...</td>\n",
       "      <td>[]</td>\n",
       "      <td>B0006O028U</td>\n",
       "      <td>B0006O028U</td>\n",
       "      <td>AHQXHCQIGUBPQNJLQZNLBV7ESFPA</td>\n",
       "      <td>2015-01-04 00:21:08.000</td>\n",
       "      <td>1</td>\n",
       "      <td>1</td>\n",
       "      <td>2015</td>\n",
       "      <td>this stuff is pretty interesting im enjoying t...</td>\n",
       "      <td>109</td>\n",
       "      <td>[0.049274728, 0.12549251, 0.12806682, 0.248745...</td>\n",
       "    </tr>\n",
       "  </tbody>\n",
       "</table>\n",
       "</div>"
      ],
      "text/plain": [
       "        rating                                       review_title   \n",
       "308320       3               Looks great but not practical for me  \\\n",
       "41091        4  This stuff is pretty interesting. I'm enjoying...   \n",
       "\n",
       "                                              text_review   \n",
       "308320  [[VIDEOID:c9f78d09ec648d2bdc92f5ad9698e698]] T...  \\\n",
       "41091   This stuff is pretty interesting. I'm enjoying...   \n",
       "\n",
       "                                              user_images  product_ID   \n",
       "308320  [{'small_image_url': 'https://m.media-amazon.c...  B09JNRPRKT  \\\n",
       "41091                                                  []  B0006O028U   \n",
       "\n",
       "         parent_ID                       user_ID                timestamp   \n",
       "308320  B09JNRPRKT  AFOKWZIJI7K6Z6R4T7SSXRTWZNOQ  2022-02-22 19:21:19.256  \\\n",
       "41091   B0006O028U  AHQXHCQIGUBPQNJLQZNLBV7ESFPA  2015-01-04 00:21:08.000   \n",
       "\n",
       "        helpful_review_vote  user_purchase_verification  year   \n",
       "308320                    0                           0  2022  \\\n",
       "41091                     1                           1  2015   \n",
       "\n",
       "                                             cleaned_text  text_length   \n",
       "308320  videoidcfdecdbdcfade the look of this is very ...          751  \\\n",
       "41091   this stuff is pretty interesting im enjoying t...          109   \n",
       "\n",
       "                                               embeddings  \n",
       "308320  [-0.33231324, 0.0543172, 0.4494611, 0.07581194...  \n",
       "41091   [0.049274728, 0.12549251, 0.12806682, 0.248745...  "
      ]
     },
     "execution_count": 61,
     "metadata": {},
     "output_type": "execute_result"
    }
   ],
   "source": [
    "# Verify if the column with 'embeddings' was created:\n",
    "train_subset_data_01.head(2)"
   ]
  },
  {
   "cell_type": "code",
   "execution_count": 62,
   "metadata": {},
   "outputs": [],
   "source": [
    "# From the lists of embeddings generate an array:\n",
    "train_subset_data_stack = np.stack(train_subset_data_01['embeddings'].values)"
   ]
  },
  {
   "cell_type": "code",
   "execution_count": 63,
   "metadata": {},
   "outputs": [
    {
     "data": {
      "text/plain": [
       "array([[-0.33231324,  0.0543172 ,  0.4494611 , ..., -0.21085577,\n",
       "         0.05723506,  0.13091712],\n",
       "       [ 0.04927473,  0.12549251,  0.12806682, ..., -0.23682863,\n",
       "        -0.08841495, -0.03180593],\n",
       "       [-0.100202  ,  0.00652486,  0.3701543 , ..., -0.37329656,\n",
       "        -0.02400355,  0.27764842],\n",
       "       ...,\n",
       "       [ 0.10768944, -0.30886057,  0.5483214 , ..., -0.4442686 ,\n",
       "         0.0786995 , -0.23316805],\n",
       "       [-0.05036072, -0.18728136,  0.4251778 , ..., -0.37866172,\n",
       "        -0.20116793,  0.00801033],\n",
       "       [ 0.23054314,  0.20489387,  0.37537226, ..., -0.38489497,\n",
       "        -0.10621028, -0.05856288]], dtype=float32)"
      ]
     },
     "execution_count": 63,
     "metadata": {},
     "output_type": "execute_result"
    }
   ],
   "source": [
    "train_subset_data_stack"
   ]
  },
  {
   "cell_type": "code",
   "execution_count": 64,
   "metadata": {},
   "outputs": [],
   "source": [
    "# Restrict to the first 50,000 rows:\n",
    "train_data_50000 = train_data.iloc[:50000].copy()"
   ]
  },
  {
   "cell_type": "code",
   "execution_count": 65,
   "metadata": {},
   "outputs": [],
   "source": [
    "# Create column names for embedding dimensions:\n",
    "num_dimensions = train_subset_data_stack.shape[1]\n",
    "embedding_columns_names = [f'dim_{i}' for i in range(num_dimensions)]"
   ]
  },
  {
   "cell_type": "code",
   "execution_count": 66,
   "metadata": {},
   "outputs": [],
   "source": [
    "# Create the DataFrame of embeddings where each column contain one dimension of vector:\n",
    "embedding_df = pd.DataFrame(train_subset_data_stack, columns=embedding_columns_names)"
   ]
  },
  {
   "cell_type": "code",
   "execution_count": 67,
   "metadata": {},
   "outputs": [],
   "source": [
    "# Add generated embeddings to our original user data frame (the dataframe has only X number of rows, due to the splitting the original dataset):\n",
    "df_user_embedding_01 = pd.concat([train_data_50000.reset_index(drop=True), embedding_df], axis=1)"
   ]
  },
  {
   "cell_type": "code",
   "execution_count": 68,
   "metadata": {},
   "outputs": [
    {
     "data": {
      "text/plain": [
       "(50000, 781)"
      ]
     },
     "execution_count": 68,
     "metadata": {},
     "output_type": "execute_result"
    }
   ],
   "source": [
    "df_user_embedding_01.shape"
   ]
  },
  {
   "cell_type": "code",
   "execution_count": 69,
   "metadata": {},
   "outputs": [
    {
     "data": {
      "text/html": [
       "<div>\n",
       "<style scoped>\n",
       "    .dataframe tbody tr th:only-of-type {\n",
       "        vertical-align: middle;\n",
       "    }\n",
       "\n",
       "    .dataframe tbody tr th {\n",
       "        vertical-align: top;\n",
       "    }\n",
       "\n",
       "    .dataframe thead th {\n",
       "        text-align: right;\n",
       "    }\n",
       "</style>\n",
       "<table border=\"1\" class=\"dataframe\">\n",
       "  <thead>\n",
       "    <tr style=\"text-align: right;\">\n",
       "      <th></th>\n",
       "      <th>rating</th>\n",
       "      <th>review_title</th>\n",
       "      <th>text_review</th>\n",
       "      <th>user_images</th>\n",
       "      <th>product_ID</th>\n",
       "      <th>parent_ID</th>\n",
       "      <th>user_ID</th>\n",
       "      <th>timestamp</th>\n",
       "      <th>helpful_review_vote</th>\n",
       "      <th>user_purchase_verification</th>\n",
       "      <th>...</th>\n",
       "      <th>dim_758</th>\n",
       "      <th>dim_759</th>\n",
       "      <th>dim_760</th>\n",
       "      <th>dim_761</th>\n",
       "      <th>dim_762</th>\n",
       "      <th>dim_763</th>\n",
       "      <th>dim_764</th>\n",
       "      <th>dim_765</th>\n",
       "      <th>dim_766</th>\n",
       "      <th>dim_767</th>\n",
       "    </tr>\n",
       "  </thead>\n",
       "  <tbody>\n",
       "    <tr>\n",
       "      <th>0</th>\n",
       "      <td>3</td>\n",
       "      <td>Looks great but not practical for me</td>\n",
       "      <td>[[VIDEOID:c9f78d09ec648d2bdc92f5ad9698e698]] T...</td>\n",
       "      <td>[{'small_image_url': 'https://m.media-amazon.c...</td>\n",
       "      <td>B09JNRPRKT</td>\n",
       "      <td>B09JNRPRKT</td>\n",
       "      <td>AFOKWZIJI7K6Z6R4T7SSXRTWZNOQ</td>\n",
       "      <td>2022-02-22 19:21:19.256</td>\n",
       "      <td>0</td>\n",
       "      <td>0</td>\n",
       "      <td>...</td>\n",
       "      <td>-0.067687</td>\n",
       "      <td>-0.20555</td>\n",
       "      <td>0.072889</td>\n",
       "      <td>-0.180823</td>\n",
       "      <td>0.028919</td>\n",
       "      <td>0.010474</td>\n",
       "      <td>-0.138984</td>\n",
       "      <td>-0.210856</td>\n",
       "      <td>0.057235</td>\n",
       "      <td>0.130917</td>\n",
       "    </tr>\n",
       "    <tr>\n",
       "      <th>1</th>\n",
       "      <td>4</td>\n",
       "      <td>This stuff is pretty interesting. I'm enjoying...</td>\n",
       "      <td>This stuff is pretty interesting. I'm enjoying...</td>\n",
       "      <td>[]</td>\n",
       "      <td>B0006O028U</td>\n",
       "      <td>B0006O028U</td>\n",
       "      <td>AHQXHCQIGUBPQNJLQZNLBV7ESFPA</td>\n",
       "      <td>2015-01-04 00:21:08.000</td>\n",
       "      <td>1</td>\n",
       "      <td>1</td>\n",
       "      <td>...</td>\n",
       "      <td>-0.303478</td>\n",
       "      <td>0.09138</td>\n",
       "      <td>0.122427</td>\n",
       "      <td>-0.186410</td>\n",
       "      <td>-0.027961</td>\n",
       "      <td>-0.255280</td>\n",
       "      <td>0.025104</td>\n",
       "      <td>-0.236829</td>\n",
       "      <td>-0.088415</td>\n",
       "      <td>-0.031806</td>\n",
       "    </tr>\n",
       "  </tbody>\n",
       "</table>\n",
       "<p>2 rows × 781 columns</p>\n",
       "</div>"
      ],
      "text/plain": [
       "   rating                                       review_title   \n",
       "0       3               Looks great but not practical for me  \\\n",
       "1       4  This stuff is pretty interesting. I'm enjoying...   \n",
       "\n",
       "                                         text_review   \n",
       "0  [[VIDEOID:c9f78d09ec648d2bdc92f5ad9698e698]] T...  \\\n",
       "1  This stuff is pretty interesting. I'm enjoying...   \n",
       "\n",
       "                                         user_images  product_ID   parent_ID   \n",
       "0  [{'small_image_url': 'https://m.media-amazon.c...  B09JNRPRKT  B09JNRPRKT  \\\n",
       "1                                                 []  B0006O028U  B0006O028U   \n",
       "\n",
       "                        user_ID                timestamp  helpful_review_vote   \n",
       "0  AFOKWZIJI7K6Z6R4T7SSXRTWZNOQ  2022-02-22 19:21:19.256                    0  \\\n",
       "1  AHQXHCQIGUBPQNJLQZNLBV7ESFPA  2015-01-04 00:21:08.000                    1   \n",
       "\n",
       "   user_purchase_verification  ...   dim_758  dim_759   dim_760   dim_761   \n",
       "0                           0  ... -0.067687 -0.20555  0.072889 -0.180823  \\\n",
       "1                           1  ... -0.303478  0.09138  0.122427 -0.186410   \n",
       "\n",
       "    dim_762   dim_763   dim_764   dim_765   dim_766   dim_767  \n",
       "0  0.028919  0.010474 -0.138984 -0.210856  0.057235  0.130917  \n",
       "1 -0.027961 -0.255280  0.025104 -0.236829 -0.088415 -0.031806  \n",
       "\n",
       "[2 rows x 781 columns]"
      ]
     },
     "execution_count": 69,
     "metadata": {},
     "output_type": "execute_result"
    }
   ],
   "source": [
    "df_user_embedding_01.head(2)"
   ]
  },
  {
   "cell_type": "code",
   "execution_count": 70,
   "metadata": {},
   "outputs": [],
   "source": [
    "# Save the original data frame with generated embeddings:\n",
    "df_user_embedding_01.to_csv(r'.\\..\\data\\embeddings_output\\df_user_embedding_fullsize_01.csv', index=False)"
   ]
  },
  {
   "cell_type": "markdown",
   "metadata": {},
   "source": [
    "## Next steps - dimentionality reduction with PCA"
   ]
  },
  {
   "cell_type": "markdown",
   "metadata": {},
   "source": [
    "* Similar steps but here the output is a final user dataframe with vectors of 300 dimensions (In the beginning I have chosen 10 only because that's what they have done in the artile but the variance dropped to 45%, so I set up for now 300 which gives ~95%.) We can always adjust it"
   ]
  },
  {
   "cell_type": "code",
   "execution_count": 23,
   "metadata": {},
   "outputs": [],
   "source": [
    "# load the data - if not run just now:\n",
    "\n",
    "# train_subset_data_ = pd.read_csv(r'.\\..\\data\\embeddings_output\\train_subset_embeddings_02.csv') #converters={\"embeddings\": str})"
   ]
  },
  {
   "cell_type": "code",
   "execution_count": 72,
   "metadata": {},
   "outputs": [
    {
     "data": {
      "text/html": [
       "<div>\n",
       "<style scoped>\n",
       "    .dataframe tbody tr th:only-of-type {\n",
       "        vertical-align: middle;\n",
       "    }\n",
       "\n",
       "    .dataframe tbody tr th {\n",
       "        vertical-align: top;\n",
       "    }\n",
       "\n",
       "    .dataframe thead th {\n",
       "        text-align: right;\n",
       "    }\n",
       "</style>\n",
       "<table border=\"1\" class=\"dataframe\">\n",
       "  <thead>\n",
       "    <tr style=\"text-align: right;\">\n",
       "      <th></th>\n",
       "      <th>rating</th>\n",
       "      <th>review_title</th>\n",
       "      <th>text_review</th>\n",
       "      <th>user_images</th>\n",
       "      <th>product_ID</th>\n",
       "      <th>parent_ID</th>\n",
       "      <th>user_ID</th>\n",
       "      <th>timestamp</th>\n",
       "      <th>helpful_review_vote</th>\n",
       "      <th>user_purchase_verification</th>\n",
       "      <th>year</th>\n",
       "      <th>cleaned_text</th>\n",
       "      <th>text_length</th>\n",
       "      <th>embeddings</th>\n",
       "    </tr>\n",
       "  </thead>\n",
       "  <tbody>\n",
       "    <tr>\n",
       "      <th>308320</th>\n",
       "      <td>3</td>\n",
       "      <td>Looks great but not practical for me</td>\n",
       "      <td>[[VIDEOID:c9f78d09ec648d2bdc92f5ad9698e698]] T...</td>\n",
       "      <td>[{'small_image_url': 'https://m.media-amazon.c...</td>\n",
       "      <td>B09JNRPRKT</td>\n",
       "      <td>B09JNRPRKT</td>\n",
       "      <td>AFOKWZIJI7K6Z6R4T7SSXRTWZNOQ</td>\n",
       "      <td>2022-02-22 19:21:19.256</td>\n",
       "      <td>0</td>\n",
       "      <td>0</td>\n",
       "      <td>2022</td>\n",
       "      <td>videoidcfdecdbdcfade the look of this is very ...</td>\n",
       "      <td>751</td>\n",
       "      <td>[-0.33231324, 0.0543172, 0.4494611, 0.07581194...</td>\n",
       "    </tr>\n",
       "    <tr>\n",
       "      <th>41091</th>\n",
       "      <td>4</td>\n",
       "      <td>This stuff is pretty interesting. I'm enjoying...</td>\n",
       "      <td>This stuff is pretty interesting. I'm enjoying...</td>\n",
       "      <td>[]</td>\n",
       "      <td>B0006O028U</td>\n",
       "      <td>B0006O028U</td>\n",
       "      <td>AHQXHCQIGUBPQNJLQZNLBV7ESFPA</td>\n",
       "      <td>2015-01-04 00:21:08.000</td>\n",
       "      <td>1</td>\n",
       "      <td>1</td>\n",
       "      <td>2015</td>\n",
       "      <td>this stuff is pretty interesting im enjoying t...</td>\n",
       "      <td>109</td>\n",
       "      <td>[0.049274728, 0.12549251, 0.12806682, 0.248745...</td>\n",
       "    </tr>\n",
       "  </tbody>\n",
       "</table>\n",
       "</div>"
      ],
      "text/plain": [
       "        rating                                       review_title   \n",
       "308320       3               Looks great but not practical for me  \\\n",
       "41091        4  This stuff is pretty interesting. I'm enjoying...   \n",
       "\n",
       "                                              text_review   \n",
       "308320  [[VIDEOID:c9f78d09ec648d2bdc92f5ad9698e698]] T...  \\\n",
       "41091   This stuff is pretty interesting. I'm enjoying...   \n",
       "\n",
       "                                              user_images  product_ID   \n",
       "308320  [{'small_image_url': 'https://m.media-amazon.c...  B09JNRPRKT  \\\n",
       "41091                                                  []  B0006O028U   \n",
       "\n",
       "         parent_ID                       user_ID                timestamp   \n",
       "308320  B09JNRPRKT  AFOKWZIJI7K6Z6R4T7SSXRTWZNOQ  2022-02-22 19:21:19.256  \\\n",
       "41091   B0006O028U  AHQXHCQIGUBPQNJLQZNLBV7ESFPA  2015-01-04 00:21:08.000   \n",
       "\n",
       "        helpful_review_vote  user_purchase_verification  year   \n",
       "308320                    0                           0  2022  \\\n",
       "41091                     1                           1  2015   \n",
       "\n",
       "                                             cleaned_text  text_length   \n",
       "308320  videoidcfdecdbdcfade the look of this is very ...          751  \\\n",
       "41091   this stuff is pretty interesting im enjoying t...          109   \n",
       "\n",
       "                                               embeddings  \n",
       "308320  [-0.33231324, 0.0543172, 0.4494611, 0.07581194...  \n",
       "41091   [0.049274728, 0.12549251, 0.12806682, 0.248745...  "
      ]
     },
     "execution_count": 72,
     "metadata": {},
     "output_type": "execute_result"
    }
   ],
   "source": [
    "train_subset_data_01.head(2)"
   ]
  },
  {
   "cell_type": "code",
   "execution_count": 73,
   "metadata": {},
   "outputs": [],
   "source": [
    "# pca = PCA(n_components=10) # I have tried with 10 as they speficied in the article but the variance dropped significantly to 45%. \n",
    "pca = PCA(n_components=300)\n",
    "# train_subset_data = np.stack(train_subset_data_01['embeddings'].values)"
   ]
  },
  {
   "cell_type": "code",
   "execution_count": 74,
   "metadata": {},
   "outputs": [
    {
     "data": {
      "text/plain": [
       "array([[-0.33231324,  0.0543172 ,  0.4494611 , ..., -0.21085577,\n",
       "         0.05723506,  0.13091712],\n",
       "       [ 0.04927473,  0.12549251,  0.12806682, ..., -0.23682863,\n",
       "        -0.08841495, -0.03180593],\n",
       "       [-0.100202  ,  0.00652486,  0.3701543 , ..., -0.37329656,\n",
       "        -0.02400355,  0.27764842],\n",
       "       ...,\n",
       "       [ 0.10768944, -0.30886057,  0.5483214 , ..., -0.4442686 ,\n",
       "         0.0786995 , -0.23316805],\n",
       "       [-0.05036072, -0.18728136,  0.4251778 , ..., -0.37866172,\n",
       "        -0.20116793,  0.00801033],\n",
       "       [ 0.23054314,  0.20489387,  0.37537226, ..., -0.38489497,\n",
       "        -0.10621028, -0.05856288]], dtype=float32)"
      ]
     },
     "execution_count": 74,
     "metadata": {},
     "output_type": "execute_result"
    }
   ],
   "source": [
    "train_subset_data_stack"
   ]
  },
  {
   "cell_type": "code",
   "execution_count": 75,
   "metadata": {},
   "outputs": [],
   "source": [
    "train_pca_subset = pca.fit_transform(train_subset_data_stack)\n",
    "# test_pca = pca.transform(test_embeddings)"
   ]
  },
  {
   "cell_type": "code",
   "execution_count": 76,
   "metadata": {},
   "outputs": [
    {
     "name": "stdout",
     "output_type": "stream",
     "text": [
      "(50000, 300)\n"
     ]
    }
   ],
   "source": [
    "print(train_pca_subset.shape)"
   ]
  },
  {
   "cell_type": "code",
   "execution_count": 77,
   "metadata": {},
   "outputs": [
    {
     "data": {
      "text/plain": [
       "array([[-2.2205727 ,  0.8206018 , -1.1507324 , ..., -0.01921606,\n",
       "        -0.05422936,  0.02481445],\n",
       "       [-0.85250354,  0.78876585,  0.3090128 , ..., -0.08624018,\n",
       "         0.07009531, -0.09616351],\n",
       "       [-0.02784091,  0.02324333, -2.0407574 , ...,  0.02132656,\n",
       "        -0.06447431, -0.0215942 ],\n",
       "       ...,\n",
       "       [-1.5288411 , -0.0258608 , -0.570478  , ..., -0.07366744,\n",
       "        -0.14109671,  0.07452551],\n",
       "       [-1.1219059 , -0.31601486, -1.5046704 , ...,  0.0679103 ,\n",
       "         0.05569949,  0.0265916 ],\n",
       "       [ 0.43417406, -0.77137023,  0.14073612, ..., -0.15397538,\n",
       "         0.01573911, -0.05586669]], dtype=float32)"
      ]
     },
     "execution_count": 77,
     "metadata": {},
     "output_type": "execute_result"
    }
   ],
   "source": [
    "train_pca_subset"
   ]
  },
  {
   "cell_type": "markdown",
   "metadata": {},
   "source": [
    "Create a dataframe with UserID and embedding dimensions columns:"
   ]
  },
  {
   "cell_type": "code",
   "execution_count": 78,
   "metadata": {},
   "outputs": [],
   "source": [
    "# Create column names for embedding dimensions\n",
    "num_dimensions = train_pca_subset.shape[1]\n",
    "embedding_columns_PCA = [f'dim_{i}' for i in range(num_dimensions)]"
   ]
  },
  {
   "cell_type": "code",
   "execution_count": 79,
   "metadata": {},
   "outputs": [],
   "source": [
    "embedding_df_PCA = pd.DataFrame(train_pca_subset, columns=embedding_columns_PCA)"
   ]
  },
  {
   "cell_type": "code",
   "execution_count": 80,
   "metadata": {},
   "outputs": [],
   "source": [
    "final_df_user_PCA = pd.concat([train_data_50000.reset_index(drop=True), embedding_df_PCA], axis=1)"
   ]
  },
  {
   "cell_type": "code",
   "execution_count": 81,
   "metadata": {},
   "outputs": [],
   "source": [
    "final_df_user_PCA.to_csv(r'.\\..\\data\\embeddings_dim_reduction\\df_final_user_PCA.csv', index=False)"
   ]
  },
  {
   "cell_type": "code",
   "execution_count": 96,
   "metadata": {},
   "outputs": [
    {
     "data": {
      "text/html": [
       "<div>\n",
       "<style scoped>\n",
       "    .dataframe tbody tr th:only-of-type {\n",
       "        vertical-align: middle;\n",
       "    }\n",
       "\n",
       "    .dataframe tbody tr th {\n",
       "        vertical-align: top;\n",
       "    }\n",
       "\n",
       "    .dataframe thead th {\n",
       "        text-align: right;\n",
       "    }\n",
       "</style>\n",
       "<table border=\"1\" class=\"dataframe\">\n",
       "  <thead>\n",
       "    <tr style=\"text-align: right;\">\n",
       "      <th></th>\n",
       "      <th>rating</th>\n",
       "      <th>review_title</th>\n",
       "      <th>text_review</th>\n",
       "      <th>user_images</th>\n",
       "      <th>product_ID</th>\n",
       "      <th>parent_ID</th>\n",
       "      <th>user_ID</th>\n",
       "      <th>timestamp</th>\n",
       "      <th>helpful_review_vote</th>\n",
       "      <th>user_purchase_verification</th>\n",
       "      <th>...</th>\n",
       "      <th>dim_290</th>\n",
       "      <th>dim_291</th>\n",
       "      <th>dim_292</th>\n",
       "      <th>dim_293</th>\n",
       "      <th>dim_294</th>\n",
       "      <th>dim_295</th>\n",
       "      <th>dim_296</th>\n",
       "      <th>dim_297</th>\n",
       "      <th>dim_298</th>\n",
       "      <th>dim_299</th>\n",
       "    </tr>\n",
       "  </thead>\n",
       "  <tbody>\n",
       "    <tr>\n",
       "      <th>0</th>\n",
       "      <td>3</td>\n",
       "      <td>Looks great but not practical for me</td>\n",
       "      <td>[[VIDEOID:c9f78d09ec648d2bdc92f5ad9698e698]] T...</td>\n",
       "      <td>[{'small_image_url': 'https://m.media-amazon.c...</td>\n",
       "      <td>B09JNRPRKT</td>\n",
       "      <td>B09JNRPRKT</td>\n",
       "      <td>AFOKWZIJI7K6Z6R4T7SSXRTWZNOQ</td>\n",
       "      <td>2022-02-22 19:21:19.256</td>\n",
       "      <td>0</td>\n",
       "      <td>0</td>\n",
       "      <td>...</td>\n",
       "      <td>0.023845</td>\n",
       "      <td>0.057696</td>\n",
       "      <td>0.002842</td>\n",
       "      <td>0.000553</td>\n",
       "      <td>-0.082094</td>\n",
       "      <td>0.000306</td>\n",
       "      <td>-0.032792</td>\n",
       "      <td>-0.019216</td>\n",
       "      <td>-0.054229</td>\n",
       "      <td>0.024814</td>\n",
       "    </tr>\n",
       "    <tr>\n",
       "      <th>1</th>\n",
       "      <td>4</td>\n",
       "      <td>This stuff is pretty interesting. I'm enjoying...</td>\n",
       "      <td>This stuff is pretty interesting. I'm enjoying...</td>\n",
       "      <td>[]</td>\n",
       "      <td>B0006O028U</td>\n",
       "      <td>B0006O028U</td>\n",
       "      <td>AHQXHCQIGUBPQNJLQZNLBV7ESFPA</td>\n",
       "      <td>2015-01-04 00:21:08.000</td>\n",
       "      <td>1</td>\n",
       "      <td>1</td>\n",
       "      <td>...</td>\n",
       "      <td>-0.094351</td>\n",
       "      <td>0.018936</td>\n",
       "      <td>-0.104710</td>\n",
       "      <td>-0.104361</td>\n",
       "      <td>0.007777</td>\n",
       "      <td>0.098594</td>\n",
       "      <td>-0.002512</td>\n",
       "      <td>-0.086240</td>\n",
       "      <td>0.070095</td>\n",
       "      <td>-0.096164</td>\n",
       "    </tr>\n",
       "    <tr>\n",
       "      <th>2</th>\n",
       "      <td>1</td>\n",
       "      <td>Every negative review here is true</td>\n",
       "      <td>Too big and strangely shaped. Can’t use for po...</td>\n",
       "      <td>[]</td>\n",
       "      <td>B08YJY6QXX</td>\n",
       "      <td>B08YJY6QXX</td>\n",
       "      <td>AGC3FCMCABBZEG5LLFG2AZSFGLQA</td>\n",
       "      <td>2022-02-21 18:05:21.190</td>\n",
       "      <td>2</td>\n",
       "      <td>1</td>\n",
       "      <td>...</td>\n",
       "      <td>0.050436</td>\n",
       "      <td>0.040444</td>\n",
       "      <td>-0.043215</td>\n",
       "      <td>0.171432</td>\n",
       "      <td>-0.053496</td>\n",
       "      <td>0.150505</td>\n",
       "      <td>-0.002388</td>\n",
       "      <td>0.021327</td>\n",
       "      <td>-0.064474</td>\n",
       "      <td>-0.021594</td>\n",
       "    </tr>\n",
       "    <tr>\n",
       "      <th>3</th>\n",
       "      <td>4</td>\n",
       "      <td>Simple</td>\n",
       "      <td>These are okay they give your lips a little ti...</td>\n",
       "      <td>[]</td>\n",
       "      <td>B09F74KLTZ</td>\n",
       "      <td>B09F74KLTZ</td>\n",
       "      <td>AFIV7RJS375WQLJNNF7OPBLGIHOQ</td>\n",
       "      <td>2021-10-04 17:17:35.117</td>\n",
       "      <td>0</td>\n",
       "      <td>0</td>\n",
       "      <td>...</td>\n",
       "      <td>0.022718</td>\n",
       "      <td>-0.027460</td>\n",
       "      <td>0.217338</td>\n",
       "      <td>-0.056780</td>\n",
       "      <td>0.092378</td>\n",
       "      <td>-0.008888</td>\n",
       "      <td>0.106759</td>\n",
       "      <td>-0.007923</td>\n",
       "      <td>0.006500</td>\n",
       "      <td>0.012411</td>\n",
       "    </tr>\n",
       "    <tr>\n",
       "      <th>4</th>\n",
       "      <td>4</td>\n",
       "      <td>Good Clip Ins</td>\n",
       "      <td>I used these clip ins on a recent 5-day trip a...</td>\n",
       "      <td>[]</td>\n",
       "      <td>B07FNPN49W</td>\n",
       "      <td>B07FNPN49W</td>\n",
       "      <td>AHNQJWY7VTX2GIHBKNGD7MS2XMUA</td>\n",
       "      <td>2018-09-06 17:50:02.665</td>\n",
       "      <td>0</td>\n",
       "      <td>1</td>\n",
       "      <td>...</td>\n",
       "      <td>0.080945</td>\n",
       "      <td>-0.065782</td>\n",
       "      <td>0.117690</td>\n",
       "      <td>0.131351</td>\n",
       "      <td>-0.188997</td>\n",
       "      <td>0.006255</td>\n",
       "      <td>0.102548</td>\n",
       "      <td>0.056575</td>\n",
       "      <td>-0.051365</td>\n",
       "      <td>0.026357</td>\n",
       "    </tr>\n",
       "  </tbody>\n",
       "</table>\n",
       "<p>5 rows × 313 columns</p>\n",
       "</div>"
      ],
      "text/plain": [
       "   rating                                       review_title   \n",
       "0       3               Looks great but not practical for me  \\\n",
       "1       4  This stuff is pretty interesting. I'm enjoying...   \n",
       "2       1                 Every negative review here is true   \n",
       "3       4                                             Simple   \n",
       "4       4                                      Good Clip Ins   \n",
       "\n",
       "                                         text_review   \n",
       "0  [[VIDEOID:c9f78d09ec648d2bdc92f5ad9698e698]] T...  \\\n",
       "1  This stuff is pretty interesting. I'm enjoying...   \n",
       "2  Too big and strangely shaped. Can’t use for po...   \n",
       "3  These are okay they give your lips a little ti...   \n",
       "4  I used these clip ins on a recent 5-day trip a...   \n",
       "\n",
       "                                         user_images  product_ID   parent_ID   \n",
       "0  [{'small_image_url': 'https://m.media-amazon.c...  B09JNRPRKT  B09JNRPRKT  \\\n",
       "1                                                 []  B0006O028U  B0006O028U   \n",
       "2                                                 []  B08YJY6QXX  B08YJY6QXX   \n",
       "3                                                 []  B09F74KLTZ  B09F74KLTZ   \n",
       "4                                                 []  B07FNPN49W  B07FNPN49W   \n",
       "\n",
       "                        user_ID                timestamp  helpful_review_vote   \n",
       "0  AFOKWZIJI7K6Z6R4T7SSXRTWZNOQ  2022-02-22 19:21:19.256                    0  \\\n",
       "1  AHQXHCQIGUBPQNJLQZNLBV7ESFPA  2015-01-04 00:21:08.000                    1   \n",
       "2  AGC3FCMCABBZEG5LLFG2AZSFGLQA  2022-02-21 18:05:21.190                    2   \n",
       "3  AFIV7RJS375WQLJNNF7OPBLGIHOQ  2021-10-04 17:17:35.117                    0   \n",
       "4  AHNQJWY7VTX2GIHBKNGD7MS2XMUA  2018-09-06 17:50:02.665                    0   \n",
       "\n",
       "   user_purchase_verification  ...   dim_290   dim_291   dim_292   dim_293   \n",
       "0                           0  ...  0.023845  0.057696  0.002842  0.000553  \\\n",
       "1                           1  ... -0.094351  0.018936 -0.104710 -0.104361   \n",
       "2                           1  ...  0.050436  0.040444 -0.043215  0.171432   \n",
       "3                           0  ...  0.022718 -0.027460  0.217338 -0.056780   \n",
       "4                           1  ...  0.080945 -0.065782  0.117690  0.131351   \n",
       "\n",
       "    dim_294   dim_295   dim_296   dim_297   dim_298   dim_299  \n",
       "0 -0.082094  0.000306 -0.032792 -0.019216 -0.054229  0.024814  \n",
       "1  0.007777  0.098594 -0.002512 -0.086240  0.070095 -0.096164  \n",
       "2 -0.053496  0.150505 -0.002388  0.021327 -0.064474 -0.021594  \n",
       "3  0.092378 -0.008888  0.106759 -0.007923  0.006500  0.012411  \n",
       "4 -0.188997  0.006255  0.102548  0.056575 -0.051365  0.026357  \n",
       "\n",
       "[5 rows x 313 columns]"
      ]
     },
     "execution_count": 96,
     "metadata": {},
     "output_type": "execute_result"
    }
   ],
   "source": [
    "final_df_user_PCA.head(5)"
   ]
  },
  {
   "cell_type": "code",
   "execution_count": 83,
   "metadata": {},
   "outputs": [],
   "source": [
    "similarity_matrix = cosine_similarity(train_pca_subset)"
   ]
  },
  {
   "cell_type": "code",
   "execution_count": 84,
   "metadata": {},
   "outputs": [
    {
     "data": {
      "text/plain": [
       "0.10673274"
      ]
     },
     "execution_count": 84,
     "metadata": {},
     "output_type": "execute_result"
    }
   ],
   "source": [
    "similarity_matrix[0][1]"
   ]
  },
  {
   "cell_type": "code",
   "execution_count": 87,
   "metadata": {},
   "outputs": [
    {
     "name": "stdout",
     "output_type": "stream",
     "text": [
      "Similarity: 0.30784366\n"
     ]
    }
   ],
   "source": [
    "similarity = cosine_similarity([train_pca_subset[12]], [train_pca_subset[10]])\n",
    "print(\"Similarity:\", similarity[0][0])"
   ]
  },
  {
   "cell_type": "markdown",
   "metadata": {},
   "source": [
    "## Variance analysis"
   ]
  },
  {
   "cell_type": "markdown",
   "metadata": {},
   "source": [
    "Original embeddings:"
   ]
  },
  {
   "cell_type": "code",
   "execution_count": 89,
   "metadata": {},
   "outputs": [
    {
     "data": {
      "text/html": [
       "<div>\n",
       "<style scoped>\n",
       "    .dataframe tbody tr th:only-of-type {\n",
       "        vertical-align: middle;\n",
       "    }\n",
       "\n",
       "    .dataframe tbody tr th {\n",
       "        vertical-align: top;\n",
       "    }\n",
       "\n",
       "    .dataframe thead th {\n",
       "        text-align: right;\n",
       "    }\n",
       "</style>\n",
       "<table border=\"1\" class=\"dataframe\">\n",
       "  <thead>\n",
       "    <tr style=\"text-align: right;\">\n",
       "      <th></th>\n",
       "      <th>rating</th>\n",
       "      <th>review_title</th>\n",
       "      <th>text_review</th>\n",
       "      <th>user_images</th>\n",
       "      <th>product_ID</th>\n",
       "      <th>parent_ID</th>\n",
       "      <th>user_ID</th>\n",
       "      <th>timestamp</th>\n",
       "      <th>helpful_review_vote</th>\n",
       "      <th>user_purchase_verification</th>\n",
       "      <th>...</th>\n",
       "      <th>dim_758</th>\n",
       "      <th>dim_759</th>\n",
       "      <th>dim_760</th>\n",
       "      <th>dim_761</th>\n",
       "      <th>dim_762</th>\n",
       "      <th>dim_763</th>\n",
       "      <th>dim_764</th>\n",
       "      <th>dim_765</th>\n",
       "      <th>dim_766</th>\n",
       "      <th>dim_767</th>\n",
       "    </tr>\n",
       "  </thead>\n",
       "  <tbody>\n",
       "    <tr>\n",
       "      <th>0</th>\n",
       "      <td>3</td>\n",
       "      <td>Looks great but not practical for me</td>\n",
       "      <td>[[VIDEOID:c9f78d09ec648d2bdc92f5ad9698e698]] T...</td>\n",
       "      <td>[{'small_image_url': 'https://m.media-amazon.c...</td>\n",
       "      <td>B09JNRPRKT</td>\n",
       "      <td>B09JNRPRKT</td>\n",
       "      <td>AFOKWZIJI7K6Z6R4T7SSXRTWZNOQ</td>\n",
       "      <td>2022-02-22 19:21:19.256</td>\n",
       "      <td>0</td>\n",
       "      <td>0</td>\n",
       "      <td>...</td>\n",
       "      <td>-0.067687</td>\n",
       "      <td>-0.20555</td>\n",
       "      <td>0.072889</td>\n",
       "      <td>-0.180823</td>\n",
       "      <td>0.028919</td>\n",
       "      <td>0.010474</td>\n",
       "      <td>-0.138984</td>\n",
       "      <td>-0.210856</td>\n",
       "      <td>0.057235</td>\n",
       "      <td>0.130917</td>\n",
       "    </tr>\n",
       "    <tr>\n",
       "      <th>1</th>\n",
       "      <td>4</td>\n",
       "      <td>This stuff is pretty interesting. I'm enjoying...</td>\n",
       "      <td>This stuff is pretty interesting. I'm enjoying...</td>\n",
       "      <td>[]</td>\n",
       "      <td>B0006O028U</td>\n",
       "      <td>B0006O028U</td>\n",
       "      <td>AHQXHCQIGUBPQNJLQZNLBV7ESFPA</td>\n",
       "      <td>2015-01-04 00:21:08.000</td>\n",
       "      <td>1</td>\n",
       "      <td>1</td>\n",
       "      <td>...</td>\n",
       "      <td>-0.303478</td>\n",
       "      <td>0.09138</td>\n",
       "      <td>0.122427</td>\n",
       "      <td>-0.186410</td>\n",
       "      <td>-0.027961</td>\n",
       "      <td>-0.255280</td>\n",
       "      <td>0.025104</td>\n",
       "      <td>-0.236829</td>\n",
       "      <td>-0.088415</td>\n",
       "      <td>-0.031806</td>\n",
       "    </tr>\n",
       "  </tbody>\n",
       "</table>\n",
       "<p>2 rows × 781 columns</p>\n",
       "</div>"
      ],
      "text/plain": [
       "   rating                                       review_title   \n",
       "0       3               Looks great but not practical for me  \\\n",
       "1       4  This stuff is pretty interesting. I'm enjoying...   \n",
       "\n",
       "                                         text_review   \n",
       "0  [[VIDEOID:c9f78d09ec648d2bdc92f5ad9698e698]] T...  \\\n",
       "1  This stuff is pretty interesting. I'm enjoying...   \n",
       "\n",
       "                                         user_images  product_ID   parent_ID   \n",
       "0  [{'small_image_url': 'https://m.media-amazon.c...  B09JNRPRKT  B09JNRPRKT  \\\n",
       "1                                                 []  B0006O028U  B0006O028U   \n",
       "\n",
       "                        user_ID                timestamp  helpful_review_vote   \n",
       "0  AFOKWZIJI7K6Z6R4T7SSXRTWZNOQ  2022-02-22 19:21:19.256                    0  \\\n",
       "1  AHQXHCQIGUBPQNJLQZNLBV7ESFPA  2015-01-04 00:21:08.000                    1   \n",
       "\n",
       "   user_purchase_verification  ...   dim_758  dim_759   dim_760   dim_761   \n",
       "0                           0  ... -0.067687 -0.20555  0.072889 -0.180823  \\\n",
       "1                           1  ... -0.303478  0.09138  0.122427 -0.186410   \n",
       "\n",
       "    dim_762   dim_763   dim_764   dim_765   dim_766   dim_767  \n",
       "0  0.028919  0.010474 -0.138984 -0.210856  0.057235  0.130917  \n",
       "1 -0.027961 -0.255280  0.025104 -0.236829 -0.088415 -0.031806  \n",
       "\n",
       "[2 rows x 781 columns]"
      ]
     },
     "execution_count": 89,
     "metadata": {},
     "output_type": "execute_result"
    }
   ],
   "source": [
    "user_embeddings_original = pd.read_csv(r'.\\..\\data\\embeddings_output\\df_user_embedding_fullsize_01.csv')\n",
    "user_embeddings_original.head(2)"
   ]
  },
  {
   "cell_type": "code",
   "execution_count": 90,
   "metadata": {},
   "outputs": [],
   "source": [
    "original_embeddings = user_embeddings_original[[f\"dim_{i}\" for i in range(768)]]"
   ]
  },
  {
   "cell_type": "code",
   "execution_count": 91,
   "metadata": {},
   "outputs": [
    {
     "name": "stdout",
     "output_type": "stream",
     "text": [
      "Explained Variance Ratio for 300 Dimensions: [0.20868374 0.04104146 0.03257889 0.03212807 0.03028176 0.0271303\n",
      " 0.02321218 0.02139147 0.02046016 0.01756858 0.01645912 0.01460024\n",
      " 0.01337152 0.01251322 0.01159026 0.0104906  0.00974576 0.00903349\n",
      " 0.00875786 0.00849473 0.00808074 0.00759961 0.00706855 0.00701897\n",
      " 0.00645697 0.00632001 0.00614428 0.00599658 0.00574176 0.00559984\n",
      " 0.00538578 0.00521532 0.00506382 0.00491469 0.00462164 0.0044721\n",
      " 0.00437525 0.00436016 0.00424496 0.00402911 0.00401478 0.00389828\n",
      " 0.00383993 0.00377082 0.00362658 0.00352763 0.0034726  0.00337115\n",
      " 0.0033391  0.00328946 0.00313695 0.00303278 0.00297965 0.00290999\n",
      " 0.00289475 0.00275689 0.00274672 0.00259472 0.00256635 0.00254136\n",
      " 0.00251571 0.00248007 0.00245774 0.00240559 0.00235431 0.00232246\n",
      " 0.00226369 0.00219719 0.00215519 0.00213213 0.00211301 0.0020895\n",
      " 0.0020615  0.00203986 0.00200546 0.00195323 0.00191271 0.00190367\n",
      " 0.00187765 0.0018429  0.00183172 0.00178094 0.00175558 0.00171754\n",
      " 0.00170059 0.0016952  0.00166017 0.00163105 0.00160785 0.00158218\n",
      " 0.00157091 0.00154562 0.00150706 0.00150406 0.00148215 0.0014712\n",
      " 0.00144945 0.00144345 0.00141876 0.00140226 0.0013758  0.00135898\n",
      " 0.00135232 0.00132684 0.00131681 0.00131096 0.00129714 0.0012612\n",
      " 0.00124119 0.0012292  0.00121707 0.00120231 0.0011961  0.00117457\n",
      " 0.00116685 0.00115249 0.00114509 0.00113008 0.00112132 0.00111752\n",
      " 0.00109542 0.00108097 0.00106807 0.00104294 0.00103332 0.00103013\n",
      " 0.00102447 0.00101337 0.00099563 0.00098158 0.00097381 0.00096788\n",
      " 0.00094829 0.00094205 0.00093763 0.00093342 0.00092267 0.00091122\n",
      " 0.00090149 0.00089609 0.00089353 0.00087881 0.00087282 0.00086497\n",
      " 0.00085749 0.00084474 0.00083667 0.00083181 0.00082428 0.00082058\n",
      " 0.00081491 0.00080778 0.00080585 0.00077976 0.00077476 0.00077071\n",
      " 0.00076579 0.0007571  0.00075082 0.00074634 0.00074176 0.00073262\n",
      " 0.00072221 0.00071325 0.00070729 0.00070535 0.00070225 0.00069359\n",
      " 0.00068711 0.00068214 0.0006739  0.00066622 0.0006615  0.00065614\n",
      " 0.00064939 0.0006424  0.00064147 0.00063551 0.00063133 0.0006291\n",
      " 0.00062063 0.00061599 0.00061018 0.00059857 0.00059592 0.00059105\n",
      " 0.00058787 0.00057964 0.00057503 0.00057199 0.00056845 0.00056604\n",
      " 0.00055899 0.00055837 0.00055264 0.00054896 0.0005434  0.00054152\n",
      " 0.00054013 0.00053484 0.00052903 0.00052274 0.00052182 0.00051735\n",
      " 0.00051216 0.00050968 0.00050656 0.00050062 0.000496   0.00049365\n",
      " 0.00048632 0.00048603 0.00048188 0.00047624 0.00047498 0.0004722\n",
      " 0.00046622 0.00046368 0.0004617  0.0004574  0.00045459 0.00044944\n",
      " 0.0004458  0.00044548 0.0004394  0.00043846 0.00043216 0.00042899\n",
      " 0.00042752 0.00042355 0.00042101 0.00041926 0.00041288 0.00041117\n",
      " 0.00040723 0.00040474 0.0004008  0.00039656 0.00039484 0.00039291\n",
      " 0.00038901 0.00038696 0.00038574 0.00038249 0.00037966 0.00037934\n",
      " 0.00037463 0.00037112 0.00036789 0.00036589 0.0003631  0.00036209\n",
      " 0.0003606  0.00035972 0.00035865 0.00035529 0.0003507  0.00034706\n",
      " 0.00034525 0.00034362 0.00034106 0.00034029 0.00033673 0.00033637\n",
      " 0.00033129 0.00032705 0.00032421 0.00032331 0.00032245 0.0003199\n",
      " 0.00031804 0.00031631 0.00031362 0.00031029 0.00030934 0.0003048\n",
      " 0.00030235 0.00030003 0.00029915 0.00029848 0.00029555 0.00029289\n",
      " 0.00028913 0.00028863 0.00028693 0.00028609 0.00028348 0.00027942\n",
      " 0.00027754 0.0002745  0.00027291 0.00027268 0.00026906 0.00026759\n",
      " 0.00026598 0.00026337 0.00026179 0.00026031 0.00025516 0.00025302]\n",
      "Total Explained Variance Captured by 300 Dimensions: 0.9446068633544232\n"
     ]
    }
   ],
   "source": [
    "# Fit PCA to the original embeddings\n",
    "pca = PCA(n_components=300)\n",
    "pca.fit(original_embeddings)\n",
    "\n",
    "# Check explained variance\n",
    "explained_variance = pca.explained_variance_ratio_\n",
    "total_variance = sum(explained_variance)\n",
    "\n",
    "print(\"Explained Variance Ratio for 300 Dimensions:\", explained_variance)\n",
    "print(\"Total Explained Variance Captured by 300 Dimensions:\", total_variance)"
   ]
  },
  {
   "cell_type": "markdown",
   "metadata": {},
   "source": [
    "# Once all embeddings are calculated we can go to the next step (so far calculations are made only for the sample of 50000 rows of the training dataset)"
   ]
  },
  {
   "cell_type": "markdown",
   "metadata": {},
   "source": [
    "## Create User and Product Vector"
   ]
  },
  {
   "cell_type": "markdown",
   "metadata": {},
   "source": [
    "* Aggregating the embeddings to compute a single user vector per user_ID and single product vector per product_ID.\n",
    "* To create a vector for each user, you can average all the review embeddings corresponding to that user. This works because averaging retains a general sense of the user's overall preferences.\n",
    "* Similarly, you can aggregate the embeddings for each product. For example, average all the embeddings corresponding to each product ID."
   ]
  },
  {
   "cell_type": "markdown",
   "metadata": {},
   "source": [
    "### 1. Aggregate User Vectors"
   ]
  },
  {
   "cell_type": "code",
   "execution_count": 93,
   "metadata": {},
   "outputs": [],
   "source": [
    "# Select relevant columns: user_ID and embedding dimensions\n",
    "user_vector_cols = [f'dim_{i}' for i in range(300)]\n",
    "df_user_vectors = final_df_user_PCA.groupby('user_ID')[user_vector_cols].mean().reset_index()"
   ]
  },
  {
   "cell_type": "code",
   "execution_count": 94,
   "metadata": {},
   "outputs": [
    {
     "data": {
      "text/html": [
       "<div>\n",
       "<style scoped>\n",
       "    .dataframe tbody tr th:only-of-type {\n",
       "        vertical-align: middle;\n",
       "    }\n",
       "\n",
       "    .dataframe tbody tr th {\n",
       "        vertical-align: top;\n",
       "    }\n",
       "\n",
       "    .dataframe thead th {\n",
       "        text-align: right;\n",
       "    }\n",
       "</style>\n",
       "<table border=\"1\" class=\"dataframe\">\n",
       "  <thead>\n",
       "    <tr style=\"text-align: right;\">\n",
       "      <th></th>\n",
       "      <th>user_ID</th>\n",
       "      <th>dim_0</th>\n",
       "      <th>dim_1</th>\n",
       "      <th>dim_2</th>\n",
       "      <th>dim_3</th>\n",
       "      <th>dim_4</th>\n",
       "      <th>dim_5</th>\n",
       "      <th>dim_6</th>\n",
       "      <th>dim_7</th>\n",
       "      <th>dim_8</th>\n",
       "      <th>...</th>\n",
       "      <th>dim_290</th>\n",
       "      <th>dim_291</th>\n",
       "      <th>dim_292</th>\n",
       "      <th>dim_293</th>\n",
       "      <th>dim_294</th>\n",
       "      <th>dim_295</th>\n",
       "      <th>dim_296</th>\n",
       "      <th>dim_297</th>\n",
       "      <th>dim_298</th>\n",
       "      <th>dim_299</th>\n",
       "    </tr>\n",
       "  </thead>\n",
       "  <tbody>\n",
       "    <tr>\n",
       "      <th>0</th>\n",
       "      <td>AE225IKAL7QABBT2BSTLIGFKHAQQ</td>\n",
       "      <td>0.208377</td>\n",
       "      <td>1.522931</td>\n",
       "      <td>-1.117696</td>\n",
       "      <td>-0.636341</td>\n",
       "      <td>-1.111270</td>\n",
       "      <td>-1.021139</td>\n",
       "      <td>1.514467</td>\n",
       "      <td>1.011144</td>\n",
       "      <td>0.312553</td>\n",
       "      <td>...</td>\n",
       "      <td>0.034778</td>\n",
       "      <td>-0.160210</td>\n",
       "      <td>0.018794</td>\n",
       "      <td>-0.042957</td>\n",
       "      <td>-0.259030</td>\n",
       "      <td>0.032602</td>\n",
       "      <td>0.047290</td>\n",
       "      <td>0.216677</td>\n",
       "      <td>-0.052517</td>\n",
       "      <td>0.081157</td>\n",
       "    </tr>\n",
       "    <tr>\n",
       "      <th>1</th>\n",
       "      <td>AE22C2GQK3BBQNQJHVCU7KOEX5TQ</td>\n",
       "      <td>-0.025180</td>\n",
       "      <td>-1.702101</td>\n",
       "      <td>0.091881</td>\n",
       "      <td>-1.591924</td>\n",
       "      <td>0.755298</td>\n",
       "      <td>0.020142</td>\n",
       "      <td>0.234630</td>\n",
       "      <td>-0.608135</td>\n",
       "      <td>-1.216132</td>\n",
       "      <td>...</td>\n",
       "      <td>-0.201371</td>\n",
       "      <td>-0.000446</td>\n",
       "      <td>0.027550</td>\n",
       "      <td>-0.061505</td>\n",
       "      <td>0.062629</td>\n",
       "      <td>0.008393</td>\n",
       "      <td>0.025916</td>\n",
       "      <td>-0.052586</td>\n",
       "      <td>-0.057025</td>\n",
       "      <td>0.023120</td>\n",
       "    </tr>\n",
       "    <tr>\n",
       "      <th>2</th>\n",
       "      <td>AE22DOZY7CRT5OJLXRRHJYO6GY2A</td>\n",
       "      <td>-1.784766</td>\n",
       "      <td>-0.477997</td>\n",
       "      <td>-0.435100</td>\n",
       "      <td>-0.002652</td>\n",
       "      <td>0.207864</td>\n",
       "      <td>-0.198191</td>\n",
       "      <td>-0.089657</td>\n",
       "      <td>0.581121</td>\n",
       "      <td>0.008543</td>\n",
       "      <td>...</td>\n",
       "      <td>0.040483</td>\n",
       "      <td>-0.030430</td>\n",
       "      <td>0.101152</td>\n",
       "      <td>0.057111</td>\n",
       "      <td>-0.018026</td>\n",
       "      <td>0.016207</td>\n",
       "      <td>0.108748</td>\n",
       "      <td>-0.063591</td>\n",
       "      <td>-0.066409</td>\n",
       "      <td>-0.098862</td>\n",
       "    </tr>\n",
       "    <tr>\n",
       "      <th>3</th>\n",
       "      <td>AE22EURACV6BNCXXYEWZWBKKXVNA</td>\n",
       "      <td>0.008605</td>\n",
       "      <td>1.014055</td>\n",
       "      <td>-1.042147</td>\n",
       "      <td>0.622563</td>\n",
       "      <td>0.648501</td>\n",
       "      <td>-1.803104</td>\n",
       "      <td>-1.200704</td>\n",
       "      <td>-0.730483</td>\n",
       "      <td>-0.309668</td>\n",
       "      <td>...</td>\n",
       "      <td>0.100619</td>\n",
       "      <td>0.074527</td>\n",
       "      <td>0.100501</td>\n",
       "      <td>-0.011970</td>\n",
       "      <td>0.074697</td>\n",
       "      <td>0.122734</td>\n",
       "      <td>-0.011861</td>\n",
       "      <td>-0.009350</td>\n",
       "      <td>0.005459</td>\n",
       "      <td>-0.022839</td>\n",
       "    </tr>\n",
       "    <tr>\n",
       "      <th>4</th>\n",
       "      <td>AE22J6SMWQO5HAG4JZODVAEMQXNQ</td>\n",
       "      <td>-1.886114</td>\n",
       "      <td>-0.161519</td>\n",
       "      <td>-0.408325</td>\n",
       "      <td>-0.460785</td>\n",
       "      <td>-0.414641</td>\n",
       "      <td>1.540108</td>\n",
       "      <td>-1.274296</td>\n",
       "      <td>-0.210389</td>\n",
       "      <td>0.562990</td>\n",
       "      <td>...</td>\n",
       "      <td>-0.007666</td>\n",
       "      <td>-0.067625</td>\n",
       "      <td>0.124841</td>\n",
       "      <td>-0.058047</td>\n",
       "      <td>-0.000059</td>\n",
       "      <td>-0.126879</td>\n",
       "      <td>0.012326</td>\n",
       "      <td>0.049777</td>\n",
       "      <td>-0.022917</td>\n",
       "      <td>0.059209</td>\n",
       "    </tr>\n",
       "    <tr>\n",
       "      <th>...</th>\n",
       "      <td>...</td>\n",
       "      <td>...</td>\n",
       "      <td>...</td>\n",
       "      <td>...</td>\n",
       "      <td>...</td>\n",
       "      <td>...</td>\n",
       "      <td>...</td>\n",
       "      <td>...</td>\n",
       "      <td>...</td>\n",
       "      <td>...</td>\n",
       "      <td>...</td>\n",
       "      <td>...</td>\n",
       "      <td>...</td>\n",
       "      <td>...</td>\n",
       "      <td>...</td>\n",
       "      <td>...</td>\n",
       "      <td>...</td>\n",
       "      <td>...</td>\n",
       "      <td>...</td>\n",
       "      <td>...</td>\n",
       "      <td>...</td>\n",
       "    </tr>\n",
       "    <tr>\n",
       "      <th>49374</th>\n",
       "      <td>AHZZK3BZYDZYCVG5S5JDJIR7JXLA</td>\n",
       "      <td>-2.582652</td>\n",
       "      <td>0.107823</td>\n",
       "      <td>-0.448086</td>\n",
       "      <td>1.180751</td>\n",
       "      <td>-0.293276</td>\n",
       "      <td>0.735802</td>\n",
       "      <td>0.233716</td>\n",
       "      <td>-0.069590</td>\n",
       "      <td>-0.715500</td>\n",
       "      <td>...</td>\n",
       "      <td>0.003632</td>\n",
       "      <td>-0.110156</td>\n",
       "      <td>0.141721</td>\n",
       "      <td>0.017690</td>\n",
       "      <td>0.069116</td>\n",
       "      <td>0.053896</td>\n",
       "      <td>-0.097167</td>\n",
       "      <td>-0.040307</td>\n",
       "      <td>-0.046386</td>\n",
       "      <td>-0.072058</td>\n",
       "    </tr>\n",
       "    <tr>\n",
       "      <th>49375</th>\n",
       "      <td>AHZZOQ677OZSRA2WRNAIYSAKKZQQ</td>\n",
       "      <td>-1.542746</td>\n",
       "      <td>0.199729</td>\n",
       "      <td>0.083376</td>\n",
       "      <td>-0.139327</td>\n",
       "      <td>0.621125</td>\n",
       "      <td>-0.193690</td>\n",
       "      <td>1.497363</td>\n",
       "      <td>-0.686839</td>\n",
       "      <td>0.062886</td>\n",
       "      <td>...</td>\n",
       "      <td>-0.094849</td>\n",
       "      <td>-0.143646</td>\n",
       "      <td>0.007565</td>\n",
       "      <td>-0.043028</td>\n",
       "      <td>-0.056675</td>\n",
       "      <td>-0.057168</td>\n",
       "      <td>-0.098793</td>\n",
       "      <td>0.131166</td>\n",
       "      <td>0.087973</td>\n",
       "      <td>0.031357</td>\n",
       "    </tr>\n",
       "    <tr>\n",
       "      <th>49376</th>\n",
       "      <td>AHZZSLZAXLSFXBQ6ZMGF3SDVMXJQ</td>\n",
       "      <td>-2.516476</td>\n",
       "      <td>0.180381</td>\n",
       "      <td>-0.234578</td>\n",
       "      <td>0.544458</td>\n",
       "      <td>-0.418455</td>\n",
       "      <td>0.687271</td>\n",
       "      <td>-0.192078</td>\n",
       "      <td>-0.153829</td>\n",
       "      <td>-0.453198</td>\n",
       "      <td>...</td>\n",
       "      <td>0.036466</td>\n",
       "      <td>-0.014416</td>\n",
       "      <td>-0.054526</td>\n",
       "      <td>-0.081890</td>\n",
       "      <td>0.143874</td>\n",
       "      <td>-0.099452</td>\n",
       "      <td>-0.191830</td>\n",
       "      <td>0.005010</td>\n",
       "      <td>-0.107094</td>\n",
       "      <td>-0.014023</td>\n",
       "    </tr>\n",
       "    <tr>\n",
       "      <th>49377</th>\n",
       "      <td>AHZZTNXIDGRSANUOKJCLRL3XZ7MQ</td>\n",
       "      <td>-2.058221</td>\n",
       "      <td>0.100081</td>\n",
       "      <td>-0.988637</td>\n",
       "      <td>-0.509999</td>\n",
       "      <td>-0.448426</td>\n",
       "      <td>0.129182</td>\n",
       "      <td>-0.083300</td>\n",
       "      <td>0.370595</td>\n",
       "      <td>-0.080013</td>\n",
       "      <td>...</td>\n",
       "      <td>-0.030503</td>\n",
       "      <td>0.098914</td>\n",
       "      <td>-0.068510</td>\n",
       "      <td>-0.021767</td>\n",
       "      <td>0.045006</td>\n",
       "      <td>-0.075067</td>\n",
       "      <td>0.026532</td>\n",
       "      <td>0.033063</td>\n",
       "      <td>0.056145</td>\n",
       "      <td>0.045279</td>\n",
       "    </tr>\n",
       "    <tr>\n",
       "      <th>49378</th>\n",
       "      <td>AHZZUTPDC4UKKIDL3IAVEKQHAIJA</td>\n",
       "      <td>-2.537790</td>\n",
       "      <td>0.126145</td>\n",
       "      <td>0.659630</td>\n",
       "      <td>-0.601383</td>\n",
       "      <td>0.134255</td>\n",
       "      <td>-0.441827</td>\n",
       "      <td>-0.567898</td>\n",
       "      <td>-0.120059</td>\n",
       "      <td>0.587949</td>\n",
       "      <td>...</td>\n",
       "      <td>-0.055609</td>\n",
       "      <td>-0.025554</td>\n",
       "      <td>0.034997</td>\n",
       "      <td>0.074927</td>\n",
       "      <td>0.009599</td>\n",
       "      <td>-0.011654</td>\n",
       "      <td>0.030317</td>\n",
       "      <td>-0.029618</td>\n",
       "      <td>-0.052337</td>\n",
       "      <td>-0.037334</td>\n",
       "    </tr>\n",
       "  </tbody>\n",
       "</table>\n",
       "<p>49379 rows × 301 columns</p>\n",
       "</div>"
      ],
      "text/plain": [
       "                            user_ID     dim_0     dim_1     dim_2     dim_3   \n",
       "0      AE225IKAL7QABBT2BSTLIGFKHAQQ  0.208377  1.522931 -1.117696 -0.636341  \\\n",
       "1      AE22C2GQK3BBQNQJHVCU7KOEX5TQ -0.025180 -1.702101  0.091881 -1.591924   \n",
       "2      AE22DOZY7CRT5OJLXRRHJYO6GY2A -1.784766 -0.477997 -0.435100 -0.002652   \n",
       "3      AE22EURACV6BNCXXYEWZWBKKXVNA  0.008605  1.014055 -1.042147  0.622563   \n",
       "4      AE22J6SMWQO5HAG4JZODVAEMQXNQ -1.886114 -0.161519 -0.408325 -0.460785   \n",
       "...                             ...       ...       ...       ...       ...   \n",
       "49374  AHZZK3BZYDZYCVG5S5JDJIR7JXLA -2.582652  0.107823 -0.448086  1.180751   \n",
       "49375  AHZZOQ677OZSRA2WRNAIYSAKKZQQ -1.542746  0.199729  0.083376 -0.139327   \n",
       "49376  AHZZSLZAXLSFXBQ6ZMGF3SDVMXJQ -2.516476  0.180381 -0.234578  0.544458   \n",
       "49377  AHZZTNXIDGRSANUOKJCLRL3XZ7MQ -2.058221  0.100081 -0.988637 -0.509999   \n",
       "49378  AHZZUTPDC4UKKIDL3IAVEKQHAIJA -2.537790  0.126145  0.659630 -0.601383   \n",
       "\n",
       "          dim_4     dim_5     dim_6     dim_7     dim_8  ...   dim_290   \n",
       "0     -1.111270 -1.021139  1.514467  1.011144  0.312553  ...  0.034778  \\\n",
       "1      0.755298  0.020142  0.234630 -0.608135 -1.216132  ... -0.201371   \n",
       "2      0.207864 -0.198191 -0.089657  0.581121  0.008543  ...  0.040483   \n",
       "3      0.648501 -1.803104 -1.200704 -0.730483 -0.309668  ...  0.100619   \n",
       "4     -0.414641  1.540108 -1.274296 -0.210389  0.562990  ... -0.007666   \n",
       "...         ...       ...       ...       ...       ...  ...       ...   \n",
       "49374 -0.293276  0.735802  0.233716 -0.069590 -0.715500  ...  0.003632   \n",
       "49375  0.621125 -0.193690  1.497363 -0.686839  0.062886  ... -0.094849   \n",
       "49376 -0.418455  0.687271 -0.192078 -0.153829 -0.453198  ...  0.036466   \n",
       "49377 -0.448426  0.129182 -0.083300  0.370595 -0.080013  ... -0.030503   \n",
       "49378  0.134255 -0.441827 -0.567898 -0.120059  0.587949  ... -0.055609   \n",
       "\n",
       "        dim_291   dim_292   dim_293   dim_294   dim_295   dim_296   dim_297   \n",
       "0     -0.160210  0.018794 -0.042957 -0.259030  0.032602  0.047290  0.216677  \\\n",
       "1     -0.000446  0.027550 -0.061505  0.062629  0.008393  0.025916 -0.052586   \n",
       "2     -0.030430  0.101152  0.057111 -0.018026  0.016207  0.108748 -0.063591   \n",
       "3      0.074527  0.100501 -0.011970  0.074697  0.122734 -0.011861 -0.009350   \n",
       "4     -0.067625  0.124841 -0.058047 -0.000059 -0.126879  0.012326  0.049777   \n",
       "...         ...       ...       ...       ...       ...       ...       ...   \n",
       "49374 -0.110156  0.141721  0.017690  0.069116  0.053896 -0.097167 -0.040307   \n",
       "49375 -0.143646  0.007565 -0.043028 -0.056675 -0.057168 -0.098793  0.131166   \n",
       "49376 -0.014416 -0.054526 -0.081890  0.143874 -0.099452 -0.191830  0.005010   \n",
       "49377  0.098914 -0.068510 -0.021767  0.045006 -0.075067  0.026532  0.033063   \n",
       "49378 -0.025554  0.034997  0.074927  0.009599 -0.011654  0.030317 -0.029618   \n",
       "\n",
       "        dim_298   dim_299  \n",
       "0     -0.052517  0.081157  \n",
       "1     -0.057025  0.023120  \n",
       "2     -0.066409 -0.098862  \n",
       "3      0.005459 -0.022839  \n",
       "4     -0.022917  0.059209  \n",
       "...         ...       ...  \n",
       "49374 -0.046386 -0.072058  \n",
       "49375  0.087973  0.031357  \n",
       "49376 -0.107094 -0.014023  \n",
       "49377  0.056145  0.045279  \n",
       "49378 -0.052337 -0.037334  \n",
       "\n",
       "[49379 rows x 301 columns]"
      ]
     },
     "execution_count": 94,
     "metadata": {},
     "output_type": "execute_result"
    }
   ],
   "source": [
    "df_user_vectors"
   ]
  },
  {
   "cell_type": "code",
   "execution_count": 97,
   "metadata": {},
   "outputs": [],
   "source": [
    "# Rename the columns to indicate these are user vectors:\n",
    "df_user_vectors.columns = ['user_ID'] + [f'user_vec_{i}' for i in range(300)]"
   ]
  },
  {
   "cell_type": "code",
   "execution_count": 98,
   "metadata": {},
   "outputs": [
    {
     "data": {
      "text/plain": [
       "(49379, 301)"
      ]
     },
     "execution_count": 98,
     "metadata": {},
     "output_type": "execute_result"
    }
   ],
   "source": [
    "df_user_vectors.shape"
   ]
  },
  {
   "cell_type": "code",
   "execution_count": 99,
   "metadata": {},
   "outputs": [
    {
     "data": {
      "text/html": [
       "<div>\n",
       "<style scoped>\n",
       "    .dataframe tbody tr th:only-of-type {\n",
       "        vertical-align: middle;\n",
       "    }\n",
       "\n",
       "    .dataframe tbody tr th {\n",
       "        vertical-align: top;\n",
       "    }\n",
       "\n",
       "    .dataframe thead th {\n",
       "        text-align: right;\n",
       "    }\n",
       "</style>\n",
       "<table border=\"1\" class=\"dataframe\">\n",
       "  <thead>\n",
       "    <tr style=\"text-align: right;\">\n",
       "      <th></th>\n",
       "      <th>user_ID</th>\n",
       "      <th>user_vec_0</th>\n",
       "      <th>user_vec_1</th>\n",
       "      <th>user_vec_2</th>\n",
       "      <th>user_vec_3</th>\n",
       "      <th>user_vec_4</th>\n",
       "      <th>user_vec_5</th>\n",
       "      <th>user_vec_6</th>\n",
       "      <th>user_vec_7</th>\n",
       "      <th>user_vec_8</th>\n",
       "      <th>...</th>\n",
       "      <th>user_vec_290</th>\n",
       "      <th>user_vec_291</th>\n",
       "      <th>user_vec_292</th>\n",
       "      <th>user_vec_293</th>\n",
       "      <th>user_vec_294</th>\n",
       "      <th>user_vec_295</th>\n",
       "      <th>user_vec_296</th>\n",
       "      <th>user_vec_297</th>\n",
       "      <th>user_vec_298</th>\n",
       "      <th>user_vec_299</th>\n",
       "    </tr>\n",
       "  </thead>\n",
       "  <tbody>\n",
       "    <tr>\n",
       "      <th>0</th>\n",
       "      <td>AE225IKAL7QABBT2BSTLIGFKHAQQ</td>\n",
       "      <td>0.208377</td>\n",
       "      <td>1.522931</td>\n",
       "      <td>-1.117696</td>\n",
       "      <td>-0.636341</td>\n",
       "      <td>-1.111270</td>\n",
       "      <td>-1.021139</td>\n",
       "      <td>1.514467</td>\n",
       "      <td>1.011144</td>\n",
       "      <td>0.312553</td>\n",
       "      <td>...</td>\n",
       "      <td>0.034778</td>\n",
       "      <td>-0.160210</td>\n",
       "      <td>0.018794</td>\n",
       "      <td>-0.042957</td>\n",
       "      <td>-0.259030</td>\n",
       "      <td>0.032602</td>\n",
       "      <td>0.047290</td>\n",
       "      <td>0.216677</td>\n",
       "      <td>-0.052517</td>\n",
       "      <td>0.081157</td>\n",
       "    </tr>\n",
       "    <tr>\n",
       "      <th>1</th>\n",
       "      <td>AE22C2GQK3BBQNQJHVCU7KOEX5TQ</td>\n",
       "      <td>-0.025180</td>\n",
       "      <td>-1.702101</td>\n",
       "      <td>0.091881</td>\n",
       "      <td>-1.591924</td>\n",
       "      <td>0.755298</td>\n",
       "      <td>0.020142</td>\n",
       "      <td>0.234630</td>\n",
       "      <td>-0.608135</td>\n",
       "      <td>-1.216132</td>\n",
       "      <td>...</td>\n",
       "      <td>-0.201371</td>\n",
       "      <td>-0.000446</td>\n",
       "      <td>0.027550</td>\n",
       "      <td>-0.061505</td>\n",
       "      <td>0.062629</td>\n",
       "      <td>0.008393</td>\n",
       "      <td>0.025916</td>\n",
       "      <td>-0.052586</td>\n",
       "      <td>-0.057025</td>\n",
       "      <td>0.023120</td>\n",
       "    </tr>\n",
       "    <tr>\n",
       "      <th>2</th>\n",
       "      <td>AE22DOZY7CRT5OJLXRRHJYO6GY2A</td>\n",
       "      <td>-1.784766</td>\n",
       "      <td>-0.477997</td>\n",
       "      <td>-0.435100</td>\n",
       "      <td>-0.002652</td>\n",
       "      <td>0.207864</td>\n",
       "      <td>-0.198191</td>\n",
       "      <td>-0.089657</td>\n",
       "      <td>0.581121</td>\n",
       "      <td>0.008543</td>\n",
       "      <td>...</td>\n",
       "      <td>0.040483</td>\n",
       "      <td>-0.030430</td>\n",
       "      <td>0.101152</td>\n",
       "      <td>0.057111</td>\n",
       "      <td>-0.018026</td>\n",
       "      <td>0.016207</td>\n",
       "      <td>0.108748</td>\n",
       "      <td>-0.063591</td>\n",
       "      <td>-0.066409</td>\n",
       "      <td>-0.098862</td>\n",
       "    </tr>\n",
       "    <tr>\n",
       "      <th>3</th>\n",
       "      <td>AE22EURACV6BNCXXYEWZWBKKXVNA</td>\n",
       "      <td>0.008605</td>\n",
       "      <td>1.014055</td>\n",
       "      <td>-1.042147</td>\n",
       "      <td>0.622563</td>\n",
       "      <td>0.648501</td>\n",
       "      <td>-1.803104</td>\n",
       "      <td>-1.200704</td>\n",
       "      <td>-0.730483</td>\n",
       "      <td>-0.309668</td>\n",
       "      <td>...</td>\n",
       "      <td>0.100619</td>\n",
       "      <td>0.074527</td>\n",
       "      <td>0.100501</td>\n",
       "      <td>-0.011970</td>\n",
       "      <td>0.074697</td>\n",
       "      <td>0.122734</td>\n",
       "      <td>-0.011861</td>\n",
       "      <td>-0.009350</td>\n",
       "      <td>0.005459</td>\n",
       "      <td>-0.022839</td>\n",
       "    </tr>\n",
       "    <tr>\n",
       "      <th>4</th>\n",
       "      <td>AE22J6SMWQO5HAG4JZODVAEMQXNQ</td>\n",
       "      <td>-1.886114</td>\n",
       "      <td>-0.161519</td>\n",
       "      <td>-0.408325</td>\n",
       "      <td>-0.460785</td>\n",
       "      <td>-0.414641</td>\n",
       "      <td>1.540108</td>\n",
       "      <td>-1.274296</td>\n",
       "      <td>-0.210389</td>\n",
       "      <td>0.562990</td>\n",
       "      <td>...</td>\n",
       "      <td>-0.007666</td>\n",
       "      <td>-0.067625</td>\n",
       "      <td>0.124841</td>\n",
       "      <td>-0.058047</td>\n",
       "      <td>-0.000059</td>\n",
       "      <td>-0.126879</td>\n",
       "      <td>0.012326</td>\n",
       "      <td>0.049777</td>\n",
       "      <td>-0.022917</td>\n",
       "      <td>0.059209</td>\n",
       "    </tr>\n",
       "  </tbody>\n",
       "</table>\n",
       "<p>5 rows × 301 columns</p>\n",
       "</div>"
      ],
      "text/plain": [
       "                        user_ID  user_vec_0  user_vec_1  user_vec_2   \n",
       "0  AE225IKAL7QABBT2BSTLIGFKHAQQ    0.208377    1.522931   -1.117696  \\\n",
       "1  AE22C2GQK3BBQNQJHVCU7KOEX5TQ   -0.025180   -1.702101    0.091881   \n",
       "2  AE22DOZY7CRT5OJLXRRHJYO6GY2A   -1.784766   -0.477997   -0.435100   \n",
       "3  AE22EURACV6BNCXXYEWZWBKKXVNA    0.008605    1.014055   -1.042147   \n",
       "4  AE22J6SMWQO5HAG4JZODVAEMQXNQ   -1.886114   -0.161519   -0.408325   \n",
       "\n",
       "   user_vec_3  user_vec_4  user_vec_5  user_vec_6  user_vec_7  user_vec_8   \n",
       "0   -0.636341   -1.111270   -1.021139    1.514467    1.011144    0.312553  \\\n",
       "1   -1.591924    0.755298    0.020142    0.234630   -0.608135   -1.216132   \n",
       "2   -0.002652    0.207864   -0.198191   -0.089657    0.581121    0.008543   \n",
       "3    0.622563    0.648501   -1.803104   -1.200704   -0.730483   -0.309668   \n",
       "4   -0.460785   -0.414641    1.540108   -1.274296   -0.210389    0.562990   \n",
       "\n",
       "   ...  user_vec_290  user_vec_291  user_vec_292  user_vec_293  user_vec_294   \n",
       "0  ...      0.034778     -0.160210      0.018794     -0.042957     -0.259030  \\\n",
       "1  ...     -0.201371     -0.000446      0.027550     -0.061505      0.062629   \n",
       "2  ...      0.040483     -0.030430      0.101152      0.057111     -0.018026   \n",
       "3  ...      0.100619      0.074527      0.100501     -0.011970      0.074697   \n",
       "4  ...     -0.007666     -0.067625      0.124841     -0.058047     -0.000059   \n",
       "\n",
       "   user_vec_295  user_vec_296  user_vec_297  user_vec_298  user_vec_299  \n",
       "0      0.032602      0.047290      0.216677     -0.052517      0.081157  \n",
       "1      0.008393      0.025916     -0.052586     -0.057025      0.023120  \n",
       "2      0.016207      0.108748     -0.063591     -0.066409     -0.098862  \n",
       "3      0.122734     -0.011861     -0.009350      0.005459     -0.022839  \n",
       "4     -0.126879      0.012326      0.049777     -0.022917      0.059209  \n",
       "\n",
       "[5 rows x 301 columns]"
      ]
     },
     "execution_count": 99,
     "metadata": {},
     "output_type": "execute_result"
    }
   ],
   "source": [
    "df_user_vectors.head()"
   ]
  },
  {
   "cell_type": "code",
   "execution_count": 22,
   "metadata": {},
   "outputs": [],
   "source": [
    "# Save the vectors\n",
    "df_user_vectors.to_csv(r'.\\..\\data\\text_analysis\\user_vectors\\user_vectors.csv', index=False)"
   ]
  },
  {
   "cell_type": "markdown",
   "metadata": {},
   "source": [
    "### 2. Aggregate Product Vectors"
   ]
  },
  {
   "cell_type": "code",
   "execution_count": 100,
   "metadata": {},
   "outputs": [],
   "source": [
    "product_vector_cols = [f'dim_{i}' for i in range(300)]\n",
    "df_product_vectors = final_df_user_PCA.groupby('product_ID')[product_vector_cols].mean().reset_index()"
   ]
  },
  {
   "cell_type": "code",
   "execution_count": 101,
   "metadata": {},
   "outputs": [],
   "source": [
    "df_product_vectors.columns = ['product_ID'] + [f'product_vec_{i}' for i in range(300)]"
   ]
  },
  {
   "cell_type": "code",
   "execution_count": 105,
   "metadata": {},
   "outputs": [
    {
     "data": {
      "text/plain": [
       "(26168, 301)"
      ]
     },
     "execution_count": 105,
     "metadata": {},
     "output_type": "execute_result"
    }
   ],
   "source": [
    "df_product_vectors.shape"
   ]
  },
  {
   "cell_type": "code",
   "execution_count": 103,
   "metadata": {},
   "outputs": [],
   "source": [
    "# Save the vectors\n",
    "df_product_vectors.to_csv(r'.\\..\\data\\text_analysis\\product_vectors\\product_vectors.csv', index=False)"
   ]
  },
  {
   "cell_type": "code",
   "execution_count": null,
   "metadata": {},
   "outputs": [],
   "source": []
  },
  {
   "cell_type": "markdown",
   "metadata": {},
   "source": [
    "# Semantic Analysis"
   ]
  },
  {
   "cell_type": "markdown",
   "metadata": {},
   "source": []
  },
  {
   "cell_type": "markdown",
   "metadata": {},
   "source": [
    "## Compare Reviews - Similarity Research with COS Similarity - ???"
   ]
  },
  {
   "cell_type": "code",
   "execution_count": null,
   "metadata": {},
   "outputs": [],
   "source": [
    "# Compute cosine similarity between all reviews\n",
    "similarity_matrix = cosine_similarity(embeddings)\n",
    "\n",
    "# Print the similarity matrix\n",
    "print(similarity_matrix)"
   ]
  },
  {
   "cell_type": "markdown",
   "metadata": {},
   "source": [
    "## Group Reviews - Clustering"
   ]
  },
  {
   "cell_type": "code",
   "execution_count": null,
   "metadata": {},
   "outputs": [],
   "source": [
    "from sklearn.cluster import KMeans\n",
    "\n",
    "# Choose the number of clusters (e.g., 3)\n",
    "num_clusters = 3\n",
    "kmeans = KMeans(n_clusters=num_clusters, random_state=42)\n",
    "kmeans.fit(embeddings)\n",
    "\n",
    "# Assign each review to a cluster\n",
    "clusters = kmeans.labels_\n",
    "\n",
    "# Group reviews by cluster\n",
    "for cluster_id in range(num_clusters):\n",
    "    print(f\"\\nCluster {cluster_id}:\")\n",
    "    for i, review in enumerate(reviews):\n",
    "        if clusters[i] == cluster_id:\n",
    "            print(f\" - {review}\")"
   ]
  },
  {
   "cell_type": "markdown",
   "metadata": {},
   "source": [
    "Possible Use Cases:\n",
    "Identify common pain points (e.g., \"late delivery,\" \"poor quality\").\n",
    "Group reviews into topics for better business insights."
   ]
  },
  {
   "cell_type": "markdown",
   "metadata": {},
   "source": [
    "# Sentiment Analysis"
   ]
  },
  {
   "cell_type": "markdown",
   "metadata": {},
   "source": [
    "* To classify customer reviews into sentiment categories, such as positive, neutral, or negative.\n",
    "* Fine-tune BERT (Optional):\n",
    "\n",
    "Train a BERT-based model on your labeled sentiment data (e.g., reviews with labels like \"positive,\" \"negative\").\n",
    "This improves sentiment prediction accuracy for domain-specific language.\n",
    "\n",
    "* Direct Embedding-Based Classification:\n",
    "\n",
    "Alternatively, use pre-trained embeddings and train a simple classifier (e.g., logistic regression) on top.\n",
    "\n",
    "* Output:\n",
    "\n",
    "Predict the sentiment for each review and quantify overall customer satisfaction."
   ]
  }
 ],
 "metadata": {
  "kernelspec": {
   "display_name": ".venv",
   "language": "python",
   "name": "python3"
  },
  "language_info": {
   "codemirror_mode": {
    "name": "ipython",
    "version": 3
   },
   "file_extension": ".py",
   "mimetype": "text/x-python",
   "name": "python",
   "nbconvert_exporter": "python",
   "pygments_lexer": "ipython3",
   "version": "3.11.3"
  }
 },
 "nbformat": 4,
 "nbformat_minor": 2
}
