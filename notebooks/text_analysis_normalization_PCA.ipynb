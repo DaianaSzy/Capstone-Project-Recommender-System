{
 "cells": [
  {
   "cell_type": "code",
   "execution_count": 2,
   "metadata": {},
   "outputs": [],
   "source": [
    "import pandas as pd\n",
    "from sklearn.model_selection import train_test_split\n",
    "from sklearn.decomposition import PCA\n",
    "from transformers import BertTokenizer, BertModel, pipeline\n",
    "import torch\n",
    "import numpy as np\n",
    "from sklearn.metrics.pairwise import cosine_similarity\n",
    "import ast\n",
    "import re\n",
    "from datetime import datetime"
   ]
  },
  {
   "cell_type": "markdown",
   "metadata": {},
   "source": [
    "Import data"
   ]
  },
  {
   "cell_type": "code",
   "execution_count": 3,
   "metadata": {},
   "outputs": [],
   "source": [
    "# Upload the data frame with BERT embeddings:\n",
    "file_path_embeddings = r'.\\..\\data\\embeddings_output\\df_user_embeddings_BERT.csv' # Update this with your file path\n",
    "df_user_embeddings = pd.read_csv(file_path_embeddings)"
   ]
  },
  {
   "cell_type": "code",
   "execution_count": 4,
   "metadata": {},
   "outputs": [
    {
     "data": {
      "text/html": [
       "<div>\n",
       "<style scoped>\n",
       "    .dataframe tbody tr th:only-of-type {\n",
       "        vertical-align: middle;\n",
       "    }\n",
       "\n",
       "    .dataframe tbody tr th {\n",
       "        vertical-align: top;\n",
       "    }\n",
       "\n",
       "    .dataframe thead th {\n",
       "        text-align: right;\n",
       "    }\n",
       "</style>\n",
       "<table border=\"1\" class=\"dataframe\">\n",
       "  <thead>\n",
       "    <tr style=\"text-align: right;\">\n",
       "      <th></th>\n",
       "      <th>rating</th>\n",
       "      <th>review_title</th>\n",
       "      <th>text_review</th>\n",
       "      <th>user_images</th>\n",
       "      <th>product_ID</th>\n",
       "      <th>parent_ID</th>\n",
       "      <th>user_ID</th>\n",
       "      <th>timestamp</th>\n",
       "      <th>helpful_review_vote</th>\n",
       "      <th>user_purchase_verification</th>\n",
       "      <th>...</th>\n",
       "      <th>dim_758</th>\n",
       "      <th>dim_759</th>\n",
       "      <th>dim_760</th>\n",
       "      <th>dim_761</th>\n",
       "      <th>dim_762</th>\n",
       "      <th>dim_763</th>\n",
       "      <th>dim_764</th>\n",
       "      <th>dim_765</th>\n",
       "      <th>dim_766</th>\n",
       "      <th>dim_767</th>\n",
       "    </tr>\n",
       "  </thead>\n",
       "  <tbody>\n",
       "    <tr>\n",
       "      <th>0</th>\n",
       "      <td>5</td>\n",
       "      <td>Such a lovely scent but not overpowering.</td>\n",
       "      <td>This spray is really nice. It smells really go...</td>\n",
       "      <td>[]</td>\n",
       "      <td>B00YQ6X8EO</td>\n",
       "      <td>B00YQ6X8EO</td>\n",
       "      <td>AGKHLEW2SOWHNMFQIJGBECAF7INQ</td>\n",
       "      <td>2020-05-05 14:08:48.923</td>\n",
       "      <td>0</td>\n",
       "      <td>1</td>\n",
       "      <td>...</td>\n",
       "      <td>-0.094609</td>\n",
       "      <td>-0.411200</td>\n",
       "      <td>-0.062443</td>\n",
       "      <td>-0.214518</td>\n",
       "      <td>0.074292</td>\n",
       "      <td>0.104339</td>\n",
       "      <td>-0.135383</td>\n",
       "      <td>-0.334618</td>\n",
       "      <td>-0.169996</td>\n",
       "      <td>0.315318</td>\n",
       "    </tr>\n",
       "    <tr>\n",
       "      <th>1</th>\n",
       "      <td>4</td>\n",
       "      <td>Works great but smells a little weird.</td>\n",
       "      <td>This product does what I need it to do, I just...</td>\n",
       "      <td>[]</td>\n",
       "      <td>B081TJ8YS3</td>\n",
       "      <td>B081TJ8YS3</td>\n",
       "      <td>AGKHLEW2SOWHNMFQIJGBECAF7INQ</td>\n",
       "      <td>2020-05-04 18:10:55.070</td>\n",
       "      <td>1</td>\n",
       "      <td>1</td>\n",
       "      <td>...</td>\n",
       "      <td>-0.100695</td>\n",
       "      <td>-0.222924</td>\n",
       "      <td>0.112311</td>\n",
       "      <td>-0.042177</td>\n",
       "      <td>0.077755</td>\n",
       "      <td>-0.127271</td>\n",
       "      <td>-0.111048</td>\n",
       "      <td>-0.031468</td>\n",
       "      <td>-0.161275</td>\n",
       "      <td>0.247013</td>\n",
       "    </tr>\n",
       "  </tbody>\n",
       "</table>\n",
       "<p>2 rows × 782 columns</p>\n",
       "</div>"
      ],
      "text/plain": [
       "   rating                               review_title   \n",
       "0       5  Such a lovely scent but not overpowering.  \\\n",
       "1       4     Works great but smells a little weird.   \n",
       "\n",
       "                                         text_review user_images  product_ID   \n",
       "0  This spray is really nice. It smells really go...          []  B00YQ6X8EO  \\\n",
       "1  This product does what I need it to do, I just...          []  B081TJ8YS3   \n",
       "\n",
       "    parent_ID                       user_ID                timestamp   \n",
       "0  B00YQ6X8EO  AGKHLEW2SOWHNMFQIJGBECAF7INQ  2020-05-05 14:08:48.923  \\\n",
       "1  B081TJ8YS3  AGKHLEW2SOWHNMFQIJGBECAF7INQ  2020-05-04 18:10:55.070   \n",
       "\n",
       "   helpful_review_vote  user_purchase_verification  ...   dim_758   dim_759   \n",
       "0                    0                           1  ... -0.094609 -0.411200  \\\n",
       "1                    1                           1  ... -0.100695 -0.222924   \n",
       "\n",
       "    dim_760   dim_761   dim_762   dim_763   dim_764   dim_765   dim_766   \n",
       "0 -0.062443 -0.214518  0.074292  0.104339 -0.135383 -0.334618 -0.169996  \\\n",
       "1  0.112311 -0.042177  0.077755 -0.127271 -0.111048 -0.031468 -0.161275   \n",
       "\n",
       "    dim_767  \n",
       "0  0.315318  \n",
       "1  0.247013  \n",
       "\n",
       "[2 rows x 782 columns]"
      ]
     },
     "execution_count": 4,
     "metadata": {},
     "output_type": "execute_result"
    }
   ],
   "source": [
    "df_user_embeddings.head(2)"
   ]
  },
  {
   "cell_type": "code",
   "execution_count": 5,
   "metadata": {},
   "outputs": [
    {
     "data": {
      "text/plain": [
       "(693941, 12)"
      ]
     },
     "execution_count": 5,
     "metadata": {},
     "output_type": "execute_result"
    }
   ],
   "source": [
    "# Upload user DataFrame:\n",
    "file_path_user_df = r'.\\..\\data\\data_clean\\user_clean_data_ecommerce.csv'  # Update this with your file path\n",
    "df_user = pd.read_csv(file_path_user_df)\n",
    "df_user.shape"
   ]
  },
  {
   "cell_type": "code",
   "execution_count": 6,
   "metadata": {},
   "outputs": [
    {
     "data": {
      "text/plain": [
       "rating                           0\n",
       "review_title                     0\n",
       "text_review                      0\n",
       "user_images                      0\n",
       "product_ID                       0\n",
       "parent_ID                        0\n",
       "user_ID                          0\n",
       "timestamp                        0\n",
       "helpful_review_vote              0\n",
       "user_purchase_verification       0\n",
       "year                             0\n",
       "cleaned_text                  1405\n",
       "dtype: int64"
      ]
     },
     "execution_count": 6,
     "metadata": {},
     "output_type": "execute_result"
    }
   ],
   "source": [
    "missing_values = df_user.isnull().sum()\n",
    "missing_values"
   ]
  },
  {
   "cell_type": "code",
   "execution_count": 7,
   "metadata": {},
   "outputs": [
    {
     "data": {
      "text/plain": [
       "(692536, 12)"
      ]
     },
     "execution_count": 7,
     "metadata": {},
     "output_type": "execute_result"
    }
   ],
   "source": [
    "df_user.dropna(inplace=True)\n",
    "df_user.shape"
   ]
  },
  {
   "cell_type": "markdown",
   "metadata": {},
   "source": [
    "### 1. Normalization of BERT embeddings:"
   ]
  },
  {
   "cell_type": "code",
   "execution_count": 8,
   "metadata": {},
   "outputs": [
    {
     "data": {
      "text/plain": [
       "array([[ 0.1840019 , -0.02873228,  0.44851863, ..., -0.33461767,\n",
       "        -0.1699961 ,  0.3153179 ],\n",
       "       [ 0.08434828,  0.3667166 ,  0.31517023, ..., -0.03146759,\n",
       "        -0.16127543,  0.24701294],\n",
       "       [ 0.4264943 ,  0.15444493,  0.34537777, ..., -0.7313684 ,\n",
       "        -0.3611269 , -0.1057355 ],\n",
       "       ...,\n",
       "       [-0.06583165, -0.56118315,  0.17979641, ...,  0.11617286,\n",
       "         0.07983319, -0.4473238 ],\n",
       "       [ 0.04332516,  0.05818947,  0.44545922, ..., -0.2437644 ,\n",
       "         0.11565264, -0.2689667 ],\n",
       "       [-0.0346208 , -0.08343422,  0.13093697, ..., -0.3016686 ,\n",
       "        -0.17524104,  0.2820569 ]])"
      ]
     },
     "execution_count": 8,
     "metadata": {},
     "output_type": "execute_result"
    }
   ],
   "source": [
    "# Select only columns with embedding vectors (e.g., `dim_0`, `dim_1`, ..., `dim_780`)\n",
    "embedding_columns = [col for col in df_user_embeddings.columns if col.startswith('dim_')]\n",
    "# Convert to NumPy array\n",
    "embedding_matrix = df_user_embeddings[embedding_columns].values  \n",
    "embedding_matrix"
   ]
  },
  {
   "cell_type": "code",
   "execution_count": 9,
   "metadata": {},
   "outputs": [],
   "source": [
    "# Compute L2 norm along rows\n",
    "l2_norms = np.linalg.norm(embedding_matrix, axis=1, keepdims=True)  "
   ]
  },
  {
   "cell_type": "code",
   "execution_count": 10,
   "metadata": {},
   "outputs": [
    {
     "data": {
      "text/plain": [
       "array([[ 0.02091952, -0.00326663,  0.05099292, ..., -0.03804331,\n",
       "        -0.01932718,  0.03584908],\n",
       "       [ 0.01000431,  0.04349521,  0.03738144, ..., -0.00373228,\n",
       "        -0.01912842,  0.0292975 ],\n",
       "       [ 0.04388997,  0.01589372,  0.03554237, ..., -0.07526416,\n",
       "        -0.03716309, -0.0108811 ],\n",
       "       ...,\n",
       "       [-0.00681894, -0.05812816,  0.01862357, ...,  0.01203335,\n",
       "         0.00826924, -0.04633445],\n",
       "       [ 0.00467376,  0.00627726,  0.04805448, ..., -0.02629639,\n",
       "         0.01247617, -0.02901512],\n",
       "       [-0.0040209 , -0.00969014,  0.01520717, ..., -0.03503613,\n",
       "        -0.02035269,  0.0327584 ]])"
      ]
     },
     "execution_count": 10,
     "metadata": {},
     "output_type": "execute_result"
    }
   ],
   "source": [
    "# Normalize the embedding columns\n",
    "normalized_embeddings = embedding_matrix / l2_norms  # Divide each row by its L2 norm\n",
    "normalized_embeddings"
   ]
  },
  {
   "cell_type": "markdown",
   "metadata": {},
   "source": [
    "Generate the output DataFrame with normalized embeddings:"
   ]
  },
  {
   "cell_type": "code",
   "execution_count": 11,
   "metadata": {},
   "outputs": [],
   "source": [
    "num_dimensions = normalized_embeddings.shape[1]\n",
    "norm_embedding_columns_names = [f'dim_norm_{i}' for i in range(num_dimensions)]"
   ]
  },
  {
   "cell_type": "code",
   "execution_count": 12,
   "metadata": {},
   "outputs": [],
   "source": [
    "embeddings_norm = pd.DataFrame(normalized_embeddings, columns=norm_embedding_columns_names)"
   ]
  },
  {
   "cell_type": "code",
   "execution_count": 13,
   "metadata": {},
   "outputs": [
    {
     "data": {
      "text/html": [
       "<div>\n",
       "<style scoped>\n",
       "    .dataframe tbody tr th:only-of-type {\n",
       "        vertical-align: middle;\n",
       "    }\n",
       "\n",
       "    .dataframe tbody tr th {\n",
       "        vertical-align: top;\n",
       "    }\n",
       "\n",
       "    .dataframe thead th {\n",
       "        text-align: right;\n",
       "    }\n",
       "</style>\n",
       "<table border=\"1\" class=\"dataframe\">\n",
       "  <thead>\n",
       "    <tr style=\"text-align: right;\">\n",
       "      <th></th>\n",
       "      <th>rating</th>\n",
       "      <th>review_title</th>\n",
       "      <th>text_review</th>\n",
       "      <th>user_images</th>\n",
       "      <th>product_ID</th>\n",
       "      <th>parent_ID</th>\n",
       "      <th>user_ID</th>\n",
       "      <th>timestamp</th>\n",
       "      <th>helpful_review_vote</th>\n",
       "      <th>user_purchase_verification</th>\n",
       "      <th>...</th>\n",
       "      <th>dim_norm_758</th>\n",
       "      <th>dim_norm_759</th>\n",
       "      <th>dim_norm_760</th>\n",
       "      <th>dim_norm_761</th>\n",
       "      <th>dim_norm_762</th>\n",
       "      <th>dim_norm_763</th>\n",
       "      <th>dim_norm_764</th>\n",
       "      <th>dim_norm_765</th>\n",
       "      <th>dim_norm_766</th>\n",
       "      <th>dim_norm_767</th>\n",
       "    </tr>\n",
       "  </thead>\n",
       "  <tbody>\n",
       "    <tr>\n",
       "      <th>0</th>\n",
       "      <td>5</td>\n",
       "      <td>Such a lovely scent but not overpowering.</td>\n",
       "      <td>This spray is really nice. It smells really go...</td>\n",
       "      <td>[]</td>\n",
       "      <td>B00YQ6X8EO</td>\n",
       "      <td>B00YQ6X8EO</td>\n",
       "      <td>AGKHLEW2SOWHNMFQIJGBECAF7INQ</td>\n",
       "      <td>2020-05-05 14:08:48.923</td>\n",
       "      <td>0</td>\n",
       "      <td>1</td>\n",
       "      <td>...</td>\n",
       "      <td>-0.010756</td>\n",
       "      <td>-0.04675</td>\n",
       "      <td>-0.007099</td>\n",
       "      <td>-0.024389</td>\n",
       "      <td>0.008446</td>\n",
       "      <td>0.011863</td>\n",
       "      <td>-0.015392</td>\n",
       "      <td>-0.038043</td>\n",
       "      <td>-0.019327</td>\n",
       "      <td>0.035849</td>\n",
       "    </tr>\n",
       "    <tr>\n",
       "      <th>1</th>\n",
       "      <td>4</td>\n",
       "      <td>Works great but smells a little weird.</td>\n",
       "      <td>This product does what I need it to do, I just...</td>\n",
       "      <td>[]</td>\n",
       "      <td>B081TJ8YS3</td>\n",
       "      <td>B081TJ8YS3</td>\n",
       "      <td>AGKHLEW2SOWHNMFQIJGBECAF7INQ</td>\n",
       "      <td>2020-05-04 18:10:55.070</td>\n",
       "      <td>1</td>\n",
       "      <td>1</td>\n",
       "      <td>...</td>\n",
       "      <td>-0.011943</td>\n",
       "      <td>-0.02644</td>\n",
       "      <td>0.013321</td>\n",
       "      <td>-0.005003</td>\n",
       "      <td>0.009222</td>\n",
       "      <td>-0.015095</td>\n",
       "      <td>-0.013171</td>\n",
       "      <td>-0.003732</td>\n",
       "      <td>-0.019128</td>\n",
       "      <td>0.029297</td>\n",
       "    </tr>\n",
       "  </tbody>\n",
       "</table>\n",
       "<p>2 rows × 780 columns</p>\n",
       "</div>"
      ],
      "text/plain": [
       "   rating                               review_title   \n",
       "0       5  Such a lovely scent but not overpowering.  \\\n",
       "1       4     Works great but smells a little weird.   \n",
       "\n",
       "                                         text_review user_images  product_ID   \n",
       "0  This spray is really nice. It smells really go...          []  B00YQ6X8EO  \\\n",
       "1  This product does what I need it to do, I just...          []  B081TJ8YS3   \n",
       "\n",
       "    parent_ID                       user_ID                timestamp   \n",
       "0  B00YQ6X8EO  AGKHLEW2SOWHNMFQIJGBECAF7INQ  2020-05-05 14:08:48.923  \\\n",
       "1  B081TJ8YS3  AGKHLEW2SOWHNMFQIJGBECAF7INQ  2020-05-04 18:10:55.070   \n",
       "\n",
       "   helpful_review_vote  user_purchase_verification  ...  dim_norm_758   \n",
       "0                    0                           1  ...     -0.010756  \\\n",
       "1                    1                           1  ...     -0.011943   \n",
       "\n",
       "  dim_norm_759  dim_norm_760  dim_norm_761  dim_norm_762  dim_norm_763   \n",
       "0     -0.04675     -0.007099     -0.024389      0.008446      0.011863  \\\n",
       "1     -0.02644      0.013321     -0.005003      0.009222     -0.015095   \n",
       "\n",
       "   dim_norm_764  dim_norm_765  dim_norm_766  dim_norm_767  \n",
       "0     -0.015392     -0.038043     -0.019327      0.035849  \n",
       "1     -0.013171     -0.003732     -0.019128      0.029297  \n",
       "\n",
       "[2 rows x 780 columns]"
      ]
     },
     "execution_count": 13,
     "metadata": {},
     "output_type": "execute_result"
    }
   ],
   "source": [
    "df_normalized_embeddings = pd.concat([df_user.reset_index(drop=True), embeddings_norm], axis=1)\n",
    "df_normalized_embeddings.head(2)"
   ]
  },
  {
   "cell_type": "code",
   "execution_count": 27,
   "metadata": {},
   "outputs": [
    {
     "name": "stdout",
     "output_type": "stream",
     "text": [
      "0\n"
     ]
    }
   ],
   "source": [
    "# Identify columns of interest (dim_0 to dim_767)\n",
    "columns_of_interest = [f'dim_norm_{i}' for i in range(768)]\n",
    "\n",
    "# Count rows with NaN in these columns\n",
    "num_rows_with_nan_norm = df_normalized_embeddings[columns_of_interest].isna().any(axis=1).sum()\n",
    "\n",
    "# Display the count\n",
    "print(num_rows_with_nan_norm)"
   ]
  },
  {
   "cell_type": "markdown",
   "metadata": {},
   "source": [
    "### 2. Dimentionality reduction with PCA"
   ]
  },
  {
   "cell_type": "markdown",
   "metadata": {},
   "source": [
    "* Similar steps but here the output is a final user dataframe with vectors of 300 dimensions (In the beginning I have chosen 10 only because that's what they have done in the artile but the variance dropped to 45%, so I set up for now 300 which gives ~95%.) We can always adjust it"
   ]
  },
  {
   "cell_type": "code",
   "execution_count": 14,
   "metadata": {},
   "outputs": [],
   "source": [
    "pd.set_option('display.max_colwidth', 50)  # Adjust column width\n",
    "pd.set_option('display.width', 100)       # Adjust width of display"
   ]
  },
  {
   "cell_type": "code",
   "execution_count": 15,
   "metadata": {},
   "outputs": [],
   "source": [
    "# Perform dimensionality reduction to 300 components using PCA\n",
    "pca = PCA(n_components=300)"
   ]
  },
  {
   "cell_type": "code",
   "execution_count": 16,
   "metadata": {},
   "outputs": [],
   "source": [
    "pca_embeddings = pca.fit_transform(normalized_embeddings)"
   ]
  },
  {
   "cell_type": "code",
   "execution_count": 17,
   "metadata": {},
   "outputs": [
    {
     "name": "stdout",
     "output_type": "stream",
     "text": [
      "(692536, 300)\n"
     ]
    }
   ],
   "source": [
    "print(pca_embeddings.shape)"
   ]
  },
  {
   "cell_type": "code",
   "execution_count": 18,
   "metadata": {},
   "outputs": [
    {
     "data": {
      "text/plain": [
       "array([[-2.30633400e-01, -1.55406547e-02, -5.16886916e-02, ...,\n",
       "         3.10317855e-03, -5.15842332e-04, -2.63670844e-03],\n",
       "       [-1.99009840e-01,  4.69143125e-02,  1.08883653e-02, ...,\n",
       "         8.05537726e-05,  3.05111354e-03,  9.44715873e-03],\n",
       "       [ 2.35409582e-01,  9.81661375e-02, -9.39911774e-02, ...,\n",
       "        -4.57112285e-04,  1.51470415e-03, -8.87103578e-03],\n",
       "       ...,\n",
       "       [ 2.23873825e-01, -1.09258641e-02, -8.32288031e-02, ...,\n",
       "         1.26885247e-02,  1.10248007e-03, -1.18599401e-02],\n",
       "       [-1.13002415e-01,  2.42464960e-01,  1.13006425e-02, ...,\n",
       "        -1.06663854e-02,  9.10383584e-03,  3.87356529e-03],\n",
       "       [-2.47624448e-01, -1.11653287e-01, -5.28179827e-02, ...,\n",
       "         1.01415775e-02, -4.17305760e-03,  5.47411018e-03]])"
      ]
     },
     "execution_count": 18,
     "metadata": {},
     "output_type": "execute_result"
    }
   ],
   "source": [
    "pca_embeddings"
   ]
  },
  {
   "cell_type": "markdown",
   "metadata": {},
   "source": [
    "### 3. PCA - Variance analysis"
   ]
  },
  {
   "cell_type": "markdown",
   "metadata": {},
   "source": [
    "* Verify if the size of reduced embeddings is big enough to still keep the meaning of the textual data"
   ]
  },
  {
   "cell_type": "code",
   "execution_count": 19,
   "metadata": {},
   "outputs": [
    {
     "data": {
      "text/plain": [
       "(692536, 768)"
      ]
     },
     "execution_count": 19,
     "metadata": {},
     "output_type": "execute_result"
    }
   ],
   "source": [
    "embeddings_norm.shape"
   ]
  },
  {
   "cell_type": "code",
   "execution_count": 20,
   "metadata": {},
   "outputs": [
    {
     "name": "stdout",
     "output_type": "stream",
     "text": [
      "Explained Variance Ratio for 300 Dimensions: [0.1708849  0.04192091 0.03681915 0.03252424 0.02830417 0.02632476\n",
      " 0.02417032 0.02206136 0.01988072 0.01806828 0.01670958 0.01523421\n",
      " 0.01472129 0.01379962 0.01262209 0.0117627  0.01051655 0.01030609\n",
      " 0.00986323 0.00893262 0.00873728 0.00808277 0.00787184 0.00758196\n",
      " 0.00734143 0.00686471 0.00680506 0.00654111 0.00631994 0.0062196\n",
      " 0.00607355 0.00583796 0.00537985 0.00525169 0.00512208 0.0050183\n",
      " 0.00489955 0.0046933  0.00456008 0.00428266 0.0042379  0.00409307\n",
      " 0.00399598 0.00389995 0.00378321 0.00375769 0.00365085 0.00350971\n",
      " 0.00345561 0.00339596 0.0033403  0.00330208 0.00322428 0.00317915\n",
      " 0.00300452 0.00295732 0.00293198 0.00288629 0.00282719 0.0027646\n",
      " 0.00272828 0.00268521 0.00265742 0.0025835  0.00250174 0.00245645\n",
      " 0.00238871 0.002326   0.00231586 0.0022487  0.00219941 0.00215871\n",
      " 0.0021424  0.00211961 0.0020541  0.00204117 0.0020162  0.00198249\n",
      " 0.00192741 0.00190663 0.00186903 0.00185306 0.00182963 0.00179868\n",
      " 0.00175412 0.00174697 0.00174342 0.00170223 0.00169121 0.0016494\n",
      " 0.00162471 0.00161123 0.0015959  0.00156185 0.00153692 0.00152871\n",
      " 0.00149761 0.00148589 0.00146526 0.00145867 0.00144937 0.00141294\n",
      " 0.00140135 0.00138767 0.00137817 0.00135167 0.00132442 0.00131987\n",
      " 0.00130038 0.00129071 0.00126942 0.0012637  0.00123596 0.00122837\n",
      " 0.00122102 0.00119058 0.00118385 0.00116976 0.00116399 0.00114195\n",
      " 0.00113243 0.00110974 0.00109732 0.00107457 0.00107144 0.00106268\n",
      " 0.00105941 0.0010399  0.00103135 0.00102426 0.00101502 0.00100546\n",
      " 0.00098616 0.00097783 0.00096733 0.00095642 0.00094244 0.00093556\n",
      " 0.00092851 0.00091575 0.00091418 0.00090999 0.00090475 0.00089259\n",
      " 0.00088182 0.00087393 0.00086809 0.00086118 0.00085912 0.0008424\n",
      " 0.0008343  0.00082556 0.00082531 0.00080361 0.00079606 0.00078566\n",
      " 0.00078192 0.00077832 0.00077142 0.00076546 0.00075705 0.00074394\n",
      " 0.00074256 0.00073076 0.00072834 0.00072102 0.00071644 0.00071214\n",
      " 0.00070796 0.00070245 0.00069886 0.0006912  0.0006827  0.0006802\n",
      " 0.00067767 0.00067242 0.00066214 0.00066123 0.00065293 0.00064766\n",
      " 0.00064154 0.00063439 0.00062933 0.00061899 0.00061599 0.0006122\n",
      " 0.00060717 0.00060612 0.00060139 0.00059504 0.00058429 0.00058162\n",
      " 0.00057926 0.00057053 0.00056289 0.00055739 0.00055674 0.00055125\n",
      " 0.00054754 0.00054662 0.00054144 0.00053513 0.00053426 0.00053166\n",
      " 0.00052432 0.00052294 0.00052163 0.00051777 0.00051248 0.00051014\n",
      " 0.00050702 0.00050173 0.00050019 0.00049182 0.00049144 0.00048533\n",
      " 0.00048403 0.00048096 0.00048058 0.00047604 0.00047133 0.00046879\n",
      " 0.00046513 0.00046463 0.00045553 0.00045369 0.00044702 0.00043951\n",
      " 0.00043754 0.00043656 0.00043333 0.00043093 0.00042656 0.00042374\n",
      " 0.00042029 0.00041831 0.00041617 0.00041308 0.00041251 0.00040954\n",
      " 0.00040644 0.00040242 0.00039944 0.00039748 0.00039592 0.00038931\n",
      " 0.00038779 0.00038409 0.00037858 0.00037734 0.00037502 0.0003736\n",
      " 0.00037204 0.00036787 0.00036548 0.0003645  0.00035881 0.00035583\n",
      " 0.00035492 0.00035117 0.00034986 0.00034906 0.00034817 0.00034606\n",
      " 0.00034469 0.00033998 0.00033714 0.00033436 0.00033196 0.00033084\n",
      " 0.00032791 0.00032608 0.00032381 0.00032026 0.00031902 0.00031606\n",
      " 0.00031439 0.00031143 0.00030978 0.00030796 0.00030542 0.00030256\n",
      " 0.00029933 0.00029794 0.00029506 0.00029306 0.00028941 0.00028539\n",
      " 0.0002846  0.00028155 0.00028013 0.00027819 0.00027744 0.00027419\n",
      " 0.00027333 0.00026992 0.00026865 0.00026288 0.00026051 0.00025925]\n",
      "Total Explained Variance Captured by 300 Dimensions: 0.9428188117907518\n"
     ]
    }
   ],
   "source": [
    "# Fit PCA to the original embeddings\n",
    "pca = PCA(n_components=300)\n",
    "pca.fit(embeddings_norm)\n",
    "\n",
    "# Check explained variance\n",
    "explained_variance = pca.explained_variance_ratio_\n",
    "total_variance = sum(explained_variance)\n",
    "\n",
    "print(\"Explained Variance Ratio for 300 Dimensions:\", explained_variance)\n",
    "print(\"Total Explained Variance Captured by 300 Dimensions:\", total_variance)"
   ]
  },
  {
   "cell_type": "markdown",
   "metadata": {},
   "source": [
    "### 4. Generate a merged DataFrame from df_user, including columns for embedding dimensions."
   ]
  },
  {
   "cell_type": "code",
   "execution_count": 21,
   "metadata": {},
   "outputs": [],
   "source": [
    "# Create column names for embedding dimensions - normalized data after dimentionality reducion\n",
    "num_dimensions_pca = pca_embeddings.shape[1]\n",
    "normalized_columns_PCA = [f'dim_norm_PCA{i}' for i in range(num_dimensions_pca)]"
   ]
  },
  {
   "cell_type": "code",
   "execution_count": 22,
   "metadata": {},
   "outputs": [],
   "source": [
    "embeddings_df_PCA = pd.DataFrame(pca_embeddings, columns=normalized_columns_PCA)"
   ]
  },
  {
   "cell_type": "code",
   "execution_count": 23,
   "metadata": {},
   "outputs": [],
   "source": [
    "df_user_normalized_PCA = pd.concat([df_user.reset_index(drop=True), embeddings_df_PCA], axis=1)"
   ]
  },
  {
   "cell_type": "code",
   "execution_count": 24,
   "metadata": {},
   "outputs": [
    {
     "data": {
      "text/html": [
       "<div>\n",
       "<style scoped>\n",
       "    .dataframe tbody tr th:only-of-type {\n",
       "        vertical-align: middle;\n",
       "    }\n",
       "\n",
       "    .dataframe tbody tr th {\n",
       "        vertical-align: top;\n",
       "    }\n",
       "\n",
       "    .dataframe thead th {\n",
       "        text-align: right;\n",
       "    }\n",
       "</style>\n",
       "<table border=\"1\" class=\"dataframe\">\n",
       "  <thead>\n",
       "    <tr style=\"text-align: right;\">\n",
       "      <th></th>\n",
       "      <th>rating</th>\n",
       "      <th>review_title</th>\n",
       "      <th>text_review</th>\n",
       "      <th>user_images</th>\n",
       "      <th>product_ID</th>\n",
       "      <th>parent_ID</th>\n",
       "      <th>user_ID</th>\n",
       "      <th>timestamp</th>\n",
       "      <th>helpful_review_vote</th>\n",
       "      <th>user_purchase_verification</th>\n",
       "      <th>...</th>\n",
       "      <th>dim_norm_PCA290</th>\n",
       "      <th>dim_norm_PCA291</th>\n",
       "      <th>dim_norm_PCA292</th>\n",
       "      <th>dim_norm_PCA293</th>\n",
       "      <th>dim_norm_PCA294</th>\n",
       "      <th>dim_norm_PCA295</th>\n",
       "      <th>dim_norm_PCA296</th>\n",
       "      <th>dim_norm_PCA297</th>\n",
       "      <th>dim_norm_PCA298</th>\n",
       "      <th>dim_norm_PCA299</th>\n",
       "    </tr>\n",
       "  </thead>\n",
       "  <tbody>\n",
       "    <tr>\n",
       "      <th>0</th>\n",
       "      <td>5</td>\n",
       "      <td>Such a lovely scent but not overpowering.</td>\n",
       "      <td>This spray is really nice. It smells really go...</td>\n",
       "      <td>[]</td>\n",
       "      <td>B00YQ6X8EO</td>\n",
       "      <td>B00YQ6X8EO</td>\n",
       "      <td>AGKHLEW2SOWHNMFQIJGBECAF7INQ</td>\n",
       "      <td>2020-05-05 14:08:48.923</td>\n",
       "      <td>0</td>\n",
       "      <td>1</td>\n",
       "      <td>...</td>\n",
       "      <td>0.004272</td>\n",
       "      <td>-0.005814</td>\n",
       "      <td>0.003468</td>\n",
       "      <td>0.000654</td>\n",
       "      <td>-0.000213</td>\n",
       "      <td>-0.010545</td>\n",
       "      <td>-0.000657</td>\n",
       "      <td>0.003103</td>\n",
       "      <td>-0.000516</td>\n",
       "      <td>-0.002637</td>\n",
       "    </tr>\n",
       "    <tr>\n",
       "      <th>1</th>\n",
       "      <td>4</td>\n",
       "      <td>Works great but smells a little weird.</td>\n",
       "      <td>This product does what I need it to do, I just...</td>\n",
       "      <td>[]</td>\n",
       "      <td>B081TJ8YS3</td>\n",
       "      <td>B081TJ8YS3</td>\n",
       "      <td>AGKHLEW2SOWHNMFQIJGBECAF7INQ</td>\n",
       "      <td>2020-05-04 18:10:55.070</td>\n",
       "      <td>1</td>\n",
       "      <td>1</td>\n",
       "      <td>...</td>\n",
       "      <td>-0.004963</td>\n",
       "      <td>0.006196</td>\n",
       "      <td>0.018234</td>\n",
       "      <td>-0.000595</td>\n",
       "      <td>0.000575</td>\n",
       "      <td>-0.000085</td>\n",
       "      <td>-0.009253</td>\n",
       "      <td>0.000081</td>\n",
       "      <td>0.003051</td>\n",
       "      <td>0.009447</td>\n",
       "    </tr>\n",
       "    <tr>\n",
       "      <th>2</th>\n",
       "      <td>5</td>\n",
       "      <td>Yes!</td>\n",
       "      <td>Smells good, feels great!</td>\n",
       "      <td>[]</td>\n",
       "      <td>B07PNNCSP9</td>\n",
       "      <td>B097R46CSY</td>\n",
       "      <td>AE74DYR3QUGVPZJ3P7RFWBGIX7XQ</td>\n",
       "      <td>2020-05-16 21:41:06.052</td>\n",
       "      <td>2</td>\n",
       "      <td>1</td>\n",
       "      <td>...</td>\n",
       "      <td>-0.008566</td>\n",
       "      <td>0.010660</td>\n",
       "      <td>0.000162</td>\n",
       "      <td>-0.007886</td>\n",
       "      <td>-0.021583</td>\n",
       "      <td>0.008327</td>\n",
       "      <td>0.026418</td>\n",
       "      <td>-0.000457</td>\n",
       "      <td>0.001515</td>\n",
       "      <td>-0.008871</td>\n",
       "    </tr>\n",
       "    <tr>\n",
       "      <th>3</th>\n",
       "      <td>1</td>\n",
       "      <td>Synthetic feeling</td>\n",
       "      <td>Felt synthetic</td>\n",
       "      <td>[]</td>\n",
       "      <td>B09JS339BZ</td>\n",
       "      <td>B09JS339BZ</td>\n",
       "      <td>AFQLNQNQYFWQZPJQZS6V3NZU4QBQ</td>\n",
       "      <td>2022-01-28 18:13:50.220</td>\n",
       "      <td>0</td>\n",
       "      <td>1</td>\n",
       "      <td>...</td>\n",
       "      <td>-0.009832</td>\n",
       "      <td>-0.000473</td>\n",
       "      <td>0.007639</td>\n",
       "      <td>-0.020125</td>\n",
       "      <td>-0.009543</td>\n",
       "      <td>0.026980</td>\n",
       "      <td>0.014644</td>\n",
       "      <td>-0.007096</td>\n",
       "      <td>-0.016638</td>\n",
       "      <td>-0.011253</td>\n",
       "    </tr>\n",
       "    <tr>\n",
       "      <th>4</th>\n",
       "      <td>5</td>\n",
       "      <td>A+</td>\n",
       "      <td>Love it</td>\n",
       "      <td>[]</td>\n",
       "      <td>B08BZ63GMJ</td>\n",
       "      <td>B08BZ63GMJ</td>\n",
       "      <td>AFQLNQNQYFWQZPJQZS6V3NZU4QBQ</td>\n",
       "      <td>2020-12-30 10:02:43.534</td>\n",
       "      <td>0</td>\n",
       "      <td>1</td>\n",
       "      <td>...</td>\n",
       "      <td>-0.000297</td>\n",
       "      <td>-0.002490</td>\n",
       "      <td>-0.003071</td>\n",
       "      <td>-0.000004</td>\n",
       "      <td>-0.002265</td>\n",
       "      <td>-0.002435</td>\n",
       "      <td>-0.001507</td>\n",
       "      <td>0.002442</td>\n",
       "      <td>0.000911</td>\n",
       "      <td>0.000420</td>\n",
       "    </tr>\n",
       "  </tbody>\n",
       "</table>\n",
       "<p>5 rows × 312 columns</p>\n",
       "</div>"
      ],
      "text/plain": [
       "   rating                               review_title   \n",
       "0       5  Such a lovely scent but not overpowering.  \\\n",
       "1       4     Works great but smells a little weird.   \n",
       "2       5                                       Yes!   \n",
       "3       1                          Synthetic feeling   \n",
       "4       5                                         A+   \n",
       "\n",
       "                                         text_review user_images  product_ID   parent_ID   \n",
       "0  This spray is really nice. It smells really go...          []  B00YQ6X8EO  B00YQ6X8EO  \\\n",
       "1  This product does what I need it to do, I just...          []  B081TJ8YS3  B081TJ8YS3   \n",
       "2                          Smells good, feels great!          []  B07PNNCSP9  B097R46CSY   \n",
       "3                                     Felt synthetic          []  B09JS339BZ  B09JS339BZ   \n",
       "4                                            Love it          []  B08BZ63GMJ  B08BZ63GMJ   \n",
       "\n",
       "                        user_ID                timestamp  helpful_review_vote   \n",
       "0  AGKHLEW2SOWHNMFQIJGBECAF7INQ  2020-05-05 14:08:48.923                    0  \\\n",
       "1  AGKHLEW2SOWHNMFQIJGBECAF7INQ  2020-05-04 18:10:55.070                    1   \n",
       "2  AE74DYR3QUGVPZJ3P7RFWBGIX7XQ  2020-05-16 21:41:06.052                    2   \n",
       "3  AFQLNQNQYFWQZPJQZS6V3NZU4QBQ  2022-01-28 18:13:50.220                    0   \n",
       "4  AFQLNQNQYFWQZPJQZS6V3NZU4QBQ  2020-12-30 10:02:43.534                    0   \n",
       "\n",
       "   user_purchase_verification  ...  dim_norm_PCA290 dim_norm_PCA291  dim_norm_PCA292   \n",
       "0                           1  ...         0.004272       -0.005814         0.003468  \\\n",
       "1                           1  ...        -0.004963        0.006196         0.018234   \n",
       "2                           1  ...        -0.008566        0.010660         0.000162   \n",
       "3                           1  ...        -0.009832       -0.000473         0.007639   \n",
       "4                           1  ...        -0.000297       -0.002490        -0.003071   \n",
       "\n",
       "   dim_norm_PCA293  dim_norm_PCA294  dim_norm_PCA295  dim_norm_PCA296  dim_norm_PCA297   \n",
       "0         0.000654        -0.000213        -0.010545        -0.000657         0.003103  \\\n",
       "1        -0.000595         0.000575        -0.000085        -0.009253         0.000081   \n",
       "2        -0.007886        -0.021583         0.008327         0.026418        -0.000457   \n",
       "3        -0.020125        -0.009543         0.026980         0.014644        -0.007096   \n",
       "4        -0.000004        -0.002265        -0.002435        -0.001507         0.002442   \n",
       "\n",
       "   dim_norm_PCA298  dim_norm_PCA299  \n",
       "0        -0.000516        -0.002637  \n",
       "1         0.003051         0.009447  \n",
       "2         0.001515        -0.008871  \n",
       "3        -0.016638        -0.011253  \n",
       "4         0.000911         0.000420  \n",
       "\n",
       "[5 rows x 312 columns]"
      ]
     },
     "execution_count": 24,
     "metadata": {},
     "output_type": "execute_result"
    }
   ],
   "source": [
    "df_user_normalized_PCA.head(5)"
   ]
  },
  {
   "cell_type": "code",
   "execution_count": 25,
   "metadata": {},
   "outputs": [
    {
     "data": {
      "text/html": [
       "<div>\n",
       "<style scoped>\n",
       "    .dataframe tbody tr th:only-of-type {\n",
       "        vertical-align: middle;\n",
       "    }\n",
       "\n",
       "    .dataframe tbody tr th {\n",
       "        vertical-align: top;\n",
       "    }\n",
       "\n",
       "    .dataframe thead th {\n",
       "        text-align: right;\n",
       "    }\n",
       "</style>\n",
       "<table border=\"1\" class=\"dataframe\">\n",
       "  <thead>\n",
       "    <tr style=\"text-align: right;\">\n",
       "      <th></th>\n",
       "      <th>rating</th>\n",
       "      <th>review_title</th>\n",
       "      <th>text_review</th>\n",
       "      <th>user_images</th>\n",
       "      <th>product_ID</th>\n",
       "      <th>parent_ID</th>\n",
       "      <th>user_ID</th>\n",
       "      <th>timestamp</th>\n",
       "      <th>helpful_review_vote</th>\n",
       "      <th>user_purchase_verification</th>\n",
       "      <th>...</th>\n",
       "      <th>dim_norm_PCA290</th>\n",
       "      <th>dim_norm_PCA291</th>\n",
       "      <th>dim_norm_PCA292</th>\n",
       "      <th>dim_norm_PCA293</th>\n",
       "      <th>dim_norm_PCA294</th>\n",
       "      <th>dim_norm_PCA295</th>\n",
       "      <th>dim_norm_PCA296</th>\n",
       "      <th>dim_norm_PCA297</th>\n",
       "      <th>dim_norm_PCA298</th>\n",
       "      <th>dim_norm_PCA299</th>\n",
       "    </tr>\n",
       "  </thead>\n",
       "  <tbody>\n",
       "    <tr>\n",
       "      <th>692429</th>\n",
       "      <td>5</td>\n",
       "      <td>Combine with wardrobe.</td>\n",
       "      <td>LOVE THE COLORS AND THE BEDAZZLED.</td>\n",
       "      <td>[]</td>\n",
       "      <td>B08LBVL2D6</td>\n",
       "      <td>B08LBVL2D6</td>\n",
       "      <td>AEVTGJFLW22HVSWOJLJCBJUN46WA</td>\n",
       "      <td>2021-02-03 03:25:55.427</td>\n",
       "      <td>0</td>\n",
       "      <td>1</td>\n",
       "      <td>...</td>\n",
       "      <td>-0.001981</td>\n",
       "      <td>0.009578</td>\n",
       "      <td>0.023686</td>\n",
       "      <td>-0.023858</td>\n",
       "      <td>0.005411</td>\n",
       "      <td>-0.003244</td>\n",
       "      <td>-0.011104</td>\n",
       "      <td>0.018398</td>\n",
       "      <td>-0.010818</td>\n",
       "      <td>0.026150</td>\n",
       "    </tr>\n",
       "    <tr>\n",
       "      <th>692430</th>\n",
       "      <td>5</td>\n",
       "      <td>Coordinate with wardrobe.</td>\n",
       "      <td>I like the colors and material.</td>\n",
       "      <td>[]</td>\n",
       "      <td>B08MVCBZGJ</td>\n",
       "      <td>B08MVCBZGJ</td>\n",
       "      <td>AEVTGJFLW22HVSWOJLJCBJUN46WA</td>\n",
       "      <td>2021-02-03 03:24:41.143</td>\n",
       "      <td>0</td>\n",
       "      <td>1</td>\n",
       "      <td>...</td>\n",
       "      <td>0.003146</td>\n",
       "      <td>0.018773</td>\n",
       "      <td>-0.009111</td>\n",
       "      <td>0.012281</td>\n",
       "      <td>-0.016377</td>\n",
       "      <td>0.004642</td>\n",
       "      <td>0.006571</td>\n",
       "      <td>0.002912</td>\n",
       "      <td>-0.002078</td>\n",
       "      <td>-0.004731</td>\n",
       "    </tr>\n",
       "  </tbody>\n",
       "</table>\n",
       "<p>2 rows × 312 columns</p>\n",
       "</div>"
      ],
      "text/plain": [
       "        rating               review_title                         text_review user_images   \n",
       "692429       5     Combine with wardrobe.  LOVE THE COLORS AND THE BEDAZZLED.          []  \\\n",
       "692430       5  Coordinate with wardrobe.     I like the colors and material.          []   \n",
       "\n",
       "        product_ID   parent_ID                       user_ID                timestamp   \n",
       "692429  B08LBVL2D6  B08LBVL2D6  AEVTGJFLW22HVSWOJLJCBJUN46WA  2021-02-03 03:25:55.427  \\\n",
       "692430  B08MVCBZGJ  B08MVCBZGJ  AEVTGJFLW22HVSWOJLJCBJUN46WA  2021-02-03 03:24:41.143   \n",
       "\n",
       "        helpful_review_vote  user_purchase_verification  ...  dim_norm_PCA290 dim_norm_PCA291   \n",
       "692429                    0                           1  ...        -0.001981        0.009578  \\\n",
       "692430                    0                           1  ...         0.003146        0.018773   \n",
       "\n",
       "        dim_norm_PCA292  dim_norm_PCA293  dim_norm_PCA294  dim_norm_PCA295  dim_norm_PCA296   \n",
       "692429         0.023686        -0.023858         0.005411        -0.003244        -0.011104  \\\n",
       "692430        -0.009111         0.012281        -0.016377         0.004642         0.006571   \n",
       "\n",
       "        dim_norm_PCA297  dim_norm_PCA298  dim_norm_PCA299  \n",
       "692429         0.018398        -0.010818         0.026150  \n",
       "692430         0.002912        -0.002078        -0.004731  \n",
       "\n",
       "[2 rows x 312 columns]"
      ]
     },
     "execution_count": 25,
     "metadata": {},
     "output_type": "execute_result"
    }
   ],
   "source": [
    "df_user_normalized_PCA[df_user_normalized_PCA['user_ID'] == 'AEVTGJFLW22HVSWOJLJCBJUN46WA']"
   ]
  },
  {
   "cell_type": "markdown",
   "metadata": {},
   "source": [
    "Save the output DataFrame:"
   ]
  },
  {
   "cell_type": "code",
   "execution_count": 26,
   "metadata": {},
   "outputs": [],
   "source": [
    "# Save the DataFrame with normalized & reduced embeddings:\n",
    "timestamp = datetime.now().strftime(\"%Y%m%d_%H%M%S\")\n",
    "\n",
    "file_path = rf'.\\..\\data\\embeddings_dim_reduction\\df_user_normalized_PCA{timestamp}.csv'\n",
    "df_user_normalized_PCA.to_csv(file_path, index=False)"
   ]
  },
  {
   "cell_type": "code",
   "execution_count": null,
   "metadata": {},
   "outputs": [],
   "source": []
  }
 ],
 "metadata": {
  "kernelspec": {
   "display_name": ".venv",
   "language": "python",
   "name": "python3"
  },
  "language_info": {
   "codemirror_mode": {
    "name": "ipython",
    "version": 3
   },
   "file_extension": ".py",
   "mimetype": "text/x-python",
   "name": "python",
   "nbconvert_exporter": "python",
   "pygments_lexer": "ipython3",
   "version": "3.11.3"
  }
 },
 "nbformat": 4,
 "nbformat_minor": 2
}
