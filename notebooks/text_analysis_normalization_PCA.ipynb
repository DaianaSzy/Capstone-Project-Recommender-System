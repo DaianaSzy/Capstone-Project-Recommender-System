{
 "cells": [
  {
   "cell_type": "code",
   "execution_count": 1,
   "metadata": {},
   "outputs": [],
   "source": [
    "import pandas as pd\n",
    "from sklearn.model_selection import train_test_split\n",
    "from sklearn.decomposition import PCA\n",
    "from transformers import BertTokenizer, BertModel, pipeline\n",
    "import torch\n",
    "import numpy as np\n",
    "from sklearn.metrics.pairwise import cosine_similarity\n",
    "import ast\n",
    "import re\n",
    "from datetime import datetime"
   ]
  },
  {
   "cell_type": "markdown",
   "metadata": {},
   "source": [
    "Import data"
   ]
  },
  {
   "cell_type": "code",
   "execution_count": 4,
   "metadata": {},
   "outputs": [],
   "source": [
    "# Upload the data frame with BERT embeddings:\n",
    "file_path_embeddings = r'.\\..\\data\\embeddings_output\\df_user_embeddings_BERT.csv' # Update this with your file path\n",
    "df_user_embeddings = pd.read_csv(file_path_embeddings)"
   ]
  },
  {
   "cell_type": "code",
   "execution_count": 6,
   "metadata": {},
   "outputs": [
    {
     "data": {
      "text/html": [
       "<div>\n",
       "<style scoped>\n",
       "    .dataframe tbody tr th:only-of-type {\n",
       "        vertical-align: middle;\n",
       "    }\n",
       "\n",
       "    .dataframe tbody tr th {\n",
       "        vertical-align: top;\n",
       "    }\n",
       "\n",
       "    .dataframe thead th {\n",
       "        text-align: right;\n",
       "    }\n",
       "</style>\n",
       "<table border=\"1\" class=\"dataframe\">\n",
       "  <thead>\n",
       "    <tr style=\"text-align: right;\">\n",
       "      <th></th>\n",
       "      <th>rating</th>\n",
       "      <th>review_title</th>\n",
       "      <th>text_review</th>\n",
       "      <th>user_images</th>\n",
       "      <th>product_ID</th>\n",
       "      <th>parent_ID</th>\n",
       "      <th>user_ID</th>\n",
       "      <th>timestamp</th>\n",
       "      <th>helpful_review_vote</th>\n",
       "      <th>user_purchase_verification</th>\n",
       "      <th>...</th>\n",
       "      <th>dim_758</th>\n",
       "      <th>dim_759</th>\n",
       "      <th>dim_760</th>\n",
       "      <th>dim_761</th>\n",
       "      <th>dim_762</th>\n",
       "      <th>dim_763</th>\n",
       "      <th>dim_764</th>\n",
       "      <th>dim_765</th>\n",
       "      <th>dim_766</th>\n",
       "      <th>dim_767</th>\n",
       "    </tr>\n",
       "  </thead>\n",
       "  <tbody>\n",
       "    <tr>\n",
       "      <th>0</th>\n",
       "      <td>5</td>\n",
       "      <td>Such a lovely scent but not overpowering.</td>\n",
       "      <td>This spray is really nice. It smells really go...</td>\n",
       "      <td>[]</td>\n",
       "      <td>B00YQ6X8EO</td>\n",
       "      <td>B00YQ6X8EO</td>\n",
       "      <td>AGKHLEW2SOWHNMFQIJGBECAF7INQ</td>\n",
       "      <td>2020-05-05 14:08:48.923</td>\n",
       "      <td>0</td>\n",
       "      <td>1</td>\n",
       "      <td>...</td>\n",
       "      <td>-0.094609</td>\n",
       "      <td>-0.411200</td>\n",
       "      <td>-0.062443</td>\n",
       "      <td>-0.214518</td>\n",
       "      <td>0.074292</td>\n",
       "      <td>0.104339</td>\n",
       "      <td>-0.135383</td>\n",
       "      <td>-0.334618</td>\n",
       "      <td>-0.169996</td>\n",
       "      <td>0.315318</td>\n",
       "    </tr>\n",
       "    <tr>\n",
       "      <th>1</th>\n",
       "      <td>4</td>\n",
       "      <td>Works great but smells a little weird.</td>\n",
       "      <td>This product does what I need it to do, I just...</td>\n",
       "      <td>[]</td>\n",
       "      <td>B081TJ8YS3</td>\n",
       "      <td>B081TJ8YS3</td>\n",
       "      <td>AGKHLEW2SOWHNMFQIJGBECAF7INQ</td>\n",
       "      <td>2020-05-04 18:10:55.070</td>\n",
       "      <td>1</td>\n",
       "      <td>1</td>\n",
       "      <td>...</td>\n",
       "      <td>-0.100695</td>\n",
       "      <td>-0.222924</td>\n",
       "      <td>0.112311</td>\n",
       "      <td>-0.042177</td>\n",
       "      <td>0.077755</td>\n",
       "      <td>-0.127271</td>\n",
       "      <td>-0.111048</td>\n",
       "      <td>-0.031468</td>\n",
       "      <td>-0.161275</td>\n",
       "      <td>0.247013</td>\n",
       "    </tr>\n",
       "  </tbody>\n",
       "</table>\n",
       "<p>2 rows × 782 columns</p>\n",
       "</div>"
      ],
      "text/plain": [
       "   rating                               review_title   \n",
       "0       5  Such a lovely scent but not overpowering.  \\\n",
       "1       4     Works great but smells a little weird.   \n",
       "\n",
       "                                         text_review user_images  product_ID   \n",
       "0  This spray is really nice. It smells really go...          []  B00YQ6X8EO  \\\n",
       "1  This product does what I need it to do, I just...          []  B081TJ8YS3   \n",
       "\n",
       "    parent_ID                       user_ID                timestamp   \n",
       "0  B00YQ6X8EO  AGKHLEW2SOWHNMFQIJGBECAF7INQ  2020-05-05 14:08:48.923  \\\n",
       "1  B081TJ8YS3  AGKHLEW2SOWHNMFQIJGBECAF7INQ  2020-05-04 18:10:55.070   \n",
       "\n",
       "   helpful_review_vote  user_purchase_verification  ...   dim_758   dim_759   \n",
       "0                    0                           1  ... -0.094609 -0.411200  \\\n",
       "1                    1                           1  ... -0.100695 -0.222924   \n",
       "\n",
       "    dim_760   dim_761   dim_762   dim_763   dim_764   dim_765   dim_766   \n",
       "0 -0.062443 -0.214518  0.074292  0.104339 -0.135383 -0.334618 -0.169996  \\\n",
       "1  0.112311 -0.042177  0.077755 -0.127271 -0.111048 -0.031468 -0.161275   \n",
       "\n",
       "    dim_767  \n",
       "0  0.315318  \n",
       "1  0.247013  \n",
       "\n",
       "[2 rows x 782 columns]"
      ]
     },
     "execution_count": 6,
     "metadata": {},
     "output_type": "execute_result"
    }
   ],
   "source": [
    "df_user_embeddings.head(2)"
   ]
  },
  {
   "cell_type": "code",
   "execution_count": 7,
   "metadata": {},
   "outputs": [
    {
     "data": {
      "text/plain": [
       "(693941, 12)"
      ]
     },
     "execution_count": 7,
     "metadata": {},
     "output_type": "execute_result"
    }
   ],
   "source": [
    "# Upload user DataFrame:\n",
    "file_path_user_df = r'.\\..\\data\\data_clean\\user_clean_data_ecommerce.csv'  # Update this with your file path\n",
    "df_user = pd.read_csv(file_path_user_df)\n",
    "df_user.shape"
   ]
  },
  {
   "cell_type": "code",
   "execution_count": 8,
   "metadata": {},
   "outputs": [
    {
     "data": {
      "text/plain": [
       "rating                           0\n",
       "review_title                     0\n",
       "text_review                      0\n",
       "user_images                      0\n",
       "product_ID                       0\n",
       "parent_ID                        0\n",
       "user_ID                          0\n",
       "timestamp                        0\n",
       "helpful_review_vote              0\n",
       "user_purchase_verification       0\n",
       "year                             0\n",
       "cleaned_text                  1405\n",
       "dtype: int64"
      ]
     },
     "execution_count": 8,
     "metadata": {},
     "output_type": "execute_result"
    }
   ],
   "source": [
    "missing_values = df_user.isnull().sum()\n",
    "missing_values"
   ]
  },
  {
   "cell_type": "code",
   "execution_count": 9,
   "metadata": {},
   "outputs": [
    {
     "data": {
      "text/plain": [
       "(692536, 12)"
      ]
     },
     "execution_count": 9,
     "metadata": {},
     "output_type": "execute_result"
    }
   ],
   "source": [
    "df_user.dropna(inplace=True)\n",
    "df_user.shape"
   ]
  },
  {
   "cell_type": "markdown",
   "metadata": {},
   "source": [
    "### 1. Normalization of BERT embeddings:"
   ]
  },
  {
   "cell_type": "code",
   "execution_count": 10,
   "metadata": {},
   "outputs": [
    {
     "data": {
      "text/plain": [
       "array([[ 0.1840019 , -0.02873228,  0.44851863, ..., -0.33461767,\n",
       "        -0.1699961 ,  0.3153179 ],\n",
       "       [ 0.08434828,  0.3667166 ,  0.31517023, ..., -0.03146759,\n",
       "        -0.16127543,  0.24701294],\n",
       "       [ 0.4264943 ,  0.15444493,  0.34537777, ..., -0.7313684 ,\n",
       "        -0.3611269 , -0.1057355 ],\n",
       "       ...,\n",
       "       [-0.06583165, -0.56118315,  0.17979641, ...,  0.11617286,\n",
       "         0.07983319, -0.4473238 ],\n",
       "       [ 0.04332516,  0.05818947,  0.44545922, ..., -0.2437644 ,\n",
       "         0.11565264, -0.2689667 ],\n",
       "       [-0.0346208 , -0.08343422,  0.13093697, ..., -0.3016686 ,\n",
       "        -0.17524104,  0.2820569 ]])"
      ]
     },
     "execution_count": 10,
     "metadata": {},
     "output_type": "execute_result"
    }
   ],
   "source": [
    "# Select only columns with embedding vectors (e.g., `dim_0`, `dim_1`, ..., `dim_780`)\n",
    "embedding_columns = [col for col in df_user_embeddings.columns if col.startswith('dim_')]\n",
    "# Convert to NumPy array\n",
    "embedding_matrix = df_user_embeddings[embedding_columns].values  \n",
    "embedding_matrix"
   ]
  },
  {
   "cell_type": "code",
   "execution_count": 11,
   "metadata": {},
   "outputs": [],
   "source": [
    "# Compute L2 norm along rows\n",
    "l2_norms = np.linalg.norm(embedding_matrix, axis=1, keepdims=True)  "
   ]
  },
  {
   "cell_type": "code",
   "execution_count": 12,
   "metadata": {},
   "outputs": [
    {
     "data": {
      "text/plain": [
       "array([[ 0.02091952, -0.00326663,  0.05099292, ..., -0.03804331,\n",
       "        -0.01932718,  0.03584908],\n",
       "       [ 0.01000431,  0.04349521,  0.03738144, ..., -0.00373228,\n",
       "        -0.01912842,  0.0292975 ],\n",
       "       [ 0.04388997,  0.01589372,  0.03554237, ..., -0.07526416,\n",
       "        -0.03716309, -0.0108811 ],\n",
       "       ...,\n",
       "       [-0.00681894, -0.05812816,  0.01862357, ...,  0.01203335,\n",
       "         0.00826924, -0.04633445],\n",
       "       [ 0.00467376,  0.00627726,  0.04805448, ..., -0.02629639,\n",
       "         0.01247617, -0.02901512],\n",
       "       [-0.0040209 , -0.00969014,  0.01520717, ..., -0.03503613,\n",
       "        -0.02035269,  0.0327584 ]])"
      ]
     },
     "execution_count": 12,
     "metadata": {},
     "output_type": "execute_result"
    }
   ],
   "source": [
    "# Normalize the embedding columns\n",
    "normalized_embeddings = embedding_matrix / l2_norms  # Divide each row by its L2 norm\n",
    "normalized_embeddings"
   ]
  },
  {
   "cell_type": "markdown",
   "metadata": {},
   "source": [
    "Generate the output DataFrame with normalized embeddings:"
   ]
  },
  {
   "cell_type": "code",
   "execution_count": 13,
   "metadata": {},
   "outputs": [],
   "source": [
    "num_dimensions = normalized_embeddings.shape[1]\n",
    "norm_embedding_columns_names = [f'dim_norm_{i}' for i in range(num_dimensions)]"
   ]
  },
  {
   "cell_type": "code",
   "execution_count": 14,
   "metadata": {},
   "outputs": [],
   "source": [
    "embeddings_norm = pd.DataFrame(normalized_embeddings, columns=norm_embedding_columns_names)"
   ]
  },
  {
   "cell_type": "code",
   "execution_count": 15,
   "metadata": {},
   "outputs": [
    {
     "data": {
      "text/html": [
       "<div>\n",
       "<style scoped>\n",
       "    .dataframe tbody tr th:only-of-type {\n",
       "        vertical-align: middle;\n",
       "    }\n",
       "\n",
       "    .dataframe tbody tr th {\n",
       "        vertical-align: top;\n",
       "    }\n",
       "\n",
       "    .dataframe thead th {\n",
       "        text-align: right;\n",
       "    }\n",
       "</style>\n",
       "<table border=\"1\" class=\"dataframe\">\n",
       "  <thead>\n",
       "    <tr style=\"text-align: right;\">\n",
       "      <th></th>\n",
       "      <th>rating</th>\n",
       "      <th>review_title</th>\n",
       "      <th>text_review</th>\n",
       "      <th>user_images</th>\n",
       "      <th>product_ID</th>\n",
       "      <th>parent_ID</th>\n",
       "      <th>user_ID</th>\n",
       "      <th>timestamp</th>\n",
       "      <th>helpful_review_vote</th>\n",
       "      <th>user_purchase_verification</th>\n",
       "      <th>...</th>\n",
       "      <th>dim_norm_758</th>\n",
       "      <th>dim_norm_759</th>\n",
       "      <th>dim_norm_760</th>\n",
       "      <th>dim_norm_761</th>\n",
       "      <th>dim_norm_762</th>\n",
       "      <th>dim_norm_763</th>\n",
       "      <th>dim_norm_764</th>\n",
       "      <th>dim_norm_765</th>\n",
       "      <th>dim_norm_766</th>\n",
       "      <th>dim_norm_767</th>\n",
       "    </tr>\n",
       "  </thead>\n",
       "  <tbody>\n",
       "    <tr>\n",
       "      <th>0</th>\n",
       "      <td>5</td>\n",
       "      <td>Such a lovely scent but not overpowering.</td>\n",
       "      <td>This spray is really nice. It smells really go...</td>\n",
       "      <td>[]</td>\n",
       "      <td>B00YQ6X8EO</td>\n",
       "      <td>B00YQ6X8EO</td>\n",
       "      <td>AGKHLEW2SOWHNMFQIJGBECAF7INQ</td>\n",
       "      <td>2020-05-05 14:08:48.923</td>\n",
       "      <td>0</td>\n",
       "      <td>1</td>\n",
       "      <td>...</td>\n",
       "      <td>-0.010756</td>\n",
       "      <td>-0.04675</td>\n",
       "      <td>-0.007099</td>\n",
       "      <td>-0.024389</td>\n",
       "      <td>0.008446</td>\n",
       "      <td>0.011863</td>\n",
       "      <td>-0.015392</td>\n",
       "      <td>-0.038043</td>\n",
       "      <td>-0.019327</td>\n",
       "      <td>0.035849</td>\n",
       "    </tr>\n",
       "    <tr>\n",
       "      <th>1</th>\n",
       "      <td>4</td>\n",
       "      <td>Works great but smells a little weird.</td>\n",
       "      <td>This product does what I need it to do, I just...</td>\n",
       "      <td>[]</td>\n",
       "      <td>B081TJ8YS3</td>\n",
       "      <td>B081TJ8YS3</td>\n",
       "      <td>AGKHLEW2SOWHNMFQIJGBECAF7INQ</td>\n",
       "      <td>2020-05-04 18:10:55.070</td>\n",
       "      <td>1</td>\n",
       "      <td>1</td>\n",
       "      <td>...</td>\n",
       "      <td>-0.011943</td>\n",
       "      <td>-0.02644</td>\n",
       "      <td>0.013321</td>\n",
       "      <td>-0.005003</td>\n",
       "      <td>0.009222</td>\n",
       "      <td>-0.015095</td>\n",
       "      <td>-0.013171</td>\n",
       "      <td>-0.003732</td>\n",
       "      <td>-0.019128</td>\n",
       "      <td>0.029297</td>\n",
       "    </tr>\n",
       "  </tbody>\n",
       "</table>\n",
       "<p>2 rows × 780 columns</p>\n",
       "</div>"
      ],
      "text/plain": [
       "   rating                               review_title   \n",
       "0       5  Such a lovely scent but not overpowering.  \\\n",
       "1       4     Works great but smells a little weird.   \n",
       "\n",
       "                                         text_review user_images  product_ID   \n",
       "0  This spray is really nice. It smells really go...          []  B00YQ6X8EO  \\\n",
       "1  This product does what I need it to do, I just...          []  B081TJ8YS3   \n",
       "\n",
       "    parent_ID                       user_ID                timestamp   \n",
       "0  B00YQ6X8EO  AGKHLEW2SOWHNMFQIJGBECAF7INQ  2020-05-05 14:08:48.923  \\\n",
       "1  B081TJ8YS3  AGKHLEW2SOWHNMFQIJGBECAF7INQ  2020-05-04 18:10:55.070   \n",
       "\n",
       "   helpful_review_vote  user_purchase_verification  ...  dim_norm_758   \n",
       "0                    0                           1  ...     -0.010756  \\\n",
       "1                    1                           1  ...     -0.011943   \n",
       "\n",
       "  dim_norm_759  dim_norm_760  dim_norm_761  dim_norm_762  dim_norm_763   \n",
       "0     -0.04675     -0.007099     -0.024389      0.008446      0.011863  \\\n",
       "1     -0.02644      0.013321     -0.005003      0.009222     -0.015095   \n",
       "\n",
       "   dim_norm_764  dim_norm_765  dim_norm_766  dim_norm_767  \n",
       "0     -0.015392     -0.038043     -0.019327      0.035849  \n",
       "1     -0.013171     -0.003732     -0.019128      0.029297  \n",
       "\n",
       "[2 rows x 780 columns]"
      ]
     },
     "execution_count": 15,
     "metadata": {},
     "output_type": "execute_result"
    }
   ],
   "source": [
    "df_normalized_embeddings = pd.concat([df_user.reset_index(drop=True), embeddings_norm], axis=1)\n",
    "df_normalized_embeddings.head(2)"
   ]
  },
  {
   "cell_type": "markdown",
   "metadata": {},
   "source": [
    "### 2. Dimentionality reduction with PCA"
   ]
  },
  {
   "cell_type": "markdown",
   "metadata": {},
   "source": [
    "* Similar steps but here the output is a final user dataframe with vectors of 300 dimensions (In the beginning I have chosen 10 only because that's what they have done in the artile but the variance dropped to 45%, so I set up for now 300 which gives ~95%.) We can always adjust it"
   ]
  },
  {
   "cell_type": "code",
   "execution_count": 16,
   "metadata": {},
   "outputs": [],
   "source": [
    "pd.set_option('display.max_colwidth', 50)  # Adjust column width\n",
    "pd.set_option('display.width', 100)       # Adjust width of display"
   ]
  },
  {
   "cell_type": "code",
   "execution_count": 17,
   "metadata": {},
   "outputs": [],
   "source": [
    "# Perform dimensionality reduction to 300 components using PCA\n",
    "pca = PCA(n_components=300)"
   ]
  },
  {
   "cell_type": "code",
   "execution_count": 18,
   "metadata": {},
   "outputs": [],
   "source": [
    "pca_embeddings = pca.fit_transform(normalized_embeddings)"
   ]
  },
  {
   "cell_type": "code",
   "execution_count": 19,
   "metadata": {},
   "outputs": [
    {
     "name": "stdout",
     "output_type": "stream",
     "text": [
      "(692536, 300)\n"
     ]
    }
   ],
   "source": [
    "print(pca_embeddings.shape)"
   ]
  },
  {
   "cell_type": "code",
   "execution_count": 20,
   "metadata": {},
   "outputs": [
    {
     "data": {
      "text/plain": [
       "array([[-0.2306334 , -0.01554065, -0.05168869, ..., -0.00320198,\n",
       "        -0.00405875,  0.00201955],\n",
       "       [-0.19900984,  0.04691431,  0.01088837, ...,  0.00079175,\n",
       "        -0.00111065, -0.00182417],\n",
       "       [ 0.23540958,  0.09816614, -0.09399118, ..., -0.00342424,\n",
       "        -0.01041647,  0.00149604],\n",
       "       ...,\n",
       "       [ 0.22387383, -0.01092586, -0.0832288 , ..., -0.00652219,\n",
       "        -0.00709183, -0.00869295],\n",
       "       [-0.11300242,  0.24246496,  0.01130064, ..., -0.00749431,\n",
       "        -0.00235194, -0.00096008],\n",
       "       [-0.24762445, -0.11165329, -0.05281798, ..., -0.00555515,\n",
       "        -0.00427085, -0.00402392]])"
      ]
     },
     "execution_count": 20,
     "metadata": {},
     "output_type": "execute_result"
    }
   ],
   "source": [
    "pca_embeddings"
   ]
  },
  {
   "cell_type": "markdown",
   "metadata": {},
   "source": [
    "### 3. PCA - Variance analysis"
   ]
  },
  {
   "cell_type": "markdown",
   "metadata": {},
   "source": [
    "* Verify if the size of reduced embeddings is big enough to still keep the meaning of the textual data"
   ]
  },
  {
   "cell_type": "code",
   "execution_count": 21,
   "metadata": {},
   "outputs": [
    {
     "data": {
      "text/plain": [
       "(692536, 768)"
      ]
     },
     "execution_count": 21,
     "metadata": {},
     "output_type": "execute_result"
    }
   ],
   "source": [
    "embeddings_norm.shape"
   ]
  },
  {
   "cell_type": "code",
   "execution_count": 22,
   "metadata": {},
   "outputs": [
    {
     "name": "stdout",
     "output_type": "stream",
     "text": [
      "Explained Variance Ratio for 300 Dimensions: [0.1708849  0.04192091 0.03681915 0.03252424 0.02830417 0.02632476\n",
      " 0.02417032 0.02206136 0.01988072 0.01806828 0.01670958 0.01523421\n",
      " 0.01472129 0.01379962 0.01262209 0.0117627  0.01051655 0.01030609\n",
      " 0.00986323 0.00893262 0.00873728 0.00808277 0.00787184 0.00758196\n",
      " 0.00734143 0.00686471 0.00680506 0.00654111 0.00631994 0.0062196\n",
      " 0.00607355 0.00583796 0.00537985 0.00525169 0.00512208 0.0050183\n",
      " 0.00489955 0.0046933  0.00456008 0.00428266 0.0042379  0.00409307\n",
      " 0.00399598 0.00389995 0.00378321 0.00375769 0.00365085 0.00350971\n",
      " 0.00345561 0.00339596 0.0033403  0.00330208 0.00322428 0.00317915\n",
      " 0.00300452 0.00295732 0.00293198 0.00288629 0.00282719 0.0027646\n",
      " 0.00272828 0.00268521 0.00265742 0.0025835  0.00250174 0.00245645\n",
      " 0.00238871 0.002326   0.00231586 0.0022487  0.00219941 0.00215871\n",
      " 0.0021424  0.00211961 0.0020541  0.00204117 0.0020162  0.00198249\n",
      " 0.00192741 0.00190663 0.00186903 0.00185306 0.00182963 0.00179868\n",
      " 0.00175412 0.00174697 0.00174342 0.00170223 0.00169121 0.0016494\n",
      " 0.00162471 0.00161123 0.0015959  0.00156185 0.00153692 0.00152872\n",
      " 0.00149761 0.00148589 0.00146526 0.00145867 0.00144937 0.00141294\n",
      " 0.00140135 0.00138767 0.00137817 0.00135167 0.00132442 0.00131987\n",
      " 0.00130038 0.00129071 0.00126943 0.0012637  0.00123596 0.00122837\n",
      " 0.00122102 0.00119058 0.00118385 0.00116976 0.00116399 0.00114195\n",
      " 0.00113243 0.00110974 0.00109732 0.00107457 0.00107144 0.00106267\n",
      " 0.00105941 0.0010399  0.00103135 0.00102425 0.00101502 0.00100545\n",
      " 0.00098616 0.00097783 0.00096734 0.00095643 0.00094244 0.00093556\n",
      " 0.00092851 0.00091575 0.00091419 0.00090999 0.00090475 0.00089259\n",
      " 0.00088181 0.00087391 0.00086808 0.00086118 0.00085911 0.00084242\n",
      " 0.0008343  0.00082554 0.00082532 0.00080361 0.00079606 0.00078567\n",
      " 0.00078192 0.00077831 0.00077141 0.00076546 0.00075705 0.00074388\n",
      " 0.00074256 0.00073078 0.00072834 0.00072107 0.00071648 0.00071216\n",
      " 0.00070797 0.00070241 0.00069886 0.00069121 0.00068269 0.0006802\n",
      " 0.00067765 0.0006725  0.00066215 0.00066121 0.00065288 0.00064766\n",
      " 0.00064161 0.00063448 0.0006294  0.00061911 0.00061604 0.00061215\n",
      " 0.00060726 0.00060605 0.00060134 0.00059498 0.00058428 0.00058168\n",
      " 0.00057931 0.00057054 0.00056309 0.00055733 0.00055662 0.00055126\n",
      " 0.00054724 0.00054632 0.00054123 0.00053502 0.00053436 0.00053148\n",
      " 0.00052419 0.00052325 0.00052152 0.00051829 0.00051221 0.00051025\n",
      " 0.00050739 0.00050134 0.00049953 0.00049183 0.00049109 0.00048554\n",
      " 0.00048381 0.00048088 0.00048023 0.00047581 0.00047108 0.0004681\n",
      " 0.00046579 0.00046444 0.00045568 0.00045276 0.00044594 0.00043905\n",
      " 0.00043806 0.00043751 0.00043413 0.00043168 0.00042835 0.00042309\n",
      " 0.00041815 0.0004179  0.00041627 0.00041173 0.00041165 0.00040852\n",
      " 0.00040622 0.00040315 0.00039954 0.00039849 0.00039353 0.00038975\n",
      " 0.00038529 0.00038483 0.00037958 0.00037749 0.00037561 0.0003737\n",
      " 0.00037032 0.00036837 0.00036519 0.00036343 0.00035815 0.00035644\n",
      " 0.00035532 0.00035327 0.00035143 0.00034971 0.00034716 0.00034543\n",
      " 0.00034232 0.00034144 0.00033978 0.00033797 0.00033386 0.00033004\n",
      " 0.00032794 0.00032573 0.00032467 0.00032167 0.00032019 0.0003157\n",
      " 0.00031179 0.00030991 0.00030775 0.00030668 0.00030157 0.00029952\n",
      " 0.00029765 0.00029496 0.00029295 0.00029146 0.00028832 0.00028431\n",
      " 0.00028326 0.00028168 0.00028117 0.00027806 0.00027655 0.00027504\n",
      " 0.00027306 0.00027011 0.00026472 0.00026391 0.0002626  0.0002603 ]\n",
      "Total Explained Variance Captured by 300 Dimensions: 0.9427970239548676\n"
     ]
    }
   ],
   "source": [
    "# Fit PCA to the original embeddings\n",
    "pca = PCA(n_components=300)\n",
    "pca.fit(embeddings_norm)\n",
    "\n",
    "# Check explained variance\n",
    "explained_variance = pca.explained_variance_ratio_\n",
    "total_variance = sum(explained_variance)\n",
    "\n",
    "print(\"Explained Variance Ratio for 300 Dimensions:\", explained_variance)\n",
    "print(\"Total Explained Variance Captured by 300 Dimensions:\", total_variance)"
   ]
  },
  {
   "cell_type": "markdown",
   "metadata": {},
   "source": [
    "### 4. Generate a merged DataFrame from df_user, including columns for embedding dimensions."
   ]
  },
  {
   "cell_type": "code",
   "execution_count": 23,
   "metadata": {},
   "outputs": [],
   "source": [
    "# Create column names for embedding dimensions - normalized data after dimentionality reducion\n",
    "num_dimensions_pca = pca_embeddings.shape[1]\n",
    "normalized_columns_PCA = [f'dim_norm_PCA{i}' for i in range(num_dimensions_pca)]"
   ]
  },
  {
   "cell_type": "code",
   "execution_count": 24,
   "metadata": {},
   "outputs": [],
   "source": [
    "embeddings_df_PCA = pd.DataFrame(pca_embeddings, columns=normalized_columns_PCA)"
   ]
  },
  {
   "cell_type": "code",
   "execution_count": 25,
   "metadata": {},
   "outputs": [],
   "source": [
    "df_user_normalized_PCA = pd.concat([df_user.reset_index(drop=True), embeddings_df_PCA], axis=1)"
   ]
  },
  {
   "cell_type": "code",
   "execution_count": 26,
   "metadata": {},
   "outputs": [
    {
     "data": {
      "text/html": [
       "<div>\n",
       "<style scoped>\n",
       "    .dataframe tbody tr th:only-of-type {\n",
       "        vertical-align: middle;\n",
       "    }\n",
       "\n",
       "    .dataframe tbody tr th {\n",
       "        vertical-align: top;\n",
       "    }\n",
       "\n",
       "    .dataframe thead th {\n",
       "        text-align: right;\n",
       "    }\n",
       "</style>\n",
       "<table border=\"1\" class=\"dataframe\">\n",
       "  <thead>\n",
       "    <tr style=\"text-align: right;\">\n",
       "      <th></th>\n",
       "      <th>rating</th>\n",
       "      <th>review_title</th>\n",
       "      <th>text_review</th>\n",
       "      <th>user_images</th>\n",
       "      <th>product_ID</th>\n",
       "      <th>parent_ID</th>\n",
       "      <th>user_ID</th>\n",
       "      <th>timestamp</th>\n",
       "      <th>helpful_review_vote</th>\n",
       "      <th>user_purchase_verification</th>\n",
       "      <th>...</th>\n",
       "      <th>dim_norm_PCA290</th>\n",
       "      <th>dim_norm_PCA291</th>\n",
       "      <th>dim_norm_PCA292</th>\n",
       "      <th>dim_norm_PCA293</th>\n",
       "      <th>dim_norm_PCA294</th>\n",
       "      <th>dim_norm_PCA295</th>\n",
       "      <th>dim_norm_PCA296</th>\n",
       "      <th>dim_norm_PCA297</th>\n",
       "      <th>dim_norm_PCA298</th>\n",
       "      <th>dim_norm_PCA299</th>\n",
       "    </tr>\n",
       "  </thead>\n",
       "  <tbody>\n",
       "    <tr>\n",
       "      <th>0</th>\n",
       "      <td>5</td>\n",
       "      <td>Such a lovely scent but not overpowering.</td>\n",
       "      <td>This spray is really nice. It smells really go...</td>\n",
       "      <td>[]</td>\n",
       "      <td>B00YQ6X8EO</td>\n",
       "      <td>B00YQ6X8EO</td>\n",
       "      <td>AGKHLEW2SOWHNMFQIJGBECAF7INQ</td>\n",
       "      <td>2020-05-05 14:08:48.923</td>\n",
       "      <td>0</td>\n",
       "      <td>1</td>\n",
       "      <td>...</td>\n",
       "      <td>-0.001310</td>\n",
       "      <td>0.000084</td>\n",
       "      <td>0.009012</td>\n",
       "      <td>-0.004501</td>\n",
       "      <td>0.001905</td>\n",
       "      <td>0.007937</td>\n",
       "      <td>0.005959</td>\n",
       "      <td>-0.003202</td>\n",
       "      <td>-0.004059</td>\n",
       "      <td>0.002020</td>\n",
       "    </tr>\n",
       "    <tr>\n",
       "      <th>1</th>\n",
       "      <td>4</td>\n",
       "      <td>Works great but smells a little weird.</td>\n",
       "      <td>This product does what I need it to do, I just...</td>\n",
       "      <td>[]</td>\n",
       "      <td>B081TJ8YS3</td>\n",
       "      <td>B081TJ8YS3</td>\n",
       "      <td>AGKHLEW2SOWHNMFQIJGBECAF7INQ</td>\n",
       "      <td>2020-05-04 18:10:55.070</td>\n",
       "      <td>1</td>\n",
       "      <td>1</td>\n",
       "      <td>...</td>\n",
       "      <td>-0.007619</td>\n",
       "      <td>-0.012466</td>\n",
       "      <td>0.012960</td>\n",
       "      <td>0.008836</td>\n",
       "      <td>-0.011190</td>\n",
       "      <td>-0.022729</td>\n",
       "      <td>0.000907</td>\n",
       "      <td>0.000792</td>\n",
       "      <td>-0.001111</td>\n",
       "      <td>-0.001824</td>\n",
       "    </tr>\n",
       "    <tr>\n",
       "      <th>2</th>\n",
       "      <td>5</td>\n",
       "      <td>Yes!</td>\n",
       "      <td>Smells good, feels great!</td>\n",
       "      <td>[]</td>\n",
       "      <td>B07PNNCSP9</td>\n",
       "      <td>B097R46CSY</td>\n",
       "      <td>AE74DYR3QUGVPZJ3P7RFWBGIX7XQ</td>\n",
       "      <td>2020-05-16 21:41:06.052</td>\n",
       "      <td>2</td>\n",
       "      <td>1</td>\n",
       "      <td>...</td>\n",
       "      <td>0.005019</td>\n",
       "      <td>0.008294</td>\n",
       "      <td>0.010830</td>\n",
       "      <td>0.013650</td>\n",
       "      <td>-0.003329</td>\n",
       "      <td>-0.001900</td>\n",
       "      <td>0.024909</td>\n",
       "      <td>-0.003424</td>\n",
       "      <td>-0.010416</td>\n",
       "      <td>0.001496</td>\n",
       "    </tr>\n",
       "    <tr>\n",
       "      <th>3</th>\n",
       "      <td>1</td>\n",
       "      <td>Synthetic feeling</td>\n",
       "      <td>Felt synthetic</td>\n",
       "      <td>[]</td>\n",
       "      <td>B09JS339BZ</td>\n",
       "      <td>B09JS339BZ</td>\n",
       "      <td>AFQLNQNQYFWQZPJQZS6V3NZU4QBQ</td>\n",
       "      <td>2022-01-28 18:13:50.220</td>\n",
       "      <td>0</td>\n",
       "      <td>1</td>\n",
       "      <td>...</td>\n",
       "      <td>0.003821</td>\n",
       "      <td>-0.011844</td>\n",
       "      <td>0.004245</td>\n",
       "      <td>-0.009105</td>\n",
       "      <td>0.017510</td>\n",
       "      <td>-0.014226</td>\n",
       "      <td>-0.014142</td>\n",
       "      <td>0.004159</td>\n",
       "      <td>-0.008665</td>\n",
       "      <td>-0.001732</td>\n",
       "    </tr>\n",
       "    <tr>\n",
       "      <th>4</th>\n",
       "      <td>5</td>\n",
       "      <td>A+</td>\n",
       "      <td>Love it</td>\n",
       "      <td>[]</td>\n",
       "      <td>B08BZ63GMJ</td>\n",
       "      <td>B08BZ63GMJ</td>\n",
       "      <td>AFQLNQNQYFWQZPJQZS6V3NZU4QBQ</td>\n",
       "      <td>2020-12-30 10:02:43.534</td>\n",
       "      <td>0</td>\n",
       "      <td>1</td>\n",
       "      <td>...</td>\n",
       "      <td>0.001345</td>\n",
       "      <td>0.001304</td>\n",
       "      <td>-0.000655</td>\n",
       "      <td>-0.001735</td>\n",
       "      <td>-0.002375</td>\n",
       "      <td>0.001479</td>\n",
       "      <td>-0.002190</td>\n",
       "      <td>-0.002715</td>\n",
       "      <td>-0.004831</td>\n",
       "      <td>-0.001109</td>\n",
       "    </tr>\n",
       "  </tbody>\n",
       "</table>\n",
       "<p>5 rows × 312 columns</p>\n",
       "</div>"
      ],
      "text/plain": [
       "   rating                               review_title   \n",
       "0       5  Such a lovely scent but not overpowering.  \\\n",
       "1       4     Works great but smells a little weird.   \n",
       "2       5                                       Yes!   \n",
       "3       1                          Synthetic feeling   \n",
       "4       5                                         A+   \n",
       "\n",
       "                                         text_review user_images  product_ID   parent_ID   \n",
       "0  This spray is really nice. It smells really go...          []  B00YQ6X8EO  B00YQ6X8EO  \\\n",
       "1  This product does what I need it to do, I just...          []  B081TJ8YS3  B081TJ8YS3   \n",
       "2                          Smells good, feels great!          []  B07PNNCSP9  B097R46CSY   \n",
       "3                                     Felt synthetic          []  B09JS339BZ  B09JS339BZ   \n",
       "4                                            Love it          []  B08BZ63GMJ  B08BZ63GMJ   \n",
       "\n",
       "                        user_ID                timestamp  helpful_review_vote   \n",
       "0  AGKHLEW2SOWHNMFQIJGBECAF7INQ  2020-05-05 14:08:48.923                    0  \\\n",
       "1  AGKHLEW2SOWHNMFQIJGBECAF7INQ  2020-05-04 18:10:55.070                    1   \n",
       "2  AE74DYR3QUGVPZJ3P7RFWBGIX7XQ  2020-05-16 21:41:06.052                    2   \n",
       "3  AFQLNQNQYFWQZPJQZS6V3NZU4QBQ  2022-01-28 18:13:50.220                    0   \n",
       "4  AFQLNQNQYFWQZPJQZS6V3NZU4QBQ  2020-12-30 10:02:43.534                    0   \n",
       "\n",
       "   user_purchase_verification  ...  dim_norm_PCA290 dim_norm_PCA291  dim_norm_PCA292   \n",
       "0                           1  ...        -0.001310        0.000084         0.009012  \\\n",
       "1                           1  ...        -0.007619       -0.012466         0.012960   \n",
       "2                           1  ...         0.005019        0.008294         0.010830   \n",
       "3                           1  ...         0.003821       -0.011844         0.004245   \n",
       "4                           1  ...         0.001345        0.001304        -0.000655   \n",
       "\n",
       "   dim_norm_PCA293  dim_norm_PCA294  dim_norm_PCA295  dim_norm_PCA296  dim_norm_PCA297   \n",
       "0        -0.004501         0.001905         0.007937         0.005959        -0.003202  \\\n",
       "1         0.008836        -0.011190        -0.022729         0.000907         0.000792   \n",
       "2         0.013650        -0.003329        -0.001900         0.024909        -0.003424   \n",
       "3        -0.009105         0.017510        -0.014226        -0.014142         0.004159   \n",
       "4        -0.001735        -0.002375         0.001479        -0.002190        -0.002715   \n",
       "\n",
       "   dim_norm_PCA298  dim_norm_PCA299  \n",
       "0        -0.004059         0.002020  \n",
       "1        -0.001111        -0.001824  \n",
       "2        -0.010416         0.001496  \n",
       "3        -0.008665        -0.001732  \n",
       "4        -0.004831        -0.001109  \n",
       "\n",
       "[5 rows x 312 columns]"
      ]
     },
     "execution_count": 26,
     "metadata": {},
     "output_type": "execute_result"
    }
   ],
   "source": [
    "df_user_normalized_PCA.head(5)"
   ]
  },
  {
   "cell_type": "markdown",
   "metadata": {},
   "source": [
    "Save the output DataFrame:"
   ]
  },
  {
   "cell_type": "code",
   "execution_count": 27,
   "metadata": {},
   "outputs": [],
   "source": [
    "# Save the DataFrame with normalized & reduced embeddings:\n",
    "timestamp = datetime.now().strftime(\"%Y%m%d_%H%M%S\")\n",
    "\n",
    "file_path = rf'.\\..\\data\\embeddings_dim_reduction\\df_user_normalized_PCA{timestamp}.csv'\n",
    "df_user_normalized_PCA.to_csv(file_path, index=False)"
   ]
  },
  {
   "cell_type": "code",
   "execution_count": null,
   "metadata": {},
   "outputs": [],
   "source": []
  }
 ],
 "metadata": {
  "kernelspec": {
   "display_name": ".venv",
   "language": "python",
   "name": "python3"
  },
  "language_info": {
   "codemirror_mode": {
    "name": "ipython",
    "version": 3
   },
   "file_extension": ".py",
   "mimetype": "text/x-python",
   "name": "python",
   "nbconvert_exporter": "python",
   "pygments_lexer": "ipython3",
   "version": "3.11.3"
  }
 },
 "nbformat": 4,
 "nbformat_minor": 2
}
