{
 "cells": [
  {
   "cell_type": "code",
   "execution_count": 1,
   "metadata": {},
   "outputs": [],
   "source": [
    "import pandas as pd\n",
    "from sklearn.decomposition import PCA\n",
    "from transformers import BertTokenizer, BertModel, pipeline\n",
    "import torch\n",
    "import numpy as np\n",
    "from sklearn.metrics.pairwise import cosine_similarity\n",
    "import ast\n",
    "import re\n",
    "from datetime import datetime"
   ]
  },
  {
   "cell_type": "markdown",
   "metadata": {},
   "source": [
    "Import data"
   ]
  },
  {
   "cell_type": "code",
   "execution_count": 2,
   "metadata": {},
   "outputs": [],
   "source": [
    "# Upload the data frame with BERT embeddings:\n",
    "file_path_embeddings = r'.\\..\\data\\embeddings_output\\df_user_embeddings_BERT_merged.csv' # Update this with your file path \n",
    "df_user_embeddings = pd.read_csv(file_path_embeddings)"
   ]
  },
  {
   "cell_type": "code",
   "execution_count": 3,
   "metadata": {},
   "outputs": [
    {
     "data": {
      "text/html": [
       "<div>\n",
       "<style scoped>\n",
       "    .dataframe tbody tr th:only-of-type {\n",
       "        vertical-align: middle;\n",
       "    }\n",
       "\n",
       "    .dataframe tbody tr th {\n",
       "        vertical-align: top;\n",
       "    }\n",
       "\n",
       "    .dataframe thead th {\n",
       "        text-align: right;\n",
       "    }\n",
       "</style>\n",
       "<table border=\"1\" class=\"dataframe\">\n",
       "  <thead>\n",
       "    <tr style=\"text-align: right;\">\n",
       "      <th></th>\n",
       "      <th>rating</th>\n",
       "      <th>review_title</th>\n",
       "      <th>text_review</th>\n",
       "      <th>user_images</th>\n",
       "      <th>product_ID</th>\n",
       "      <th>parent_ID</th>\n",
       "      <th>user_ID</th>\n",
       "      <th>timestamp</th>\n",
       "      <th>helpful_review_vote</th>\n",
       "      <th>user_purchase_verification</th>\n",
       "      <th>...</th>\n",
       "      <th>dim_758</th>\n",
       "      <th>dim_759</th>\n",
       "      <th>dim_760</th>\n",
       "      <th>dim_761</th>\n",
       "      <th>dim_762</th>\n",
       "      <th>dim_763</th>\n",
       "      <th>dim_764</th>\n",
       "      <th>dim_765</th>\n",
       "      <th>dim_766</th>\n",
       "      <th>dim_767</th>\n",
       "    </tr>\n",
       "  </thead>\n",
       "  <tbody>\n",
       "    <tr>\n",
       "      <th>0</th>\n",
       "      <td>5</td>\n",
       "      <td>Such a lovely scent but not overpowering.</td>\n",
       "      <td>This spray is really nice. It smells really go...</td>\n",
       "      <td>[]</td>\n",
       "      <td>B00YQ6X8EO</td>\n",
       "      <td>B00YQ6X8EO</td>\n",
       "      <td>AGKHLEW2SOWHNMFQIJGBECAF7INQ</td>\n",
       "      <td>2020-05-05 14:08:48.923</td>\n",
       "      <td>0</td>\n",
       "      <td>1</td>\n",
       "      <td>...</td>\n",
       "      <td>-0.002711</td>\n",
       "      <td>-0.460343</td>\n",
       "      <td>0.018323</td>\n",
       "      <td>-0.174986</td>\n",
       "      <td>0.113852</td>\n",
       "      <td>0.096990</td>\n",
       "      <td>-0.149028</td>\n",
       "      <td>-0.278070</td>\n",
       "      <td>-0.180932</td>\n",
       "      <td>0.246443</td>\n",
       "    </tr>\n",
       "    <tr>\n",
       "      <th>1</th>\n",
       "      <td>4</td>\n",
       "      <td>Works great but smells a little weird.</td>\n",
       "      <td>This product does what I need it to do, I just...</td>\n",
       "      <td>[]</td>\n",
       "      <td>B081TJ8YS3</td>\n",
       "      <td>B081TJ8YS3</td>\n",
       "      <td>AGKHLEW2SOWHNMFQIJGBECAF7INQ</td>\n",
       "      <td>2020-05-04 18:10:55.070</td>\n",
       "      <td>1</td>\n",
       "      <td>1</td>\n",
       "      <td>...</td>\n",
       "      <td>-0.179098</td>\n",
       "      <td>-0.336104</td>\n",
       "      <td>0.016370</td>\n",
       "      <td>0.050976</td>\n",
       "      <td>0.144952</td>\n",
       "      <td>-0.161408</td>\n",
       "      <td>-0.334452</td>\n",
       "      <td>-0.221662</td>\n",
       "      <td>-0.220744</td>\n",
       "      <td>0.071765</td>\n",
       "    </tr>\n",
       "  </tbody>\n",
       "</table>\n",
       "<p>2 rows × 785 columns</p>\n",
       "</div>"
      ],
      "text/plain": [
       "   rating                               review_title   \n",
       "0       5  Such a lovely scent but not overpowering.  \\\n",
       "1       4     Works great but smells a little weird.   \n",
       "\n",
       "                                         text_review user_images  product_ID   \n",
       "0  This spray is really nice. It smells really go...          []  B00YQ6X8EO  \\\n",
       "1  This product does what I need it to do, I just...          []  B081TJ8YS3   \n",
       "\n",
       "    parent_ID                       user_ID                timestamp   \n",
       "0  B00YQ6X8EO  AGKHLEW2SOWHNMFQIJGBECAF7INQ  2020-05-05 14:08:48.923  \\\n",
       "1  B081TJ8YS3  AGKHLEW2SOWHNMFQIJGBECAF7INQ  2020-05-04 18:10:55.070   \n",
       "\n",
       "   helpful_review_vote  user_purchase_verification  ...   dim_758   dim_759   \n",
       "0                    0                           1  ... -0.002711 -0.460343  \\\n",
       "1                    1                           1  ... -0.179098 -0.336104   \n",
       "\n",
       "    dim_760   dim_761   dim_762   dim_763   dim_764   dim_765   dim_766   \n",
       "0  0.018323 -0.174986  0.113852  0.096990 -0.149028 -0.278070 -0.180932  \\\n",
       "1  0.016370  0.050976  0.144952 -0.161408 -0.334452 -0.221662 -0.220744   \n",
       "\n",
       "    dim_767  \n",
       "0  0.246443  \n",
       "1  0.071765  \n",
       "\n",
       "[2 rows x 785 columns]"
      ]
     },
     "execution_count": 3,
     "metadata": {},
     "output_type": "execute_result"
    }
   ],
   "source": [
    "df_user_embeddings.head(2)"
   ]
  },
  {
   "cell_type": "code",
   "execution_count": 4,
   "metadata": {},
   "outputs": [
    {
     "data": {
      "text/plain": [
       "(692331, 785)"
      ]
     },
     "execution_count": 4,
     "metadata": {},
     "output_type": "execute_result"
    }
   ],
   "source": [
    "df_user_embeddings.shape"
   ]
  },
  {
   "cell_type": "code",
   "execution_count": 5,
   "metadata": {},
   "outputs": [
    {
     "name": "stdout",
     "output_type": "stream",
     "text": [
      "0\n"
     ]
    }
   ],
   "source": [
    "# Identify columns of interest (dim_0 to dim_767)\n",
    "columns_of_interest = [f'dim_{i}' for i in range(768)]\n",
    "\n",
    "# Count rows with NaN in these columns\n",
    "num_rows_with_nan = df_user_embeddings[columns_of_interest].isna().any(axis=1).sum()\n",
    "\n",
    "# Display the count\n",
    "print(num_rows_with_nan)"
   ]
  },
  {
   "cell_type": "code",
   "execution_count": 6,
   "metadata": {},
   "outputs": [
    {
     "data": {
      "text/plain": [
       "(693941, 14)"
      ]
     },
     "execution_count": 6,
     "metadata": {},
     "output_type": "execute_result"
    }
   ],
   "source": [
    "# Upload user DataFrame:\n",
    "file_path_user_df = r'.\\..\\data\\data_clean\\merged_user_meta_df.csv'  # Update this with your file path\n",
    "df_user = pd.read_csv(file_path_user_df)\n",
    "df_user.shape"
   ]
  },
  {
   "cell_type": "code",
   "execution_count": 7,
   "metadata": {},
   "outputs": [
    {
     "data": {
      "text/plain": [
       "rating                           0\n",
       "review_title                     0\n",
       "text_review                      0\n",
       "user_images                      0\n",
       "product_ID                       0\n",
       "parent_ID                        0\n",
       "user_ID                          0\n",
       "timestamp                        0\n",
       "helpful_review_vote              0\n",
       "user_purchase_verification       0\n",
       "year                             0\n",
       "cleaned_text                  1405\n",
       "parent_asin                      0\n",
       "cleaned_title                  205\n",
       "dtype: int64"
      ]
     },
     "execution_count": 7,
     "metadata": {},
     "output_type": "execute_result"
    }
   ],
   "source": [
    "missing_values = df_user.isnull().sum()\n",
    "missing_values"
   ]
  },
  {
   "cell_type": "code",
   "execution_count": 8,
   "metadata": {},
   "outputs": [
    {
     "data": {
      "text/plain": [
       "(692331, 14)"
      ]
     },
     "execution_count": 8,
     "metadata": {},
     "output_type": "execute_result"
    }
   ],
   "source": [
    "df_user.dropna(inplace=True)\n",
    "df_user.shape"
   ]
  },
  {
   "cell_type": "markdown",
   "metadata": {},
   "source": [
    "### 1. Normalization of BERT embeddings:"
   ]
  },
  {
   "cell_type": "code",
   "execution_count": 9,
   "metadata": {},
   "outputs": [
    {
     "data": {
      "text/plain": [
       "array([[ 0.17056495,  0.04877963,  0.4597311 , ..., -0.2780695 ,\n",
       "        -0.18093206,  0.24644315],\n",
       "       [ 0.26909658,  0.2322717 ,  0.4237466 , ..., -0.22166176,\n",
       "        -0.22074397,  0.07176462],\n",
       "       [ 0.1310498 , -0.05716905,  0.7067867 , ..., -0.32598308,\n",
       "        -0.50271666, -0.17449133],\n",
       "       ...,\n",
       "       [ 0.10488835, -0.18813547,  0.3528914 , ..., -0.28464743,\n",
       "        -0.16916603, -0.12779067],\n",
       "       [ 0.05978642,  0.00406198,  0.50121933, ..., -0.30922773,\n",
       "         0.14436744, -0.17629299],\n",
       "       [-0.03877427,  0.00091828,  0.28811532, ..., -0.2674641 ,\n",
       "        -0.12735286,  0.24892004]])"
      ]
     },
     "execution_count": 9,
     "metadata": {},
     "output_type": "execute_result"
    }
   ],
   "source": [
    "# Select only columns with embedding vectors (e.g., `dim_0`, `dim_1`, ..., `dim_780`)\n",
    "embedding_columns = [col for col in df_user_embeddings.columns if col.startswith('dim_')]\n",
    "# Convert to NumPy array\n",
    "embedding_matrix = df_user_embeddings[embedding_columns].values  \n",
    "embedding_matrix"
   ]
  },
  {
   "cell_type": "code",
   "execution_count": 10,
   "metadata": {},
   "outputs": [],
   "source": [
    "# Compute L2 norm along rows\n",
    "l2_norms = np.linalg.norm(embedding_matrix, axis=1, keepdims=True)  "
   ]
  },
  {
   "cell_type": "code",
   "execution_count": 11,
   "metadata": {},
   "outputs": [
    {
     "data": {
      "text/plain": [
       "array([[ 0.01986643,  0.00568157,  0.05354686, ..., -0.03238795,\n",
       "        -0.02107394,  0.02870429],\n",
       "       [ 0.03096874,  0.02673078,  0.04876649, ..., -0.02550974,\n",
       "        -0.02540412,  0.00825897],\n",
       "       [ 0.01324259, -0.00577694,  0.07142085, ..., -0.03294062,\n",
       "        -0.05079956, -0.01763236],\n",
       "       ...,\n",
       "       [ 0.01123646, -0.02015455,  0.03780449, ..., -0.03049366,\n",
       "        -0.01812239, -0.01368994],\n",
       "       [ 0.00654949,  0.00044498,  0.05490762, ..., -0.03387531,\n",
       "         0.01581518, -0.01931256],\n",
       "       [-0.00473396,  0.00011211,  0.03517608, ..., -0.03265477,\n",
       "        -0.01554855,  0.03039072]])"
      ]
     },
     "execution_count": 11,
     "metadata": {},
     "output_type": "execute_result"
    }
   ],
   "source": [
    "# Normalize the embedding columns\n",
    "normalized_embeddings = embedding_matrix / l2_norms  # Divide each row by its L2 norm\n",
    "normalized_embeddings"
   ]
  },
  {
   "cell_type": "markdown",
   "metadata": {},
   "source": [
    "Generate the output DataFrame with normalized embeddings:"
   ]
  },
  {
   "cell_type": "code",
   "execution_count": 12,
   "metadata": {},
   "outputs": [],
   "source": [
    "num_dimensions = normalized_embeddings.shape[1]\n",
    "norm_embedding_columns_names = [f'dim_norm_{i}' for i in range(num_dimensions)]"
   ]
  },
  {
   "cell_type": "code",
   "execution_count": 13,
   "metadata": {},
   "outputs": [],
   "source": [
    "embeddings_norm = pd.DataFrame(normalized_embeddings, columns=norm_embedding_columns_names)"
   ]
  },
  {
   "cell_type": "code",
   "execution_count": 14,
   "metadata": {},
   "outputs": [
    {
     "data": {
      "text/plain": [
       "(692331, 14)"
      ]
     },
     "execution_count": 14,
     "metadata": {},
     "output_type": "execute_result"
    }
   ],
   "source": [
    "df_user.shape"
   ]
  },
  {
   "cell_type": "code",
   "execution_count": 15,
   "metadata": {},
   "outputs": [
    {
     "data": {
      "text/html": [
       "<div>\n",
       "<style scoped>\n",
       "    .dataframe tbody tr th:only-of-type {\n",
       "        vertical-align: middle;\n",
       "    }\n",
       "\n",
       "    .dataframe tbody tr th {\n",
       "        vertical-align: top;\n",
       "    }\n",
       "\n",
       "    .dataframe thead th {\n",
       "        text-align: right;\n",
       "    }\n",
       "</style>\n",
       "<table border=\"1\" class=\"dataframe\">\n",
       "  <thead>\n",
       "    <tr style=\"text-align: right;\">\n",
       "      <th></th>\n",
       "      <th>rating</th>\n",
       "      <th>review_title</th>\n",
       "      <th>text_review</th>\n",
       "      <th>user_images</th>\n",
       "      <th>product_ID</th>\n",
       "      <th>parent_ID</th>\n",
       "      <th>user_ID</th>\n",
       "      <th>timestamp</th>\n",
       "      <th>helpful_review_vote</th>\n",
       "      <th>user_purchase_verification</th>\n",
       "      <th>...</th>\n",
       "      <th>dim_norm_758</th>\n",
       "      <th>dim_norm_759</th>\n",
       "      <th>dim_norm_760</th>\n",
       "      <th>dim_norm_761</th>\n",
       "      <th>dim_norm_762</th>\n",
       "      <th>dim_norm_763</th>\n",
       "      <th>dim_norm_764</th>\n",
       "      <th>dim_norm_765</th>\n",
       "      <th>dim_norm_766</th>\n",
       "      <th>dim_norm_767</th>\n",
       "    </tr>\n",
       "  </thead>\n",
       "  <tbody>\n",
       "    <tr>\n",
       "      <th>0</th>\n",
       "      <td>5</td>\n",
       "      <td>Such a lovely scent but not overpowering.</td>\n",
       "      <td>This spray is really nice. It smells really go...</td>\n",
       "      <td>[]</td>\n",
       "      <td>B00YQ6X8EO</td>\n",
       "      <td>B00YQ6X8EO</td>\n",
       "      <td>AGKHLEW2SOWHNMFQIJGBECAF7INQ</td>\n",
       "      <td>2020-05-05 14:08:48.923</td>\n",
       "      <td>0</td>\n",
       "      <td>1</td>\n",
       "      <td>...</td>\n",
       "      <td>-0.000316</td>\n",
       "      <td>-0.053618</td>\n",
       "      <td>0.002134</td>\n",
       "      <td>-0.020381</td>\n",
       "      <td>0.013261</td>\n",
       "      <td>0.011297</td>\n",
       "      <td>-0.017358</td>\n",
       "      <td>-0.032388</td>\n",
       "      <td>-0.021074</td>\n",
       "      <td>0.028704</td>\n",
       "    </tr>\n",
       "    <tr>\n",
       "      <th>1</th>\n",
       "      <td>4</td>\n",
       "      <td>Works great but smells a little weird.</td>\n",
       "      <td>This product does what I need it to do, I just...</td>\n",
       "      <td>[]</td>\n",
       "      <td>B081TJ8YS3</td>\n",
       "      <td>B081TJ8YS3</td>\n",
       "      <td>AGKHLEW2SOWHNMFQIJGBECAF7INQ</td>\n",
       "      <td>2020-05-04 18:10:55.070</td>\n",
       "      <td>1</td>\n",
       "      <td>1</td>\n",
       "      <td>...</td>\n",
       "      <td>-0.020611</td>\n",
       "      <td>-0.038680</td>\n",
       "      <td>0.001884</td>\n",
       "      <td>0.005867</td>\n",
       "      <td>0.016682</td>\n",
       "      <td>-0.018575</td>\n",
       "      <td>-0.038490</td>\n",
       "      <td>-0.025510</td>\n",
       "      <td>-0.025404</td>\n",
       "      <td>0.008259</td>\n",
       "    </tr>\n",
       "  </tbody>\n",
       "</table>\n",
       "<p>2 rows × 782 columns</p>\n",
       "</div>"
      ],
      "text/plain": [
       "   rating                               review_title   \n",
       "0       5  Such a lovely scent but not overpowering.  \\\n",
       "1       4     Works great but smells a little weird.   \n",
       "\n",
       "                                         text_review user_images  product_ID   \n",
       "0  This spray is really nice. It smells really go...          []  B00YQ6X8EO  \\\n",
       "1  This product does what I need it to do, I just...          []  B081TJ8YS3   \n",
       "\n",
       "    parent_ID                       user_ID                timestamp   \n",
       "0  B00YQ6X8EO  AGKHLEW2SOWHNMFQIJGBECAF7INQ  2020-05-05 14:08:48.923  \\\n",
       "1  B081TJ8YS3  AGKHLEW2SOWHNMFQIJGBECAF7INQ  2020-05-04 18:10:55.070   \n",
       "\n",
       "   helpful_review_vote  user_purchase_verification  ...  dim_norm_758   \n",
       "0                    0                           1  ...     -0.000316  \\\n",
       "1                    1                           1  ...     -0.020611   \n",
       "\n",
       "  dim_norm_759 dim_norm_760 dim_norm_761  dim_norm_762  dim_norm_763   \n",
       "0    -0.053618     0.002134    -0.020381      0.013261      0.011297  \\\n",
       "1    -0.038680     0.001884     0.005867      0.016682     -0.018575   \n",
       "\n",
       "   dim_norm_764  dim_norm_765  dim_norm_766  dim_norm_767  \n",
       "0     -0.017358     -0.032388     -0.021074      0.028704  \n",
       "1     -0.038490     -0.025510     -0.025404      0.008259  \n",
       "\n",
       "[2 rows x 782 columns]"
      ]
     },
     "execution_count": 15,
     "metadata": {},
     "output_type": "execute_result"
    }
   ],
   "source": [
    "df_normalized_embeddings = pd.concat([df_user.reset_index(drop=True), embeddings_norm], axis=1)\n",
    "df_normalized_embeddings.head(2)"
   ]
  },
  {
   "cell_type": "code",
   "execution_count": 16,
   "metadata": {},
   "outputs": [
    {
     "data": {
      "text/plain": [
       "rating          0\n",
       "review_title    0\n",
       "text_review     0\n",
       "user_images     0\n",
       "product_ID      0\n",
       "               ..\n",
       "dim_norm_763    0\n",
       "dim_norm_764    0\n",
       "dim_norm_765    0\n",
       "dim_norm_766    0\n",
       "dim_norm_767    0\n",
       "Length: 782, dtype: int64"
      ]
     },
     "execution_count": 16,
     "metadata": {},
     "output_type": "execute_result"
    }
   ],
   "source": [
    "missing_values = df_normalized_embeddings.isnull().sum()\n",
    "missing_values"
   ]
  },
  {
   "cell_type": "code",
   "execution_count": 17,
   "metadata": {},
   "outputs": [
    {
     "name": "stdout",
     "output_type": "stream",
     "text": [
      "0\n"
     ]
    }
   ],
   "source": [
    "# Identify columns of interest (dim_0 to dim_767)\n",
    "columns_of_interest = [f'dim_norm_{i}' for i in range(768)]\n",
    "\n",
    "# Count rows with NaN in these columns\n",
    "num_rows_with_nan_norm = df_normalized_embeddings[columns_of_interest].isna().any(axis=1).sum()\n",
    "\n",
    "# Display the count\n",
    "print(num_rows_with_nan_norm)"
   ]
  },
  {
   "cell_type": "markdown",
   "metadata": {},
   "source": [
    "### 2. Dimentionality reduction with PCA"
   ]
  },
  {
   "cell_type": "markdown",
   "metadata": {},
   "source": [
    "* Similar steps but here the output is a final user dataframe with vectors of 300 dimensions (In the beginning I have chosen 10 only because that's what they have done in the artile but the variance dropped to 45%, so I set up for now 300 which gives ~95%.) We can always adjust it"
   ]
  },
  {
   "cell_type": "code",
   "execution_count": 18,
   "metadata": {},
   "outputs": [],
   "source": [
    "pd.set_option('display.max_colwidth', 50)  # Adjust column width\n",
    "pd.set_option('display.width', 100)       # Adjust width of display"
   ]
  },
  {
   "cell_type": "code",
   "execution_count": 19,
   "metadata": {},
   "outputs": [],
   "source": [
    "# Perform dimensionality reduction to 300 components using PCA\n",
    "pca = PCA(n_components=300)"
   ]
  },
  {
   "cell_type": "code",
   "execution_count": 20,
   "metadata": {},
   "outputs": [],
   "source": [
    "pca_embeddings = pca.fit_transform(normalized_embeddings)"
   ]
  },
  {
   "cell_type": "code",
   "execution_count": 21,
   "metadata": {},
   "outputs": [
    {
     "name": "stdout",
     "output_type": "stream",
     "text": [
      "(692331, 300)\n"
     ]
    }
   ],
   "source": [
    "print(pca_embeddings.shape)"
   ]
  },
  {
   "cell_type": "code",
   "execution_count": 22,
   "metadata": {},
   "outputs": [
    {
     "data": {
      "text/plain": [
       "array([[-1.93043088e-01, -9.40082550e-05, -3.13472032e-02, ...,\n",
       "         2.58044285e-03,  2.19500385e-02,  5.14330075e-03],\n",
       "       [-1.04640375e-01, -1.21517591e-02, -3.88902963e-02, ...,\n",
       "         4.06126707e-03,  3.28373620e-03, -4.92526029e-04],\n",
       "       [ 8.56322562e-02,  2.08808937e-01, -4.26144971e-02, ...,\n",
       "         1.43494994e-02,  5.83178027e-05, -4.30649823e-03],\n",
       "       ...,\n",
       "       [ 1.97261689e-02,  2.71948796e-01,  7.76883388e-02, ...,\n",
       "         2.98825706e-04,  1.00408370e-02, -1.17193217e-02],\n",
       "       [-5.53435766e-02, -2.48316794e-02,  2.53586109e-01, ...,\n",
       "        -7.00086893e-03, -2.41649081e-03, -1.48632799e-02],\n",
       "       [-1.86513871e-01, -3.51712366e-02, -4.08929099e-02, ...,\n",
       "        -1.86971775e-02,  3.35082544e-03,  2.00230557e-03]])"
      ]
     },
     "execution_count": 22,
     "metadata": {},
     "output_type": "execute_result"
    }
   ],
   "source": [
    "pca_embeddings"
   ]
  },
  {
   "cell_type": "markdown",
   "metadata": {},
   "source": [
    "### 3. PCA - Variance analysis"
   ]
  },
  {
   "cell_type": "markdown",
   "metadata": {},
   "source": [
    "* Verify if the size of reduced embeddings is big enough to still keep the meaning of the textual data"
   ]
  },
  {
   "cell_type": "code",
   "execution_count": 23,
   "metadata": {},
   "outputs": [
    {
     "data": {
      "text/plain": [
       "(692331, 768)"
      ]
     },
     "execution_count": 23,
     "metadata": {},
     "output_type": "execute_result"
    }
   ],
   "source": [
    "embeddings_norm.shape"
   ]
  },
  {
   "cell_type": "code",
   "execution_count": 24,
   "metadata": {},
   "outputs": [
    {
     "name": "stdout",
     "output_type": "stream",
     "text": [
      "Explained Variance Ratio for 300 Dimensions: [0.09388509 0.06763783 0.05461393 0.04048936 0.03222465 0.02656826\n",
      " 0.02530867 0.02390561 0.02212245 0.02004999 0.01728898 0.01607446\n",
      " 0.01496901 0.01451433 0.01337311 0.01198212 0.01150465 0.01016104\n",
      " 0.00972864 0.00959086 0.00907417 0.00862593 0.00843039 0.0080386\n",
      " 0.0078605  0.00746758 0.00727066 0.00710616 0.00694043 0.00666061\n",
      " 0.0062848  0.00609209 0.0057726  0.00557458 0.00550601 0.00524735\n",
      " 0.00503372 0.00495834 0.00489018 0.00459477 0.00455589 0.00445912\n",
      " 0.00426084 0.00419414 0.00413557 0.00410876 0.00378109 0.00371074\n",
      " 0.0036158  0.00358189 0.00345707 0.00339095 0.00333523 0.00324629\n",
      " 0.00319223 0.00313115 0.0030613  0.00295225 0.0029167  0.00284382\n",
      " 0.00278852 0.00276716 0.00272038 0.00267801 0.00258487 0.00254854\n",
      " 0.00249327 0.00244202 0.00242671 0.00239366 0.00237287 0.00229181\n",
      " 0.00228183 0.00225001 0.00219681 0.00214667 0.00212555 0.00209668\n",
      " 0.00206847 0.00205754 0.00199271 0.0019618  0.00195612 0.00191887\n",
      " 0.00188277 0.00187851 0.00183412 0.00179734 0.00178115 0.00176617\n",
      " 0.00173572 0.00167936 0.00167258 0.00165658 0.00164151 0.00162823\n",
      " 0.0015956  0.00157502 0.00156661 0.0015117  0.001492   0.00147736\n",
      " 0.0014545  0.00144736 0.00143218 0.00142032 0.00140338 0.00135594\n",
      " 0.00134042 0.00133017 0.00132259 0.00130576 0.00130102 0.00128103\n",
      " 0.00126586 0.00125266 0.00124111 0.00122948 0.00122231 0.001212\n",
      " 0.00119588 0.00117167 0.00116067 0.00114393 0.00112887 0.00112643\n",
      " 0.00111456 0.00109819 0.00108989 0.00107388 0.00106922 0.00105037\n",
      " 0.00102781 0.00101555 0.0010108  0.00100581 0.00099303 0.00097404\n",
      " 0.00096733 0.0009549  0.00094695 0.0009277  0.00091937 0.00091097\n",
      " 0.00090263 0.00089421 0.00088642 0.00087083 0.00086653 0.00085504\n",
      " 0.00084696 0.00083565 0.00083251 0.00082198 0.00081238 0.00080847\n",
      " 0.00079965 0.00079316 0.00077982 0.00077041 0.00075675 0.00075493\n",
      " 0.00074452 0.00074022 0.00073911 0.00073453 0.00072144 0.00071333\n",
      " 0.00070264 0.00070112 0.00069496 0.00068588 0.00068097 0.00067305\n",
      " 0.00067159 0.00066419 0.00065489 0.00065069 0.00064182 0.00063894\n",
      " 0.00063436 0.00062812 0.00061942 0.00061579 0.00060823 0.00060559\n",
      " 0.0005995  0.00059264 0.00058722 0.00058172 0.00058081 0.0005759\n",
      " 0.00057063 0.00056201 0.00056167 0.00055592 0.00055191 0.0005472\n",
      " 0.0005421  0.00053701 0.00053222 0.00052953 0.00051782 0.00051455\n",
      " 0.00051284 0.00050627 0.0005055  0.0005024  0.0004927  0.00048926\n",
      " 0.00048821 0.00048264 0.00048109 0.00047705 0.00047272 0.00046444\n",
      " 0.00046196 0.00046061 0.00045793 0.00045019 0.00044816 0.00044005\n",
      " 0.0004374  0.00043521 0.00043315 0.00042732 0.00042648 0.00042446\n",
      " 0.00041653 0.00041394 0.00041031 0.00040729 0.00040509 0.00040217\n",
      " 0.00039898 0.00039454 0.00039048 0.00038888 0.00038671 0.00038506\n",
      " 0.00038309 0.00037935 0.00037807 0.0003752  0.00036993 0.00036859\n",
      " 0.00036643 0.00036547 0.00036262 0.00035803 0.00035535 0.00035032\n",
      " 0.00035027 0.00034647 0.00034442 0.00034268 0.00034173 0.00033801\n",
      " 0.00033475 0.00033284 0.00032948 0.00032729 0.00032641 0.00032418\n",
      " 0.00032108 0.00031882 0.0003174  0.00031573 0.00030998 0.0003064\n",
      " 0.00030435 0.00030225 0.00030155 0.00029845 0.00029588 0.00029429\n",
      " 0.0002916  0.00029105 0.00028755 0.00028539 0.00028478 0.00028275\n",
      " 0.00027989 0.00027632 0.00027421 0.00027102 0.00026949 0.00026628\n",
      " 0.00026618 0.00026413 0.00026101 0.00025711 0.00025511 0.00025197\n",
      " 0.00024961 0.00024713 0.00024608 0.00024508 0.00024255 0.00023998]\n",
      "Total Explained Variance Captured by 300 Dimensions: 0.9495780027575316\n"
     ]
    }
   ],
   "source": [
    "# Fit PCA to the original embeddings\n",
    "pca = PCA(n_components=300)\n",
    "pca.fit(embeddings_norm)\n",
    "\n",
    "# Check explained variance\n",
    "explained_variance = pca.explained_variance_ratio_\n",
    "total_variance = sum(explained_variance)\n",
    "\n",
    "print(\"Explained Variance Ratio for 300 Dimensions:\", explained_variance)\n",
    "print(\"Total Explained Variance Captured by 300 Dimensions:\", total_variance)"
   ]
  },
  {
   "cell_type": "markdown",
   "metadata": {},
   "source": [
    "### 4. Generate a merged DataFrame from df_user, including columns for embedding dimensions."
   ]
  },
  {
   "cell_type": "code",
   "execution_count": 25,
   "metadata": {},
   "outputs": [],
   "source": [
    "# Create column names for embedding dimensions - normalized data after dimentionality reducion\n",
    "num_dimensions_pca = pca_embeddings.shape[1]\n",
    "normalized_columns_PCA = [f'dim_norm_PCA{i}' for i in range(num_dimensions_pca)]"
   ]
  },
  {
   "cell_type": "code",
   "execution_count": 26,
   "metadata": {},
   "outputs": [],
   "source": [
    "embeddings_df_PCA = pd.DataFrame(pca_embeddings, columns=normalized_columns_PCA)"
   ]
  },
  {
   "cell_type": "code",
   "execution_count": 27,
   "metadata": {},
   "outputs": [],
   "source": [
    "df_user_normalized_PCA = pd.concat([df_user.reset_index(drop=True), embeddings_df_PCA], axis=1)"
   ]
  },
  {
   "cell_type": "code",
   "execution_count": 28,
   "metadata": {},
   "outputs": [
    {
     "data": {
      "text/html": [
       "<div>\n",
       "<style scoped>\n",
       "    .dataframe tbody tr th:only-of-type {\n",
       "        vertical-align: middle;\n",
       "    }\n",
       "\n",
       "    .dataframe tbody tr th {\n",
       "        vertical-align: top;\n",
       "    }\n",
       "\n",
       "    .dataframe thead th {\n",
       "        text-align: right;\n",
       "    }\n",
       "</style>\n",
       "<table border=\"1\" class=\"dataframe\">\n",
       "  <thead>\n",
       "    <tr style=\"text-align: right;\">\n",
       "      <th></th>\n",
       "      <th>rating</th>\n",
       "      <th>review_title</th>\n",
       "      <th>text_review</th>\n",
       "      <th>user_images</th>\n",
       "      <th>product_ID</th>\n",
       "      <th>parent_ID</th>\n",
       "      <th>user_ID</th>\n",
       "      <th>timestamp</th>\n",
       "      <th>helpful_review_vote</th>\n",
       "      <th>user_purchase_verification</th>\n",
       "      <th>...</th>\n",
       "      <th>dim_norm_PCA290</th>\n",
       "      <th>dim_norm_PCA291</th>\n",
       "      <th>dim_norm_PCA292</th>\n",
       "      <th>dim_norm_PCA293</th>\n",
       "      <th>dim_norm_PCA294</th>\n",
       "      <th>dim_norm_PCA295</th>\n",
       "      <th>dim_norm_PCA296</th>\n",
       "      <th>dim_norm_PCA297</th>\n",
       "      <th>dim_norm_PCA298</th>\n",
       "      <th>dim_norm_PCA299</th>\n",
       "    </tr>\n",
       "  </thead>\n",
       "  <tbody>\n",
       "    <tr>\n",
       "      <th>0</th>\n",
       "      <td>5</td>\n",
       "      <td>Such a lovely scent but not overpowering.</td>\n",
       "      <td>This spray is really nice. It smells really go...</td>\n",
       "      <td>[]</td>\n",
       "      <td>B00YQ6X8EO</td>\n",
       "      <td>B00YQ6X8EO</td>\n",
       "      <td>AGKHLEW2SOWHNMFQIJGBECAF7INQ</td>\n",
       "      <td>2020-05-05 14:08:48.923</td>\n",
       "      <td>0</td>\n",
       "      <td>1</td>\n",
       "      <td>...</td>\n",
       "      <td>0.004485</td>\n",
       "      <td>0.005451</td>\n",
       "      <td>-0.002474</td>\n",
       "      <td>-0.003272</td>\n",
       "      <td>-0.000586</td>\n",
       "      <td>0.001671</td>\n",
       "      <td>0.002865</td>\n",
       "      <td>0.002580</td>\n",
       "      <td>0.021950</td>\n",
       "      <td>0.005143</td>\n",
       "    </tr>\n",
       "    <tr>\n",
       "      <th>1</th>\n",
       "      <td>4</td>\n",
       "      <td>Works great but smells a little weird.</td>\n",
       "      <td>This product does what I need it to do, I just...</td>\n",
       "      <td>[]</td>\n",
       "      <td>B081TJ8YS3</td>\n",
       "      <td>B081TJ8YS3</td>\n",
       "      <td>AGKHLEW2SOWHNMFQIJGBECAF7INQ</td>\n",
       "      <td>2020-05-04 18:10:55.070</td>\n",
       "      <td>1</td>\n",
       "      <td>1</td>\n",
       "      <td>...</td>\n",
       "      <td>0.001461</td>\n",
       "      <td>0.001386</td>\n",
       "      <td>0.003221</td>\n",
       "      <td>-0.005483</td>\n",
       "      <td>0.003578</td>\n",
       "      <td>0.006443</td>\n",
       "      <td>-0.008957</td>\n",
       "      <td>0.004061</td>\n",
       "      <td>0.003284</td>\n",
       "      <td>-0.000493</td>\n",
       "    </tr>\n",
       "    <tr>\n",
       "      <th>2</th>\n",
       "      <td>5</td>\n",
       "      <td>Yes!</td>\n",
       "      <td>Smells good, feels great!</td>\n",
       "      <td>[]</td>\n",
       "      <td>B07PNNCSP9</td>\n",
       "      <td>B097R46CSY</td>\n",
       "      <td>AE74DYR3QUGVPZJ3P7RFWBGIX7XQ</td>\n",
       "      <td>2020-05-16 21:41:06.052</td>\n",
       "      <td>2</td>\n",
       "      <td>1</td>\n",
       "      <td>...</td>\n",
       "      <td>0.002023</td>\n",
       "      <td>-0.004310</td>\n",
       "      <td>-0.003860</td>\n",
       "      <td>0.007212</td>\n",
       "      <td>0.001286</td>\n",
       "      <td>0.007776</td>\n",
       "      <td>0.003396</td>\n",
       "      <td>0.014349</td>\n",
       "      <td>0.000058</td>\n",
       "      <td>-0.004306</td>\n",
       "    </tr>\n",
       "    <tr>\n",
       "      <th>3</th>\n",
       "      <td>1</td>\n",
       "      <td>Synthetic feeling</td>\n",
       "      <td>Felt synthetic</td>\n",
       "      <td>[]</td>\n",
       "      <td>B09JS339BZ</td>\n",
       "      <td>B09JS339BZ</td>\n",
       "      <td>AFQLNQNQYFWQZPJQZS6V3NZU4QBQ</td>\n",
       "      <td>2022-01-28 18:13:50.220</td>\n",
       "      <td>0</td>\n",
       "      <td>1</td>\n",
       "      <td>...</td>\n",
       "      <td>-0.006163</td>\n",
       "      <td>-0.016397</td>\n",
       "      <td>-0.000758</td>\n",
       "      <td>-0.007233</td>\n",
       "      <td>0.005454</td>\n",
       "      <td>0.000667</td>\n",
       "      <td>-0.012256</td>\n",
       "      <td>-0.006580</td>\n",
       "      <td>0.010938</td>\n",
       "      <td>-0.017094</td>\n",
       "    </tr>\n",
       "    <tr>\n",
       "      <th>4</th>\n",
       "      <td>5</td>\n",
       "      <td>A+</td>\n",
       "      <td>Love it</td>\n",
       "      <td>[]</td>\n",
       "      <td>B08BZ63GMJ</td>\n",
       "      <td>B08BZ63GMJ</td>\n",
       "      <td>AFQLNQNQYFWQZPJQZS6V3NZU4QBQ</td>\n",
       "      <td>2020-12-30 10:02:43.534</td>\n",
       "      <td>0</td>\n",
       "      <td>1</td>\n",
       "      <td>...</td>\n",
       "      <td>0.005643</td>\n",
       "      <td>0.012471</td>\n",
       "      <td>0.005314</td>\n",
       "      <td>-0.001744</td>\n",
       "      <td>0.010407</td>\n",
       "      <td>-0.012620</td>\n",
       "      <td>-0.008812</td>\n",
       "      <td>-0.009284</td>\n",
       "      <td>0.008086</td>\n",
       "      <td>0.001676</td>\n",
       "    </tr>\n",
       "  </tbody>\n",
       "</table>\n",
       "<p>5 rows × 314 columns</p>\n",
       "</div>"
      ],
      "text/plain": [
       "   rating                               review_title   \n",
       "0       5  Such a lovely scent but not overpowering.  \\\n",
       "1       4     Works great but smells a little weird.   \n",
       "2       5                                       Yes!   \n",
       "3       1                          Synthetic feeling   \n",
       "4       5                                         A+   \n",
       "\n",
       "                                         text_review user_images  product_ID   parent_ID   \n",
       "0  This spray is really nice. It smells really go...          []  B00YQ6X8EO  B00YQ6X8EO  \\\n",
       "1  This product does what I need it to do, I just...          []  B081TJ8YS3  B081TJ8YS3   \n",
       "2                          Smells good, feels great!          []  B07PNNCSP9  B097R46CSY   \n",
       "3                                     Felt synthetic          []  B09JS339BZ  B09JS339BZ   \n",
       "4                                            Love it          []  B08BZ63GMJ  B08BZ63GMJ   \n",
       "\n",
       "                        user_ID                timestamp  helpful_review_vote   \n",
       "0  AGKHLEW2SOWHNMFQIJGBECAF7INQ  2020-05-05 14:08:48.923                    0  \\\n",
       "1  AGKHLEW2SOWHNMFQIJGBECAF7INQ  2020-05-04 18:10:55.070                    1   \n",
       "2  AE74DYR3QUGVPZJ3P7RFWBGIX7XQ  2020-05-16 21:41:06.052                    2   \n",
       "3  AFQLNQNQYFWQZPJQZS6V3NZU4QBQ  2022-01-28 18:13:50.220                    0   \n",
       "4  AFQLNQNQYFWQZPJQZS6V3NZU4QBQ  2020-12-30 10:02:43.534                    0   \n",
       "\n",
       "   user_purchase_verification  ...  dim_norm_PCA290 dim_norm_PCA291 dim_norm_PCA292   \n",
       "0                           1  ...         0.004485        0.005451       -0.002474  \\\n",
       "1                           1  ...         0.001461        0.001386        0.003221   \n",
       "2                           1  ...         0.002023       -0.004310       -0.003860   \n",
       "3                           1  ...        -0.006163       -0.016397       -0.000758   \n",
       "4                           1  ...         0.005643        0.012471        0.005314   \n",
       "\n",
       "  dim_norm_PCA293  dim_norm_PCA294  dim_norm_PCA295  dim_norm_PCA296  dim_norm_PCA297   \n",
       "0       -0.003272        -0.000586         0.001671         0.002865         0.002580  \\\n",
       "1       -0.005483         0.003578         0.006443        -0.008957         0.004061   \n",
       "2        0.007212         0.001286         0.007776         0.003396         0.014349   \n",
       "3       -0.007233         0.005454         0.000667        -0.012256        -0.006580   \n",
       "4       -0.001744         0.010407        -0.012620        -0.008812        -0.009284   \n",
       "\n",
       "   dim_norm_PCA298  dim_norm_PCA299  \n",
       "0         0.021950         0.005143  \n",
       "1         0.003284        -0.000493  \n",
       "2         0.000058        -0.004306  \n",
       "3         0.010938        -0.017094  \n",
       "4         0.008086         0.001676  \n",
       "\n",
       "[5 rows x 314 columns]"
      ]
     },
     "execution_count": 28,
     "metadata": {},
     "output_type": "execute_result"
    }
   ],
   "source": [
    "df_user_normalized_PCA.head(5)"
   ]
  },
  {
   "cell_type": "code",
   "execution_count": null,
   "metadata": {},
   "outputs": [
    {
     "name": "stdout",
     "output_type": "stream",
     "text": [
      "0\n"
     ]
    }
   ],
   "source": [
    "# Identify columns of interest \n",
    "columns_of_interest_PCA = [f'dim_norm_PCA{i}' for i in range(294)]\n",
    "\n",
    "# Count rows with NaN in these columns\n",
    "num_rows_with_nan_norm_PCA = df_user_normalized_PCA[columns_of_interest_PCA].isna().any(axis=1).sum()\n",
    "\n",
    "# Display the count\n",
    "print(num_rows_with_nan_norm_PCA)"
   ]
  },
  {
   "cell_type": "markdown",
   "metadata": {},
   "source": [
    "Save the output DataFrame:"
   ]
  },
  {
   "cell_type": "code",
   "execution_count": 30,
   "metadata": {},
   "outputs": [],
   "source": [
    "# Save the DataFrame with normalized & reduced embeddings:\n",
    "\n",
    "file_path = rf'.\\..\\data\\embeddings_dim_reduction\\df_user_normalized_PCA_merged.csv'\n",
    "df_user_normalized_PCA.to_csv(file_path, index=False)"
   ]
  }
 ],
 "metadata": {
  "kernelspec": {
   "display_name": ".venv",
   "language": "python",
   "name": "python3"
  },
  "language_info": {
   "codemirror_mode": {
    "name": "ipython",
    "version": 3
   },
   "file_extension": ".py",
   "mimetype": "text/x-python",
   "name": "python",
   "nbconvert_exporter": "python",
   "pygments_lexer": "ipython3",
   "version": "3.11.3"
  }
 },
 "nbformat": 4,
 "nbformat_minor": 2
}
