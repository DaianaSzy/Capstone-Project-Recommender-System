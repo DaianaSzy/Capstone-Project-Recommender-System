{
 "cells": [
  {
   "cell_type": "markdown",
   "metadata": {},
   "source": [
    "# Specify and set the filepath structure for the project data to work with"
   ]
  },
  {
   "cell_type": "markdown",
   "metadata": {},
   "source": [
    "## 1. Import libraries"
   ]
  },
  {
   "cell_type": "code",
   "execution_count": 1,
   "metadata": {},
   "outputs": [],
   "source": [
    "# Import necessary libraries\n",
    "import os\n",
    "import requests\n",
    "import gzip\n",
    "import shutil\n",
    "import unicodedata\n",
    "import pandas as pd\n",
    "from pandas import json_normalize\n",
    "import json\n",
    "\n",
    "# Optional: to suppress warnings for cleaner output\n",
    "import warnings\n",
    "warnings.filterwarnings(\"ignore\")\n"
   ]
  },
  {
   "cell_type": "markdown",
   "metadata": {},
   "source": [
    "## 2. Introductionary examples for os library"
   ]
  },
  {
   "cell_type": "code",
   "execution_count": null,
   "metadata": {},
   "outputs": [],
   "source": [
    "# Illustrate how os.getcwd(), os.path.join(), os.path.exists() work\n",
    "\n",
    "path = os.path.join(os.getcwd(),\"..\", 'data')\n",
    "print(f\"The path {path} exists:\\n{os.path.exists(path)}\\n\") # returns True if the folder or file exists\n",
    "\n",
    "path = os.path.join(path, '_original', 'All_Beauty.jsonl.gz')\n",
    "print(f\"The path {path} exists:\\n{os.path.exists(path)}\")"
   ]
  },
  {
   "cell_type": "code",
   "execution_count": null,
   "metadata": {},
   "outputs": [],
   "source": [
    "# Illustrate how os.path.pardir and os.path.abspath() work\n",
    "\n",
    "# get the relative path of the parent folder of the working directory\n",
    "path = os.path.join(os.getcwd(), os.pardir)\n",
    "print(path)\n",
    "\n",
    "# and return the absolute path of the parent directory\n",
    "path = os.path.abspath(path)\n",
    "print(path)"
   ]
  },
  {
   "cell_type": "markdown",
   "metadata": {},
   "source": [
    "## 3. Create project folder structure and download data"
   ]
  },
  {
   "cell_type": "code",
   "execution_count": 14,
   "metadata": {},
   "outputs": [],
   "source": [
    "# Get the current notebook working directory (\"./notebooks\")  for the \"./../data\" folder and it's subolders to be created:\n",
    "path = os.path.join(os.getcwd(), os.pardir) # get the relative path of the parent folder of the working directory\n",
    "path = os.path.abspath(path) # and return the absolute path of the parent directory for the data folder\n",
    "path = os.path.join(path, 'data') # path variable for \"data\" folder within the local github project on your machine\n",
    "\n",
    "# Check if the structure within data folder is existing:\n",
    "if os.path.exists(os.path.join(path, '_original')) == False:\n",
    "    # create the folder\n",
    "    os.mkdir(os.path.join(path, '_original'))\n",
    "    # download the data from the web\n",
    "    url_user = 'https://datarepo.eng.ucsd.edu/mcauley_group/data/amazon_2023/raw/review_categories/All_Beauty.jsonl.gz'\n",
    "    url_meta = 'https://datarepo.eng.ucsd.edu/mcauley_group/data/amazon_2023/raw/meta_categories/meta_All_Beauty.jsonl.gz'\n",
    "    \n",
    "    response_user = requests.get(url_user)\n",
    "    response_meta = requests.get(url_meta)\n",
    "\n",
    "    if response_user.status_code == 200:\n",
    "        with open(os.path.join(path, '_original','All_Beauty.jsonl.gz'), 'wb') as file:\n",
    "            file.write(response_user.content)\n",
    "        print(f\" File 'All_Beaty.json.gz' dowloaded sucessfully\")\n",
    "    else:\n",
    "        print(f\" Failed to download 'All_Beaty.json.gz'. \\nPlease download manually to './data/_original' folder.\")\n",
    "\n",
    "    if response_meta.status_code == 200:\n",
    "        with open(os.path.join(path, '_original', 'meta_All_Beauty.jsonl.gz'), 'wb') as file:\n",
    "            file.write(response_meta.content)\n",
    "        print(f\" File 'meta_All_Beaty.json.gz' dowloaded sucessfully\")\n",
    "    else:\n",
    "        print(f\" Failed to download 'meta_All_Beaty.json.gz'. \\nPlease download manually to './data/_original' folder.\")\n",
    "\n",
    "elif os.path.exists(os.path.join(path, 'json_files')) == False:    \n",
    "    source = os.path.join(path, '_original')\n",
    "    destination = os.path.join(path, 'json_files')\n",
    "    \n",
    "    # create the folder\n",
    "    os.mkdir(destination)\n",
    "    \n",
    "    # check if unzip and shutil packages are installed:\n",
    "    pip_list = os.popen('pip list').read().strip() #pip list all installed packages and remove spaces\n",
    "    #print(f\"pip list: {pip_list}\")\n",
    "    Package = list(pip_list.split(\"\\n\")) #split by end of line\n",
    "    #print(f\"Package: {Package}\")\n",
    "\n",
    "    c = 0\n",
    "    for i in Package:\n",
    "        if \"gzip\" in i or \"shutil\" in i:\n",
    "            c = c + 1\n",
    "\n",
    "    if c == 2:\n",
    "        # unzip downloaded json files from _original into json_files\n",
    "        for filename in os.listdir(source):\n",
    "            if filename.endswith('.gz'): \n",
    "                with gzip.open(filename, 'rb') as f_in:\n",
    "                    with open(filename[:-3], 'wb') as f_out:\n",
    "                        shutil.copyfileobj(f_in, f_out)\n",
    "                        shutil.move(os.path.join(source, f_out), destination)\n",
    "    else:\n",
    "        print(\"Please extract the .gz files in './data/_original' and \\nmove them to './data/json_files' for this notebook to work properly!\")\n",
    "\n",
    "\n",
    "elif os.path.exists(os.path.join(path, 'csv_transformed')) == False:\n",
    "    os.mkdir(os.path.join(path, 'csv_transformed'))\n",
    "\n",
    "elif os.path.exists(os.path.join(path, 'data_clean')) == False:\n",
    "    os.mkdir(os.path.join(path, 'data_clean'))\n",
    "\n",
    "elif os.path.exists(os.path.join(path, 'json_normalized')) == False:\n",
    "    os.mkdir(os.path.join(path, 'json_normalized'))\n",
    "\n",
    "elif os.path.exists(os.path.join(path, 'embeddings_output')) == False:\n",
    "    os.mkdir(os.path.join(path, 'embeddings_output'))\n",
    "\n",
    "elif os.path.exists(os.path.join(path, 'embeddings_dim_reduction')) == False:\n",
    "    os.mkdir(os.path.join(path, 'embeddings_dim_reduction'))\n",
    "\n",
    "elif os.path.exists(os.path.join(path, 'embeddings_dim_reduction')) == False:\n",
    "    os.mkdir(os.path.join(path, 'embeddings_dim_reduction'))\n",
    "\n",
    "elif os.path.exists(os.path.join(path, 'embeddings_dim_reduction')) == False:\n",
    "    os.mkdir(os.path.join(path, 'embeddings_dim_reduction'))\n",
    "\n",
    "elif os.path.exists(os.path.join(path, 'text_analysis')) == False:\n",
    "    os.mkdir(os.path.join(path, 'text_analysis'))\n",
    "    os.mkdir(os.path.join(path, 'text_analysis', 'user_vectors'))\n",
    "    os.mkdir(os.path.join(path, 'text_analysis', 'product_vectors'))\n",
    "   \n",
    "elif os.path.exists(os.path.join(path, 'embeddings_output')) == False:\n",
    "    os.mkdir(os.path.join(path, 'embeddings_output'))\n",
    "\n",
    "elif os.path.exists(os.path.join(path, 'embeddings_dim_reduction')) == False:\n",
    "    os.mkdir(os.path.join(path, 'embeddings_dim_reduction'))"
   ]
  },
  {
   "cell_type": "markdown",
   "metadata": {},
   "source": [
    "## 4. Create a flattend CSV from the downloaded JSON files"
   ]
  },
  {
   "cell_type": "markdown",
   "metadata": {},
   "source": [
    "Convert the nested JSON datasets of the items descpritions and users ratings into flattend CSV files"
   ]
  },
  {
   "cell_type": "code",
   "execution_count": 15,
   "metadata": {},
   "outputs": [
    {
     "name": "stdout",
     "output_type": "stream",
     "text": [
      "Most likely the corresponding folder structure and csv file already exists.\n",
      "In case it does not please repeat the previous steps or adapt the folder structure manually\n"
     ]
    }
   ],
   "source": [
    "# get the relative path of the parent folder of the working directory\n",
    "# and return the absolute path of the parent directory for the data folder\n",
    "path = os.path.abspath(os.path.join(os.getcwd(), os.pardir)) \n",
    "path = os.path.join(path, 'data') # path variable for \"data\" folder within the local github project on your machine\n",
    "\n",
    "if os.path.exists(os.path.join(path, 'json_normalized', 'normalized_user.csv')) == False:\n",
    "    # Flatten nested json file of 'user' data\n",
    "    json_file_user = '.\\..\\data\\json_files\\All_Beauty.jsonl'\n",
    "    nested_data = []\n",
    "    with open(json_file_user, 'r') as file:\n",
    "        for line in file:\n",
    "            nested_data.append(json.loads(line))\n",
    "\n",
    "    df_user = json_normalize(nested_data)\n",
    "    df_user.to_csv(r'.\\..\\data\\json_normalized\\normalized_user.csv', index=False)\n",
    "    \n",
    "    print(\"Nested JSON file has been flattened and saved as \\n'.\\data\\json_normalized\\normalized_user.csv'.\")\n",
    "\n",
    "# \n",
    "elif os.path.exists(os.path.join(path, 'csv_transformed', 'meta.csv')) == False:\n",
    "    json_file_meta = '.\\..\\data\\json_files\\meta_All_Beauty.jsonl'\n",
    "    df_meta = pd.read_json(json_file_meta, lines=True)\n",
    "    # Specify the path for the CSV:\n",
    "    csv_meta = r'.\\..\\data\\csv_transformed\\meta.csv'\n",
    "    # Save the DataFrame as a CSV file\n",
    "    df_meta.to_csv(csv_meta, index=False)\n",
    "    \n",
    "    print(f\"JSON file has been converted to CSV and saved as '{csv_meta}'.\")\n",
    "\n",
    "else:\n",
    "    print(\"Most likely the corresponding folder structure and csv file already exists.\\nIn case it does not please repeat the previous steps or adapt the folder structure manually\")"
   ]
  },
  {
   "cell_type": "markdown",
   "metadata": {},
   "source": [
    "Convert the JSON dataset of 'meta' into a CSV file"
   ]
  },
  {
   "cell_type": "code",
   "execution_count": 53,
   "metadata": {},
   "outputs": [],
   "source": [
    "if os.path.exists('.\\..\\data\\csv_transformed\\meta.csv') == False:\n",
    "    json_file_meta = '.\\..\\data\\json_files\\meta_All_Beauty.jsonl'\n",
    "    df_meta = pd.read_json(json_file_meta, lines=True)\n",
    "    # Specify the path for the CSV:\n",
    "    csv_meta = r'.\\..\\data\\csv_transformed\\meta.csv'\n",
    "    # Save the DataFrame as a CSV file\n",
    "    df_meta.to_csv(csv_meta, index=False)\n",
    "    \n",
    "    print(f\"JSON file has been converted to CSV and saved as '{csv_meta}'.\")"
   ]
  },
  {
   "cell_type": "markdown",
   "metadata": {},
   "source": [
    "## Metadata analysis"
   ]
  },
  {
   "cell_type": "markdown",
   "metadata": {},
   "source": [
    "2. Load Dataset"
   ]
  },
  {
   "cell_type": "code",
   "execution_count": 54,
   "metadata": {},
   "outputs": [],
   "source": [
    "csv_meta = r'.\\..\\data\\csv_transformed\\meta.csv'\n",
    "df_meta= pd.read_csv(csv_meta)"
   ]
  },
  {
   "cell_type": "code",
   "execution_count": 55,
   "metadata": {},
   "outputs": [
    {
     "data": {
      "text/html": [
       "<div>\n",
       "<style scoped>\n",
       "    .dataframe tbody tr th:only-of-type {\n",
       "        vertical-align: middle;\n",
       "    }\n",
       "\n",
       "    .dataframe tbody tr th {\n",
       "        vertical-align: top;\n",
       "    }\n",
       "\n",
       "    .dataframe thead th {\n",
       "        text-align: right;\n",
       "    }\n",
       "</style>\n",
       "<table border=\"1\" class=\"dataframe\">\n",
       "  <thead>\n",
       "    <tr style=\"text-align: right;\">\n",
       "      <th></th>\n",
       "      <th>main_category</th>\n",
       "      <th>title</th>\n",
       "      <th>average_rating</th>\n",
       "      <th>rating_number</th>\n",
       "      <th>features</th>\n",
       "      <th>description</th>\n",
       "      <th>price</th>\n",
       "      <th>images</th>\n",
       "      <th>videos</th>\n",
       "      <th>store</th>\n",
       "      <th>categories</th>\n",
       "      <th>details</th>\n",
       "      <th>parent_asin</th>\n",
       "      <th>bought_together</th>\n",
       "    </tr>\n",
       "  </thead>\n",
       "  <tbody>\n",
       "    <tr>\n",
       "      <th>0</th>\n",
       "      <td>All Beauty</td>\n",
       "      <td>Howard LC0008 Leather Conditioner, 8-Ounce (4-...</td>\n",
       "      <td>4.8</td>\n",
       "      <td>10</td>\n",
       "      <td>[]</td>\n",
       "      <td>[]</td>\n",
       "      <td>NaN</td>\n",
       "      <td>[{'thumb': 'https://m.media-amazon.com/images/...</td>\n",
       "      <td>[]</td>\n",
       "      <td>Howard Products</td>\n",
       "      <td>[]</td>\n",
       "      <td>{'Package Dimensions': '7.1 x 5.5 x 3 inches; ...</td>\n",
       "      <td>B01CUPMQZE</td>\n",
       "      <td>NaN</td>\n",
       "    </tr>\n",
       "    <tr>\n",
       "      <th>1</th>\n",
       "      <td>All Beauty</td>\n",
       "      <td>Yes to Tomatoes Detoxifying Charcoal Cleanser ...</td>\n",
       "      <td>4.5</td>\n",
       "      <td>3</td>\n",
       "      <td>[]</td>\n",
       "      <td>[]</td>\n",
       "      <td>NaN</td>\n",
       "      <td>[{'thumb': 'https://m.media-amazon.com/images/...</td>\n",
       "      <td>[]</td>\n",
       "      <td>Yes To</td>\n",
       "      <td>[]</td>\n",
       "      <td>{'Item Form': 'Powder', 'Skin Type': 'Acne Pro...</td>\n",
       "      <td>B076WQZGPM</td>\n",
       "      <td>NaN</td>\n",
       "    </tr>\n",
       "    <tr>\n",
       "      <th>2</th>\n",
       "      <td>All Beauty</td>\n",
       "      <td>Eye Patch Black Adult with Tie Band (6 Per Pack)</td>\n",
       "      <td>4.4</td>\n",
       "      <td>26</td>\n",
       "      <td>[]</td>\n",
       "      <td>[]</td>\n",
       "      <td>NaN</td>\n",
       "      <td>[{'thumb': 'https://m.media-amazon.com/images/...</td>\n",
       "      <td>[]</td>\n",
       "      <td>Levine Health Products</td>\n",
       "      <td>[]</td>\n",
       "      <td>{'Manufacturer': 'Levine Health Products'}</td>\n",
       "      <td>B000B658RI</td>\n",
       "      <td>NaN</td>\n",
       "    </tr>\n",
       "    <tr>\n",
       "      <th>3</th>\n",
       "      <td>All Beauty</td>\n",
       "      <td>Tattoo Eyebrow Stickers, Waterproof Eyebrow, 4...</td>\n",
       "      <td>3.1</td>\n",
       "      <td>102</td>\n",
       "      <td>[]</td>\n",
       "      <td>[]</td>\n",
       "      <td>NaN</td>\n",
       "      <td>[{'thumb': 'https://m.media-amazon.com/images/...</td>\n",
       "      <td>[]</td>\n",
       "      <td>Cherioll</td>\n",
       "      <td>[]</td>\n",
       "      <td>{'Brand': 'Cherioll', 'Item Form': 'Powder', '...</td>\n",
       "      <td>B088FKY3VD</td>\n",
       "      <td>NaN</td>\n",
       "    </tr>\n",
       "    <tr>\n",
       "      <th>4</th>\n",
       "      <td>All Beauty</td>\n",
       "      <td>Precision Plunger Bars for Cartridge Grips – 9...</td>\n",
       "      <td>4.3</td>\n",
       "      <td>7</td>\n",
       "      <td>['Material: 304 Stainless Steel; Brass tip', '...</td>\n",
       "      <td>['The Precision Plunger Bars are designed to w...</td>\n",
       "      <td>NaN</td>\n",
       "      <td>[{'thumb': 'https://m.media-amazon.com/images/...</td>\n",
       "      <td>[]</td>\n",
       "      <td>Precision</td>\n",
       "      <td>[]</td>\n",
       "      <td>{'UPC': '644287689178'}</td>\n",
       "      <td>B07NGFDN6G</td>\n",
       "      <td>NaN</td>\n",
       "    </tr>\n",
       "  </tbody>\n",
       "</table>\n",
       "</div>"
      ],
      "text/plain": [
       "  main_category                                              title  \\\n",
       "0    All Beauty  Howard LC0008 Leather Conditioner, 8-Ounce (4-...   \n",
       "1    All Beauty  Yes to Tomatoes Detoxifying Charcoal Cleanser ...   \n",
       "2    All Beauty   Eye Patch Black Adult with Tie Band (6 Per Pack)   \n",
       "3    All Beauty  Tattoo Eyebrow Stickers, Waterproof Eyebrow, 4...   \n",
       "4    All Beauty  Precision Plunger Bars for Cartridge Grips – 9...   \n",
       "\n",
       "   average_rating  rating_number  \\\n",
       "0             4.8             10   \n",
       "1             4.5              3   \n",
       "2             4.4             26   \n",
       "3             3.1            102   \n",
       "4             4.3              7   \n",
       "\n",
       "                                            features  \\\n",
       "0                                                 []   \n",
       "1                                                 []   \n",
       "2                                                 []   \n",
       "3                                                 []   \n",
       "4  ['Material: 304 Stainless Steel; Brass tip', '...   \n",
       "\n",
       "                                         description  price  \\\n",
       "0                                                 []    NaN   \n",
       "1                                                 []    NaN   \n",
       "2                                                 []    NaN   \n",
       "3                                                 []    NaN   \n",
       "4  ['The Precision Plunger Bars are designed to w...    NaN   \n",
       "\n",
       "                                              images videos  \\\n",
       "0  [{'thumb': 'https://m.media-amazon.com/images/...     []   \n",
       "1  [{'thumb': 'https://m.media-amazon.com/images/...     []   \n",
       "2  [{'thumb': 'https://m.media-amazon.com/images/...     []   \n",
       "3  [{'thumb': 'https://m.media-amazon.com/images/...     []   \n",
       "4  [{'thumb': 'https://m.media-amazon.com/images/...     []   \n",
       "\n",
       "                    store categories  \\\n",
       "0         Howard Products         []   \n",
       "1                  Yes To         []   \n",
       "2  Levine Health Products         []   \n",
       "3                Cherioll         []   \n",
       "4               Precision         []   \n",
       "\n",
       "                                             details parent_asin  \\\n",
       "0  {'Package Dimensions': '7.1 x 5.5 x 3 inches; ...  B01CUPMQZE   \n",
       "1  {'Item Form': 'Powder', 'Skin Type': 'Acne Pro...  B076WQZGPM   \n",
       "2         {'Manufacturer': 'Levine Health Products'}  B000B658RI   \n",
       "3  {'Brand': 'Cherioll', 'Item Form': 'Powder', '...  B088FKY3VD   \n",
       "4                            {'UPC': '644287689178'}  B07NGFDN6G   \n",
       "\n",
       "   bought_together  \n",
       "0              NaN  \n",
       "1              NaN  \n",
       "2              NaN  \n",
       "3              NaN  \n",
       "4              NaN  "
      ]
     },
     "execution_count": 55,
     "metadata": {},
     "output_type": "execute_result"
    }
   ],
   "source": [
    "df_meta.head(5)\n"
   ]
  },
  {
   "cell_type": "code",
   "execution_count": 56,
   "metadata": {},
   "outputs": [
    {
     "data": {
      "text/plain": [
       "\"[{'thumb': 'https://m.media-amazon.com/images/I/41qfjSfqNyL._SS40_.jpg', 'large': 'https://m.media-amazon.com/images/I/41qfjSfqNyL.jpg', 'variant': 'MAIN', 'hi_res': None}, {'thumb': 'https://m.media-amazon.com/images/I/41w2yznfuZL._SS40_.jpg', 'large': 'https://m.media-amazon.com/images/I/41w2yznfuZL.jpg', 'variant': 'PT01', 'hi_res': 'https://m.media-amazon.com/images/I/71i77AuI9xL._SL1500_.jpg'}]\""
      ]
     },
     "execution_count": 56,
     "metadata": {},
     "output_type": "execute_result"
    }
   ],
   "source": [
    "df_meta['images'][0]"
   ]
  },
  {
   "cell_type": "markdown",
   "metadata": {},
   "source": [
    "## Extract one large image from the 'images' column:"
   ]
  },
  {
   "cell_type": "code",
   "execution_count": 57,
   "metadata": {},
   "outputs": [],
   "source": [
    "def extract_first_large_image(images):\n",
    "    if isinstance(images, (list, tuple)) and len(images) > 0:\n",
    "        return images[0].get('large', None)  # Get the 'large' URL from the first image\n",
    "    return None  # Return None if no images are available\n",
    "\n",
    "df_meta['large_image'] = df_meta['images'].apply(extract_first_large_image)"
   ]
  },
  {
   "cell_type": "code",
   "execution_count": 58,
   "metadata": {},
   "outputs": [],
   "source": [
    "df_meta['large_image'][0]"
   ]
  },
  {
   "cell_type": "code",
   "execution_count": 59,
   "metadata": {},
   "outputs": [
    {
     "data": {
      "text/plain": [
       "\"{'UPC': '644287689178'}\""
      ]
     },
     "execution_count": 59,
     "metadata": {},
     "output_type": "execute_result"
    }
   ],
   "source": [
    "df_meta['details'][4]"
   ]
  },
  {
   "cell_type": "code",
   "execution_count": 60,
   "metadata": {},
   "outputs": [
    {
     "data": {
      "text/plain": [
       "(112590, 15)"
      ]
     },
     "execution_count": 60,
     "metadata": {},
     "output_type": "execute_result"
    }
   ],
   "source": [
    "df_meta.shape"
   ]
  },
  {
   "cell_type": "code",
   "execution_count": 61,
   "metadata": {},
   "outputs": [
    {
     "data": {
      "text/plain": [
       "main_category       object\n",
       "title               object\n",
       "average_rating     float64\n",
       "rating_number        int64\n",
       "features            object\n",
       "description         object\n",
       "price              float64\n",
       "images              object\n",
       "videos              object\n",
       "store               object\n",
       "categories          object\n",
       "details             object\n",
       "parent_asin         object\n",
       "bought_together    float64\n",
       "large_image         object\n",
       "dtype: object"
      ]
     },
     "execution_count": 61,
     "metadata": {},
     "output_type": "execute_result"
    }
   ],
   "source": [
    "df_meta.dtypes"
   ]
  },
  {
   "cell_type": "markdown",
   "metadata": {},
   "source": [
    "Identify columns containing lists: (we can't process those)"
   ]
  },
  {
   "cell_type": "code",
   "execution_count": 62,
   "metadata": {},
   "outputs": [],
   "source": [
    "for col in df_meta.columns:\n",
    "    if df_meta[col].apply(lambda x: isinstance(x, list)).any():\n",
    "        print(f\"Column '{col}' contains lists.\")"
   ]
  },
  {
   "cell_type": "markdown",
   "metadata": {},
   "source": [
    "Convert lists to hashable tuples:"
   ]
  },
  {
   "cell_type": "code",
   "execution_count": 63,
   "metadata": {},
   "outputs": [],
   "source": [
    "for col in df_meta.columns:\n",
    "    if df_meta[col].apply(lambda x: isinstance(x, list)).any():\n",
    "        df_meta[col] = df_meta[col].apply(lambda x: tuple(x) if isinstance(x, list) else x)"
   ]
  },
  {
   "cell_type": "markdown",
   "metadata": {},
   "source": [
    "Identify columns with dict:"
   ]
  },
  {
   "cell_type": "code",
   "execution_count": 64,
   "metadata": {},
   "outputs": [],
   "source": [
    "for col in df_meta.columns:\n",
    "    if df_meta[col].apply(lambda x: isinstance(x, dict)).any():\n",
    "        print(f\"Column '{col}' contains dictionaries.\")"
   ]
  },
  {
   "cell_type": "code",
   "execution_count": 65,
   "metadata": {},
   "outputs": [
    {
     "data": {
      "text/plain": [
       "np.int64(0)"
      ]
     },
     "execution_count": 65,
     "metadata": {},
     "output_type": "execute_result"
    }
   ],
   "source": [
    "col_with_lists = ['features', 'description', 'images', 'videos', 'categories', 'details']\n",
    "duplicates = df_meta.duplicated(subset=[col for col in df_meta.columns if col not in col_with_lists])\n",
    "duplicates.sum()"
   ]
  },
  {
   "cell_type": "code",
   "execution_count": 66,
   "metadata": {},
   "outputs": [
    {
     "data": {
      "text/plain": [
       "main_category       object\n",
       "title               object\n",
       "average_rating     float64\n",
       "rating_number        int64\n",
       "features            object\n",
       "description         object\n",
       "price              float64\n",
       "images              object\n",
       "videos              object\n",
       "store               object\n",
       "categories          object\n",
       "details             object\n",
       "parent_asin         object\n",
       "bought_together    float64\n",
       "large_image         object\n",
       "dtype: object"
      ]
     },
     "execution_count": 66,
     "metadata": {},
     "output_type": "execute_result"
    }
   ],
   "source": [
    "df_meta.dtypes"
   ]
  },
  {
   "cell_type": "code",
   "execution_count": 67,
   "metadata": {},
   "outputs": [
    {
     "name": "stdout",
     "output_type": "stream",
     "text": [
      "<class 'pandas.core.frame.DataFrame'>\n",
      "RangeIndex: 112590 entries, 0 to 112589\n",
      "Data columns (total 15 columns):\n",
      " #   Column           Non-Null Count   Dtype  \n",
      "---  ------           --------------   -----  \n",
      " 0   main_category    112590 non-null  object \n",
      " 1   title            112578 non-null  object \n",
      " 2   average_rating   112590 non-null  float64\n",
      " 3   rating_number    112590 non-null  int64  \n",
      " 4   features         112590 non-null  object \n",
      " 5   description      112590 non-null  object \n",
      " 6   price            17704 non-null   float64\n",
      " 7   images           112590 non-null  object \n",
      " 8   videos           112590 non-null  object \n",
      " 9   store            101246 non-null  object \n",
      " 10  categories       112590 non-null  object \n",
      " 11  details          112590 non-null  object \n",
      " 12  parent_asin      112590 non-null  object \n",
      " 13  bought_together  0 non-null       float64\n",
      " 14  large_image      0 non-null       object \n",
      "dtypes: float64(3), int64(1), object(11)\n",
      "memory usage: 12.9+ MB\n"
     ]
    },
    {
     "data": {
      "text/html": [
       "<div>\n",
       "<style scoped>\n",
       "    .dataframe tbody tr th:only-of-type {\n",
       "        vertical-align: middle;\n",
       "    }\n",
       "\n",
       "    .dataframe tbody tr th {\n",
       "        vertical-align: top;\n",
       "    }\n",
       "\n",
       "    .dataframe thead th {\n",
       "        text-align: right;\n",
       "    }\n",
       "</style>\n",
       "<table border=\"1\" class=\"dataframe\">\n",
       "  <thead>\n",
       "    <tr style=\"text-align: right;\">\n",
       "      <th></th>\n",
       "      <th>average_rating</th>\n",
       "      <th>rating_number</th>\n",
       "      <th>price</th>\n",
       "      <th>bought_together</th>\n",
       "    </tr>\n",
       "  </thead>\n",
       "  <tbody>\n",
       "    <tr>\n",
       "      <th>count</th>\n",
       "      <td>112590.000000</td>\n",
       "      <td>112590.000000</td>\n",
       "      <td>17704.00000</td>\n",
       "      <td>0.0</td>\n",
       "    </tr>\n",
       "    <tr>\n",
       "      <th>mean</th>\n",
       "      <td>3.883488</td>\n",
       "      <td>50.541345</td>\n",
       "      <td>27.25573</td>\n",
       "      <td>NaN</td>\n",
       "    </tr>\n",
       "    <tr>\n",
       "      <th>std</th>\n",
       "      <td>0.874384</td>\n",
       "      <td>310.992502</td>\n",
       "      <td>50.47202</td>\n",
       "      <td>NaN</td>\n",
       "    </tr>\n",
       "    <tr>\n",
       "      <th>min</th>\n",
       "      <td>1.000000</td>\n",
       "      <td>1.000000</td>\n",
       "      <td>0.01000</td>\n",
       "      <td>NaN</td>\n",
       "    </tr>\n",
       "    <tr>\n",
       "      <th>25%</th>\n",
       "      <td>3.400000</td>\n",
       "      <td>3.000000</td>\n",
       "      <td>9.99000</td>\n",
       "      <td>NaN</td>\n",
       "    </tr>\n",
       "    <tr>\n",
       "      <th>50%</th>\n",
       "      <td>4.000000</td>\n",
       "      <td>9.000000</td>\n",
       "      <td>16.99000</td>\n",
       "      <td>NaN</td>\n",
       "    </tr>\n",
       "    <tr>\n",
       "      <th>75%</th>\n",
       "      <td>4.500000</td>\n",
       "      <td>28.000000</td>\n",
       "      <td>29.90000</td>\n",
       "      <td>NaN</td>\n",
       "    </tr>\n",
       "    <tr>\n",
       "      <th>max</th>\n",
       "      <td>5.000000</td>\n",
       "      <td>30206.000000</td>\n",
       "      <td>2548.98000</td>\n",
       "      <td>NaN</td>\n",
       "    </tr>\n",
       "  </tbody>\n",
       "</table>\n",
       "</div>"
      ],
      "text/plain": [
       "       average_rating  rating_number        price  bought_together\n",
       "count   112590.000000  112590.000000  17704.00000              0.0\n",
       "mean         3.883488      50.541345     27.25573              NaN\n",
       "std          0.874384     310.992502     50.47202              NaN\n",
       "min          1.000000       1.000000      0.01000              NaN\n",
       "25%          3.400000       3.000000      9.99000              NaN\n",
       "50%          4.000000       9.000000     16.99000              NaN\n",
       "75%          4.500000      28.000000     29.90000              NaN\n",
       "max          5.000000   30206.000000   2548.98000              NaN"
      ]
     },
     "execution_count": 67,
     "metadata": {},
     "output_type": "execute_result"
    }
   ],
   "source": [
    "# Get a concise summary of the DataFrame\n",
    "df_meta.info()\n",
    "# Display basic statistics of numeric columns\n",
    "df_meta.describe()"
   ]
  },
  {
   "cell_type": "markdown",
   "metadata": {},
   "source": [
    "### !! many nulls in column 'price'"
   ]
  },
  {
   "cell_type": "code",
   "execution_count": 68,
   "metadata": {},
   "outputs": [
    {
     "name": "stdout",
     "output_type": "stream",
     "text": [
      "Missing values in each column:\n",
      " main_category           0\n",
      "title                  12\n",
      "average_rating          0\n",
      "rating_number           0\n",
      "features                0\n",
      "description             0\n",
      "price               94886\n",
      "images                  0\n",
      "videos                  0\n",
      "store               11344\n",
      "categories              0\n",
      "details                 0\n",
      "parent_asin             0\n",
      "bought_together    112590\n",
      "large_image        112590\n",
      "dtype: int64\n"
     ]
    }
   ],
   "source": [
    "# Check for missing values\n",
    "missing_values = df_meta.isnull().sum()\n",
    "print(\"Missing values in each column:\\n\", missing_values)"
   ]
  },
  {
   "cell_type": "markdown",
   "metadata": {},
   "source": [
    "## User data analysis"
   ]
  },
  {
   "cell_type": "markdown",
   "metadata": {},
   "source": [
    "2. Load Dataset"
   ]
  },
  {
   "cell_type": "code",
   "execution_count": 69,
   "metadata": {},
   "outputs": [
    {
     "data": {
      "text/html": [
       "<div>\n",
       "<style scoped>\n",
       "    .dataframe tbody tr th:only-of-type {\n",
       "        vertical-align: middle;\n",
       "    }\n",
       "\n",
       "    .dataframe tbody tr th {\n",
       "        vertical-align: top;\n",
       "    }\n",
       "\n",
       "    .dataframe thead th {\n",
       "        text-align: right;\n",
       "    }\n",
       "</style>\n",
       "<table border=\"1\" class=\"dataframe\">\n",
       "  <thead>\n",
       "    <tr style=\"text-align: right;\">\n",
       "      <th></th>\n",
       "      <th>rating</th>\n",
       "      <th>title</th>\n",
       "      <th>text</th>\n",
       "      <th>images</th>\n",
       "      <th>asin</th>\n",
       "      <th>parent_asin</th>\n",
       "      <th>user_id</th>\n",
       "      <th>timestamp</th>\n",
       "      <th>helpful_vote</th>\n",
       "      <th>verified_purchase</th>\n",
       "    </tr>\n",
       "  </thead>\n",
       "  <tbody>\n",
       "    <tr>\n",
       "      <th>0</th>\n",
       "      <td>5.0</td>\n",
       "      <td>Such a lovely scent but not overpowering.</td>\n",
       "      <td>This spray is really nice. It smells really go...</td>\n",
       "      <td>[]</td>\n",
       "      <td>B00YQ6X8EO</td>\n",
       "      <td>B00YQ6X8EO</td>\n",
       "      <td>AGKHLEW2SOWHNMFQIJGBECAF7INQ</td>\n",
       "      <td>1588687728923</td>\n",
       "      <td>0</td>\n",
       "      <td>True</td>\n",
       "    </tr>\n",
       "    <tr>\n",
       "      <th>1</th>\n",
       "      <td>4.0</td>\n",
       "      <td>Works great but smells a little weird.</td>\n",
       "      <td>This product does what I need it to do, I just...</td>\n",
       "      <td>[]</td>\n",
       "      <td>B081TJ8YS3</td>\n",
       "      <td>B081TJ8YS3</td>\n",
       "      <td>AGKHLEW2SOWHNMFQIJGBECAF7INQ</td>\n",
       "      <td>1588615855070</td>\n",
       "      <td>1</td>\n",
       "      <td>True</td>\n",
       "    </tr>\n",
       "    <tr>\n",
       "      <th>2</th>\n",
       "      <td>5.0</td>\n",
       "      <td>Yes!</td>\n",
       "      <td>Smells good, feels great!</td>\n",
       "      <td>[]</td>\n",
       "      <td>B07PNNCSP9</td>\n",
       "      <td>B097R46CSY</td>\n",
       "      <td>AE74DYR3QUGVPZJ3P7RFWBGIX7XQ</td>\n",
       "      <td>1589665266052</td>\n",
       "      <td>2</td>\n",
       "      <td>True</td>\n",
       "    </tr>\n",
       "    <tr>\n",
       "      <th>3</th>\n",
       "      <td>1.0</td>\n",
       "      <td>Synthetic feeling</td>\n",
       "      <td>Felt synthetic</td>\n",
       "      <td>[]</td>\n",
       "      <td>B09JS339BZ</td>\n",
       "      <td>B09JS339BZ</td>\n",
       "      <td>AFQLNQNQYFWQZPJQZS6V3NZU4QBQ</td>\n",
       "      <td>1643393630220</td>\n",
       "      <td>0</td>\n",
       "      <td>True</td>\n",
       "    </tr>\n",
       "    <tr>\n",
       "      <th>4</th>\n",
       "      <td>5.0</td>\n",
       "      <td>A+</td>\n",
       "      <td>Love it</td>\n",
       "      <td>[]</td>\n",
       "      <td>B08BZ63GMJ</td>\n",
       "      <td>B08BZ63GMJ</td>\n",
       "      <td>AFQLNQNQYFWQZPJQZS6V3NZU4QBQ</td>\n",
       "      <td>1609322563534</td>\n",
       "      <td>0</td>\n",
       "      <td>True</td>\n",
       "    </tr>\n",
       "  </tbody>\n",
       "</table>\n",
       "</div>"
      ],
      "text/plain": [
       "   rating                                      title  \\\n",
       "0     5.0  Such a lovely scent but not overpowering.   \n",
       "1     4.0     Works great but smells a little weird.   \n",
       "2     5.0                                       Yes!   \n",
       "3     1.0                          Synthetic feeling   \n",
       "4     5.0                                         A+   \n",
       "\n",
       "                                                text images        asin  \\\n",
       "0  This spray is really nice. It smells really go...     []  B00YQ6X8EO   \n",
       "1  This product does what I need it to do, I just...     []  B081TJ8YS3   \n",
       "2                          Smells good, feels great!     []  B07PNNCSP9   \n",
       "3                                     Felt synthetic     []  B09JS339BZ   \n",
       "4                                            Love it     []  B08BZ63GMJ   \n",
       "\n",
       "  parent_asin                       user_id      timestamp  helpful_vote  \\\n",
       "0  B00YQ6X8EO  AGKHLEW2SOWHNMFQIJGBECAF7INQ  1588687728923             0   \n",
       "1  B081TJ8YS3  AGKHLEW2SOWHNMFQIJGBECAF7INQ  1588615855070             1   \n",
       "2  B097R46CSY  AE74DYR3QUGVPZJ3P7RFWBGIX7XQ  1589665266052             2   \n",
       "3  B09JS339BZ  AFQLNQNQYFWQZPJQZS6V3NZU4QBQ  1643393630220             0   \n",
       "4  B08BZ63GMJ  AFQLNQNQYFWQZPJQZS6V3NZU4QBQ  1609322563534             0   \n",
       "\n",
       "   verified_purchase  \n",
       "0               True  \n",
       "1               True  \n",
       "2               True  \n",
       "3               True  \n",
       "4               True  "
      ]
     },
     "execution_count": 69,
     "metadata": {},
     "output_type": "execute_result"
    }
   ],
   "source": [
    "# Load the dataset into a Pandas DataFrame\n",
    "file_path = r'.\\..\\data\\json_normalized\\normalized_user.csv'  # Update this with your file path\n",
    "df_user = pd.read_csv(file_path)\n",
    "\n",
    "# Display the first few rows of the dataset\n",
    "df_user.head()\n"
   ]
  },
  {
   "cell_type": "markdown",
   "metadata": {},
   "source": [
    "3. Data Exploration"
   ]
  },
  {
   "cell_type": "code",
   "execution_count": 70,
   "metadata": {},
   "outputs": [
    {
     "name": "stdout",
     "output_type": "stream",
     "text": [
      "<class 'pandas.core.frame.DataFrame'>\n",
      "RangeIndex: 701528 entries, 0 to 701527\n",
      "Data columns (total 10 columns):\n",
      " #   Column             Non-Null Count   Dtype  \n",
      "---  ------             --------------   -----  \n",
      " 0   rating             701528 non-null  float64\n",
      " 1   title              701368 non-null  object \n",
      " 2   text               701316 non-null  object \n",
      " 3   images             701528 non-null  object \n",
      " 4   asin               701528 non-null  object \n",
      " 5   parent_asin        701528 non-null  object \n",
      " 6   user_id            701528 non-null  object \n",
      " 7   timestamp          701528 non-null  int64  \n",
      " 8   helpful_vote       701528 non-null  int64  \n",
      " 9   verified_purchase  701528 non-null  bool   \n",
      "dtypes: bool(1), float64(1), int64(2), object(6)\n",
      "memory usage: 48.8+ MB\n"
     ]
    }
   ],
   "source": [
    "# Get a concise summary of the DataFrame\n",
    "df_user.info()"
   ]
  },
  {
   "cell_type": "code",
   "execution_count": 71,
   "metadata": {},
   "outputs": [
    {
     "data": {
      "text/html": [
       "<div>\n",
       "<style scoped>\n",
       "    .dataframe tbody tr th:only-of-type {\n",
       "        vertical-align: middle;\n",
       "    }\n",
       "\n",
       "    .dataframe tbody tr th {\n",
       "        vertical-align: top;\n",
       "    }\n",
       "\n",
       "    .dataframe thead th {\n",
       "        text-align: right;\n",
       "    }\n",
       "</style>\n",
       "<table border=\"1\" class=\"dataframe\">\n",
       "  <thead>\n",
       "    <tr style=\"text-align: right;\">\n",
       "      <th></th>\n",
       "      <th>rating</th>\n",
       "      <th>timestamp</th>\n",
       "      <th>helpful_vote</th>\n",
       "    </tr>\n",
       "  </thead>\n",
       "  <tbody>\n",
       "    <tr>\n",
       "      <th>count</th>\n",
       "      <td>701528.000000</td>\n",
       "      <td>7.015280e+05</td>\n",
       "      <td>701528.000000</td>\n",
       "    </tr>\n",
       "    <tr>\n",
       "      <th>mean</th>\n",
       "      <td>3.960245</td>\n",
       "      <td>1.554781e+12</td>\n",
       "      <td>0.923588</td>\n",
       "    </tr>\n",
       "    <tr>\n",
       "      <th>std</th>\n",
       "      <td>1.494452</td>\n",
       "      <td>8.005792e+10</td>\n",
       "      <td>5.471391</td>\n",
       "    </tr>\n",
       "    <tr>\n",
       "      <th>min</th>\n",
       "      <td>1.000000</td>\n",
       "      <td>9.730527e+11</td>\n",
       "      <td>0.000000</td>\n",
       "    </tr>\n",
       "    <tr>\n",
       "      <th>25%</th>\n",
       "      <td>3.000000</td>\n",
       "      <td>1.501616e+12</td>\n",
       "      <td>0.000000</td>\n",
       "    </tr>\n",
       "    <tr>\n",
       "      <th>50%</th>\n",
       "      <td>5.000000</td>\n",
       "      <td>1.571595e+12</td>\n",
       "      <td>0.000000</td>\n",
       "    </tr>\n",
       "    <tr>\n",
       "      <th>75%</th>\n",
       "      <td>5.000000</td>\n",
       "      <td>1.614647e+12</td>\n",
       "      <td>1.000000</td>\n",
       "    </tr>\n",
       "    <tr>\n",
       "      <th>max</th>\n",
       "      <td>5.000000</td>\n",
       "      <td>1.694220e+12</td>\n",
       "      <td>646.000000</td>\n",
       "    </tr>\n",
       "  </tbody>\n",
       "</table>\n",
       "</div>"
      ],
      "text/plain": [
       "              rating     timestamp   helpful_vote\n",
       "count  701528.000000  7.015280e+05  701528.000000\n",
       "mean        3.960245  1.554781e+12       0.923588\n",
       "std         1.494452  8.005792e+10       5.471391\n",
       "min         1.000000  9.730527e+11       0.000000\n",
       "25%         3.000000  1.501616e+12       0.000000\n",
       "50%         5.000000  1.571595e+12       0.000000\n",
       "75%         5.000000  1.614647e+12       1.000000\n",
       "max         5.000000  1.694220e+12     646.000000"
      ]
     },
     "execution_count": 71,
     "metadata": {},
     "output_type": "execute_result"
    }
   ],
   "source": [
    "# Display basic statistics of numeric columns\n",
    "df_user.describe()"
   ]
  },
  {
   "cell_type": "code",
   "execution_count": 72,
   "metadata": {},
   "outputs": [
    {
     "name": "stdout",
     "output_type": "stream",
     "text": [
      "Missing values in each column:\n",
      " rating                 0\n",
      "title                160\n",
      "text                 212\n",
      "images                 0\n",
      "asin                   0\n",
      "parent_asin            0\n",
      "user_id                0\n",
      "timestamp              0\n",
      "helpful_vote           0\n",
      "verified_purchase      0\n",
      "dtype: int64\n"
     ]
    }
   ],
   "source": [
    "# Check for missing values\n",
    "missing_values = df_user.isnull().sum()\n",
    "print(\"Missing values in each column:\\n\", missing_values)"
   ]
  },
  {
   "cell_type": "code",
   "execution_count": 73,
   "metadata": {},
   "outputs": [
    {
     "name": "stdout",
     "output_type": "stream",
     "text": [
      "Number of duplicate rows: 7275\n"
     ]
    }
   ],
   "source": [
    "# Check for duplicate rows\n",
    "duplicates = df_user.duplicated().sum()\n",
    "print(f\"Number of duplicate rows: {duplicates}\")"
   ]
  },
  {
   "cell_type": "code",
   "execution_count": 74,
   "metadata": {},
   "outputs": [
    {
     "data": {
      "text/plain": [
       "rating                    5\n",
       "title                376390\n",
       "text                 643624\n",
       "images                58938\n",
       "asin                 115709\n",
       "parent_asin          112565\n",
       "user_id              631986\n",
       "timestamp            694027\n",
       "helpful_vote            240\n",
       "verified_purchase         2\n",
       "dtype: int64"
      ]
     },
     "execution_count": 74,
     "metadata": {},
     "output_type": "execute_result"
    }
   ],
   "source": [
    "# Replace 'column_name' with the actual column name\n",
    "# unique_values = df['column_name'].unique()\n",
    "# print(f\"Unique values in 'column_name':\\n{unique_values}\")\n",
    "unique_values = df_user.nunique()\n",
    "unique_values"
   ]
  },
  {
   "cell_type": "code",
   "execution_count": 75,
   "metadata": {},
   "outputs": [],
   "source": [
    "# Rename columns:\n",
    "new_cols_names={'rating':'rating', 'title':'review_title', \"text\":\"text_review\", \"images\":\"user_images\",\n",
    "                \"asin\":\"product_ID\", \"parent_asin\":\"parent_ID\", \"user_id\":\"user_ID\", \"timestamp\":\"timestamp\",\n",
    "                \"helpful_vote\":\"helpful_review_vote\", \"verified_purchase\":\"user_purchase_verification\"\n",
    "                }\n",
    "\n",
    "df_user.rename(new_cols_names, axis=1, inplace=True)"
   ]
  },
  {
   "cell_type": "code",
   "execution_count": 76,
   "metadata": {},
   "outputs": [
    {
     "name": "stdout",
     "output_type": "stream",
     "text": [
      "Column: rating\n",
      "Number of unique values: 5\n",
      "Unique values:\n",
      "[5. 4. 1. 3. 2.]\n",
      "--------------------------------------------------\n",
      "Column: review_title\n",
      "Number of unique values: 376390\n",
      "Unique values:\n",
      "['Such a lovely scent but not overpowering.'\n",
      " 'Works great but smells a little weird.' 'Yes!' 'Synthetic feeling' 'A+'\n",
      " 'Pretty Color' 'Handy' 'Meh' 'Great for at home use and so easy to use!'\n",
      " 'Nice shampoo for the money']\n",
      "--------------------------------------------------\n",
      "Column: text_review\n",
      "Number of unique values: 643624\n",
      "Unique values:\n",
      "[\"This spray is really nice. It smells really good, goes on really fine, and does the trick. I will say it feels like you need a lot of it though to get the texture I want. I have a lot of hair, medium thickness. I am comparing to other brands with yucky chemicals so I'm gonna stick with this. Try it!\"\n",
      " 'This product does what I need it to do, I just wish it was odorless or had a soft coconut smell. Having my head smell like an orange coffee is offputting. (granted, I did know the smell was described but I was hoping it would be light)'\n",
      " 'Smells good, feels great!' 'Felt synthetic' 'Love it'\n",
      " 'The polish was quiet thick and did not apply smoothly. I let dry overnight before adding a second coat since it was so thick.'\n",
      " 'Great for many tasks.  I purchased these for makeup removal.  No makeup on your washcloths.  Disposable, so great for travel.  Soft.  Absorbant.'\n",
      " 'These were lightweight and soft but much too small for my liking. I would have preferred two of these together to make one loc. For that reason I will not be repurchasing.'\n",
      " 'This is perfect for my between salon visits. I have been using this now twice a week for over a month and I absolutely love it! My skin looks amazing and feels super smooth and silky. This is also super easy to use (just follow instructions). I can see already that I will begin expanding the time between visits which will definitely help me save money in the long run. Highly recommend!'\n",
      " 'I get Keratin treatments at the salon at least 3-4 times a year (would do it more often if I could afford it). I am always in the market to use products that can help extend my salon visits. This Keratin shampoo is really nice. It is sulfate free (which is the first thing I look for ) and makes my hair feel silky smooth and soft. I highly recommend for anyone who wants to improve the texture and appearance of your hair. I really like the fragrance, too.']\n",
      "--------------------------------------------------\n",
      "Column: user_images\n",
      "Number of unique values: 58938\n",
      "Unique values:\n",
      "['[]'\n",
      " \"[{'small_image_url': 'https://images-na.ssl-images-amazon.com/images/I/71e9Noi7dJL._SL256_.jpg', 'medium_image_url': 'https://images-na.ssl-images-amazon.com/images/I/71e9Noi7dJL._SL800_.jpg', 'large_image_url': 'https://images-na.ssl-images-amazon.com/images/I/71e9Noi7dJL._SL1600_.jpg', 'attachment_type': 'IMAGE'}]\"\n",
      " \"[{'small_image_url': 'https://m.media-amazon.com/images/I/81FN4c0VHzL._SL256_.jpg', 'medium_image_url': 'https://m.media-amazon.com/images/I/81FN4c0VHzL._SL800_.jpg', 'large_image_url': 'https://m.media-amazon.com/images/I/81FN4c0VHzL._SL1600_.jpg', 'attachment_type': 'IMAGE'}]\"\n",
      " \"[{'small_image_url': 'https://images-na.ssl-images-amazon.com/images/I/81H68QJM7uL._SL256_.jpg', 'medium_image_url': 'https://images-na.ssl-images-amazon.com/images/I/81H68QJM7uL._SL800_.jpg', 'large_image_url': 'https://images-na.ssl-images-amazon.com/images/I/81H68QJM7uL._SL1600_.jpg', 'attachment_type': 'IMAGE'}]\"\n",
      " \"[{'small_image_url': 'https://m.media-amazon.com/images/I/A1u4jV10XQL._SL256_.jpg', 'medium_image_url': 'https://m.media-amazon.com/images/I/A1u4jV10XQL._SL800_.jpg', 'large_image_url': 'https://m.media-amazon.com/images/I/A1u4jV10XQL._SL1600_.jpg', 'attachment_type': 'IMAGE'}]\"\n",
      " \"[{'small_image_url': 'https://images-na.ssl-images-amazon.com/images/I/41FMcmkZDLL._SL256_.jpg', 'medium_image_url': 'https://images-na.ssl-images-amazon.com/images/I/41FMcmkZDLL._SL800_.jpg', 'large_image_url': 'https://images-na.ssl-images-amazon.com/images/I/41FMcmkZDLL._SL1600_.jpg', 'attachment_type': 'IMAGE'}, {'small_image_url': 'https://images-na.ssl-images-amazon.com/images/I/41pcNrIv9YL._SL256_.jpg', 'medium_image_url': 'https://images-na.ssl-images-amazon.com/images/I/41pcNrIv9YL._SL800_.jpg', 'large_image_url': 'https://images-na.ssl-images-amazon.com/images/I/41pcNrIv9YL._SL1600_.jpg', 'attachment_type': 'IMAGE'}]\"\n",
      " \"[{'small_image_url': 'https://images-na.ssl-images-amazon.com/images/I/51RSDWWsvhL._SL256_.jpg', 'medium_image_url': 'https://images-na.ssl-images-amazon.com/images/I/51RSDWWsvhL._SL800_.jpg', 'large_image_url': 'https://images-na.ssl-images-amazon.com/images/I/51RSDWWsvhL._SL1600_.jpg', 'attachment_type': 'IMAGE'}, {'small_image_url': 'https://images-na.ssl-images-amazon.com/images/I/61iRbN5WuyL._SL256_.jpg', 'medium_image_url': 'https://images-na.ssl-images-amazon.com/images/I/61iRbN5WuyL._SL800_.jpg', 'large_image_url': 'https://images-na.ssl-images-amazon.com/images/I/61iRbN5WuyL._SL1600_.jpg', 'attachment_type': 'IMAGE'}]\"\n",
      " \"[{'small_image_url': 'https://images-na.ssl-images-amazon.com/images/I/51FFKVqctXL._SL256_.jpg', 'medium_image_url': 'https://images-na.ssl-images-amazon.com/images/I/51FFKVqctXL._SL800_.jpg', 'large_image_url': 'https://images-na.ssl-images-amazon.com/images/I/51FFKVqctXL._SL1600_.jpg', 'attachment_type': 'IMAGE'}, {'small_image_url': 'https://images-na.ssl-images-amazon.com/images/I/51U-Jj8nvvL._SL256_.jpg', 'medium_image_url': 'https://images-na.ssl-images-amazon.com/images/I/51U-Jj8nvvL._SL800_.jpg', 'large_image_url': 'https://images-na.ssl-images-amazon.com/images/I/51U-Jj8nvvL._SL1600_.jpg', 'attachment_type': 'IMAGE'}, {'small_image_url': 'https://images-na.ssl-images-amazon.com/images/I/51WbXeRwNwL._SL256_.jpg', 'medium_image_url': 'https://images-na.ssl-images-amazon.com/images/I/51WbXeRwNwL._SL800_.jpg', 'large_image_url': 'https://images-na.ssl-images-amazon.com/images/I/51WbXeRwNwL._SL1600_.jpg', 'attachment_type': 'IMAGE'}]\"\n",
      " \"[{'small_image_url': 'https://images-na.ssl-images-amazon.com/images/I/513UrgWCy4L._SL256_.jpg', 'medium_image_url': 'https://images-na.ssl-images-amazon.com/images/I/513UrgWCy4L._SL800_.jpg', 'large_image_url': 'https://images-na.ssl-images-amazon.com/images/I/513UrgWCy4L._SL1600_.jpg', 'attachment_type': 'IMAGE'}, {'small_image_url': 'https://images-na.ssl-images-amazon.com/images/I/518Tm388+ML._SL256_.jpg', 'medium_image_url': 'https://images-na.ssl-images-amazon.com/images/I/518Tm388+ML._SL800_.jpg', 'large_image_url': 'https://images-na.ssl-images-amazon.com/images/I/518Tm388+ML._SL1600_.jpg', 'attachment_type': 'IMAGE'}, {'small_image_url': 'https://images-na.ssl-images-amazon.com/images/I/51qo+gHnEwL._SL256_.jpg', 'medium_image_url': 'https://images-na.ssl-images-amazon.com/images/I/51qo+gHnEwL._SL800_.jpg', 'large_image_url': 'https://images-na.ssl-images-amazon.com/images/I/51qo+gHnEwL._SL1600_.jpg', 'attachment_type': 'IMAGE'}]\"\n",
      " \"[{'small_image_url': 'https://images-na.ssl-images-amazon.com/images/I/71x9TGPNYpL._SL256_.jpg', 'medium_image_url': 'https://images-na.ssl-images-amazon.com/images/I/71x9TGPNYpL._SL800_.jpg', 'large_image_url': 'https://images-na.ssl-images-amazon.com/images/I/71x9TGPNYpL.jpg', 'attachment_type': 'IMAGE'}]\"]\n",
      "--------------------------------------------------\n",
      "Column: product_ID\n",
      "Number of unique values: 115709\n",
      "Unique values:\n",
      "['B00YQ6X8EO' 'B081TJ8YS3' 'B07PNNCSP9' 'B09JS339BZ' 'B08BZ63GMJ'\n",
      " 'B00R8DXL44' 'B099DRHW5V' 'B088SZDGXG' 'B08P2DZB4X' 'B086QY6T7N']\n",
      "--------------------------------------------------\n",
      "Column: parent_ID\n",
      "Number of unique values: 112565\n",
      "Unique values:\n",
      "['B00YQ6X8EO' 'B081TJ8YS3' 'B097R46CSY' 'B09JS339BZ' 'B08BZ63GMJ'\n",
      " 'B00R8DXL44' 'B099DRHW5V' 'B08BBQ29N5' 'B08P2DZB4X' 'B086QY6T7N']\n",
      "--------------------------------------------------\n",
      "Column: user_ID\n",
      "Number of unique values: 631986\n",
      "Unique values:\n",
      "['AGKHLEW2SOWHNMFQIJGBECAF7INQ' 'AE74DYR3QUGVPZJ3P7RFWBGIX7XQ'\n",
      " 'AFQLNQNQYFWQZPJQZS6V3NZU4QBQ' 'AGMJ3EMDVL6OWBJF7CA5RGJLXN5A'\n",
      " 'AHREXOGQPZDA6354MHH4ETSF3MCQ' 'AEYORY2AVPMCPDV57CE337YU5LXA'\n",
      " 'AFSKPY37N3C43SOI5IEXEK5JSIYA' 'AG35BKPUEUMX7LV5YLOQ5YCQ3GOA'\n",
      " 'AHPUT3ITXCHQJO7OMF74LEMYHIVA' 'AHGAOIZVODNHYMNCBV4DECZH42UQ']\n",
      "--------------------------------------------------\n",
      "Column: timestamp\n",
      "Number of unique values: 694027\n",
      "Unique values:\n",
      "[1588687728923 1588615855070 1589665266052 1643393630220 1609322563534\n",
      " 1598567408138 1631885519443 1634275259292 1627391044559 1626614511145]\n",
      "--------------------------------------------------\n",
      "Column: helpful_review_vote\n",
      "Number of unique values: 240\n",
      "Unique values:\n",
      "[  0   1   2 430   4   3   8   5  13   6]\n",
      "--------------------------------------------------\n",
      "Column: user_purchase_verification\n",
      "Number of unique values: 2\n",
      "Unique values:\n",
      "[ True False]\n",
      "--------------------------------------------------\n"
     ]
    }
   ],
   "source": [
    "# Display the number of unique values for each column\n",
    "for col in df_user.columns:\n",
    "    print(f\"Column: {col}\")\n",
    "    print(f\"Number of unique values: {df_user[col].nunique()}\")\n",
    "    print(f\"Unique values:\\n{df_user[col].unique()[:10]}\")  # Display first 10 unique values for brevity\n",
    "    print(\"-\" * 50)\n"
   ]
  },
  {
   "cell_type": "code",
   "execution_count": 77,
   "metadata": {},
   "outputs": [
    {
     "data": {
      "text/plain": [
       "(701528, 10)"
      ]
     },
     "execution_count": 77,
     "metadata": {},
     "output_type": "execute_result"
    }
   ],
   "source": [
    "df_user.shape"
   ]
  },
  {
   "cell_type": "code",
   "execution_count": 78,
   "metadata": {},
   "outputs": [],
   "source": [
    "# Check unique combinations across two or more columns\n",
    "# unique_combinations = df[['column1', 'column2']].drop_duplicates()\n",
    "# print(f\"Unique combinations of 'column1' and 'column2':\\n{unique_combinations}\")\n"
   ]
  },
  {
   "cell_type": "code",
   "execution_count": 79,
   "metadata": {},
   "outputs": [
    {
     "name": "stdout",
     "output_type": "stream",
     "text": [
      "Most frequent value in 'rating': 5.0\n",
      "Least frequent value in 'rating': 2.0\n"
     ]
    }
   ],
   "source": [
    "# Replace 'column_name' with your categorical column\n",
    "most_frequent = df_user['rating'].value_counts().idxmax()\n",
    "least_frequent = df_user['rating'].value_counts().idxmin()\n",
    "\n",
    "print(f\"Most frequent value in 'rating': {most_frequent}\")\n",
    "print(f\"Least frequent value in 'rating': {least_frequent}\")\n"
   ]
  },
  {
   "cell_type": "markdown",
   "metadata": {},
   "source": [
    "EXAMPLE (extra) fpr product and review data"
   ]
  },
  {
   "cell_type": "markdown",
   "metadata": {},
   "source": [
    "Unique Product IDs & Unique Reviews"
   ]
  },
  {
   "cell_type": "code",
   "execution_count": 80,
   "metadata": {},
   "outputs": [
    {
     "name": "stdout",
     "output_type": "stream",
     "text": [
      "Number of unique products: 115709\n",
      "Number of unique reviewers: 631986\n"
     ]
    }
   ],
   "source": [
    "print(f\"Number of unique products: {df_user['product_ID'].nunique()}\")\n",
    "# print(f\"Unique Product IDs:\\n{df_user['product_ID'].unique()[:10]}\")  # Show top 10\n",
    "print(f\"Number of unique reviewers: {df_user['user_ID'].nunique()}\")"
   ]
  },
  {
   "cell_type": "markdown",
   "metadata": {},
   "source": [
    "for Unique Ratings"
   ]
  },
  {
   "cell_type": "code",
   "execution_count": 81,
   "metadata": {},
   "outputs": [
    {
     "name": "stdout",
     "output_type": "stream",
     "text": [
      "Unique ratings: [5. 4. 1. 3. 2.]\n",
      "Rating counts:\n",
      "rating\n",
      "5.0    420726\n",
      "1.0    102080\n",
      "4.0     79381\n",
      "3.0     56307\n",
      "2.0     43034\n",
      "Name: count, dtype: int64\n"
     ]
    }
   ],
   "source": [
    "print(f\"Unique ratings: {df_user['rating'].unique()}\")\n",
    "print(f\"Rating counts:\\n{df_user['rating'].value_counts()}\")\n"
   ]
  },
  {
   "cell_type": "markdown",
   "metadata": {},
   "source": [
    "Analyze the product"
   ]
  },
  {
   "cell_type": "code",
   "execution_count": 82,
   "metadata": {},
   "outputs": [
    {
     "data": {
      "text/plain": [
       "user_ID\n",
       "AG73BVBKUOH22USSFJA5ZWL7AKXA      165\n",
       "AEZP6Z2C5AVQDZAJECQYZWQRNG3Q      146\n",
       "AEMP3A7IKW37CMWFXNKXWW6HGJHA_1    115\n",
       "AHDVSLWHSORYGG3S5QZMVDFNOXUQ      108\n",
       "AGZUJTI7A3JFKB4FP5JOH6NVAJIQ_1     87\n",
       "AFDYIK3FNPY2JFBQYUWC6GSBMIRQ_2     83\n",
       "AFXF3EGQTQDXMRLDWFU7UBFQZB7Q       81\n",
       "AEJU3Z6HDAERETMYI2CXBQVPPDFA       79\n",
       "AHY2TURQPNIDXZGH2CMQLZ343YMQ       69\n",
       "AEOK4TQIKGO23SJKZ6PW4FETNNDA_1     68\n",
       "Name: product_ID, dtype: int64"
      ]
     },
     "execution_count": 82,
     "metadata": {},
     "output_type": "execute_result"
    }
   ],
   "source": [
    "unique_items_per_user = df_user.groupby('user_ID')['product_ID'].count().sort_values(ascending=False)\n",
    "#unique_items_per_user.nunique()\n",
    "unique_items_per_user.head(10)"
   ]
  },
  {
   "cell_type": "markdown",
   "metadata": {},
   "source": [
    "Analyze the rating"
   ]
  },
  {
   "cell_type": "code",
   "execution_count": 83,
   "metadata": {},
   "outputs": [
    {
     "data": {
      "text/plain": [
       "user_ID\n",
       "AG73BVBKUOH22USSFJA5ZWL7AKXA      165\n",
       "AEZP6Z2C5AVQDZAJECQYZWQRNG3Q      146\n",
       "AEMP3A7IKW37CMWFXNKXWW6HGJHA_1    115\n",
       "AHDVSLWHSORYGG3S5QZMVDFNOXUQ      108\n",
       "AGZUJTI7A3JFKB4FP5JOH6NVAJIQ_1     87\n",
       "AFDYIK3FNPY2JFBQYUWC6GSBMIRQ_2     83\n",
       "AFXF3EGQTQDXMRLDWFU7UBFQZB7Q       81\n",
       "AEJU3Z6HDAERETMYI2CXBQVPPDFA       79\n",
       "AHY2TURQPNIDXZGH2CMQLZ343YMQ       69\n",
       "AEOK4TQIKGO23SJKZ6PW4FETNNDA_1     68\n",
       "Name: rating, dtype: int64"
      ]
     },
     "execution_count": 83,
     "metadata": {},
     "output_type": "execute_result"
    }
   ],
   "source": [
    "no_of_rated_products_per_user = df_user.groupby('user_ID')['rating'].count().sort_values(ascending=False)\n",
    "\n",
    "no_of_rated_products_per_user.head(10)"
   ]
  },
  {
   "cell_type": "markdown",
   "metadata": {},
   "source": [
    "The most popular products"
   ]
  },
  {
   "cell_type": "code",
   "execution_count": 84,
   "metadata": {},
   "outputs": [
    {
     "data": {
      "text/plain": [
       "product_ID\n",
       "B007IAE5WY    1962\n",
       "B00EEN2HCS    1750\n",
       "B07C533XCW    1513\n",
       "B00R1TAN7I    1372\n",
       "B08L5KN7X4    1343\n",
       "B019GBG0IE    1328\n",
       "B0719KWG8H    1168\n",
       "B0092MCQZ4    1128\n",
       "B0107QYW14    1112\n",
       "B0070Z7KME     934\n",
       "Name: rating, dtype: int64"
      ]
     },
     "execution_count": 84,
     "metadata": {},
     "output_type": "execute_result"
    }
   ],
   "source": [
    "top_products = df_user.groupby('product_ID')['rating'].count().sort_values(ascending=False)\n",
    "\n",
    "top_products.head(10)"
   ]
  },
  {
   "cell_type": "code",
   "execution_count": 85,
   "metadata": {},
   "outputs": [
    {
     "data": {
      "text/plain": [
       "<Axes: xlabel='product_ID'>"
      ]
     },
     "execution_count": 85,
     "metadata": {},
     "output_type": "execute_result"
    },
    {
     "data": {
      "image/png": "[encoded data removed]",
      "text/plain": [
       "<Figure size 640x480 with 1 Axes>"
      ]
     },
     "metadata": {},
     "output_type": "display_data"
    }
   ],
   "source": [
    "top_products.head(40).plot(kind = \"bar\")"
   ]
  },
  {
   "cell_type": "code",
   "execution_count": 86,
   "metadata": {},
   "outputs": [
    {
     "data": {
      "text/html": [
       "<div>\n",
       "<style scoped>\n",
       "    .dataframe tbody tr th:only-of-type {\n",
       "        vertical-align: middle;\n",
       "    }\n",
       "\n",
       "    .dataframe tbody tr th {\n",
       "        vertical-align: top;\n",
       "    }\n",
       "\n",
       "    .dataframe thead th {\n",
       "        text-align: right;\n",
       "    }\n",
       "</style>\n",
       "<table border=\"1\" class=\"dataframe\">\n",
       "  <thead>\n",
       "    <tr style=\"text-align: right;\">\n",
       "      <th></th>\n",
       "      <th>rating</th>\n",
       "      <th>review_title</th>\n",
       "      <th>text_review</th>\n",
       "      <th>user_images</th>\n",
       "      <th>product_ID</th>\n",
       "      <th>parent_ID</th>\n",
       "      <th>user_ID</th>\n",
       "      <th>timestamp</th>\n",
       "      <th>helpful_review_vote</th>\n",
       "      <th>user_purchase_verification</th>\n",
       "    </tr>\n",
       "  </thead>\n",
       "  <tbody>\n",
       "    <tr>\n",
       "      <th>1738</th>\n",
       "      <td>5.0</td>\n",
       "      <td>scrunchies get used in my house all the time</td>\n",
       "      <td>when my daughter and granddaughter come over, ...</td>\n",
       "      <td>[]</td>\n",
       "      <td>B09L563Q84</td>\n",
       "      <td>B09L563Q84</td>\n",
       "      <td>AG73BVBKUOH22USSFJA5ZWL7AKXA</td>\n",
       "      <td>1641262633460</td>\n",
       "      <td>0</td>\n",
       "      <td>False</td>\n",
       "    </tr>\n",
       "    <tr>\n",
       "      <th>1739</th>\n",
       "      <td>5.0</td>\n",
       "      <td>smells good</td>\n",
       "      <td>I just put this on and it was creamy and a sma...</td>\n",
       "      <td>[]</td>\n",
       "      <td>B09KT4RJG6</td>\n",
       "      <td>B09KT4RJG6</td>\n",
       "      <td>AG73BVBKUOH22USSFJA5ZWL7AKXA</td>\n",
       "      <td>1640218597848</td>\n",
       "      <td>0</td>\n",
       "      <td>False</td>\n",
       "    </tr>\n",
       "  </tbody>\n",
       "</table>\n",
       "</div>"
      ],
      "text/plain": [
       "      rating                                  review_title  \\\n",
       "1738     5.0  scrunchies get used in my house all the time   \n",
       "1739     5.0                                   smells good   \n",
       "\n",
       "                                            text_review user_images  \\\n",
       "1738  when my daughter and granddaughter come over, ...          []   \n",
       "1739  I just put this on and it was creamy and a sma...          []   \n",
       "\n",
       "      product_ID   parent_ID                       user_ID      timestamp  \\\n",
       "1738  B09L563Q84  B09L563Q84  AG73BVBKUOH22USSFJA5ZWL7AKXA  1641262633460   \n",
       "1739  B09KT4RJG6  B09KT4RJG6  AG73BVBKUOH22USSFJA5ZWL7AKXA  1640218597848   \n",
       "\n",
       "      helpful_review_vote  user_purchase_verification  \n",
       "1738                    0                       False  \n",
       "1739                    0                       False  "
      ]
     },
     "execution_count": 86,
     "metadata": {},
     "output_type": "execute_result"
    }
   ],
   "source": [
    "# example of 1 user analysis\n",
    "df_user_2 = df_user[df_user['user_ID'] == 'AG73BVBKUOH22USSFJA5ZWL7AKXA']\n",
    "df_user_2.head(2)"
   ]
  },
  {
   "cell_type": "markdown",
   "metadata": {},
   "source": [
    "4. Data Cleaning"
   ]
  },
  {
   "cell_type": "code",
   "execution_count": 87,
   "metadata": {},
   "outputs": [
    {
     "data": {
      "text/html": [
       "<div>\n",
       "<style scoped>\n",
       "    .dataframe tbody tr th:only-of-type {\n",
       "        vertical-align: middle;\n",
       "    }\n",
       "\n",
       "    .dataframe tbody tr th {\n",
       "        vertical-align: top;\n",
       "    }\n",
       "\n",
       "    .dataframe thead th {\n",
       "        text-align: right;\n",
       "    }\n",
       "</style>\n",
       "<table border=\"1\" class=\"dataframe\">\n",
       "  <thead>\n",
       "    <tr style=\"text-align: right;\">\n",
       "      <th></th>\n",
       "      <th>rating</th>\n",
       "      <th>review_title</th>\n",
       "      <th>text_review</th>\n",
       "      <th>user_images</th>\n",
       "      <th>product_ID</th>\n",
       "      <th>parent_ID</th>\n",
       "      <th>user_ID</th>\n",
       "      <th>timestamp</th>\n",
       "      <th>helpful_review_vote</th>\n",
       "      <th>user_purchase_verification</th>\n",
       "    </tr>\n",
       "  </thead>\n",
       "  <tbody>\n",
       "    <tr>\n",
       "      <th>0</th>\n",
       "      <td>5.0</td>\n",
       "      <td>Such a lovely scent but not overpowering.</td>\n",
       "      <td>This spray is really nice. It smells really go...</td>\n",
       "      <td>[]</td>\n",
       "      <td>B00YQ6X8EO</td>\n",
       "      <td>B00YQ6X8EO</td>\n",
       "      <td>AGKHLEW2SOWHNMFQIJGBECAF7INQ</td>\n",
       "      <td>1588687728923</td>\n",
       "      <td>0</td>\n",
       "      <td>True</td>\n",
       "    </tr>\n",
       "    <tr>\n",
       "      <th>1</th>\n",
       "      <td>4.0</td>\n",
       "      <td>Works great but smells a little weird.</td>\n",
       "      <td>This product does what I need it to do, I just...</td>\n",
       "      <td>[]</td>\n",
       "      <td>B081TJ8YS3</td>\n",
       "      <td>B081TJ8YS3</td>\n",
       "      <td>AGKHLEW2SOWHNMFQIJGBECAF7INQ</td>\n",
       "      <td>1588615855070</td>\n",
       "      <td>1</td>\n",
       "      <td>True</td>\n",
       "    </tr>\n",
       "  </tbody>\n",
       "</table>\n",
       "</div>"
      ],
      "text/plain": [
       "   rating                               review_title  \\\n",
       "0     5.0  Such a lovely scent but not overpowering.   \n",
       "1     4.0     Works great but smells a little weird.   \n",
       "\n",
       "                                         text_review user_images  product_ID  \\\n",
       "0  This spray is really nice. It smells really go...          []  B00YQ6X8EO   \n",
       "1  This product does what I need it to do, I just...          []  B081TJ8YS3   \n",
       "\n",
       "    parent_ID                       user_ID      timestamp  \\\n",
       "0  B00YQ6X8EO  AGKHLEW2SOWHNMFQIJGBECAF7INQ  1588687728923   \n",
       "1  B081TJ8YS3  AGKHLEW2SOWHNMFQIJGBECAF7INQ  1588615855070   \n",
       "\n",
       "   helpful_review_vote  user_purchase_verification  \n",
       "0                    0                        True  \n",
       "1                    1                        True  "
      ]
     },
     "execution_count": 87,
     "metadata": {},
     "output_type": "execute_result"
    }
   ],
   "source": [
    "df_user.head(2)"
   ]
  },
  {
   "cell_type": "code",
   "execution_count": 88,
   "metadata": {},
   "outputs": [],
   "source": [
    "df_user[\"timestamp\"] = pd.to_datetime(df_user[\"timestamp\"], unit='ms')\n",
    "df_user['rating'] = df_user['rating'].astype('int')\n",
    "df_user['user_purchase_verification'] = df_user['user_purchase_verification'].map({True: 1, False: 0})"
   ]
  },
  {
   "cell_type": "code",
   "execution_count": 89,
   "metadata": {},
   "outputs": [
    {
     "data": {
      "text/html": [
       "<div>\n",
       "<style scoped>\n",
       "    .dataframe tbody tr th:only-of-type {\n",
       "        vertical-align: middle;\n",
       "    }\n",
       "\n",
       "    .dataframe tbody tr th {\n",
       "        vertical-align: top;\n",
       "    }\n",
       "\n",
       "    .dataframe thead th {\n",
       "        text-align: right;\n",
       "    }\n",
       "</style>\n",
       "<table border=\"1\" class=\"dataframe\">\n",
       "  <thead>\n",
       "    <tr style=\"text-align: right;\">\n",
       "      <th></th>\n",
       "      <th>rating</th>\n",
       "      <th>review_title</th>\n",
       "      <th>text_review</th>\n",
       "      <th>user_images</th>\n",
       "      <th>product_ID</th>\n",
       "      <th>parent_ID</th>\n",
       "      <th>user_ID</th>\n",
       "      <th>timestamp</th>\n",
       "      <th>helpful_review_vote</th>\n",
       "      <th>user_purchase_verification</th>\n",
       "    </tr>\n",
       "  </thead>\n",
       "  <tbody>\n",
       "    <tr>\n",
       "      <th>0</th>\n",
       "      <td>5</td>\n",
       "      <td>Such a lovely scent but not overpowering.</td>\n",
       "      <td>This spray is really nice. It smells really go...</td>\n",
       "      <td>[]</td>\n",
       "      <td>B00YQ6X8EO</td>\n",
       "      <td>B00YQ6X8EO</td>\n",
       "      <td>AGKHLEW2SOWHNMFQIJGBECAF7INQ</td>\n",
       "      <td>2020-05-05 14:08:48.923</td>\n",
       "      <td>0</td>\n",
       "      <td>1</td>\n",
       "    </tr>\n",
       "    <tr>\n",
       "      <th>1</th>\n",
       "      <td>4</td>\n",
       "      <td>Works great but smells a little weird.</td>\n",
       "      <td>This product does what I need it to do, I just...</td>\n",
       "      <td>[]</td>\n",
       "      <td>B081TJ8YS3</td>\n",
       "      <td>B081TJ8YS3</td>\n",
       "      <td>AGKHLEW2SOWHNMFQIJGBECAF7INQ</td>\n",
       "      <td>2020-05-04 18:10:55.070</td>\n",
       "      <td>1</td>\n",
       "      <td>1</td>\n",
       "    </tr>\n",
       "  </tbody>\n",
       "</table>\n",
       "</div>"
      ],
      "text/plain": [
       "   rating                               review_title  \\\n",
       "0       5  Such a lovely scent but not overpowering.   \n",
       "1       4     Works great but smells a little weird.   \n",
       "\n",
       "                                         text_review user_images  product_ID  \\\n",
       "0  This spray is really nice. It smells really go...          []  B00YQ6X8EO   \n",
       "1  This product does what I need it to do, I just...          []  B081TJ8YS3   \n",
       "\n",
       "    parent_ID                       user_ID               timestamp  \\\n",
       "0  B00YQ6X8EO  AGKHLEW2SOWHNMFQIJGBECAF7INQ 2020-05-05 14:08:48.923   \n",
       "1  B081TJ8YS3  AGKHLEW2SOWHNMFQIJGBECAF7INQ 2020-05-04 18:10:55.070   \n",
       "\n",
       "   helpful_review_vote  user_purchase_verification  \n",
       "0                    0                           1  \n",
       "1                    1                           1  "
      ]
     },
     "execution_count": 89,
     "metadata": {},
     "output_type": "execute_result"
    }
   ],
   "source": [
    "df_user.head(2)"
   ]
  },
  {
   "cell_type": "code",
   "execution_count": 90,
   "metadata": {},
   "outputs": [],
   "source": [
    "df_user['year'] = df_user['timestamp'].dt.year"
   ]
  },
  {
   "cell_type": "code",
   "execution_count": 91,
   "metadata": {},
   "outputs": [],
   "source": [
    "# Drop duplicate rows, if necessary\n",
    "df_user.drop_duplicates(inplace=True)\n",
    "\n",
    "# Handle missing values (example: dropping rows with missing values)\n",
    "df_user.dropna(inplace=True)  # Or you can fill missing values with `df.fillna(value)`\n"
   ]
  },
  {
   "cell_type": "code",
   "execution_count": 92,
   "metadata": {},
   "outputs": [
    {
     "name": "stdout",
     "output_type": "stream",
     "text": [
      "Number of duplicate rows: 0\n"
     ]
    }
   ],
   "source": [
    "# Check for duplicate rows\n",
    "duplicates = df_user.duplicated().sum()\n",
    "print(f\"Number of duplicate rows: {duplicates}\")"
   ]
  },
  {
   "cell_type": "code",
   "execution_count": 93,
   "metadata": {},
   "outputs": [
    {
     "data": {
      "text/plain": [
       "(693941, 11)"
      ]
     },
     "execution_count": 93,
     "metadata": {},
     "output_type": "execute_result"
    }
   ],
   "source": [
    "df_user.shape"
   ]
  },
  {
   "cell_type": "code",
   "execution_count": 94,
   "metadata": {},
   "outputs": [
    {
     "data": {
      "text/html": [
       "<div>\n",
       "<style scoped>\n",
       "    .dataframe tbody tr th:only-of-type {\n",
       "        vertical-align: middle;\n",
       "    }\n",
       "\n",
       "    .dataframe tbody tr th {\n",
       "        vertical-align: top;\n",
       "    }\n",
       "\n",
       "    .dataframe thead th {\n",
       "        text-align: right;\n",
       "    }\n",
       "</style>\n",
       "<table border=\"1\" class=\"dataframe\">\n",
       "  <thead>\n",
       "    <tr style=\"text-align: right;\">\n",
       "      <th></th>\n",
       "      <th>rating</th>\n",
       "      <th>review_title</th>\n",
       "      <th>text_review</th>\n",
       "      <th>user_images</th>\n",
       "      <th>product_ID</th>\n",
       "      <th>parent_ID</th>\n",
       "      <th>user_ID</th>\n",
       "      <th>timestamp</th>\n",
       "      <th>helpful_review_vote</th>\n",
       "      <th>user_purchase_verification</th>\n",
       "      <th>year</th>\n",
       "    </tr>\n",
       "  </thead>\n",
       "  <tbody>\n",
       "    <tr>\n",
       "      <th>0</th>\n",
       "      <td>5</td>\n",
       "      <td>Such a lovely scent but not overpowering.</td>\n",
       "      <td>This spray is really nice. It smells really go...</td>\n",
       "      <td>[]</td>\n",
       "      <td>B00YQ6X8EO</td>\n",
       "      <td>B00YQ6X8EO</td>\n",
       "      <td>AGKHLEW2SOWHNMFQIJGBECAF7INQ</td>\n",
       "      <td>2020-05-05 14:08:48.923</td>\n",
       "      <td>0</td>\n",
       "      <td>1</td>\n",
       "      <td>2020</td>\n",
       "    </tr>\n",
       "    <tr>\n",
       "      <th>1</th>\n",
       "      <td>4</td>\n",
       "      <td>Works great but smells a little weird.</td>\n",
       "      <td>This product does what I need it to do, I just...</td>\n",
       "      <td>[]</td>\n",
       "      <td>B081TJ8YS3</td>\n",
       "      <td>B081TJ8YS3</td>\n",
       "      <td>AGKHLEW2SOWHNMFQIJGBECAF7INQ</td>\n",
       "      <td>2020-05-04 18:10:55.070</td>\n",
       "      <td>1</td>\n",
       "      <td>1</td>\n",
       "      <td>2020</td>\n",
       "    </tr>\n",
       "  </tbody>\n",
       "</table>\n",
       "</div>"
      ],
      "text/plain": [
       "   rating                               review_title  \\\n",
       "0       5  Such a lovely scent but not overpowering.   \n",
       "1       4     Works great but smells a little weird.   \n",
       "\n",
       "                                         text_review user_images  product_ID  \\\n",
       "0  This spray is really nice. It smells really go...          []  B00YQ6X8EO   \n",
       "1  This product does what I need it to do, I just...          []  B081TJ8YS3   \n",
       "\n",
       "    parent_ID                       user_ID               timestamp  \\\n",
       "0  B00YQ6X8EO  AGKHLEW2SOWHNMFQIJGBECAF7INQ 2020-05-05 14:08:48.923   \n",
       "1  B081TJ8YS3  AGKHLEW2SOWHNMFQIJGBECAF7INQ 2020-05-04 18:10:55.070   \n",
       "\n",
       "   helpful_review_vote  user_purchase_verification  year  \n",
       "0                    0                           1  2020  \n",
       "1                    1                           1  2020  "
      ]
     },
     "execution_count": 94,
     "metadata": {},
     "output_type": "execute_result"
    }
   ],
   "source": [
    "df_user.head(2)"
   ]
  },
  {
   "cell_type": "markdown",
   "metadata": {},
   "source": [
    "Text cleaning"
   ]
  },
  {
   "cell_type": "code",
   "execution_count": 95,
   "metadata": {},
   "outputs": [],
   "source": [
    "def clean_text(text):\n",
    "    import re\n",
    "    text = text.lower()\n",
    "    text = re.sub(r'<[^>]+>', '', text) # Remove HTML tags\n",
    "    text = re.sub(r'http\\S+|www\\.\\S+', '', text)  # Remove URLs\n",
    "    text = re.sub(r'@\\w+', '[USER]', text) # Remove mentions (e.g., @username)\n",
    "    text = unicodedata.normalize(\"NFKC\", text) # Normalize unicode characters\n",
    "    text = re.sub(r'[^a-zA-Z0-9\\s.,!?;:]', '', text)  # Remove non-alphanumeric characters\n",
    "    text = re.sub(r'\\s+', ' ', text).strip()  # Remove extra spaces\n",
    "    return text "
   ]
  },
  {
   "cell_type": "code",
   "execution_count": 96,
   "metadata": {},
   "outputs": [],
   "source": [
    "df_user['cleaned_text'] = df_user['text_review'].apply(clean_text)"
   ]
  },
  {
   "cell_type": "code",
   "execution_count": 97,
   "metadata": {},
   "outputs": [
    {
     "data": {
      "text/html": [
       "<div>\n",
       "<style scoped>\n",
       "    .dataframe tbody tr th:only-of-type {\n",
       "        vertical-align: middle;\n",
       "    }\n",
       "\n",
       "    .dataframe tbody tr th {\n",
       "        vertical-align: top;\n",
       "    }\n",
       "\n",
       "    .dataframe thead th {\n",
       "        text-align: right;\n",
       "    }\n",
       "</style>\n",
       "<table border=\"1\" class=\"dataframe\">\n",
       "  <thead>\n",
       "    <tr style=\"text-align: right;\">\n",
       "      <th></th>\n",
       "      <th>rating</th>\n",
       "      <th>review_title</th>\n",
       "      <th>text_review</th>\n",
       "      <th>user_images</th>\n",
       "      <th>product_ID</th>\n",
       "      <th>parent_ID</th>\n",
       "      <th>user_ID</th>\n",
       "      <th>timestamp</th>\n",
       "      <th>helpful_review_vote</th>\n",
       "      <th>user_purchase_verification</th>\n",
       "      <th>year</th>\n",
       "      <th>cleaned_text</th>\n",
       "    </tr>\n",
       "  </thead>\n",
       "  <tbody>\n",
       "    <tr>\n",
       "      <th>0</th>\n",
       "      <td>5</td>\n",
       "      <td>Such a lovely scent but not overpowering.</td>\n",
       "      <td>This spray is really nice. It smells really go...</td>\n",
       "      <td>[]</td>\n",
       "      <td>B00YQ6X8EO</td>\n",
       "      <td>B00YQ6X8EO</td>\n",
       "      <td>AGKHLEW2SOWHNMFQIJGBECAF7INQ</td>\n",
       "      <td>2020-05-05 14:08:48.923</td>\n",
       "      <td>0</td>\n",
       "      <td>1</td>\n",
       "      <td>2020</td>\n",
       "      <td>this spray is really nice. it smells really go...</td>\n",
       "    </tr>\n",
       "    <tr>\n",
       "      <th>1</th>\n",
       "      <td>4</td>\n",
       "      <td>Works great but smells a little weird.</td>\n",
       "      <td>This product does what I need it to do, I just...</td>\n",
       "      <td>[]</td>\n",
       "      <td>B081TJ8YS3</td>\n",
       "      <td>B081TJ8YS3</td>\n",
       "      <td>AGKHLEW2SOWHNMFQIJGBECAF7INQ</td>\n",
       "      <td>2020-05-04 18:10:55.070</td>\n",
       "      <td>1</td>\n",
       "      <td>1</td>\n",
       "      <td>2020</td>\n",
       "      <td>this product does what i need it to do, i just...</td>\n",
       "    </tr>\n",
       "    <tr>\n",
       "      <th>2</th>\n",
       "      <td>5</td>\n",
       "      <td>Yes!</td>\n",
       "      <td>Smells good, feels great!</td>\n",
       "      <td>[]</td>\n",
       "      <td>B07PNNCSP9</td>\n",
       "      <td>B097R46CSY</td>\n",
       "      <td>AE74DYR3QUGVPZJ3P7RFWBGIX7XQ</td>\n",
       "      <td>2020-05-16 21:41:06.052</td>\n",
       "      <td>2</td>\n",
       "      <td>1</td>\n",
       "      <td>2020</td>\n",
       "      <td>smells good, feels great!</td>\n",
       "    </tr>\n",
       "    <tr>\n",
       "      <th>3</th>\n",
       "      <td>1</td>\n",
       "      <td>Synthetic feeling</td>\n",
       "      <td>Felt synthetic</td>\n",
       "      <td>[]</td>\n",
       "      <td>B09JS339BZ</td>\n",
       "      <td>B09JS339BZ</td>\n",
       "      <td>AFQLNQNQYFWQZPJQZS6V3NZU4QBQ</td>\n",
       "      <td>2022-01-28 18:13:50.220</td>\n",
       "      <td>0</td>\n",
       "      <td>1</td>\n",
       "      <td>2022</td>\n",
       "      <td>felt synthetic</td>\n",
       "    </tr>\n",
       "    <tr>\n",
       "      <th>4</th>\n",
       "      <td>5</td>\n",
       "      <td>A+</td>\n",
       "      <td>Love it</td>\n",
       "      <td>[]</td>\n",
       "      <td>B08BZ63GMJ</td>\n",
       "      <td>B08BZ63GMJ</td>\n",
       "      <td>AFQLNQNQYFWQZPJQZS6V3NZU4QBQ</td>\n",
       "      <td>2020-12-30 10:02:43.534</td>\n",
       "      <td>0</td>\n",
       "      <td>1</td>\n",
       "      <td>2020</td>\n",
       "      <td>love it</td>\n",
       "    </tr>\n",
       "    <tr>\n",
       "      <th>5</th>\n",
       "      <td>4</td>\n",
       "      <td>Pretty Color</td>\n",
       "      <td>The polish was quiet thick and did not apply s...</td>\n",
       "      <td>[{'small_image_url': 'https://images-na.ssl-im...</td>\n",
       "      <td>B00R8DXL44</td>\n",
       "      <td>B00R8DXL44</td>\n",
       "      <td>AGMJ3EMDVL6OWBJF7CA5RGJLXN5A</td>\n",
       "      <td>2020-08-27 22:30:08.138</td>\n",
       "      <td>0</td>\n",
       "      <td>1</td>\n",
       "      <td>2020</td>\n",
       "      <td>the polish was quiet thick and did not apply s...</td>\n",
       "    </tr>\n",
       "  </tbody>\n",
       "</table>\n",
       "</div>"
      ],
      "text/plain": [
       "   rating                               review_title  \\\n",
       "0       5  Such a lovely scent but not overpowering.   \n",
       "1       4     Works great but smells a little weird.   \n",
       "2       5                                       Yes!   \n",
       "3       1                          Synthetic feeling   \n",
       "4       5                                         A+   \n",
       "5       4                               Pretty Color   \n",
       "\n",
       "                                         text_review  \\\n",
       "0  This spray is really nice. It smells really go...   \n",
       "1  This product does what I need it to do, I just...   \n",
       "2                          Smells good, feels great!   \n",
       "3                                     Felt synthetic   \n",
       "4                                            Love it   \n",
       "5  The polish was quiet thick and did not apply s...   \n",
       "\n",
       "                                         user_images  product_ID   parent_ID  \\\n",
       "0                                                 []  B00YQ6X8EO  B00YQ6X8EO   \n",
       "1                                                 []  B081TJ8YS3  B081TJ8YS3   \n",
       "2                                                 []  B07PNNCSP9  B097R46CSY   \n",
       "3                                                 []  B09JS339BZ  B09JS339BZ   \n",
       "4                                                 []  B08BZ63GMJ  B08BZ63GMJ   \n",
       "5  [{'small_image_url': 'https://images-na.ssl-im...  B00R8DXL44  B00R8DXL44   \n",
       "\n",
       "                        user_ID               timestamp  helpful_review_vote  \\\n",
       "0  AGKHLEW2SOWHNMFQIJGBECAF7INQ 2020-05-05 14:08:48.923                    0   \n",
       "1  AGKHLEW2SOWHNMFQIJGBECAF7INQ 2020-05-04 18:10:55.070                    1   \n",
       "2  AE74DYR3QUGVPZJ3P7RFWBGIX7XQ 2020-05-16 21:41:06.052                    2   \n",
       "3  AFQLNQNQYFWQZPJQZS6V3NZU4QBQ 2022-01-28 18:13:50.220                    0   \n",
       "4  AFQLNQNQYFWQZPJQZS6V3NZU4QBQ 2020-12-30 10:02:43.534                    0   \n",
       "5  AGMJ3EMDVL6OWBJF7CA5RGJLXN5A 2020-08-27 22:30:08.138                    0   \n",
       "\n",
       "   user_purchase_verification  year  \\\n",
       "0                           1  2020   \n",
       "1                           1  2020   \n",
       "2                           1  2020   \n",
       "3                           1  2022   \n",
       "4                           1  2020   \n",
       "5                           1  2020   \n",
       "\n",
       "                                        cleaned_text  \n",
       "0  this spray is really nice. it smells really go...  \n",
       "1  this product does what i need it to do, i just...  \n",
       "2                          smells good, feels great!  \n",
       "3                                     felt synthetic  \n",
       "4                                            love it  \n",
       "5  the polish was quiet thick and did not apply s...  "
      ]
     },
     "execution_count": 97,
     "metadata": {},
     "output_type": "execute_result"
    }
   ],
   "source": [
    "df_user.head(6)"
   ]
  },
  {
   "cell_type": "code",
   "execution_count": 98,
   "metadata": {},
   "outputs": [],
   "source": [
    "# Remove generated nulls from 'cleaned_text' column\n",
    "df_user.dropna(inplace=True)"
   ]
  },
  {
   "cell_type": "markdown",
   "metadata": {},
   "source": [
    "Save cleaned data"
   ]
  },
  {
   "cell_type": "code",
   "execution_count": 99,
   "metadata": {},
   "outputs": [],
   "source": [
    "#csv_user_clean = r'.\\..\\data\\data_clean\\user_clean_data_ecommerce.csv'\n",
    "## Save the DataFrame as a CSV file\n",
    "#df_user.to_csv(csv_user_clean, index=False)"
   ]
  },
  {
   "cell_type": "markdown",
   "metadata": {},
   "source": [
    "5. Check the Distribution of the Data"
   ]
  },
  {
   "cell_type": "code",
   "execution_count": 100,
   "metadata": {},
   "outputs": [
    {
     "data": {
      "image/png": "[encoded data removed]",
      "text/plain": [
       "<Figure size 600x400 with 6 Axes>"
      ]
     },
     "metadata": {},
     "output_type": "display_data"
    }
   ],
   "source": [
    "# Display the distribution of numeric columns\n",
    "df_user.hist(figsize=(6, 4), bins=30, edgecolor='black')\n",
    "plt.tight_layout()\n",
    "plt.show()\n",
    "\n",
    "# Count values in categorical columns (replace 'category_column' with actual column name)\n",
    "# if 'category_column' in df.columns:\n",
    "#     print(df['category_column'].value_counts())\n"
   ]
  },
  {
   "cell_type": "markdown",
   "metadata": {},
   "source": [
    "6. Univariate Analysis"
   ]
  },
  {
   "cell_type": "code",
   "execution_count": 101,
   "metadata": {},
   "outputs": [
    {
     "data": {
      "text/plain": [
       "year\n",
       "2000         1\n",
       "2001        11\n",
       "2002        24\n",
       "2003        56\n",
       "2004       130\n",
       "2005       265\n",
       "2006       416\n",
       "2007      1150\n",
       "2008      1251\n",
       "2009      1198\n",
       "2010      1568\n",
       "2011      1855\n",
       "2012      2774\n",
       "2013      7880\n",
       "2014     16107\n",
       "2015     35844\n",
       "2016     62042\n",
       "2017     67354\n",
       "2018     71960\n",
       "2019     98100\n",
       "2020    125371\n",
       "2021    123466\n",
       "2022     60909\n",
       "2023     14209\n",
       "Name: count, dtype: int64"
      ]
     },
     "execution_count": 101,
     "metadata": {},
     "output_type": "execute_result"
    }
   ],
   "source": [
    "yearly_distribution = df_user['year'].value_counts().sort_index()\n",
    "yearly_distribution"
   ]
  },
  {
   "cell_type": "code",
   "execution_count": 102,
   "metadata": {},
   "outputs": [
    {
     "data": {
      "image/png": "[encoded data removed]",
      "text/plain": [
       "<Figure size 800x600 with 1 Axes>"
      ]
     },
     "metadata": {},
     "output_type": "display_data"
    }
   ],
   "source": [
    "# Plotting the data\n",
    "plt.figure(figsize=(8,6))\n",
    "plt.bar(yearly_distribution.index, yearly_distribution.values, color='skyblue', edgecolor='black')  # Bar plot\n",
    "\n",
    "plt.title('Distribution of Products Over Time')\n",
    "plt.xlabel('Year')\n",
    "plt.ylabel('Count')\n",
    "plt.xticks(rotation=45)  \n",
    "plt.tight_layout()\n",
    "plt.show()"
   ]
  },
  {
   "cell_type": "code",
   "execution_count": 103,
   "metadata": {},
   "outputs": [
    {
     "data": {
      "text/plain": [
       "array([5, 4, 1, 3, 2])"
      ]
     },
     "execution_count": 103,
     "metadata": {},
     "output_type": "execute_result"
    }
   ],
   "source": [
    "df_user = df_user[~df_user['rating'].isnull()]\n",
    "df_user['rating'].unique()"
   ]
  },
  {
   "cell_type": "code",
   "execution_count": 104,
   "metadata": {},
   "outputs": [
    {
     "data": {
      "image/png": "[encoded data removed]",
      "text/plain": [
       "<Figure size 600x400 with 1 Axes>"
      ]
     },
     "metadata": {},
     "output_type": "display_data"
    }
   ],
   "source": [
    "# Plotting the histogram using Matplotlib directly\n",
    "plt.figure(figsize=(6, 4))\n",
    "bin_edges = [0.5, 1.5, 2.5, 3.5, 4.5, 5.5]\n",
    "plt.hist(df_user['rating'],bins=bin_edges , edgecolor='black', color='skyblue')\n",
    "\n",
    "# Adding labels and title\n",
    "plt.xticks(ticks=[1, 2, 3, 4, 5])\n",
    "plt.xlabel('Rating')\n",
    "plt.ylabel('Frequency')\n",
    "plt.title('Distribution of Ratings')\n",
    "plt.tight_layout()\n",
    "plt.show()"
   ]
  },
  {
   "cell_type": "markdown",
   "metadata": {},
   "source": [
    "### Popularity Based Recommendation"
   ]
  },
  {
   "cell_type": "code",
   "execution_count": 105,
   "metadata": {},
   "outputs": [
    {
     "data": {
      "image/png": "[encoded data removed]",
      "text/plain": [
       "<Figure size 960x480 with 1 Axes>"
      ]
     },
     "metadata": {},
     "output_type": "display_data"
    }
   ],
   "source": [
    "top_items=df_user.groupby(\"product_ID\").filter(lambda x:x['rating'].count() >=50)\n",
    "top_items.shape\n",
    "top_items.head(2)\n",
    "\n",
    "no_of_ratings_per_product = top_items.groupby('product_ID')['rating'].count().sort_values(ascending=False)\n",
    "\n",
    "fig = plt.figure(figsize=plt.figaspect(.5))\n",
    "ax = plt.gca()\n",
    "plt.plot(no_of_ratings_per_product.values)\n",
    "plt.title('Ratings per Product')\n",
    "plt.xlabel('Product')\n",
    "plt.ylabel('No of ratings per product')\n",
    "ax.set_xticklabels([]) # Remove x labels from the axis (those are IDs)\n",
    "# ax.set_yscale('log') optionally\n",
    "plt.show()"
   ]
  },
  {
   "cell_type": "markdown",
   "metadata": {},
   "source": [
    "Items with the highest rates"
   ]
  },
  {
   "cell_type": "code",
   "execution_count": 106,
   "metadata": {},
   "outputs": [
    {
     "data": {
      "text/plain": [
       "product_ID\n",
       "B093GRLKB9    4.950820\n",
       "B00H3WGN9K    4.948276\n",
       "B002T5NMGS    4.942308\n",
       "B07DT5FHY4    4.928571\n",
       "B07M6MXTH2    4.925532\n",
       "Name: rating, dtype: float64"
      ]
     },
     "execution_count": 106,
     "metadata": {},
     "output_type": "execute_result"
    }
   ],
   "source": [
    "top_items.groupby('product_ID')['rating'].mean().sort_values(ascending=False).head()"
   ]
  },
  {
   "cell_type": "markdown",
   "metadata": {},
   "source": [
    "Items with the highest number of rates"
   ]
  },
  {
   "cell_type": "code",
   "execution_count": 107,
   "metadata": {},
   "outputs": [
    {
     "data": {
      "text/plain": [
       "product_ID\n",
       "B007IAE5WY    1951\n",
       "B00EEN2HCS    1725\n",
       "B07C533XCW    1497\n",
       "B00R1TAN7I    1362\n",
       "B08L5KN7X4    1326\n",
       "Name: rating, dtype: int64"
      ]
     },
     "execution_count": 107,
     "metadata": {},
     "output_type": "execute_result"
    }
   ],
   "source": [
    "top_items.groupby('product_ID')['rating'].count().sort_values(ascending=False).head()"
   ]
  },
  {
   "cell_type": "code",
   "execution_count": 108,
   "metadata": {},
   "outputs": [
    {
     "data": {
      "text/html": [
       "<div>\n",
       "<style scoped>\n",
       "    .dataframe tbody tr th:only-of-type {\n",
       "        vertical-align: middle;\n",
       "    }\n",
       "\n",
       "    .dataframe tbody tr th {\n",
       "        vertical-align: top;\n",
       "    }\n",
       "\n",
       "    .dataframe thead th {\n",
       "        text-align: right;\n",
       "    }\n",
       "</style>\n",
       "<table border=\"1\" class=\"dataframe\">\n",
       "  <thead>\n",
       "    <tr style=\"text-align: right;\">\n",
       "      <th></th>\n",
       "      <th>rating</th>\n",
       "      <th>rating_counts</th>\n",
       "    </tr>\n",
       "    <tr>\n",
       "      <th>product_ID</th>\n",
       "      <th></th>\n",
       "      <th></th>\n",
       "    </tr>\n",
       "  </thead>\n",
       "  <tbody>\n",
       "    <tr>\n",
       "      <th>B007IAE5WY</th>\n",
       "      <td>4.620707</td>\n",
       "      <td>1951</td>\n",
       "    </tr>\n",
       "    <tr>\n",
       "      <th>B00EEN2HCS</th>\n",
       "      <td>4.136812</td>\n",
       "      <td>1725</td>\n",
       "    </tr>\n",
       "    <tr>\n",
       "      <th>B07C533XCW</th>\n",
       "      <td>4.464262</td>\n",
       "      <td>1497</td>\n",
       "    </tr>\n",
       "    <tr>\n",
       "      <th>B00R1TAN7I</th>\n",
       "      <td>4.029369</td>\n",
       "      <td>1362</td>\n",
       "    </tr>\n",
       "    <tr>\n",
       "      <th>B08L5KN7X4</th>\n",
       "      <td>4.010558</td>\n",
       "      <td>1326</td>\n",
       "    </tr>\n",
       "    <tr>\n",
       "      <th>...</th>\n",
       "      <td>...</td>\n",
       "      <td>...</td>\n",
       "    </tr>\n",
       "    <tr>\n",
       "      <th>B07NY3TFNC</th>\n",
       "      <td>4.160000</td>\n",
       "      <td>50</td>\n",
       "    </tr>\n",
       "    <tr>\n",
       "      <th>B08R8YGQX1</th>\n",
       "      <td>3.840000</td>\n",
       "      <td>50</td>\n",
       "    </tr>\n",
       "    <tr>\n",
       "      <th>B07R993WM6</th>\n",
       "      <td>4.580000</td>\n",
       "      <td>50</td>\n",
       "    </tr>\n",
       "    <tr>\n",
       "      <th>B078BC3XDT</th>\n",
       "      <td>3.900000</td>\n",
       "      <td>50</td>\n",
       "    </tr>\n",
       "    <tr>\n",
       "      <th>B0786WXVBL</th>\n",
       "      <td>4.120000</td>\n",
       "      <td>50</td>\n",
       "    </tr>\n",
       "  </tbody>\n",
       "</table>\n",
       "<p>1849 rows × 2 columns</p>\n",
       "</div>"
      ],
      "text/plain": [
       "              rating  rating_counts\n",
       "product_ID                         \n",
       "B007IAE5WY  4.620707           1951\n",
       "B00EEN2HCS  4.136812           1725\n",
       "B07C533XCW  4.464262           1497\n",
       "B00R1TAN7I  4.029369           1362\n",
       "B08L5KN7X4  4.010558           1326\n",
       "...              ...            ...\n",
       "B07NY3TFNC  4.160000             50\n",
       "B08R8YGQX1  3.840000             50\n",
       "B07R993WM6  4.580000             50\n",
       "B078BC3XDT  3.900000             50\n",
       "B0786WXVBL  4.120000             50\n",
       "\n",
       "[1849 rows x 2 columns]"
      ]
     },
     "execution_count": 108,
     "metadata": {},
     "output_type": "execute_result"
    }
   ],
   "source": [
    "ratings_mean_count = pd.DataFrame(top_items.groupby('product_ID')['rating'].mean())\n",
    "ratings_mean_count['rating_counts'] = pd.DataFrame(top_items.groupby('product_ID')['rating'].count())\n",
    "ratings_mean_count.sort_values('rating_counts', ascending=False)"
   ]
  },
  {
   "cell_type": "code",
   "execution_count": 109,
   "metadata": {},
   "outputs": [
    {
     "data": {
      "image/png": "[encoded data removed]",
      "text/plain": [
       "<Figure size 800x600 with 1 Axes>"
      ]
     },
     "metadata": {},
     "output_type": "display_data"
    }
   ],
   "source": [
    "plt.figure(figsize=(8,6))\n",
    "plt.rcParams['patch.force_edgecolor'] = True # Ensure that edges of the patches (bars) are visible\n",
    "ratings_mean_count['rating_counts'].hist(bins=50)\n",
    "plt.title('Distribution of Rating Counts')\n",
    "plt.xlabel('Number of Ratings') \n",
    "plt.ylabel('Frequency')     \n",
    "plt.show()"
   ]
  },
  {
   "cell_type": "markdown",
   "metadata": {},
   "source": [
    "Most of the top products have number of ratings 50"
   ]
  },
  {
   "cell_type": "code",
   "execution_count": 110,
   "metadata": {},
   "outputs": [
    {
     "data": {
      "text/plain": [
       "Text(0, 0.5, 'Frequency')"
      ]
     },
     "execution_count": 110,
     "metadata": {},
     "output_type": "execute_result"
    },
    {
     "data": {
      "image/png": "[encoded data removed]",
      "text/plain": [
       "<Figure size 800x600 with 1 Axes>"
      ]
     },
     "metadata": {},
     "output_type": "display_data"
    }
   ],
   "source": [
    "plt.figure(figsize=(8,6))\n",
    "plt.rcParams['patch.force_edgecolor'] = True\n",
    "ratings_mean_count['rating'].hist(bins=50)\n",
    "plt.title('Distribution of Average Ratings')\n",
    "plt.xlabel('Average Ratings') \n",
    "plt.ylabel('Frequency')  "
   ]
  },
  {
   "cell_type": "markdown",
   "metadata": {},
   "source": [
    "Most of the 'top products' have a rating in between 4-4.6"
   ]
  },
  {
   "cell_type": "markdown",
   "metadata": {},
   "source": [
    "Multivariate analysis of the products with the number of rates >= 50:"
   ]
  },
  {
   "cell_type": "code",
   "execution_count": 111,
   "metadata": {},
   "outputs": [
    {
     "data": {
      "image/png": "[encoded data removed]",
      "text/plain": [
       "<Figure size 800x600 with 2 Axes>"
      ]
     },
     "metadata": {},
     "output_type": "display_data"
    },
    {
     "data": {
      "image/png": "[encoded data removed]",
      "text/plain": [
       "<Figure size 640x480 with 1 Axes>"
      ]
     },
     "metadata": {},
     "output_type": "display_data"
    }
   ],
   "source": [
    "plt.figure(figsize=(8, 6))\n",
    "sns.heatmap(ratings_mean_count.corr(), annot=True, fmt=\".2f\", cmap='coolwarm')\n",
    "plt.title('Correlation Heatmap')\n",
    "plt.show()\n",
    "\n",
    "# Scatter plot for two numeric variables\n",
    "sns.scatterplot(x='rating', y='rating_counts', data=ratings_mean_count)\n",
    "plt.title('Scatter Plot')\n",
    "plt.show()"
   ]
  },
  {
   "cell_type": "markdown",
   "metadata": {},
   "source": [
    "7. Multivariate Analysis"
   ]
  },
  {
   "cell_type": "code",
   "execution_count": 112,
   "metadata": {},
   "outputs": [
    {
     "ename": "ValueError",
     "evalue": "could not convert string to float: 'Such a lovely scent but not overpowering.'",
     "output_type": "error",
     "traceback": [
      "\u001b[1;31m---------------------------------------------------------------------------\u001b[0m",
      "\u001b[1;31mValueError\u001b[0m                                Traceback (most recent call last)",
      "Cell \u001b[1;32mIn[112], line 3\u001b[0m\n\u001b[0;32m      1\u001b[0m \u001b[38;5;66;03m# Correlation heatmap for numeric columns\u001b[39;00m\n\u001b[0;32m      2\u001b[0m plt\u001b[38;5;241m.\u001b[39mfigure(figsize\u001b[38;5;241m=\u001b[39m(\u001b[38;5;241m8\u001b[39m, \u001b[38;5;241m6\u001b[39m))\n\u001b[1;32m----> 3\u001b[0m sns\u001b[38;5;241m.\u001b[39mheatmap(\u001b[43mdf_user\u001b[49m\u001b[38;5;241;43m.\u001b[39;49m\u001b[43mcorr\u001b[49m\u001b[43m(\u001b[49m\u001b[43m)\u001b[49m, annot\u001b[38;5;241m=\u001b[39m\u001b[38;5;28;01mTrue\u001b[39;00m, fmt\u001b[38;5;241m=\u001b[39m\u001b[38;5;124m\"\u001b[39m\u001b[38;5;124m.2f\u001b[39m\u001b[38;5;124m\"\u001b[39m, cmap\u001b[38;5;241m=\u001b[39m\u001b[38;5;124m'\u001b[39m\u001b[38;5;124mcoolwarm\u001b[39m\u001b[38;5;124m'\u001b[39m)\n\u001b[0;32m      4\u001b[0m plt\u001b[38;5;241m.\u001b[39mtitle(\u001b[38;5;124m'\u001b[39m\u001b[38;5;124mCorrelation Heatmap\u001b[39m\u001b[38;5;124m'\u001b[39m)\n\u001b[0;32m      5\u001b[0m plt\u001b[38;5;241m.\u001b[39mshow()\n",
      "File \u001b[1;32mc:\\Users\\tillj\\nf\\capstone\\Capstone-Project-Recommender-System\\.venv2\\Lib\\site-packages\\pandas\\core\\frame.py:11049\u001b[0m, in \u001b[0;36mDataFrame.corr\u001b[1;34m(self, method, min_periods, numeric_only)\u001b[0m\n\u001b[0;32m  11047\u001b[0m cols \u001b[38;5;241m=\u001b[39m data\u001b[38;5;241m.\u001b[39mcolumns\n\u001b[0;32m  11048\u001b[0m idx \u001b[38;5;241m=\u001b[39m cols\u001b[38;5;241m.\u001b[39mcopy()\n\u001b[1;32m> 11049\u001b[0m mat \u001b[38;5;241m=\u001b[39m \u001b[43mdata\u001b[49m\u001b[38;5;241;43m.\u001b[39;49m\u001b[43mto_numpy\u001b[49m\u001b[43m(\u001b[49m\u001b[43mdtype\u001b[49m\u001b[38;5;241;43m=\u001b[39;49m\u001b[38;5;28;43mfloat\u001b[39;49m\u001b[43m,\u001b[49m\u001b[43m \u001b[49m\u001b[43mna_value\u001b[49m\u001b[38;5;241;43m=\u001b[39;49m\u001b[43mnp\u001b[49m\u001b[38;5;241;43m.\u001b[39;49m\u001b[43mnan\u001b[49m\u001b[43m,\u001b[49m\u001b[43m \u001b[49m\u001b[43mcopy\u001b[49m\u001b[38;5;241;43m=\u001b[39;49m\u001b[38;5;28;43;01mFalse\u001b[39;49;00m\u001b[43m)\u001b[49m\n\u001b[0;32m  11051\u001b[0m \u001b[38;5;28;01mif\u001b[39;00m method \u001b[38;5;241m==\u001b[39m \u001b[38;5;124m\"\u001b[39m\u001b[38;5;124mpearson\u001b[39m\u001b[38;5;124m\"\u001b[39m:\n\u001b[0;32m  11052\u001b[0m     correl \u001b[38;5;241m=\u001b[39m libalgos\u001b[38;5;241m.\u001b[39mnancorr(mat, minp\u001b[38;5;241m=\u001b[39mmin_periods)\n",
      "File \u001b[1;32mc:\\Users\\tillj\\nf\\capstone\\Capstone-Project-Recommender-System\\.venv2\\Lib\\site-packages\\pandas\\core\\frame.py:1993\u001b[0m, in \u001b[0;36mDataFrame.to_numpy\u001b[1;34m(self, dtype, copy, na_value)\u001b[0m\n\u001b[0;32m   1991\u001b[0m \u001b[38;5;28;01mif\u001b[39;00m dtype \u001b[38;5;129;01mis\u001b[39;00m \u001b[38;5;129;01mnot\u001b[39;00m \u001b[38;5;28;01mNone\u001b[39;00m:\n\u001b[0;32m   1992\u001b[0m     dtype \u001b[38;5;241m=\u001b[39m np\u001b[38;5;241m.\u001b[39mdtype(dtype)\n\u001b[1;32m-> 1993\u001b[0m result \u001b[38;5;241m=\u001b[39m \u001b[38;5;28;43mself\u001b[39;49m\u001b[38;5;241;43m.\u001b[39;49m\u001b[43m_mgr\u001b[49m\u001b[38;5;241;43m.\u001b[39;49m\u001b[43mas_array\u001b[49m\u001b[43m(\u001b[49m\u001b[43mdtype\u001b[49m\u001b[38;5;241;43m=\u001b[39;49m\u001b[43mdtype\u001b[49m\u001b[43m,\u001b[49m\u001b[43m \u001b[49m\u001b[43mcopy\u001b[49m\u001b[38;5;241;43m=\u001b[39;49m\u001b[43mcopy\u001b[49m\u001b[43m,\u001b[49m\u001b[43m \u001b[49m\u001b[43mna_value\u001b[49m\u001b[38;5;241;43m=\u001b[39;49m\u001b[43mna_value\u001b[49m\u001b[43m)\u001b[49m\n\u001b[0;32m   1994\u001b[0m \u001b[38;5;28;01mif\u001b[39;00m result\u001b[38;5;241m.\u001b[39mdtype \u001b[38;5;129;01mis\u001b[39;00m \u001b[38;5;129;01mnot\u001b[39;00m dtype:\n\u001b[0;32m   1995\u001b[0m     result \u001b[38;5;241m=\u001b[39m np\u001b[38;5;241m.\u001b[39masarray(result, dtype\u001b[38;5;241m=\u001b[39mdtype)\n",
      "File \u001b[1;32mc:\\Users\\tillj\\nf\\capstone\\Capstone-Project-Recommender-System\\.venv2\\Lib\\site-packages\\pandas\\core\\internals\\managers.py:1694\u001b[0m, in \u001b[0;36mBlockManager.as_array\u001b[1;34m(self, dtype, copy, na_value)\u001b[0m\n\u001b[0;32m   1692\u001b[0m         arr\u001b[38;5;241m.\u001b[39mflags\u001b[38;5;241m.\u001b[39mwriteable \u001b[38;5;241m=\u001b[39m \u001b[38;5;28;01mFalse\u001b[39;00m\n\u001b[0;32m   1693\u001b[0m \u001b[38;5;28;01melse\u001b[39;00m:\n\u001b[1;32m-> 1694\u001b[0m     arr \u001b[38;5;241m=\u001b[39m \u001b[38;5;28;43mself\u001b[39;49m\u001b[38;5;241;43m.\u001b[39;49m\u001b[43m_interleave\u001b[49m\u001b[43m(\u001b[49m\u001b[43mdtype\u001b[49m\u001b[38;5;241;43m=\u001b[39;49m\u001b[43mdtype\u001b[49m\u001b[43m,\u001b[49m\u001b[43m \u001b[49m\u001b[43mna_value\u001b[49m\u001b[38;5;241;43m=\u001b[39;49m\u001b[43mna_value\u001b[49m\u001b[43m)\u001b[49m\n\u001b[0;32m   1695\u001b[0m     \u001b[38;5;66;03m# The underlying data was copied within _interleave, so no need\u001b[39;00m\n\u001b[0;32m   1696\u001b[0m     \u001b[38;5;66;03m# to further copy if copy=True or setting na_value\u001b[39;00m\n\u001b[0;32m   1698\u001b[0m \u001b[38;5;28;01mif\u001b[39;00m na_value \u001b[38;5;129;01mis\u001b[39;00m lib\u001b[38;5;241m.\u001b[39mno_default:\n",
      "File \u001b[1;32mc:\\Users\\tillj\\nf\\capstone\\Capstone-Project-Recommender-System\\.venv2\\Lib\\site-packages\\pandas\\core\\internals\\managers.py:1753\u001b[0m, in \u001b[0;36mBlockManager._interleave\u001b[1;34m(self, dtype, na_value)\u001b[0m\n\u001b[0;32m   1751\u001b[0m     \u001b[38;5;28;01melse\u001b[39;00m:\n\u001b[0;32m   1752\u001b[0m         arr \u001b[38;5;241m=\u001b[39m blk\u001b[38;5;241m.\u001b[39mget_values(dtype)\n\u001b[1;32m-> 1753\u001b[0m     \u001b[43mresult\u001b[49m\u001b[43m[\u001b[49m\u001b[43mrl\u001b[49m\u001b[38;5;241;43m.\u001b[39;49m\u001b[43mindexer\u001b[49m\u001b[43m]\u001b[49m \u001b[38;5;241m=\u001b[39m arr\n\u001b[0;32m   1754\u001b[0m     itemmask[rl\u001b[38;5;241m.\u001b[39mindexer] \u001b[38;5;241m=\u001b[39m \u001b[38;5;241m1\u001b[39m\n\u001b[0;32m   1756\u001b[0m \u001b[38;5;28;01mif\u001b[39;00m \u001b[38;5;129;01mnot\u001b[39;00m itemmask\u001b[38;5;241m.\u001b[39mall():\n",
      "\u001b[1;31mValueError\u001b[0m: could not convert string to float: 'Such a lovely scent but not overpowering.'"
     ]
    },
    {
     "data": {
      "text/plain": [
       "<Figure size 800x600 with 0 Axes>"
      ]
     },
     "metadata": {},
     "output_type": "display_data"
    }
   ],
   "source": [
    "# Correlation heatmap for numeric columns\n",
    "plt.figure(figsize=(8, 6))\n",
    "sns.heatmap(df_user.corr(), annot=True, fmt=\".2f\", cmap='coolwarm')\n",
    "plt.title('Correlation Heatmap')\n",
    "plt.show()\n",
    "\n",
    "# Scatter plot for two numeric variables\n",
    "sns.scatterplot(x='numeric_column_1', y='numeric_column_2', data=df)\n",
    "plt.title('Scatter Plot')\n",
    "plt.show()\n",
    "\n",
    "# Box plot for a categorical and numeric column\n",
    "sns.boxplot(x='categorical_column', y='numeric_column', data=df)\n",
    "plt.title('Box Plot')\n",
    "plt.xticks(rotation=45)\n",
    "plt.show()\n"
   ]
  },
  {
   "cell_type": "markdown",
   "metadata": {},
   "source": [
    "8. Analyzing Product Reviews (if applicable)"
   ]
  },
  {
   "cell_type": "code",
   "execution_count": 113,
   "metadata": {},
   "outputs": [],
   "source": [
    "# Check the length of reviews (replace 'review_column' with the actual name)\n",
    "if 'text_review' in df_user.columns:\n",
    "    df_user['review_length'] = df_user['text_review'].str.len()"
   ]
  },
  {
   "cell_type": "code",
   "execution_count": 114,
   "metadata": {},
   "outputs": [
    {
     "data": {
      "image/png": "[encoded data removed]",
      "text/plain": [
       "<Figure size 640x480 with 1 Axes>"
      ]
     },
     "metadata": {},
     "output_type": "display_data"
    }
   ],
   "source": [
    "sns.histplot(df_user['review_length'], kde=True)\n",
    "plt.title('Distribution of Review Length')\n",
    "plt.show()"
   ]
  },
  {
   "cell_type": "code",
   "execution_count": null,
   "metadata": {},
   "outputs": [],
   "source": []
  },
  {
   "cell_type": "code",
   "execution_count": 116,
   "metadata": {},
   "outputs": [
    {
     "ename": "NameError",
     "evalue": "name 'df' is not defined",
     "output_type": "error",
     "traceback": [
      "\u001b[1;31m---------------------------------------------------------------------------\u001b[0m",
      "\u001b[1;31mNameError\u001b[0m                                 Traceback (most recent call last)",
      "Cell \u001b[1;32mIn[116], line 3\u001b[0m\n\u001b[0;32m      1\u001b[0m \u001b[38;5;66;03m# Word Cloud of reviews (optional)\u001b[39;00m\n\u001b[0;32m      2\u001b[0m \u001b[38;5;28;01mfrom\u001b[39;00m \u001b[38;5;21;01mwordcloud\u001b[39;00m \u001b[38;5;28;01mimport\u001b[39;00m WordCloud\n\u001b[1;32m----> 3\u001b[0m wordcloud \u001b[38;5;241m=\u001b[39m WordCloud(width\u001b[38;5;241m=\u001b[39m\u001b[38;5;241m800\u001b[39m, height\u001b[38;5;241m=\u001b[39m\u001b[38;5;241m400\u001b[39m, background_color\u001b[38;5;241m=\u001b[39m\u001b[38;5;124m'\u001b[39m\u001b[38;5;124mwhite\u001b[39m\u001b[38;5;124m'\u001b[39m)\u001b[38;5;241m.\u001b[39mgenerate(\u001b[38;5;124m'\u001b[39m\u001b[38;5;124m \u001b[39m\u001b[38;5;124m'\u001b[39m\u001b[38;5;241m.\u001b[39mjoin(\u001b[43mdf\u001b[49m[\u001b[38;5;124m'\u001b[39m\u001b[38;5;124mreview_column\u001b[39m\u001b[38;5;124m'\u001b[39m]\u001b[38;5;241m.\u001b[39mdropna()))\n\u001b[0;32m      4\u001b[0m plt\u001b[38;5;241m.\u001b[39mfigure(figsize\u001b[38;5;241m=\u001b[39m(\u001b[38;5;241m10\u001b[39m, \u001b[38;5;241m5\u001b[39m))\n\u001b[0;32m      5\u001b[0m plt\u001b[38;5;241m.\u001b[39mimshow(wordcloud, interpolation\u001b[38;5;241m=\u001b[39m\u001b[38;5;124m'\u001b[39m\u001b[38;5;124mbilinear\u001b[39m\u001b[38;5;124m'\u001b[39m)\n",
      "\u001b[1;31mNameError\u001b[0m: name 'df' is not defined"
     ]
    }
   ],
   "source": [
    "# Word Cloud of reviews (optional)\n",
    "from wordcloud import WordCloud\n",
    "wordcloud = WordCloud(width=800, height=400, background_color='white').generate(' '.join(df['review_column'].dropna()))\n",
    "plt.figure(figsize=(10, 5))\n",
    "plt.imshow(wordcloud, interpolation='bilinear')\n",
    "plt.axis('off')\n",
    "plt.title('Word Cloud of Reviews')\n",
    "plt.show()"
   ]
  },
  {
   "cell_type": "markdown",
   "metadata": {},
   "source": [
    "9. Grouping and Aggregations"
   ]
  },
  {
   "cell_type": "code",
   "execution_count": 117,
   "metadata": {},
   "outputs": [
    {
     "ename": "NameError",
     "evalue": "name 'df' is not defined",
     "output_type": "error",
     "traceback": [
      "\u001b[1;31m---------------------------------------------------------------------------\u001b[0m",
      "\u001b[1;31mNameError\u001b[0m                                 Traceback (most recent call last)",
      "Cell \u001b[1;32mIn[117], line 2\u001b[0m\n\u001b[0;32m      1\u001b[0m \u001b[38;5;66;03m# Example: Average rating per product\u001b[39;00m\n\u001b[1;32m----> 2\u001b[0m \u001b[38;5;28;01mif\u001b[39;00m \u001b[38;5;124m'\u001b[39m\u001b[38;5;124mproduct_id\u001b[39m\u001b[38;5;124m'\u001b[39m \u001b[38;5;129;01min\u001b[39;00m \u001b[43mdf\u001b[49m\u001b[38;5;241m.\u001b[39mcolumns \u001b[38;5;129;01mand\u001b[39;00m \u001b[38;5;124m'\u001b[39m\u001b[38;5;124mrating\u001b[39m\u001b[38;5;124m'\u001b[39m \u001b[38;5;129;01min\u001b[39;00m df\u001b[38;5;241m.\u001b[39mcolumns:\n\u001b[0;32m      3\u001b[0m     avg_rating \u001b[38;5;241m=\u001b[39m df\u001b[38;5;241m.\u001b[39mgroupby(\u001b[38;5;124m'\u001b[39m\u001b[38;5;124mproduct_id\u001b[39m\u001b[38;5;124m'\u001b[39m)[\u001b[38;5;124m'\u001b[39m\u001b[38;5;124mrating\u001b[39m\u001b[38;5;124m'\u001b[39m]\u001b[38;5;241m.\u001b[39mmean()\u001b[38;5;241m.\u001b[39msort_values(ascending\u001b[38;5;241m=\u001b[39m\u001b[38;5;28;01mFalse\u001b[39;00m)\n\u001b[0;32m      4\u001b[0m     \u001b[38;5;28mprint\u001b[39m(avg_rating\u001b[38;5;241m.\u001b[39mhead())\n",
      "\u001b[1;31mNameError\u001b[0m: name 'df' is not defined"
     ]
    }
   ],
   "source": [
    "# Example: Average rating per product\n",
    "if 'product_id' in df.columns and 'rating' in df.columns:\n",
    "    avg_rating = df.groupby('product_id')['rating'].mean().sort_values(ascending=False)\n",
    "    print(avg_rating.head())\n",
    "\n",
    "# Example: Total sales by category\n",
    "if 'category_column' in df.columns and 'sales_column' in df.columns:\n",
    "    total_sales = df.groupby('category_column')['sales_column'].sum().sort_values(ascending=False)\n",
    "    print(total_sales)\n"
   ]
  },
  {
   "cell_type": "markdown",
   "metadata": {},
   "source": [
    "10. Save Cleaned Data (Optional)"
   ]
  },
  {
   "cell_type": "code",
   "execution_count": 118,
   "metadata": {},
   "outputs": [
    {
     "ename": "NameError",
     "evalue": "name 'df' is not defined",
     "output_type": "error",
     "traceback": [
      "\u001b[1;31m---------------------------------------------------------------------------\u001b[0m",
      "\u001b[1;31mNameError\u001b[0m                                 Traceback (most recent call last)",
      "Cell \u001b[1;32mIn[118], line 2\u001b[0m\n\u001b[0;32m      1\u001b[0m \u001b[38;5;66;03m# Save cleaned data to a new CSV file\u001b[39;00m\n\u001b[1;32m----> 2\u001b[0m \u001b[43mdf\u001b[49m\u001b[38;5;241m.\u001b[39mto_csv(\u001b[38;5;124m'\u001b[39m\u001b[38;5;124mcleaned_ecommerce_data.csv\u001b[39m\u001b[38;5;124m'\u001b[39m, index\u001b[38;5;241m=\u001b[39m\u001b[38;5;28;01mFalse\u001b[39;00m)\n\u001b[0;32m      3\u001b[0m \u001b[38;5;28mprint\u001b[39m(\u001b[38;5;124m\"\u001b[39m\u001b[38;5;124mCleaned data saved successfully!\u001b[39m\u001b[38;5;124m\"\u001b[39m)\n",
      "\u001b[1;31mNameError\u001b[0m: name 'df' is not defined"
     ]
    }
   ],
   "source": [
    "# Save cleaned data to a new CSV file\n",
    "df.to_csv('cleaned_ecommerce_data.csv', index=False)\n",
    "print(\"Cleaned data saved successfully!\")\n"
   ]
  }
 ],
 "metadata": {
  "kernelspec": {
   "display_name": "Python 3",
   "language": "python",
   "name": "python3"
  },
  "language_info": {
   "codemirror_mode": {
    "name": "ipython",
    "version": 3
   },
   "file_extension": ".py",
   "mimetype": "text/x-python",
   "name": "python",
   "nbconvert_exporter": "python",
   "pygments_lexer": "ipython3",
   "version": "3.11.3"
  }
 },
 "nbformat": 4,
 "nbformat_minor": 2
}
