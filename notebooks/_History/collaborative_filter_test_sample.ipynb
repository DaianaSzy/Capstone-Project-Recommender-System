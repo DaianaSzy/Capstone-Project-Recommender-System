{
 "cells": [
  {
   "cell_type": "markdown",
   "metadata": {},
   "source": [
    "**COLLABORATIVE FILTER FOR TEST SAMPLE OF 500 UNIQUE USERS**"
   ]
  },
  {
   "cell_type": "markdown",
   "metadata": {},
   "source": [
    "1. Dataset Sampling:\n",
    "    - The dataset is sampled to 5000 rows to make the processing manageable:\n",
    "        (data_sample = data.sample(n=5000, random_state=42))\n",
    "\n",
    "2. User-Item Matrix:\n",
    "    - The size of the user-item matrix depends on how many unique users (user_ID) and products (product_ID) exist in the sampled dataset. \n",
    "        \n",
    "        If, like in our example, the sampled dataset has: 500 unique users and 10,000 unique products: The matrix would have a shape of (500, 10000).\n",
    "\n",
    "3. Test Example for RMSE Calculation:\n",
    "    - The RMSE function iterates through all users in the user_item_matrix for evaluation. It does not limit to 5 users, but predictions are made for a subset of items (5 recommendations) per user:"
   ]
  },
  {
   "cell_type": "markdown",
   "metadata": {},
   "source": [
    "**Step 1: Import Necessary Libraries**\n"
   ]
  },
  {
   "cell_type": "code",
   "execution_count": 1,
   "metadata": {},
   "outputs": [
    {
     "name": "stdout",
     "output_type": "stream",
     "text": [
      "Requirement already satisfied: pandas in /Users/daianaszymczyk/Desktop/neuefische/Capstone-Project-Recommender-System/.venv/lib/python3.10/site-packages (2.0.1)\n",
      "Requirement already satisfied: numpy in /Users/daianaszymczyk/Desktop/neuefische/Capstone-Project-Recommender-System/.venv/lib/python3.10/site-packages (1.24.3)\n",
      "Requirement already satisfied: scikit-learn in /Users/daianaszymczyk/Desktop/neuefische/Capstone-Project-Recommender-System/.venv/lib/python3.10/site-packages (1.2.2)\n",
      "Requirement already satisfied: scipy in /Users/daianaszymczyk/Desktop/neuefische/Capstone-Project-Recommender-System/.venv/lib/python3.10/site-packages (1.13.1)\n",
      "Requirement already satisfied: matplotlib in /Users/daianaszymczyk/Desktop/neuefische/Capstone-Project-Recommender-System/.venv/lib/python3.10/site-packages (3.7.1)\n",
      "Requirement already satisfied: python-dateutil>=2.8.2 in /Users/daianaszymczyk/Desktop/neuefische/Capstone-Project-Recommender-System/.venv/lib/python3.10/site-packages (from pandas) (2.9.0.post0)\n",
      "Requirement already satisfied: pytz>=2020.1 in /Users/daianaszymczyk/Desktop/neuefische/Capstone-Project-Recommender-System/.venv/lib/python3.10/site-packages (from pandas) (2024.2)\n",
      "Requirement already satisfied: tzdata>=2022.1 in /Users/daianaszymczyk/Desktop/neuefische/Capstone-Project-Recommender-System/.venv/lib/python3.10/site-packages (from pandas) (2024.2)\n",
      "Requirement already satisfied: joblib>=1.1.1 in /Users/daianaszymczyk/Desktop/neuefische/Capstone-Project-Recommender-System/.venv/lib/python3.10/site-packages (from scikit-learn) (1.4.2)\n",
      "Requirement already satisfied: threadpoolctl>=2.0.0 in /Users/daianaszymczyk/Desktop/neuefische/Capstone-Project-Recommender-System/.venv/lib/python3.10/site-packages (from scikit-learn) (3.5.0)\n",
      "Requirement already satisfied: contourpy>=1.0.1 in /Users/daianaszymczyk/Desktop/neuefische/Capstone-Project-Recommender-System/.venv/lib/python3.10/site-packages (from matplotlib) (1.3.1)\n",
      "Requirement already satisfied: cycler>=0.10 in /Users/daianaszymczyk/Desktop/neuefische/Capstone-Project-Recommender-System/.venv/lib/python3.10/site-packages (from matplotlib) (0.12.1)\n",
      "Requirement already satisfied: fonttools>=4.22.0 in /Users/daianaszymczyk/Desktop/neuefische/Capstone-Project-Recommender-System/.venv/lib/python3.10/site-packages (from matplotlib) (4.55.3)\n",
      "Requirement already satisfied: kiwisolver>=1.0.1 in /Users/daianaszymczyk/Desktop/neuefische/Capstone-Project-Recommender-System/.venv/lib/python3.10/site-packages (from matplotlib) (1.4.7)\n",
      "Requirement already satisfied: packaging>=20.0 in /Users/daianaszymczyk/Desktop/neuefische/Capstone-Project-Recommender-System/.venv/lib/python3.10/site-packages (from matplotlib) (24.2)\n",
      "Requirement already satisfied: pillow>=6.2.0 in /Users/daianaszymczyk/Desktop/neuefische/Capstone-Project-Recommender-System/.venv/lib/python3.10/site-packages (from matplotlib) (11.0.0)\n",
      "Requirement already satisfied: pyparsing>=2.3.1 in /Users/daianaszymczyk/Desktop/neuefische/Capstone-Project-Recommender-System/.venv/lib/python3.10/site-packages (from matplotlib) (3.2.0)\n",
      "Requirement already satisfied: six>=1.5 in /Users/daianaszymczyk/Desktop/neuefische/Capstone-Project-Recommender-System/.venv/lib/python3.10/site-packages (from python-dateutil>=2.8.2->pandas) (1.17.0)\n"
     ]
    }
   ],
   "source": [
    "# Install any missing libraries\n",
    "!pip install pandas numpy scikit-learn scipy matplotlib\n"
   ]
  },
  {
   "cell_type": "markdown",
   "metadata": {},
   "source": [
    "**Step 2: Load the Dataset**\n"
   ]
  },
  {
   "cell_type": "code",
   "execution_count": 14,
   "metadata": {},
   "outputs": [
    {
     "name": "stdout",
     "output_type": "stream",
     "text": [
      "                             user_ID  product_ID  rating\n",
      "158     AFTWZJUP2224KGWPBCBBLHS7573A  B07NGCSZYY       5\n",
      "77549   AETIWS5ZNO2BDWPYIKIH27GKWL2Q  B07CJLJZG9       5\n",
      "463962  AHXT6J3MAV3SSVYLTBJ326JZH7VQ  B07Z5MJ4Q3       5\n",
      "345085  AEOGI3A7QFFPGOMEK6Z65X5MV4UA  B007JLYEYQ       5\n",
      "274505  AGKUCVQPPOXFR5AOTK6FZEZUEGOQ  B07BR1J7HG       5\n"
     ]
    }
   ],
   "source": [
    "import pandas as pd\n",
    "import numpy as np\n",
    "\n",
    "# Load the dataset\n",
    "file_path = r'.\\..\\data\\data_clean\\user_clean_data_ecommerce.csv'\n",
    "\n",
    "# Read a small sample of the data to avoid memory issues\n",
    "data = pd.read_csv(file_path)\n",
    "\n",
    "# Select only the columns needed for collaborative filtering\n",
    "selected_columns = ['user_ID', 'product_ID', 'rating']\n",
    "data = data[selected_columns]\n",
    "\n",
    "# Drop rows with missing values in these columns\n",
    "data = data.dropna()\n",
    "\n",
    "# Sample a manageable portion (e.g., 5000 rows) for analysis\n",
    "data_sample = data.sample(n=5000, random_state=42)\n",
    "\n",
    "print(data_sample.head())\n"
   ]
  },
  {
   "cell_type": "markdown",
   "metadata": {},
   "source": [
    "**Step 3: Create a User-Item Matrix**\n"
   ]
  },
  {
   "cell_type": "markdown",
   "metadata": {},
   "source": [
    "We need a matrix where rows represent users, columns represent products, and the values are the ratings:"
   ]
  },
  {
   "cell_type": "code",
   "execution_count": 15,
   "metadata": {},
   "outputs": [
    {
     "name": "stdout",
     "output_type": "stream",
     "text": [
      "(4994, 4222)\n"
     ]
    }
   ],
   "source": [
    "# Create the User-Item matrix\n",
    "user_item_matrix = data_sample.pivot_table(index='user_ID', columns='product_ID', values='rating')\n",
    "\n",
    "# Fill missing values with 0 or use a sparse representation\n",
    "user_item_matrix = user_item_matrix.fillna(0)\n",
    "\n",
    "print(user_item_matrix.shape)\n"
   ]
  },
  {
   "cell_type": "markdown",
   "metadata": {},
   "source": [
    "**Step 4: Use Collaborative Filtering (Singular Value Decomposition - SVD)**\n"
   ]
  },
  {
   "cell_type": "markdown",
   "metadata": {},
   "source": [
    "We'll use TruncatedSVD from scikit-learn for dimensionality reduction:"
   ]
  },
  {
   "cell_type": "code",
   "execution_count": 16,
   "metadata": {},
   "outputs": [
    {
     "name": "stdout",
     "output_type": "stream",
     "text": [
      "user_ID                       AE234757Z3N6KU76N3GUKO73IJDA   \n",
      "user_ID                                                      \n",
      "AE234757Z3N6KU76N3GUKO73IJDA                      1.000000  \\\n",
      "AE23D7HHJAMENM7IKA4IOIHNS7OA                      0.032573   \n",
      "AE25FOZEGSDS6SD342N7M7ZGAN6Q                     -0.021844   \n",
      "AE25UKBBGGC72TTWTI5RKAJEC3FQ                     -0.000738   \n",
      "AE26DIN5RJVLKQWNO2RF4PKX33LA                      0.040270   \n",
      "\n",
      "user_ID                       AE23D7HHJAMENM7IKA4IOIHNS7OA   \n",
      "user_ID                                                      \n",
      "AE234757Z3N6KU76N3GUKO73IJDA                      0.032573  \\\n",
      "AE23D7HHJAMENM7IKA4IOIHNS7OA                      1.000000   \n",
      "AE25FOZEGSDS6SD342N7M7ZGAN6Q                     -0.123499   \n",
      "AE25UKBBGGC72TTWTI5RKAJEC3FQ                     -0.000105   \n",
      "AE26DIN5RJVLKQWNO2RF4PKX33LA                     -0.055539   \n",
      "\n",
      "user_ID                       AE25FOZEGSDS6SD342N7M7ZGAN6Q   \n",
      "user_ID                                                      \n",
      "AE234757Z3N6KU76N3GUKO73IJDA                     -0.021844  \\\n",
      "AE23D7HHJAMENM7IKA4IOIHNS7OA                     -0.123499   \n",
      "AE25FOZEGSDS6SD342N7M7ZGAN6Q                      1.000000   \n",
      "AE25UKBBGGC72TTWTI5RKAJEC3FQ                      0.000050   \n",
      "AE26DIN5RJVLKQWNO2RF4PKX33LA                      0.176295   \n",
      "\n",
      "user_ID                       AE25UKBBGGC72TTWTI5RKAJEC3FQ   \n",
      "user_ID                                                      \n",
      "AE234757Z3N6KU76N3GUKO73IJDA                     -0.000738  \\\n",
      "AE23D7HHJAMENM7IKA4IOIHNS7OA                     -0.000105   \n",
      "AE25FOZEGSDS6SD342N7M7ZGAN6Q                      0.000050   \n",
      "AE25UKBBGGC72TTWTI5RKAJEC3FQ                      1.000000   \n",
      "AE26DIN5RJVLKQWNO2RF4PKX33LA                     -0.000812   \n",
      "\n",
      "user_ID                       AE26DIN5RJVLKQWNO2RF4PKX33LA   \n",
      "user_ID                                                      \n",
      "AE234757Z3N6KU76N3GUKO73IJDA                      0.040270  \\\n",
      "AE23D7HHJAMENM7IKA4IOIHNS7OA                     -0.055539   \n",
      "AE25FOZEGSDS6SD342N7M7ZGAN6Q                      0.176295   \n",
      "AE25UKBBGGC72TTWTI5RKAJEC3FQ                     -0.000812   \n",
      "AE26DIN5RJVLKQWNO2RF4PKX33LA                      1.000000   \n",
      "\n",
      "user_ID                       AE26SH6SIOCLQD4UD3EQL2DCD3RA   \n",
      "user_ID                                                      \n",
      "AE234757Z3N6KU76N3GUKO73IJDA                     -0.002569  \\\n",
      "AE23D7HHJAMENM7IKA4IOIHNS7OA                     -0.019660   \n",
      "AE25FOZEGSDS6SD342N7M7ZGAN6Q                     -0.061926   \n",
      "AE25UKBBGGC72TTWTI5RKAJEC3FQ                     -0.000134   \n",
      "AE26DIN5RJVLKQWNO2RF4PKX33LA                     -0.071914   \n",
      "\n",
      "user_ID                       AE26YC5Q2OMACMRROKIEQ5D2YX4A   \n",
      "user_ID                                                      \n",
      "AE234757Z3N6KU76N3GUKO73IJDA                     -0.097769  \\\n",
      "AE23D7HHJAMENM7IKA4IOIHNS7OA                      0.089995   \n",
      "AE25FOZEGSDS6SD342N7M7ZGAN6Q                      0.051565   \n",
      "AE25UKBBGGC72TTWTI5RKAJEC3FQ                     -0.000204   \n",
      "AE26DIN5RJVLKQWNO2RF4PKX33LA                      0.085523   \n",
      "\n",
      "user_ID                       AE27S74WP7W3LMDNJPBYJDF6WZNQ   \n",
      "user_ID                                                      \n",
      "AE234757Z3N6KU76N3GUKO73IJDA                      0.002556  \\\n",
      "AE23D7HHJAMENM7IKA4IOIHNS7OA                     -0.057947   \n",
      "AE25FOZEGSDS6SD342N7M7ZGAN6Q                      0.056403   \n",
      "AE25UKBBGGC72TTWTI5RKAJEC3FQ                      0.000565   \n",
      "AE26DIN5RJVLKQWNO2RF4PKX33LA                     -0.013862   \n",
      "\n",
      "user_ID                       AE27ZHMKIIQXGYS6DEMD2HZ3NR7Q   \n",
      "user_ID                                                      \n",
      "AE234757Z3N6KU76N3GUKO73IJDA                      0.009885  \\\n",
      "AE23D7HHJAMENM7IKA4IOIHNS7OA                     -0.000762   \n",
      "AE25FOZEGSDS6SD342N7M7ZGAN6Q                     -0.139465   \n",
      "AE25UKBBGGC72TTWTI5RKAJEC3FQ                      0.000030   \n",
      "AE26DIN5RJVLKQWNO2RF4PKX33LA                      0.037778   \n",
      "\n",
      "user_ID                       AE2BEILGEHTVQT554BVP4UAQJTZA  ...   \n",
      "user_ID                                                     ...   \n",
      "AE234757Z3N6KU76N3GUKO73IJDA                     -0.029858  ...  \\\n",
      "AE23D7HHJAMENM7IKA4IOIHNS7OA                     -0.066208  ...   \n",
      "AE25FOZEGSDS6SD342N7M7ZGAN6Q                      0.073653  ...   \n",
      "AE25UKBBGGC72TTWTI5RKAJEC3FQ                     -0.000347  ...   \n",
      "AE26DIN5RJVLKQWNO2RF4PKX33LA                     -0.118527  ...   \n",
      "\n",
      "user_ID                       AHZO67FNZYYX4SVOD62KZXB7ETZQ   \n",
      "user_ID                                                      \n",
      "AE234757Z3N6KU76N3GUKO73IJDA                      0.010652  \\\n",
      "AE23D7HHJAMENM7IKA4IOIHNS7OA                      0.008638   \n",
      "AE25FOZEGSDS6SD342N7M7ZGAN6Q                      0.138815   \n",
      "AE25UKBBGGC72TTWTI5RKAJEC3FQ                      0.000094   \n",
      "AE26DIN5RJVLKQWNO2RF4PKX33LA                      0.102781   \n",
      "\n",
      "user_ID                       AHZOTQAT72H7H5UO376PFKIUA2QA   \n",
      "user_ID                                                      \n",
      "AE234757Z3N6KU76N3GUKO73IJDA                      0.129067  \\\n",
      "AE23D7HHJAMENM7IKA4IOIHNS7OA                      0.079032   \n",
      "AE25FOZEGSDS6SD342N7M7ZGAN6Q                     -0.129517   \n",
      "AE25UKBBGGC72TTWTI5RKAJEC3FQ                     -0.001059   \n",
      "AE26DIN5RJVLKQWNO2RF4PKX33LA                      0.040093   \n",
      "\n",
      "user_ID                       AHZOX6GTF62NC5LR4TH44H7YF3JQ   \n",
      "user_ID                                                      \n",
      "AE234757Z3N6KU76N3GUKO73IJDA                      0.207361  \\\n",
      "AE23D7HHJAMENM7IKA4IOIHNS7OA                     -0.135119   \n",
      "AE25FOZEGSDS6SD342N7M7ZGAN6Q                      0.117141   \n",
      "AE25UKBBGGC72TTWTI5RKAJEC3FQ                     -0.000019   \n",
      "AE26DIN5RJVLKQWNO2RF4PKX33LA                      0.029549   \n",
      "\n",
      "user_ID                       AHZSDUYX4DEC4GFECNL756SNM4RA   \n",
      "user_ID                                                      \n",
      "AE234757Z3N6KU76N3GUKO73IJDA                     -0.000680  \\\n",
      "AE23D7HHJAMENM7IKA4IOIHNS7OA                     -0.039177   \n",
      "AE25FOZEGSDS6SD342N7M7ZGAN6Q                      0.069751   \n",
      "AE25UKBBGGC72TTWTI5RKAJEC3FQ                     -0.000234   \n",
      "AE26DIN5RJVLKQWNO2RF4PKX33LA                     -0.047303   \n",
      "\n",
      "user_ID                       AHZUSND44IRDMTFKL2DMUYD3ZPZQ   \n",
      "user_ID                                                      \n",
      "AE234757Z3N6KU76N3GUKO73IJDA                      0.040164  \\\n",
      "AE23D7HHJAMENM7IKA4IOIHNS7OA                      0.052945   \n",
      "AE25FOZEGSDS6SD342N7M7ZGAN6Q                      0.040392   \n",
      "AE25UKBBGGC72TTWTI5RKAJEC3FQ                      0.000677   \n",
      "AE26DIN5RJVLKQWNO2RF4PKX33LA                     -0.029965   \n",
      "\n",
      "user_ID                       AHZUSPEAZPJSQNR4NSDDCCSFHTPA   \n",
      "user_ID                                                      \n",
      "AE234757Z3N6KU76N3GUKO73IJDA                     -0.036305  \\\n",
      "AE23D7HHJAMENM7IKA4IOIHNS7OA                      0.039573   \n",
      "AE25FOZEGSDS6SD342N7M7ZGAN6Q                      0.051557   \n",
      "AE25UKBBGGC72TTWTI5RKAJEC3FQ                     -0.000225   \n",
      "AE26DIN5RJVLKQWNO2RF4PKX33LA                     -0.061747   \n",
      "\n",
      "user_ID                       AHZW67DDEXFMX2HWO5D67TPQWHNQ   \n",
      "user_ID                                                      \n",
      "AE234757Z3N6KU76N3GUKO73IJDA                      0.048815  \\\n",
      "AE23D7HHJAMENM7IKA4IOIHNS7OA                      0.067912   \n",
      "AE25FOZEGSDS6SD342N7M7ZGAN6Q                     -0.088049   \n",
      "AE25UKBBGGC72TTWTI5RKAJEC3FQ                      0.000280   \n",
      "AE26DIN5RJVLKQWNO2RF4PKX33LA                     -0.024302   \n",
      "\n",
      "user_ID                       AHZWNPKLL67Y3X6NBKTEKALC2IEQ   \n",
      "user_ID                                                      \n",
      "AE234757Z3N6KU76N3GUKO73IJDA                      0.197990  \\\n",
      "AE23D7HHJAMENM7IKA4IOIHNS7OA                      0.051680   \n",
      "AE25FOZEGSDS6SD342N7M7ZGAN6Q                      0.043109   \n",
      "AE25UKBBGGC72TTWTI5RKAJEC3FQ                      0.000332   \n",
      "AE26DIN5RJVLKQWNO2RF4PKX33LA                     -0.027324   \n",
      "\n",
      "user_ID                       AHZWZ7LCCDWUZJFEXCGZA6N56N5Q   \n",
      "user_ID                                                      \n",
      "AE234757Z3N6KU76N3GUKO73IJDA                      0.000199  \\\n",
      "AE23D7HHJAMENM7IKA4IOIHNS7OA                     -0.000022   \n",
      "AE25FOZEGSDS6SD342N7M7ZGAN6Q                      0.000610   \n",
      "AE25UKBBGGC72TTWTI5RKAJEC3FQ                     -0.000002   \n",
      "AE26DIN5RJVLKQWNO2RF4PKX33LA                     -0.000110   \n",
      "\n",
      "user_ID                       AHZWZW2XN34O4Z7QWHTRQ35EELOA  \n",
      "user_ID                                                     \n",
      "AE234757Z3N6KU76N3GUKO73IJDA                      0.122378  \n",
      "AE23D7HHJAMENM7IKA4IOIHNS7OA                     -0.084504  \n",
      "AE25FOZEGSDS6SD342N7M7ZGAN6Q                     -0.030285  \n",
      "AE25UKBBGGC72TTWTI5RKAJEC3FQ                     -0.000127  \n",
      "AE26DIN5RJVLKQWNO2RF4PKX33LA                      0.095275  \n",
      "\n",
      "[5 rows x 4994 columns]\n"
     ]
    }
   ],
   "source": [
    "from sklearn.decomposition import TruncatedSVD\n",
    "from sklearn.metrics.pairwise import cosine_similarity\n",
    "\n",
    "# Perform SVD\n",
    "svd = TruncatedSVD(n_components=500, random_state=42)\n",
    "decomposed_matrix = svd.fit_transform(user_item_matrix)\n",
    "\n",
    "# Calculate similarity\n",
    "similarity_matrix = cosine_similarity(decomposed_matrix)\n",
    "\n",
    "# Convert to a DataFrame for interpretability\n",
    "similarity_df = pd.DataFrame(similarity_matrix, index=user_item_matrix.index, columns=user_item_matrix.index)\n",
    "\n",
    "print(similarity_df.head())\n"
   ]
  },
  {
   "cell_type": "markdown",
   "metadata": {},
   "source": [
    "**Step 5: Generate Recommendations**\n"
   ]
  },
  {
   "cell_type": "markdown",
   "metadata": {},
   "source": [
    "Using the similarity matrix, recommend products for a given user:"
   ]
  },
  {
   "cell_type": "code",
   "execution_count": 17,
   "metadata": {},
   "outputs": [
    {
     "name": "stdout",
     "output_type": "stream",
     "text": [
      "Recommended Products: product_ID\n",
      "1453085815     3.0\n",
      "B000050FDE    14.0\n",
      "B00005JKQ4     5.0\n",
      "B000068PBM     5.0\n",
      "B00009RB0X    10.0\n",
      "dtype: float64\n"
     ]
    }
   ],
   "source": [
    "def recommend_products(user_id, similarity_df, user_item_matrix, n_recommendations=5):\n",
    "    # Get similarity scores for the user\n",
    "    similar_users = similarity_df[user_id].sort_values(ascending=False)\n",
    "    \n",
    "    # Get the products rated by similar users\n",
    "    similar_users_ratings = user_item_matrix.loc[similar_users.index]\n",
    "    \n",
    "    # Sum the ratings for each product\n",
    "    recommended_products = similar_users_ratings.sum(axis=0).sort_values(ascending=False)\n",
    "    \n",
    "    # Exclude products already rated by the target user\n",
    "    user_products = user_item_matrix.loc[user_id]\n",
    "    recommended_products = recommended_products[user_products[user_products == 0].index]\n",
    "    \n",
    "    return recommended_products.head(n_recommendations)\n",
    "\n",
    "# Example: Recommend products for a specific user\n",
    "user_id = user_item_matrix.index[0]  # Replace with a valid user ID\n",
    "recommendations = recommend_products(user_id, similarity_df, user_item_matrix)\n",
    "print(\"Recommended Products:\", recommendations)\n"
   ]
  },
  {
   "cell_type": "markdown",
   "metadata": {},
   "source": [
    "**Step 6: Evaluation**\n"
   ]
  },
  {
   "cell_type": "markdown",
   "metadata": {},
   "source": [
    "Evaluate our model using metrics like precision and recall or RMSE:"
   ]
  },
  {
   "cell_type": "markdown",
   "metadata": {},
   "source": [
    "Due to an uneven lenght of y_true and y_pred we need to modify the calculate_rmse function to compare predictions only for items that exist in both 'actual_ratings' and 'predicted_ratings'"
   ]
  },
  {
   "cell_type": "code",
   "execution_count": 18,
   "metadata": {},
   "outputs": [
    {
     "name": "stdout",
     "output_type": "stream",
     "text": [
      "RMSE: 8.424612092357014\n"
     ]
    }
   ],
   "source": [
    "from sklearn.metrics import mean_squared_error\n",
    "\n",
    "def calculate_rmse(user_item_matrix, similarity_df, n_recommendations=5):\n",
    "    mse = 0\n",
    "    count = 0\n",
    "    \n",
    "    for user_id in user_item_matrix.index:\n",
    "        # Predict ratings\n",
    "        recommended_products = recommend_products(user_id, similarity_df, user_item_matrix, n_recommendations)\n",
    "        \n",
    "        # Get actual ratings for recommended products\n",
    "        actual_ratings = user_item_matrix.loc[user_id, recommended_products.index]\n",
    "        \n",
    "        # Filter out missing values (in case some items are not rated by the user)\n",
    "        actual_ratings = actual_ratings.dropna()\n",
    "        predicted_ratings = recommended_products.loc[actual_ratings.index]\n",
    "        \n",
    "        # Calculate MSE for the current user (only if there are common items)\n",
    "        if not actual_ratings.empty:\n",
    "            mse += mean_squared_error(actual_ratings, predicted_ratings)\n",
    "            count += 1\n",
    "\n",
    "    # Calculate RMSE\n",
    "    rmse = np.sqrt(mse / count) if count > 0 else None\n",
    "    return rmse\n",
    "\n",
    "# Call the function\n",
    "rmse = calculate_rmse(user_item_matrix, similarity_df)\n",
    "print(\"RMSE:\", rmse)\n"
   ]
  },
  {
   "cell_type": "markdown",
   "metadata": {},
   "source": [
    "**Explanation of Modification**\n"
   ]
  },
  {
   "cell_type": "markdown",
   "metadata": {},
   "source": [
    "1. Align Actual and Predicted Ratings:\n",
    "    - actual_ratings contains only the items rated by the user.\n",
    "    - predicted_ratings includes only items from recommended_products that overlap with actual_ratings.\n",
    "    - This alignment ensures both arrays have the same length.\n",
    "\n",
    "\n",
    "2. Handle Missing Ratings:\n",
    "    - We filter out items from actual_ratings and predicted_ratings where actual ratings are missing.\n",
    "\n",
    "\n",
    "3. Avoid Division by Zero:\n",
    "    - If no overlapping items exist for a user, we skip the RMSE calculation for that user.\n",
    "\n",
    "\n",
    "4. Aggregate RMSE:\n",
    "    - We calculate RMSE over all users who have valid overlapping ratings."
   ]
  }
 ],
 "metadata": {
  "kernelspec": {
   "display_name": ".venv",
   "language": "python",
   "name": "python3"
  },
  "language_info": {
   "codemirror_mode": {
    "name": "ipython",
    "version": 3
   },
   "file_extension": ".py",
   "mimetype": "text/x-python",
   "name": "python",
   "nbconvert_exporter": "python",
   "pygments_lexer": "ipython3",
   "version": "3.10.9"
  }
 },
 "nbformat": 4,
 "nbformat_minor": 2
}
